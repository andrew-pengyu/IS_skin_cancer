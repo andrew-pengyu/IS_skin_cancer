{
 "cells": [
  {
   "cell_type": "code",
   "execution_count": 14,
   "id": "d6114a91",
   "metadata": {},
   "outputs": [
    {
     "name": "stdout",
     "output_type": "stream",
     "text": [
      "Evaluating class: actinic_keratosis\n",
      "\n",
      "0: 224x224 melanoma 0.48, seborrheic_keratosis 0.27, pigmented_benign_keratosis 0.10, nevus 0.10, actinic_keratosis 0.03, 11.2ms\n",
      "Speed: 0.0ms preprocess, 11.2ms inference, 0.3ms postprocess per image at shape (1, 3, 224, 224)\n",
      "\n",
      "0: 224x224 nevus 0.86, melanoma 0.13, seborrheic_keratosis 0.01, pigmented_benign_keratosis 0.00, squamous_cell_carcinoma 0.00, 11.3ms\n",
      "Speed: 0.0ms preprocess, 11.3ms inference, 0.5ms postprocess per image at shape (1, 3, 224, 224)\n",
      "\n",
      "0: 224x224 actinic_keratosis 0.55, squamous_cell_carcinoma 0.25, nevus 0.16, basal_cell_carcinoma 0.03, pigmented_benign_keratosis 0.00, 10.6ms\n",
      "Speed: 0.0ms preprocess, 10.6ms inference, 0.4ms postprocess per image at shape (1, 3, 224, 224)\n",
      "\n",
      "0: 224x224 squamous_cell_carcinoma 0.73, dermatofibroma 0.10, actinic_keratosis 0.07, basal_cell_carcinoma 0.04, pigmented_benign_keratosis 0.03, 12.3ms\n",
      "Speed: 0.0ms preprocess, 12.3ms inference, 0.7ms postprocess per image at shape (1, 3, 224, 224)\n",
      "\n",
      "0: 224x224 basal_cell_carcinoma 0.41, nevus 0.24, pigmented_benign_keratosis 0.24, squamous_cell_carcinoma 0.04, melanoma 0.03, 10.3ms\n",
      "Speed: 0.0ms preprocess, 10.3ms inference, 0.6ms postprocess per image at shape (1, 3, 224, 224)\n",
      "\n",
      "0: 224x224 actinic_keratosis 0.49, nevus 0.21, pigmented_benign_keratosis 0.18, squamous_cell_carcinoma 0.05, melanoma 0.04, 10.8ms\n",
      "Speed: 0.1ms preprocess, 10.8ms inference, 0.6ms postprocess per image at shape (1, 3, 224, 224)\n",
      "\n",
      "0: 224x224 pigmented_benign_keratosis 0.47, dermatofibroma 0.18, basal_cell_carcinoma 0.13, melanoma 0.12, nevus 0.08, 13.7ms\n",
      "Speed: 0.0ms preprocess, 13.7ms inference, 0.7ms postprocess per image at shape (1, 3, 224, 224)\n",
      "\n",
      "0: 224x224 pigmented_benign_keratosis 0.44, seborrheic_keratosis 0.18, melanoma 0.16, actinic_keratosis 0.11, nevus 0.06, 15.1ms\n",
      "Speed: 0.0ms preprocess, 15.1ms inference, 1.5ms postprocess per image at shape (1, 3, 224, 224)\n",
      "\n",
      "0: 224x224 actinic_keratosis 0.38, melanoma 0.33, seborrheic_keratosis 0.11, nevus 0.09, squamous_cell_carcinoma 0.07, 14.1ms\n",
      "Speed: 0.0ms preprocess, 14.1ms inference, 1.1ms postprocess per image at shape (1, 3, 224, 224)\n",
      "\n",
      "0: 224x224 actinic_keratosis 0.49, nevus 0.26, squamous_cell_carcinoma 0.15, basal_cell_carcinoma 0.08, pigmented_benign_keratosis 0.02, 11.1ms\n",
      "Speed: 0.0ms preprocess, 11.1ms inference, 0.4ms postprocess per image at shape (1, 3, 224, 224)\n",
      "\n",
      "0: 224x224 nevus 0.62, pigmented_benign_keratosis 0.16, squamous_cell_carcinoma 0.10, basal_cell_carcinoma 0.09, actinic_keratosis 0.02, 9.3ms\n",
      "Speed: 0.1ms preprocess, 9.3ms inference, 0.6ms postprocess per image at shape (1, 3, 224, 224)\n",
      "\n",
      "0: 224x224 basal_cell_carcinoma 0.75, squamous_cell_carcinoma 0.10, actinic_keratosis 0.07, nevus 0.04, pigmented_benign_keratosis 0.03, 9.2ms\n",
      "Speed: 0.0ms preprocess, 9.2ms inference, 0.4ms postprocess per image at shape (1, 3, 224, 224)\n",
      "\n",
      "0: 224x224 actinic_keratosis 0.31, squamous_cell_carcinoma 0.23, pigmented_benign_keratosis 0.23, nevus 0.21, basal_cell_carcinoma 0.01, 11.8ms\n",
      "Speed: 0.0ms preprocess, 11.8ms inference, 0.4ms postprocess per image at shape (1, 3, 224, 224)\n",
      "\n",
      "0: 224x224 squamous_cell_carcinoma 0.28, nevus 0.26, actinic_keratosis 0.23, pigmented_benign_keratosis 0.12, basal_cell_carcinoma 0.09, 13.9ms\n",
      "Speed: 0.0ms preprocess, 13.9ms inference, 0.4ms postprocess per image at shape (1, 3, 224, 224)\n",
      "\n",
      "0: 224x224 actinic_keratosis 0.50, squamous_cell_carcinoma 0.29, nevus 0.18, pigmented_benign_keratosis 0.02, basal_cell_carcinoma 0.00, 11.9ms\n",
      "Speed: 0.0ms preprocess, 11.9ms inference, 0.3ms postprocess per image at shape (1, 3, 224, 224)\n",
      "\n",
      "0: 224x224 pigmented_benign_keratosis 0.72, squamous_cell_carcinoma 0.19, actinic_keratosis 0.04, nevus 0.03, basal_cell_carcinoma 0.01, 20.9ms\n",
      "Speed: 0.0ms preprocess, 20.9ms inference, 0.9ms postprocess per image at shape (1, 3, 224, 224)\n",
      "Evaluating class: basal_cell_carcinoma\n",
      "\n",
      "0: 224x224 basal_cell_carcinoma 1.00, squamous_cell_carcinoma 0.00, nevus 0.00, pigmented_benign_keratosis 0.00, vascular_lesion 0.00, 9.3ms\n",
      "Speed: 0.0ms preprocess, 9.3ms inference, 0.5ms postprocess per image at shape (1, 3, 224, 224)\n",
      "\n",
      "0: 224x224 basal_cell_carcinoma 0.94, squamous_cell_carcinoma 0.06, pigmented_benign_keratosis 0.00, dermatofibroma 0.00, actinic_keratosis 0.00, 9.3ms\n",
      "Speed: 0.0ms preprocess, 9.3ms inference, 0.3ms postprocess per image at shape (1, 3, 224, 224)\n",
      "\n",
      "0: 224x224 basal_cell_carcinoma 0.74, squamous_cell_carcinoma 0.21, pigmented_benign_keratosis 0.01, melanoma 0.01, actinic_keratosis 0.01, 9.4ms\n",
      "Speed: 0.0ms preprocess, 9.4ms inference, 0.4ms postprocess per image at shape (1, 3, 224, 224)\n",
      "\n",
      "0: 224x224 basal_cell_carcinoma 0.63, pigmented_benign_keratosis 0.36, nevus 0.01, squamous_cell_carcinoma 0.00, vascular_lesion 0.00, 8.2ms\n",
      "Speed: 0.2ms preprocess, 8.2ms inference, 0.5ms postprocess per image at shape (1, 3, 224, 224)\n",
      "\n",
      "0: 224x224 basal_cell_carcinoma 0.91, squamous_cell_carcinoma 0.08, pigmented_benign_keratosis 0.01, nevus 0.00, melanoma 0.00, 7.9ms\n",
      "Speed: 0.1ms preprocess, 7.9ms inference, 0.4ms postprocess per image at shape (1, 3, 224, 224)\n",
      "\n",
      "0: 224x224 pigmented_benign_keratosis 0.76, actinic_keratosis 0.10, basal_cell_carcinoma 0.07, nevus 0.05, squamous_cell_carcinoma 0.02, 8.5ms\n",
      "Speed: 0.0ms preprocess, 8.5ms inference, 0.3ms postprocess per image at shape (1, 3, 224, 224)\n",
      "\n",
      "0: 224x224 pigmented_benign_keratosis 0.53, nevus 0.22, basal_cell_carcinoma 0.15, melanoma 0.06, actinic_keratosis 0.02, 7.8ms\n",
      "Speed: 0.0ms preprocess, 7.8ms inference, 0.3ms postprocess per image at shape (1, 3, 224, 224)\n",
      "\n",
      "0: 224x224 melanoma 0.50, seborrheic_keratosis 0.16, pigmented_benign_keratosis 0.11, nevus 0.10, squamous_cell_carcinoma 0.07, 7.5ms\n",
      "Speed: 0.0ms preprocess, 7.5ms inference, 0.3ms postprocess per image at shape (1, 3, 224, 224)\n",
      "\n",
      "0: 224x224 basal_cell_carcinoma 0.96, squamous_cell_carcinoma 0.02, nevus 0.00, vascular_lesion 0.00, melanoma 0.00, 8.7ms\n",
      "Speed: 0.0ms preprocess, 8.7ms inference, 0.3ms postprocess per image at shape (1, 3, 224, 224)\n",
      "\n",
      "0: 224x224 basal_cell_carcinoma 0.97, vascular_lesion 0.03, squamous_cell_carcinoma 0.00, nevus 0.00, pigmented_benign_keratosis 0.00, 7.9ms\n",
      "Speed: 0.0ms preprocess, 7.9ms inference, 0.4ms postprocess per image at shape (1, 3, 224, 224)\n",
      "\n",
      "0: 224x224 basal_cell_carcinoma 0.99, squamous_cell_carcinoma 0.01, pigmented_benign_keratosis 0.00, nevus 0.00, melanoma 0.00, 12.8ms\n",
      "Speed: 0.0ms preprocess, 12.8ms inference, 0.5ms postprocess per image at shape (1, 3, 224, 224)\n",
      "\n",
      "0: 224x224 basal_cell_carcinoma 0.58, nevus 0.31, melanoma 0.10, seborrheic_keratosis 0.02, vascular_lesion 0.00, 8.3ms\n",
      "Speed: 0.0ms preprocess, 8.3ms inference, 0.3ms postprocess per image at shape (1, 3, 224, 224)\n",
      "\n",
      "0: 224x224 basal_cell_carcinoma 0.96, squamous_cell_carcinoma 0.03, dermatofibroma 0.00, pigmented_benign_keratosis 0.00, melanoma 0.00, 10.8ms\n",
      "Speed: 0.0ms preprocess, 10.8ms inference, 0.4ms postprocess per image at shape (1, 3, 224, 224)\n",
      "\n",
      "0: 224x224 basal_cell_carcinoma 0.99, squamous_cell_carcinoma 0.01, pigmented_benign_keratosis 0.00, melanoma 0.00, actinic_keratosis 0.00, 9.0ms\n",
      "Speed: 0.0ms preprocess, 9.0ms inference, 0.3ms postprocess per image at shape (1, 3, 224, 224)\n",
      "\n",
      "0: 224x224 basal_cell_carcinoma 0.99, squamous_cell_carcinoma 0.01, pigmented_benign_keratosis 0.00, nevus 0.00, melanoma 0.00, 11.9ms\n",
      "Speed: 0.0ms preprocess, 11.9ms inference, 0.3ms postprocess per image at shape (1, 3, 224, 224)\n",
      "\n",
      "0: 224x224 basal_cell_carcinoma 1.00, vascular_lesion 0.00, pigmented_benign_keratosis 0.00, squamous_cell_carcinoma 0.00, nevus 0.00, 8.1ms\n",
      "Speed: 0.0ms preprocess, 8.1ms inference, 0.3ms postprocess per image at shape (1, 3, 224, 224)\n",
      "Evaluating class: dermatofibroma\n",
      "\n",
      "0: 224x224 melanoma 0.57, seborrheic_keratosis 0.20, nevus 0.11, basal_cell_carcinoma 0.06, pigmented_benign_keratosis 0.03, 8.6ms\n",
      "Speed: 0.0ms preprocess, 8.6ms inference, 0.3ms postprocess per image at shape (1, 3, 224, 224)\n",
      "\n",
      "0: 224x224 nevus 0.61, melanoma 0.21, dermatofibroma 0.14, seborrheic_keratosis 0.03, pigmented_benign_keratosis 0.01, 8.9ms\n",
      "Speed: 0.0ms preprocess, 8.9ms inference, 0.3ms postprocess per image at shape (1, 3, 224, 224)\n",
      "\n",
      "0: 224x224 basal_cell_carcinoma 0.97, squamous_cell_carcinoma 0.01, dermatofibroma 0.00, pigmented_benign_keratosis 0.00, nevus 0.00, 8.6ms\n"
     ]
    },
    {
     "name": "stdout",
     "output_type": "stream",
     "text": [
      "Speed: 0.0ms preprocess, 8.6ms inference, 0.3ms postprocess per image at shape (1, 3, 224, 224)\n",
      "\n",
      "0: 224x224 dermatofibroma 0.46, pigmented_benign_keratosis 0.25, squamous_cell_carcinoma 0.15, actinic_keratosis 0.07, nevus 0.04, 9.4ms\n",
      "Speed: 0.0ms preprocess, 9.4ms inference, 0.3ms postprocess per image at shape (1, 3, 224, 224)\n",
      "\n",
      "0: 224x224 squamous_cell_carcinoma 0.67, pigmented_benign_keratosis 0.15, dermatofibroma 0.11, nevus 0.06, actinic_keratosis 0.00, 9.1ms\n",
      "Speed: 0.0ms preprocess, 9.1ms inference, 0.4ms postprocess per image at shape (1, 3, 224, 224)\n",
      "\n",
      "0: 224x224 dermatofibroma 0.51, squamous_cell_carcinoma 0.26, pigmented_benign_keratosis 0.16, melanoma 0.03, basal_cell_carcinoma 0.02, 8.5ms\n",
      "Speed: 0.0ms preprocess, 8.5ms inference, 0.3ms postprocess per image at shape (1, 3, 224, 224)\n",
      "\n",
      "0: 224x224 pigmented_benign_keratosis 0.34, nevus 0.33, melanoma 0.17, squamous_cell_carcinoma 0.10, basal_cell_carcinoma 0.04, 9.2ms\n",
      "Speed: 0.0ms preprocess, 9.2ms inference, 0.3ms postprocess per image at shape (1, 3, 224, 224)\n",
      "\n",
      "0: 224x224 dermatofibroma 1.00, pigmented_benign_keratosis 0.00, vascular_lesion 0.00, basal_cell_carcinoma 0.00, melanoma 0.00, 8.6ms\n",
      "Speed: 0.0ms preprocess, 8.6ms inference, 0.4ms postprocess per image at shape (1, 3, 224, 224)\n",
      "\n",
      "0: 224x224 basal_cell_carcinoma 0.91, dermatofibroma 0.06, squamous_cell_carcinoma 0.01, nevus 0.01, pigmented_benign_keratosis 0.01, 8.5ms\n",
      "Speed: 0.0ms preprocess, 8.5ms inference, 0.4ms postprocess per image at shape (1, 3, 224, 224)\n",
      "\n",
      "0: 224x224 dermatofibroma 1.00, pigmented_benign_keratosis 0.00, vascular_lesion 0.00, basal_cell_carcinoma 0.00, nevus 0.00, 7.3ms\n",
      "Speed: 0.0ms preprocess, 7.3ms inference, 0.3ms postprocess per image at shape (1, 3, 224, 224)\n",
      "\n",
      "0: 224x224 dermatofibroma 0.94, pigmented_benign_keratosis 0.03, vascular_lesion 0.02, basal_cell_carcinoma 0.00, actinic_keratosis 0.00, 7.6ms\n",
      "Speed: 0.0ms preprocess, 7.6ms inference, 0.3ms postprocess per image at shape (1, 3, 224, 224)\n",
      "\n",
      "0: 224x224 dermatofibroma 0.90, vascular_lesion 0.05, basal_cell_carcinoma 0.03, pigmented_benign_keratosis 0.01, squamous_cell_carcinoma 0.00, 7.7ms\n",
      "Speed: 0.1ms preprocess, 7.7ms inference, 0.3ms postprocess per image at shape (1, 3, 224, 224)\n",
      "\n",
      "0: 224x224 dermatofibroma 0.99, pigmented_benign_keratosis 0.01, nevus 0.00, vascular_lesion 0.00, melanoma 0.00, 8.8ms\n",
      "Speed: 0.0ms preprocess, 8.8ms inference, 0.3ms postprocess per image at shape (1, 3, 224, 224)\n",
      "\n",
      "0: 224x224 dermatofibroma 0.86, pigmented_benign_keratosis 0.07, squamous_cell_carcinoma 0.05, basal_cell_carcinoma 0.01, actinic_keratosis 0.00, 7.9ms\n",
      "Speed: 0.0ms preprocess, 7.9ms inference, 0.3ms postprocess per image at shape (1, 3, 224, 224)\n",
      "\n",
      "0: 224x224 dermatofibroma 1.00, pigmented_benign_keratosis 0.00, vascular_lesion 0.00, basal_cell_carcinoma 0.00, melanoma 0.00, 7.8ms\n",
      "Speed: 0.0ms preprocess, 7.8ms inference, 0.3ms postprocess per image at shape (1, 3, 224, 224)\n",
      "\n",
      "0: 224x224 basal_cell_carcinoma 0.79, squamous_cell_carcinoma 0.15, pigmented_benign_keratosis 0.03, nevus 0.01, actinic_keratosis 0.01, 8.0ms\n",
      "Speed: 0.1ms preprocess, 8.0ms inference, 0.3ms postprocess per image at shape (1, 3, 224, 224)\n",
      "Evaluating class: melanoma\n",
      "\n",
      "0: 224x224 melanoma 0.48, nevus 0.40, pigmented_benign_keratosis 0.07, dermatofibroma 0.03, seborrheic_keratosis 0.02, 9.9ms\n",
      "Speed: 0.0ms preprocess, 9.9ms inference, 0.3ms postprocess per image at shape (1, 3, 224, 224)\n",
      "\n",
      "0: 224x224 nevus 0.33, melanoma 0.25, pigmented_benign_keratosis 0.17, basal_cell_carcinoma 0.11, squamous_cell_carcinoma 0.05, 9.5ms\n",
      "Speed: 0.0ms preprocess, 9.5ms inference, 0.3ms postprocess per image at shape (1, 3, 224, 224)\n",
      "\n",
      "0: 224x224 melanoma 0.66, nevus 0.29, seborrheic_keratosis 0.04, squamous_cell_carcinoma 0.00, pigmented_benign_keratosis 0.00, 7.1ms\n",
      "Speed: 0.0ms preprocess, 7.1ms inference, 0.3ms postprocess per image at shape (1, 3, 224, 224)\n",
      "\n",
      "0: 224x224 nevus 0.99, melanoma 0.01, pigmented_benign_keratosis 0.00, seborrheic_keratosis 0.00, squamous_cell_carcinoma 0.00, 7.8ms\n",
      "Speed: 0.0ms preprocess, 7.8ms inference, 0.3ms postprocess per image at shape (1, 3, 224, 224)\n",
      "\n",
      "0: 224x224 nevus 0.71, melanoma 0.24, dermatofibroma 0.03, pigmented_benign_keratosis 0.01, basal_cell_carcinoma 0.00, 7.6ms\n",
      "Speed: 0.0ms preprocess, 7.6ms inference, 0.3ms postprocess per image at shape (1, 3, 224, 224)\n",
      "\n",
      "0: 224x224 nevus 0.73, melanoma 0.26, seborrheic_keratosis 0.01, pigmented_benign_keratosis 0.00, dermatofibroma 0.00, 8.0ms\n",
      "Speed: 0.0ms preprocess, 8.0ms inference, 0.2ms postprocess per image at shape (1, 3, 224, 224)\n",
      "\n",
      "0: 224x224 nevus 0.77, melanoma 0.20, pigmented_benign_keratosis 0.01, squamous_cell_carcinoma 0.01, dermatofibroma 0.00, 9.2ms\n",
      "Speed: 0.1ms preprocess, 9.2ms inference, 0.3ms postprocess per image at shape (1, 3, 224, 224)\n",
      "\n",
      "0: 224x224 melanoma 0.53, squamous_cell_carcinoma 0.40, seborrheic_keratosis 0.04, nevus 0.02, pigmented_benign_keratosis 0.01, 7.6ms\n",
      "Speed: 0.0ms preprocess, 7.6ms inference, 0.3ms postprocess per image at shape (1, 3, 224, 224)\n",
      "\n",
      "0: 224x224 nevus 0.89, melanoma 0.07, pigmented_benign_keratosis 0.02, dermatofibroma 0.02, squamous_cell_carcinoma 0.00, 7.9ms\n",
      "Speed: 0.0ms preprocess, 7.9ms inference, 0.3ms postprocess per image at shape (1, 3, 224, 224)\n",
      "\n",
      "0: 224x224 pigmented_benign_keratosis 0.86, melanoma 0.08, nevus 0.04, seborrheic_keratosis 0.01, dermatofibroma 0.00, 7.7ms\n",
      "Speed: 0.1ms preprocess, 7.7ms inference, 0.4ms postprocess per image at shape (1, 3, 224, 224)\n",
      "\n",
      "0: 224x224 nevus 0.69, pigmented_benign_keratosis 0.13, dermatofibroma 0.09, melanoma 0.07, basal_cell_carcinoma 0.01, 8.1ms\n",
      "Speed: 0.0ms preprocess, 8.1ms inference, 0.4ms postprocess per image at shape (1, 3, 224, 224)\n",
      "\n",
      "0: 224x224 nevus 0.62, melanoma 0.33, seborrheic_keratosis 0.03, pigmented_benign_keratosis 0.01, squamous_cell_carcinoma 0.01, 11.4ms\n",
      "Speed: 0.0ms preprocess, 11.4ms inference, 0.3ms postprocess per image at shape (1, 3, 224, 224)\n",
      "\n",
      "0: 224x224 nevus 0.72, melanoma 0.17, pigmented_benign_keratosis 0.10, seborrheic_keratosis 0.01, squamous_cell_carcinoma 0.00, 7.8ms\n",
      "Speed: 0.0ms preprocess, 7.8ms inference, 0.5ms postprocess per image at shape (1, 3, 224, 224)\n",
      "\n",
      "0: 224x224 nevus 0.51, melanoma 0.45, pigmented_benign_keratosis 0.04, squamous_cell_carcinoma 0.00, seborrheic_keratosis 0.00, 7.6ms\n",
      "Speed: 0.0ms preprocess, 7.6ms inference, 0.3ms postprocess per image at shape (1, 3, 224, 224)\n",
      "\n",
      "0: 224x224 nevus 0.72, melanoma 0.26, seborrheic_keratosis 0.02, pigmented_benign_keratosis 0.00, dermatofibroma 0.00, 7.4ms\n",
      "Speed: 0.1ms preprocess, 7.4ms inference, 0.5ms postprocess per image at shape (1, 3, 224, 224)\n",
      "\n",
      "0: 224x224 nevus 0.96, melanoma 0.04, pigmented_benign_keratosis 0.00, seborrheic_keratosis 0.00, squamous_cell_carcinoma 0.00, 7.0ms\n",
      "Speed: 0.0ms preprocess, 7.0ms inference, 0.4ms postprocess per image at shape (1, 3, 224, 224)\n",
      "Evaluating class: nevus\n",
      "\n",
      "0: 224x224 nevus 0.97, melanoma 0.03, pigmented_benign_keratosis 0.00, seborrheic_keratosis 0.00, dermatofibroma 0.00, 10.4ms\n",
      "Speed: 0.0ms preprocess, 10.4ms inference, 0.4ms postprocess per image at shape (1, 3, 224, 224)\n",
      "\n",
      "0: 224x224 melanoma 0.64, nevus 0.30, seborrheic_keratosis 0.03, pigmented_benign_keratosis 0.02, squamous_cell_carcinoma 0.00, 7.4ms\n",
      "Speed: 0.0ms preprocess, 7.4ms inference, 0.4ms postprocess per image at shape (1, 3, 224, 224)\n",
      "\n",
      "0: 224x224 nevus 0.76, melanoma 0.23, seborrheic_keratosis 0.00, pigmented_benign_keratosis 0.00, dermatofibroma 0.00, 8.1ms\n",
      "Speed: 0.0ms preprocess, 8.1ms inference, 0.3ms postprocess per image at shape (1, 3, 224, 224)\n",
      "\n",
      "0: 224x224 nevus 0.99, pigmented_benign_keratosis 0.01, melanoma 0.00, squamous_cell_carcinoma 0.00, dermatofibroma 0.00, 6.9ms\n",
      "Speed: 0.0ms preprocess, 6.9ms inference, 0.3ms postprocess per image at shape (1, 3, 224, 224)\n",
      "\n",
      "0: 224x224 nevus 0.79, melanoma 0.17, pigmented_benign_keratosis 0.02, seborrheic_keratosis 0.01, dermatofibroma 0.00, 8.1ms\n",
      "Speed: 0.0ms preprocess, 8.1ms inference, 0.3ms postprocess per image at shape (1, 3, 224, 224)\n",
      "\n",
      "0: 224x224 nevus 0.71, pigmented_benign_keratosis 0.19, melanoma 0.07, dermatofibroma 0.01, seborrheic_keratosis 0.01, 7.9ms\n",
      "Speed: 0.1ms preprocess, 7.9ms inference, 0.7ms postprocess per image at shape (1, 3, 224, 224)\n",
      "\n",
      "0: 224x224 nevus 0.99, melanoma 0.01, seborrheic_keratosis 0.00, pigmented_benign_keratosis 0.00, squamous_cell_carcinoma 0.00, 8.1ms\n"
     ]
    },
    {
     "name": "stdout",
     "output_type": "stream",
     "text": [
      "Speed: 0.0ms preprocess, 8.1ms inference, 0.3ms postprocess per image at shape (1, 3, 224, 224)\n",
      "\n",
      "0: 224x224 nevus 0.98, melanoma 0.02, seborrheic_keratosis 0.00, pigmented_benign_keratosis 0.00, dermatofibroma 0.00, 10.3ms\n",
      "Speed: 0.0ms preprocess, 10.3ms inference, 0.3ms postprocess per image at shape (1, 3, 224, 224)\n",
      "\n",
      "0: 224x224 nevus 0.59, melanoma 0.36, seborrheic_keratosis 0.03, pigmented_benign_keratosis 0.01, squamous_cell_carcinoma 0.00, 9.8ms\n",
      "Speed: 0.0ms preprocess, 9.8ms inference, 0.3ms postprocess per image at shape (1, 3, 224, 224)\n",
      "\n",
      "0: 224x224 nevus 0.96, melanoma 0.04, seborrheic_keratosis 0.00, pigmented_benign_keratosis 0.00, dermatofibroma 0.00, 7.3ms\n",
      "Speed: 0.0ms preprocess, 7.3ms inference, 0.4ms postprocess per image at shape (1, 3, 224, 224)\n",
      "\n",
      "0: 224x224 nevus 0.51, melanoma 0.25, pigmented_benign_keratosis 0.11, seborrheic_keratosis 0.06, dermatofibroma 0.03, 7.6ms\n",
      "Speed: 0.0ms preprocess, 7.6ms inference, 0.4ms postprocess per image at shape (1, 3, 224, 224)\n",
      "\n",
      "0: 224x224 nevus 0.59, melanoma 0.35, pigmented_benign_keratosis 0.05, seborrheic_keratosis 0.01, dermatofibroma 0.00, 7.7ms\n",
      "Speed: 0.0ms preprocess, 7.7ms inference, 0.3ms postprocess per image at shape (1, 3, 224, 224)\n",
      "\n",
      "0: 224x224 nevus 0.90, melanoma 0.10, seborrheic_keratosis 0.00, pigmented_benign_keratosis 0.00, dermatofibroma 0.00, 7.4ms\n",
      "Speed: 0.0ms preprocess, 7.4ms inference, 0.3ms postprocess per image at shape (1, 3, 224, 224)\n",
      "\n",
      "0: 224x224 nevus 0.89, melanoma 0.11, seborrheic_keratosis 0.00, pigmented_benign_keratosis 0.00, dermatofibroma 0.00, 8.3ms\n",
      "Speed: 0.0ms preprocess, 8.3ms inference, 0.2ms postprocess per image at shape (1, 3, 224, 224)\n",
      "\n",
      "0: 224x224 nevus 0.96, melanoma 0.03, pigmented_benign_keratosis 0.00, seborrheic_keratosis 0.00, squamous_cell_carcinoma 0.00, 7.6ms\n",
      "Speed: 0.0ms preprocess, 7.6ms inference, 0.3ms postprocess per image at shape (1, 3, 224, 224)\n",
      "\n",
      "0: 224x224 nevus 0.59, melanoma 0.40, seborrheic_keratosis 0.02, squamous_cell_carcinoma 0.00, pigmented_benign_keratosis 0.00, 7.2ms\n",
      "Speed: 0.0ms preprocess, 7.2ms inference, 0.4ms postprocess per image at shape (1, 3, 224, 224)\n",
      "Evaluating class: pigmented_benign_keratosis\n",
      "\n",
      "0: 224x224 pigmented_benign_keratosis 0.32, dermatofibroma 0.28, basal_cell_carcinoma 0.22, squamous_cell_carcinoma 0.15, nevus 0.02, 7.5ms\n",
      "Speed: 0.0ms preprocess, 7.5ms inference, 0.3ms postprocess per image at shape (1, 3, 224, 224)\n",
      "\n",
      "0: 224x224 pigmented_benign_keratosis 0.78, nevus 0.15, basal_cell_carcinoma 0.05, actinic_keratosis 0.01, squamous_cell_carcinoma 0.01, 9.1ms\n",
      "Speed: 0.0ms preprocess, 9.1ms inference, 0.3ms postprocess per image at shape (1, 3, 224, 224)\n",
      "\n",
      "0: 224x224 pigmented_benign_keratosis 0.74, squamous_cell_carcinoma 0.15, nevus 0.07, basal_cell_carcinoma 0.02, melanoma 0.01, 8.8ms\n",
      "Speed: 0.0ms preprocess, 8.8ms inference, 0.4ms postprocess per image at shape (1, 3, 224, 224)\n",
      "\n",
      "0: 224x224 pigmented_benign_keratosis 0.81, nevus 0.11, dermatofibroma 0.06, melanoma 0.02, vascular_lesion 0.00, 7.7ms\n",
      "Speed: 0.0ms preprocess, 7.7ms inference, 0.4ms postprocess per image at shape (1, 3, 224, 224)\n",
      "\n",
      "0: 224x224 melanoma 0.33, pigmented_benign_keratosis 0.26, dermatofibroma 0.17, nevus 0.14, seborrheic_keratosis 0.04, 10.4ms\n",
      "Speed: 0.0ms preprocess, 10.4ms inference, 0.6ms postprocess per image at shape (1, 3, 224, 224)\n",
      "\n",
      "0: 224x224 pigmented_benign_keratosis 0.93, squamous_cell_carcinoma 0.04, actinic_keratosis 0.01, nevus 0.01, melanoma 0.01, 10.4ms\n",
      "Speed: 0.0ms preprocess, 10.4ms inference, 0.7ms postprocess per image at shape (1, 3, 224, 224)\n",
      "\n",
      "0: 224x224 pigmented_benign_keratosis 0.58, nevus 0.36, melanoma 0.03, squamous_cell_carcinoma 0.02, basal_cell_carcinoma 0.00, 8.1ms\n",
      "Speed: 0.0ms preprocess, 8.1ms inference, 0.4ms postprocess per image at shape (1, 3, 224, 224)\n",
      "\n",
      "0: 224x224 squamous_cell_carcinoma 0.95, pigmented_benign_keratosis 0.04, basal_cell_carcinoma 0.00, dermatofibroma 0.00, actinic_keratosis 0.00, 8.9ms\n",
      "Speed: 0.0ms preprocess, 8.9ms inference, 0.3ms postprocess per image at shape (1, 3, 224, 224)\n",
      "\n",
      "0: 224x224 pigmented_benign_keratosis 0.94, actinic_keratosis 0.02, nevus 0.01, melanoma 0.01, squamous_cell_carcinoma 0.01, 9.4ms\n",
      "Speed: 0.0ms preprocess, 9.4ms inference, 0.3ms postprocess per image at shape (1, 3, 224, 224)\n",
      "\n",
      "0: 224x224 pigmented_benign_keratosis 1.00, dermatofibroma 0.00, melanoma 0.00, basal_cell_carcinoma 0.00, nevus 0.00, 9.2ms\n",
      "Speed: 0.0ms preprocess, 9.2ms inference, 0.3ms postprocess per image at shape (1, 3, 224, 224)\n",
      "\n",
      "0: 224x224 pigmented_benign_keratosis 0.99, nevus 0.01, basal_cell_carcinoma 0.01, actinic_keratosis 0.00, dermatofibroma 0.00, 9.4ms\n",
      "Speed: 0.0ms preprocess, 9.4ms inference, 0.3ms postprocess per image at shape (1, 3, 224, 224)\n",
      "\n",
      "0: 224x224 pigmented_benign_keratosis 0.89, nevus 0.07, actinic_keratosis 0.01, melanoma 0.01, dermatofibroma 0.01, 8.1ms\n",
      "Speed: 0.0ms preprocess, 8.1ms inference, 0.3ms postprocess per image at shape (1, 3, 224, 224)\n",
      "\n",
      "0: 224x224 basal_cell_carcinoma 0.85, squamous_cell_carcinoma 0.14, nevus 0.00, pigmented_benign_keratosis 0.00, actinic_keratosis 0.00, 8.9ms\n",
      "Speed: 0.0ms preprocess, 8.9ms inference, 0.3ms postprocess per image at shape (1, 3, 224, 224)\n",
      "\n",
      "0: 224x224 pigmented_benign_keratosis 0.65, actinic_keratosis 0.14, squamous_cell_carcinoma 0.13, nevus 0.05, basal_cell_carcinoma 0.03, 9.1ms\n",
      "Speed: 0.0ms preprocess, 9.1ms inference, 0.4ms postprocess per image at shape (1, 3, 224, 224)\n",
      "\n",
      "0: 224x224 melanoma 0.34, pigmented_benign_keratosis 0.25, squamous_cell_carcinoma 0.23, actinic_keratosis 0.08, nevus 0.05, 10.8ms\n",
      "Speed: 0.0ms preprocess, 10.8ms inference, 0.3ms postprocess per image at shape (1, 3, 224, 224)\n",
      "\n",
      "0: 224x224 basal_cell_carcinoma 0.79, melanoma 0.10, squamous_cell_carcinoma 0.05, nevus 0.03, pigmented_benign_keratosis 0.02, 8.4ms\n",
      "Speed: 0.0ms preprocess, 8.4ms inference, 0.3ms postprocess per image at shape (1, 3, 224, 224)\n",
      "Evaluating class: seborrheic_keratosis\n",
      "\n",
      "0: 224x224 nevus 0.65, melanoma 0.32, seborrheic_keratosis 0.03, pigmented_benign_keratosis 0.00, squamous_cell_carcinoma 0.00, 11.2ms\n",
      "Speed: 0.0ms preprocess, 11.2ms inference, 0.3ms postprocess per image at shape (1, 3, 224, 224)\n",
      "\n",
      "0: 224x224 melanoma 0.89, seborrheic_keratosis 0.07, nevus 0.04, basal_cell_carcinoma 0.00, squamous_cell_carcinoma 0.00, 8.5ms\n",
      "Speed: 0.1ms preprocess, 8.5ms inference, 0.4ms postprocess per image at shape (1, 3, 224, 224)\n",
      "\n",
      "0: 224x224 melanoma 0.67, seborrheic_keratosis 0.28, nevus 0.02, actinic_keratosis 0.01, squamous_cell_carcinoma 0.01, 8.6ms\n",
      "Speed: 0.1ms preprocess, 8.6ms inference, 0.5ms postprocess per image at shape (1, 3, 224, 224)\n",
      "Evaluating class: squamous_cell_carcinoma\n",
      "\n",
      "0: 224x224 nevus 0.41, squamous_cell_carcinoma 0.34, melanoma 0.22, pigmented_benign_keratosis 0.01, seborrheic_keratosis 0.01, 8.3ms\n",
      "Speed: 0.0ms preprocess, 8.3ms inference, 0.3ms postprocess per image at shape (1, 3, 224, 224)\n",
      "\n",
      "0: 224x224 dermatofibroma 0.96, basal_cell_carcinoma 0.01, pigmented_benign_keratosis 0.01, vascular_lesion 0.01, melanoma 0.01, 7.9ms\n",
      "Speed: 0.0ms preprocess, 7.9ms inference, 0.5ms postprocess per image at shape (1, 3, 224, 224)\n",
      "\n",
      "0: 224x224 squamous_cell_carcinoma 0.68, actinic_keratosis 0.12, basal_cell_carcinoma 0.08, pigmented_benign_keratosis 0.05, nevus 0.05, 10.4ms\n",
      "Speed: 0.0ms preprocess, 10.4ms inference, 0.4ms postprocess per image at shape (1, 3, 224, 224)\n",
      "\n",
      "0: 224x224 squamous_cell_carcinoma 0.67, basal_cell_carcinoma 0.20, melanoma 0.05, actinic_keratosis 0.03, pigmented_benign_keratosis 0.02, 8.7ms\n",
      "Speed: 0.0ms preprocess, 8.7ms inference, 0.6ms postprocess per image at shape (1, 3, 224, 224)\n",
      "\n",
      "0: 224x224 basal_cell_carcinoma 0.96, melanoma 0.01, nevus 0.01, squamous_cell_carcinoma 0.01, pigmented_benign_keratosis 0.01, 8.7ms\n",
      "Speed: 0.0ms preprocess, 8.7ms inference, 0.3ms postprocess per image at shape (1, 3, 224, 224)\n",
      "\n",
      "0: 224x224 squamous_cell_carcinoma 0.51, basal_cell_carcinoma 0.38, pigmented_benign_keratosis 0.06, melanoma 0.03, nevus 0.01, 7.6ms\n",
      "Speed: 0.1ms preprocess, 7.6ms inference, 0.3ms postprocess per image at shape (1, 3, 224, 224)\n",
      "\n",
      "0: 224x224 pigmented_benign_keratosis 0.65, squamous_cell_carcinoma 0.27, actinic_keratosis 0.04, dermatofibroma 0.03, nevus 0.01, 7.3ms\n",
      "Speed: 0.0ms preprocess, 7.3ms inference, 0.3ms postprocess per image at shape (1, 3, 224, 224)\n"
     ]
    },
    {
     "name": "stdout",
     "output_type": "stream",
     "text": [
      "\n",
      "0: 224x224 squamous_cell_carcinoma 0.29, melanoma 0.25, pigmented_benign_keratosis 0.19, basal_cell_carcinoma 0.11, seborrheic_keratosis 0.08, 7.3ms\n",
      "Speed: 0.0ms preprocess, 7.3ms inference, 0.3ms postprocess per image at shape (1, 3, 224, 224)\n",
      "\n",
      "0: 224x224 squamous_cell_carcinoma 0.41, melanoma 0.25, basal_cell_carcinoma 0.21, nevus 0.06, seborrheic_keratosis 0.02, 7.6ms\n",
      "Speed: 0.0ms preprocess, 7.6ms inference, 0.3ms postprocess per image at shape (1, 3, 224, 224)\n",
      "\n",
      "0: 224x224 squamous_cell_carcinoma 0.61, pigmented_benign_keratosis 0.14, actinic_keratosis 0.08, basal_cell_carcinoma 0.05, dermatofibroma 0.04, 7.3ms\n",
      "Speed: 0.0ms preprocess, 7.3ms inference, 0.3ms postprocess per image at shape (1, 3, 224, 224)\n",
      "\n",
      "0: 224x224 basal_cell_carcinoma 0.87, squamous_cell_carcinoma 0.05, melanoma 0.04, nevus 0.03, seborrheic_keratosis 0.01, 7.7ms\n",
      "Speed: 0.0ms preprocess, 7.7ms inference, 0.3ms postprocess per image at shape (1, 3, 224, 224)\n",
      "\n",
      "0: 224x224 basal_cell_carcinoma 0.90, squamous_cell_carcinoma 0.04, pigmented_benign_keratosis 0.03, nevus 0.01, dermatofibroma 0.01, 7.3ms\n",
      "Speed: 0.1ms preprocess, 7.3ms inference, 0.3ms postprocess per image at shape (1, 3, 224, 224)\n",
      "\n",
      "0: 224x224 pigmented_benign_keratosis 0.94, basal_cell_carcinoma 0.05, squamous_cell_carcinoma 0.01, actinic_keratosis 0.00, melanoma 0.00, 7.2ms\n",
      "Speed: 0.1ms preprocess, 7.2ms inference, 0.3ms postprocess per image at shape (1, 3, 224, 224)\n",
      "\n",
      "0: 224x224 squamous_cell_carcinoma 0.56, basal_cell_carcinoma 0.31, pigmented_benign_keratosis 0.06, dermatofibroma 0.04, nevus 0.01, 8.2ms\n",
      "Speed: 0.0ms preprocess, 8.2ms inference, 0.3ms postprocess per image at shape (1, 3, 224, 224)\n",
      "\n",
      "0: 224x224 pigmented_benign_keratosis 0.43, squamous_cell_carcinoma 0.34, actinic_keratosis 0.08, nevus 0.08, basal_cell_carcinoma 0.03, 6.9ms\n",
      "Speed: 0.0ms preprocess, 6.9ms inference, 0.3ms postprocess per image at shape (1, 3, 224, 224)\n",
      "\n",
      "0: 224x224 squamous_cell_carcinoma 0.64, melanoma 0.20, pigmented_benign_keratosis 0.06, actinic_keratosis 0.02, nevus 0.02, 7.6ms\n",
      "Speed: 0.0ms preprocess, 7.6ms inference, 0.3ms postprocess per image at shape (1, 3, 224, 224)\n",
      "Evaluating class: vascular_lesion\n",
      "\n",
      "0: 224x224 vascular_lesion 1.00, basal_cell_carcinoma 0.00, pigmented_benign_keratosis 0.00, melanoma 0.00, nevus 0.00, 8.6ms\n",
      "Speed: 0.0ms preprocess, 8.6ms inference, 0.3ms postprocess per image at shape (1, 3, 224, 224)\n",
      "\n",
      "0: 224x224 vascular_lesion 1.00, basal_cell_carcinoma 0.00, pigmented_benign_keratosis 0.00, dermatofibroma 0.00, nevus 0.00, 8.9ms\n",
      "Speed: 0.0ms preprocess, 8.9ms inference, 0.3ms postprocess per image at shape (1, 3, 224, 224)\n",
      "\n",
      "0: 224x224 vascular_lesion 1.00, pigmented_benign_keratosis 0.00, dermatofibroma 0.00, melanoma 0.00, basal_cell_carcinoma 0.00, 7.8ms\n",
      "Speed: 0.0ms preprocess, 7.8ms inference, 0.3ms postprocess per image at shape (1, 3, 224, 224)\n",
      "所有类别测试完成，结果已保存。\n"
     ]
    }
   ],
   "source": [
    "import os\n",
    "import torch\n",
    "from torchvision import datasets, transforms\n",
    "from torch.utils.data import DataLoader, Subset\n",
    "from ultralytics import YOLO\n",
    "import torchvision.models as models\n",
    "from sklearn.metrics import f1_score\n",
    "import pandas as pd\n",
    "\n",
    "# Basic configuration\n",
    "model_path = './skin_cls_yolo/yolo_finetune/yolov11n_cls_exp/weights/best.pt'\n",
    "test_root = './datasets/Test/'\n",
    "save_dir = './skin_cls_yolo/yolo_finetune/yolov11n_cls_exp/results'\n",
    "os.makedirs(save_dir, exist_ok=True)\n",
    "\n",
    "# Get the category name\n",
    "class_names = sorted(os.listdir(test_root))\n",
    "class_to_idx = {cls_name: idx for idx, cls_name in enumerate(class_names)}\n",
    "\n",
    "# Image preprocessing\n",
    "transform = transforms.Compose([\n",
    "    transforms.Resize((224, 224)),\n",
    "    transforms.ToTensor(),  # Scale the pixel value to 0~1\n",
    "])\n",
    "\n",
    "model = YOLO(model_path)\n",
    "\n",
    "# Each category is assessed individually\n",
    "for cls_name in class_names:\n",
    "    print(f\"Evaluating class: {cls_name}\")\n",
    "    \n",
    "    # Load the corresponding subset of categories\n",
    "    dataset = datasets.ImageFolder(root=test_root, transform=transform)\n",
    "    cls_idx = class_to_idx[cls_name]\n",
    "    indices = [i for i, (_, label) in enumerate(dataset) if label == cls_idx]\n",
    "    subset = Subset(dataset, indices)\n",
    "    loader = DataLoader(subset, batch_size=1, shuffle=False)\n",
    "\n",
    "    all_probs = []\n",
    "    y_true = []\n",
    "\n",
    "    for images, labels in loader:\n",
    "        images = images.to(torch.float32)\n",
    "        preds = model(images)\n",
    "\n",
    "        if preds[0].probs is None:\n",
    "            continue\n",
    "\n",
    "        probs_tensor = preds[0].probs.data  \n",
    "        all_probs.append(probs_tensor.cpu())\n",
    "        y_true.extend(labels.cpu().numpy())\n",
    "\n",
    "    # If there is no predicted outcome, skip\n",
    "    if not all_probs:\n",
    "        continue\n",
    "\n",
    "    # Stitch together all probs and make sure it's a 2D tensor\n",
    "    probs = torch.cat([\n",
    "        p.unsqueeze(0) if p.dim() == 1 else p  # -> [1, num_classes]\n",
    "        for p in all_probs\n",
    "    ], dim=0)\n",
    "\n",
    "    y_true = torch.tensor(y_true)\n",
    "\n",
    "    # Defensive checks\n",
    "    if probs.dim() != 2:\n",
    "        print(f\"Skip categories {cls_name}，Predict dimension anomalies: {probs.shape}\")\n",
    "        continue\n",
    "\n",
    "    # Calculate forecasts\n",
    "    top1_preds = probs.argmax(dim=1)\n",
    "    top5_preds = probs.topk(5, dim=1).indices\n",
    "\n",
    "\n",
    "    # Top-1 Accuracy\n",
    "    top1_acc = (top1_preds == y_true).float().mean().item()\n",
    "\n",
    "    # Top-5 Accuracy\n",
    "    top5_acc = sum([y in top5 for y, top5 in zip(y_true, top5_preds)]) / len(y_true)\n",
    "\n",
    "    # F1 score (binary/micro in single category)\n",
    "    f1 = f1_score(y_true.numpy(), top1_preds.numpy(), average='micro')\n",
    "\n",
    "    # Save the results\n",
    "    df = pd.DataFrame([[top1_acc, top5_acc, f1]], columns=[\"Top1\", \"Top5\", \"F1-score\"])\n",
    "    df.to_excel(os.path.join(save_dir, f\"{cls_name}.xlsx\"), index=False)\n",
    "\n",
    "print(\"All category tests are completed and the results are saved.\")\n"
   ]
  },
  {
   "cell_type": "code",
   "execution_count": 34,
   "id": "e5e3121d",
   "metadata": {},
   "outputs": [
    {
     "name": "stdout",
     "output_type": "stream",
     "text": [
      "YOLOv8l-cls summary (fused): 54 layers, 36,196,105 parameters, 0 gradients, 98.7 GFLOPs\n",
      "正在评估所有测试图像...\n"
     ]
    },
    {
     "name": "stderr",
     "output_type": "stream",
     "text": [
      "\r",
      "  0%|                                                                                          | 0/118 [00:00<?, ?it/s]"
     ]
    },
    {
     "name": "stdout",
     "output_type": "stream",
     "text": [
      "\n",
      "0: 224x224 melanoma 0.67, seborrheic_keratosis 0.22, actinic_keratosis 0.06, nevus 0.03, pigmented_benign_keratosis 0.01, 60.7ms\n",
      "Speed: 0.0ms preprocess, 60.7ms inference, 0.3ms postprocess per image at shape (1, 3, 224, 224)\n",
      "\n",
      "0: 224x224 nevus 1.00, melanoma 0.00, pigmented_benign_keratosis 0.00, seborrheic_keratosis 0.00, actinic_keratosis 0.00, 57.2ms\n",
      "Speed: 0.1ms preprocess, 57.2ms inference, 0.3ms postprocess per image at shape (1, 3, 224, 224)\n"
     ]
    },
    {
     "name": "stderr",
     "output_type": "stream",
     "text": [
      "\r",
      "  2%|█▍                                                                                | 2/118 [00:00<00:08, 13.09it/s]"
     ]
    },
    {
     "name": "stdout",
     "output_type": "stream",
     "text": [
      "\n",
      "0: 224x224 nevus 0.74, actinic_keratosis 0.26, basal_cell_carcinoma 0.00, squamous_cell_carcinoma 0.00, melanoma 0.00, 58.0ms\n",
      "Speed: 0.0ms preprocess, 58.0ms inference, 0.3ms postprocess per image at shape (1, 3, 224, 224)\n",
      "\n",
      "0: 224x224 nevus 0.92, actinic_keratosis 0.06, basal_cell_carcinoma 0.01, pigmented_benign_keratosis 0.01, squamous_cell_carcinoma 0.00, 62.2ms\n",
      "Speed: 0.0ms preprocess, 62.2ms inference, 0.2ms postprocess per image at shape (1, 3, 224, 224)\n"
     ]
    },
    {
     "name": "stderr",
     "output_type": "stream",
     "text": [
      "\r",
      "  3%|██▊                                                                               | 4/118 [00:00<00:08, 13.69it/s]"
     ]
    },
    {
     "name": "stdout",
     "output_type": "stream",
     "text": [
      "\n",
      "0: 224x224 nevus 0.44, pigmented_benign_keratosis 0.35, basal_cell_carcinoma 0.12, melanoma 0.03, actinic_keratosis 0.03, 67.5ms\n",
      "Speed: 0.0ms preprocess, 67.5ms inference, 0.3ms postprocess per image at shape (1, 3, 224, 224)\n",
      "\n",
      "0: 224x224 nevus 0.69, actinic_keratosis 0.25, pigmented_benign_keratosis 0.04, squamous_cell_carcinoma 0.02, melanoma 0.01, 61.3ms\n",
      "Speed: 0.0ms preprocess, 61.3ms inference, 0.3ms postprocess per image at shape (1, 3, 224, 224)\n"
     ]
    },
    {
     "name": "stderr",
     "output_type": "stream",
     "text": [
      "\r",
      "  5%|████▏                                                                             | 6/118 [00:00<00:08, 13.79it/s]"
     ]
    },
    {
     "name": "stdout",
     "output_type": "stream",
     "text": [
      "\n",
      "0: 224x224 pigmented_benign_keratosis 0.72, nevus 0.11, basal_cell_carcinoma 0.06, melanoma 0.05, actinic_keratosis 0.04, 59.9ms\n",
      "Speed: 0.0ms preprocess, 59.9ms inference, 0.3ms postprocess per image at shape (1, 3, 224, 224)\n",
      "\n",
      "0: 224x224 nevus 0.64, actinic_keratosis 0.22, pigmented_benign_keratosis 0.06, melanoma 0.05, seborrheic_keratosis 0.02, 68.1ms\n",
      "Speed: 0.1ms preprocess, 68.1ms inference, 0.2ms postprocess per image at shape (1, 3, 224, 224)\n"
     ]
    },
    {
     "name": "stderr",
     "output_type": "stream",
     "text": [
      "\r",
      "  7%|█████▌                                                                            | 8/118 [00:00<00:08, 13.29it/s]"
     ]
    },
    {
     "name": "stdout",
     "output_type": "stream",
     "text": [
      "\n",
      "0: 224x224 actinic_keratosis 0.49, nevus 0.47, squamous_cell_carcinoma 0.02, melanoma 0.01, basal_cell_carcinoma 0.01, 59.5ms\n",
      "Speed: 0.0ms preprocess, 59.5ms inference, 0.3ms postprocess per image at shape (1, 3, 224, 224)\n",
      "\n",
      "0: 224x224 nevus 0.84, actinic_keratosis 0.16, squamous_cell_carcinoma 0.00, basal_cell_carcinoma 0.00, melanoma 0.00, 63.0ms\n",
      "Speed: 0.0ms preprocess, 63.0ms inference, 0.3ms postprocess per image at shape (1, 3, 224, 224)\n"
     ]
    },
    {
     "name": "stderr",
     "output_type": "stream",
     "text": [
      "\r",
      "  8%|██████▊                                                                          | 10/118 [00:00<00:08, 13.42it/s]"
     ]
    },
    {
     "name": "stdout",
     "output_type": "stream",
     "text": [
      "\n",
      "0: 224x224 nevus 0.85, pigmented_benign_keratosis 0.15, actinic_keratosis 0.00, basal_cell_carcinoma 0.00, squamous_cell_carcinoma 0.00, 60.2ms\n",
      "Speed: 0.0ms preprocess, 60.2ms inference, 0.4ms postprocess per image at shape (1, 3, 224, 224)\n",
      "\n",
      "0: 224x224 basal_cell_carcinoma 0.36, nevus 0.30, actinic_keratosis 0.18, pigmented_benign_keratosis 0.05, dermatofibroma 0.05, 57.6ms\n",
      "Speed: 0.1ms preprocess, 57.6ms inference, 0.3ms postprocess per image at shape (1, 3, 224, 224)\n"
     ]
    },
    {
     "name": "stderr",
     "output_type": "stream",
     "text": [
      "\r",
      " 10%|████████▏                                                                        | 12/118 [00:00<00:07, 13.66it/s]"
     ]
    },
    {
     "name": "stdout",
     "output_type": "stream",
     "text": [
      "\n",
      "0: 224x224 nevus 0.72, actinic_keratosis 0.16, pigmented_benign_keratosis 0.11, basal_cell_carcinoma 0.01, squamous_cell_carcinoma 0.00, 59.7ms\n",
      "Speed: 0.0ms preprocess, 59.7ms inference, 0.3ms postprocess per image at shape (1, 3, 224, 224)\n",
      "\n",
      "0: 224x224 nevus 0.84, actinic_keratosis 0.15, pigmented_benign_keratosis 0.00, squamous_cell_carcinoma 0.00, basal_cell_carcinoma 0.00, 57.0ms\n",
      "Speed: 0.0ms preprocess, 57.0ms inference, 0.3ms postprocess per image at shape (1, 3, 224, 224)\n"
     ]
    },
    {
     "name": "stderr",
     "output_type": "stream",
     "text": [
      "\r",
      " 12%|█████████▌                                                                       | 14/118 [00:01<00:07, 13.83it/s]"
     ]
    },
    {
     "name": "stdout",
     "output_type": "stream",
     "text": [
      "\n",
      "0: 224x224 nevus 0.94, actinic_keratosis 0.05, vascular_lesion 0.00, basal_cell_carcinoma 0.00, pigmented_benign_keratosis 0.00, 55.3ms\n",
      "Speed: 0.0ms preprocess, 55.3ms inference, 0.3ms postprocess per image at shape (1, 3, 224, 224)\n",
      "\n",
      "0: 224x224 nevus 0.80, actinic_keratosis 0.16, basal_cell_carcinoma 0.02, pigmented_benign_keratosis 0.01, squamous_cell_carcinoma 0.01, 75.0ms\n",
      "Speed: 0.0ms preprocess, 75.0ms inference, 0.5ms postprocess per image at shape (1, 3, 224, 224)\n"
     ]
    },
    {
     "name": "stderr",
     "output_type": "stream",
     "text": [
      "\r",
      " 14%|██████████▉                                                                      | 16/118 [00:01<00:07, 13.49it/s]"
     ]
    },
    {
     "name": "stdout",
     "output_type": "stream",
     "text": [
      "\n",
      "0: 224x224 basal_cell_carcinoma 0.97, dermatofibroma 0.03, pigmented_benign_keratosis 0.00, nevus 0.00, squamous_cell_carcinoma 0.00, 65.1ms\n",
      "Speed: 0.0ms preprocess, 65.1ms inference, 0.3ms postprocess per image at shape (1, 3, 224, 224)\n",
      "\n",
      "0: 224x224 basal_cell_carcinoma 0.98, pigmented_benign_keratosis 0.02, squamous_cell_carcinoma 0.00, dermatofibroma 0.00, nevus 0.00, 66.1ms\n",
      "Speed: 0.0ms preprocess, 66.1ms inference, 0.3ms postprocess per image at shape (1, 3, 224, 224)\n"
     ]
    },
    {
     "name": "stderr",
     "output_type": "stream",
     "text": [
      "\r",
      " 15%|████████████▎                                                                    | 18/118 [00:01<00:07, 13.08it/s]"
     ]
    },
    {
     "name": "stdout",
     "output_type": "stream",
     "text": [
      "\n",
      "0: 224x224 basal_cell_carcinoma 0.96, squamous_cell_carcinoma 0.02, pigmented_benign_keratosis 0.01, dermatofibroma 0.00, nevus 0.00, 69.2ms\n",
      "Speed: 0.0ms preprocess, 69.2ms inference, 0.3ms postprocess per image at shape (1, 3, 224, 224)\n",
      "\n",
      "0: 224x224 basal_cell_carcinoma 0.83, pigmented_benign_keratosis 0.12, nevus 0.02, melanoma 0.01, seborrheic_keratosis 0.01, 59.8ms\n",
      "Speed: 0.0ms preprocess, 59.8ms inference, 0.3ms postprocess per image at shape (1, 3, 224, 224)\n"
     ]
    },
    {
     "name": "stderr",
     "output_type": "stream",
     "text": [
      "\r",
      " 17%|█████████████▋                                                                   | 20/118 [00:01<00:07, 13.02it/s]"
     ]
    },
    {
     "name": "stdout",
     "output_type": "stream",
     "text": [
      "\n",
      "0: 224x224 basal_cell_carcinoma 0.90, pigmented_benign_keratosis 0.06, squamous_cell_carcinoma 0.03, nevus 0.01, actinic_keratosis 0.00, 59.0ms\n",
      "Speed: 0.0ms preprocess, 59.0ms inference, 0.3ms postprocess per image at shape (1, 3, 224, 224)\n",
      "\n",
      "0: 224x224 basal_cell_carcinoma 0.97, pigmented_benign_keratosis 0.02, squamous_cell_carcinoma 0.00, melanoma 0.00, vascular_lesion 0.00, 65.7ms\n",
      "Speed: 0.0ms preprocess, 65.7ms inference, 0.3ms postprocess per image at shape (1, 3, 224, 224)\n"
     ]
    },
    {
     "name": "stderr",
     "output_type": "stream",
     "text": [
      "\r",
      " 19%|███████████████                                                                  | 22/118 [00:01<00:07, 13.15it/s]"
     ]
    },
    {
     "name": "stdout",
     "output_type": "stream",
     "text": [
      "\n",
      "0: 224x224 basal_cell_carcinoma 0.98, pigmented_benign_keratosis 0.01, nevus 0.00, melanoma 0.00, actinic_keratosis 0.00, 66.2ms\n",
      "Speed: 0.1ms preprocess, 66.2ms inference, 0.3ms postprocess per image at shape (1, 3, 224, 224)\n",
      "\n",
      "0: 224x224 pigmented_benign_keratosis 0.35, melanoma 0.31, basal_cell_carcinoma 0.16, seborrheic_keratosis 0.08, vascular_lesion 0.03, 60.4ms\n",
      "Speed: 0.0ms preprocess, 60.4ms inference, 0.3ms postprocess per image at shape (1, 3, 224, 224)\n"
     ]
    },
    {
     "name": "stderr",
     "output_type": "stream",
     "text": [
      "\r",
      " 20%|████████████████▍                                                                | 24/118 [00:01<00:06, 13.56it/s]"
     ]
    },
    {
     "name": "stdout",
     "output_type": "stream",
     "text": [
      "\n",
      "0: 224x224 basal_cell_carcinoma 1.00, pigmented_benign_keratosis 0.00, dermatofibroma 0.00, vascular_lesion 0.00, squamous_cell_carcinoma 0.00, 59.1ms\n",
      "Speed: 0.2ms preprocess, 59.1ms inference, 0.3ms postprocess per image at shape (1, 3, 224, 224)\n",
      "\n",
      "0: 224x224 basal_cell_carcinoma 1.00, squamous_cell_carcinoma 0.00, vascular_lesion 0.00, pigmented_benign_keratosis 0.00, actinic_keratosis 0.00, 63.2ms\n",
      "Speed: 0.1ms preprocess, 63.2ms inference, 0.3ms postprocess per image at shape (1, 3, 224, 224)\n"
     ]
    },
    {
     "name": "stderr",
     "output_type": "stream",
     "text": [
      "\r",
      " 22%|█████████████████▊                                                               | 26/118 [00:01<00:06, 13.30it/s]"
     ]
    },
    {
     "name": "stdout",
     "output_type": "stream",
     "text": [
      "\n",
      "0: 224x224 basal_cell_carcinoma 1.00, squamous_cell_carcinoma 0.00, actinic_keratosis 0.00, nevus 0.00, pigmented_benign_keratosis 0.00, 63.9ms\n",
      "Speed: 0.0ms preprocess, 63.9ms inference, 0.3ms postprocess per image at shape (1, 3, 224, 224)\n",
      "\n",
      "0: 224x224 basal_cell_carcinoma 0.99, nevus 0.00, actinic_keratosis 0.00, pigmented_benign_keratosis 0.00, dermatofibroma 0.00, 63.6ms\n",
      "Speed: 0.0ms preprocess, 63.6ms inference, 0.3ms postprocess per image at shape (1, 3, 224, 224)\n"
     ]
    },
    {
     "name": "stderr",
     "output_type": "stream",
     "text": [
      "\r",
      " 24%|███████████████████▏                                                             | 28/118 [00:02<00:06, 13.31it/s]"
     ]
    },
    {
     "name": "stdout",
     "output_type": "stream",
     "text": [
      "\n",
      "0: 224x224 basal_cell_carcinoma 0.99, dermatofibroma 0.00, squamous_cell_carcinoma 0.00, vascular_lesion 0.00, pigmented_benign_keratosis 0.00, 55.8ms\n",
      "Speed: 0.0ms preprocess, 55.8ms inference, 0.3ms postprocess per image at shape (1, 3, 224, 224)\n",
      "\n",
      "0: 224x224 basal_cell_carcinoma 1.00, squamous_cell_carcinoma 0.00, actinic_keratosis 0.00, nevus 0.00, pigmented_benign_keratosis 0.00, 58.2ms\n",
      "Speed: 0.0ms preprocess, 58.2ms inference, 0.3ms postprocess per image at shape (1, 3, 224, 224)\n"
     ]
    },
    {
     "name": "stderr",
     "output_type": "stream",
     "text": [
      "\r",
      " 25%|████████████████████▌                                                            | 30/118 [00:02<00:06, 13.65it/s]"
     ]
    },
    {
     "name": "stdout",
     "output_type": "stream",
     "text": [
      "\n",
      "0: 224x224 basal_cell_carcinoma 1.00, dermatofibroma 0.00, squamous_cell_carcinoma 0.00, pigmented_benign_keratosis 0.00, vascular_lesion 0.00, 56.8ms\n",
      "Speed: 0.0ms preprocess, 56.8ms inference, 0.3ms postprocess per image at shape (1, 3, 224, 224)\n",
      "\n",
      "0: 224x224 basal_cell_carcinoma 1.00, pigmented_benign_keratosis 0.00, vascular_lesion 0.00, squamous_cell_carcinoma 0.00, dermatofibroma 0.00, 68.1ms\n",
      "Speed: 0.0ms preprocess, 68.1ms inference, 0.3ms postprocess per image at shape (1, 3, 224, 224)\n"
     ]
    },
    {
     "name": "stderr",
     "output_type": "stream",
     "text": [
      "\r",
      " 27%|█████████████████████▉                                                           | 32/118 [00:02<00:06, 13.64it/s]"
     ]
    },
    {
     "name": "stdout",
     "output_type": "stream",
     "text": [
      "\n",
      "0: 224x224 melanoma 0.87, seborrheic_keratosis 0.08, nevus 0.02, squamous_cell_carcinoma 0.02, dermatofibroma 0.00, 68.3ms\n",
      "Speed: 0.0ms preprocess, 68.3ms inference, 0.3ms postprocess per image at shape (1, 3, 224, 224)\n",
      "\n",
      "0: 224x224 nevus 0.99, melanoma 0.01, seborrheic_keratosis 0.00, pigmented_benign_keratosis 0.00, actinic_keratosis 0.00, 55.8ms\n",
      "Speed: 0.1ms preprocess, 55.8ms inference, 0.3ms postprocess per image at shape (1, 3, 224, 224)\n"
     ]
    },
    {
     "name": "stderr",
     "output_type": "stream",
     "text": [
      "\r",
      " 29%|███████████████████████▎                                                         | 34/118 [00:02<00:08, 10.00it/s]"
     ]
    },
    {
     "name": "stdout",
     "output_type": "stream",
     "text": [
      "\n",
      "0: 224x224 basal_cell_carcinoma 0.84, squamous_cell_carcinoma 0.08, dermatofibroma 0.08, pigmented_benign_keratosis 0.00, actinic_keratosis 0.00, 58.0ms\n",
      "Speed: 0.0ms preprocess, 58.0ms inference, 0.3ms postprocess per image at shape (1, 3, 224, 224)\n",
      "\n",
      "0: 224x224 dermatofibroma 0.90, actinic_keratosis 0.05, nevus 0.02, squamous_cell_carcinoma 0.01, pigmented_benign_keratosis 0.01, 62.8ms\n",
      "Speed: 0.0ms preprocess, 62.8ms inference, 0.3ms postprocess per image at shape (1, 3, 224, 224)\n"
     ]
    },
    {
     "name": "stderr",
     "output_type": "stream",
     "text": [
      "\r",
      " 31%|████████████████████████▋                                                        | 36/118 [00:03<00:15,  5.17it/s]"
     ]
    },
    {
     "name": "stdout",
     "output_type": "stream",
     "text": [
      "\n",
      "0: 224x224 dermatofibroma 0.91, pigmented_benign_keratosis 0.09, nevus 0.01, basal_cell_carcinoma 0.00, actinic_keratosis 0.00, 57.9ms\n",
      "Speed: 0.0ms preprocess, 57.9ms inference, 0.3ms postprocess per image at shape (1, 3, 224, 224)\n"
     ]
    },
    {
     "name": "stderr",
     "output_type": "stream",
     "text": [
      "\r",
      " 31%|█████████████████████████▍                                                       | 37/118 [00:03<00:18,  4.29it/s]"
     ]
    },
    {
     "name": "stdout",
     "output_type": "stream",
     "text": [
      "\n",
      "0: 224x224 dermatofibroma 0.97, pigmented_benign_keratosis 0.03, basal_cell_carcinoma 0.00, melanoma 0.00, nevus 0.00, 59.1ms\n",
      "Speed: 0.0ms preprocess, 59.1ms inference, 0.3ms postprocess per image at shape (1, 3, 224, 224)\n"
     ]
    },
    {
     "name": "stderr",
     "output_type": "stream",
     "text": [
      "\r",
      " 32%|██████████████████████████                                                       | 38/118 [00:04<00:21,  3.68it/s]"
     ]
    },
    {
     "name": "stdout",
     "output_type": "stream",
     "text": [
      "\n",
      "0: 224x224 nevus 0.53, melanoma 0.42, pigmented_benign_keratosis 0.03, seborrheic_keratosis 0.01, dermatofibroma 0.00, 54.2ms\n",
      "Speed: 0.0ms preprocess, 54.2ms inference, 0.3ms postprocess per image at shape (1, 3, 224, 224)\n"
     ]
    },
    {
     "name": "stderr",
     "output_type": "stream",
     "text": [
      "\r",
      " 33%|██████████████████████████▊                                                      | 39/118 [00:04<00:25,  3.14it/s]"
     ]
    },
    {
     "name": "stdout",
     "output_type": "stream",
     "text": [
      "\n",
      "0: 224x224 dermatofibroma 1.00, basal_cell_carcinoma 0.00, vascular_lesion 0.00, melanoma 0.00, actinic_keratosis 0.00, 56.7ms\n",
      "Speed: 0.1ms preprocess, 56.7ms inference, 0.3ms postprocess per image at shape (1, 3, 224, 224)\n",
      "\n",
      "0: 224x224 basal_cell_carcinoma 0.67, pigmented_benign_keratosis 0.24, dermatofibroma 0.09, squamous_cell_carcinoma 0.00, nevus 0.00, 60.4ms\n",
      "Speed: 0.0ms preprocess, 60.4ms inference, 0.3ms postprocess per image at shape (1, 3, 224, 224)\n"
     ]
    },
    {
     "name": "stderr",
     "output_type": "stream",
     "text": [
      "\r",
      " 35%|████████████████████████████▏                                                    | 41/118 [00:04<00:17,  4.50it/s]"
     ]
    },
    {
     "name": "stdout",
     "output_type": "stream",
     "text": [
      "\n",
      "0: 224x224 dermatofibroma 1.00, pigmented_benign_keratosis 0.00, vascular_lesion 0.00, basal_cell_carcinoma 0.00, squamous_cell_carcinoma 0.00, 64.8ms\n",
      "Speed: 0.0ms preprocess, 64.8ms inference, 0.3ms postprocess per image at shape (1, 3, 224, 224)\n",
      "\n",
      "0: 224x224 dermatofibroma 0.96, nevus 0.02, pigmented_benign_keratosis 0.02, basal_cell_carcinoma 0.00, vascular_lesion 0.00, 60.7ms\n",
      "Speed: 0.1ms preprocess, 60.7ms inference, 0.4ms postprocess per image at shape (1, 3, 224, 224)\n"
     ]
    },
    {
     "name": "stderr",
     "output_type": "stream",
     "text": [
      "\r",
      " 36%|█████████████████████████████▌                                                   | 43/118 [00:05<00:12,  5.88it/s]"
     ]
    },
    {
     "name": "stdout",
     "output_type": "stream",
     "text": [
      "\n",
      "0: 224x224 dermatofibroma 0.99, squamous_cell_carcinoma 0.00, basal_cell_carcinoma 0.00, actinic_keratosis 0.00, vascular_lesion 0.00, 75.6ms\n",
      "Speed: 0.0ms preprocess, 75.6ms inference, 0.9ms postprocess per image at shape (1, 3, 224, 224)\n",
      "\n",
      "0: 224x224 dermatofibroma 0.98, pigmented_benign_keratosis 0.02, nevus 0.00, squamous_cell_carcinoma 0.00, basal_cell_carcinoma 0.00, 78.3ms\n",
      "Speed: 0.0ms preprocess, 78.3ms inference, 0.3ms postprocess per image at shape (1, 3, 224, 224)\n"
     ]
    },
    {
     "name": "stderr",
     "output_type": "stream",
     "text": [
      "\r",
      " 38%|██████████████████████████████▉                                                  | 45/118 [00:05<00:10,  6.96it/s]"
     ]
    },
    {
     "name": "stdout",
     "output_type": "stream",
     "text": [
      "\n",
      "0: 224x224 dermatofibroma 0.67, basal_cell_carcinoma 0.33, squamous_cell_carcinoma 0.00, pigmented_benign_keratosis 0.00, nevus 0.00, 77.9ms\n",
      "Speed: 0.0ms preprocess, 77.9ms inference, 0.4ms postprocess per image at shape (1, 3, 224, 224)\n",
      "\n",
      "0: 224x224 dermatofibroma 0.99, pigmented_benign_keratosis 0.00, vascular_lesion 0.00, basal_cell_carcinoma 0.00, melanoma 0.00, 82.3ms\n",
      "Speed: 0.0ms preprocess, 82.3ms inference, 0.3ms postprocess per image at shape (1, 3, 224, 224)\n"
     ]
    },
    {
     "name": "stderr",
     "output_type": "stream",
     "text": [
      "\r",
      " 40%|████████████████████████████████▎                                                | 47/118 [00:05<00:09,  7.86it/s]"
     ]
    },
    {
     "name": "stdout",
     "output_type": "stream",
     "text": [
      "\n",
      "0: 224x224 basal_cell_carcinoma 0.88, nevus 0.05, pigmented_benign_keratosis 0.04, actinic_keratosis 0.02, dermatofibroma 0.01, 66.7ms\n",
      "Speed: 0.0ms preprocess, 66.7ms inference, 0.3ms postprocess per image at shape (1, 3, 224, 224)\n",
      "\n",
      "0: 224x224 nevus 1.00, melanoma 0.00, pigmented_benign_keratosis 0.00, seborrheic_keratosis 0.00, dermatofibroma 0.00, 61.5ms\n",
      "Speed: 0.0ms preprocess, 61.5ms inference, 0.5ms postprocess per image at shape (1, 3, 224, 224)\n"
     ]
    },
    {
     "name": "stderr",
     "output_type": "stream",
     "text": [
      "\r",
      " 42%|█████████████████████████████████▋                                               | 49/118 [00:05<00:07,  9.02it/s]"
     ]
    },
    {
     "name": "stdout",
     "output_type": "stream",
     "text": [
      "\n",
      "0: 224x224 melanoma 0.49, pigmented_benign_keratosis 0.42, nevus 0.08, vascular_lesion 0.01, basal_cell_carcinoma 0.01, 60.3ms\n",
      "Speed: 0.0ms preprocess, 60.3ms inference, 0.3ms postprocess per image at shape (1, 3, 224, 224)\n",
      "\n",
      "0: 224x224 nevus 1.00, melanoma 0.00, pigmented_benign_keratosis 0.00, seborrheic_keratosis 0.00, squamous_cell_carcinoma 0.00, 59.3ms\n",
      "Speed: 0.0ms preprocess, 59.3ms inference, 0.3ms postprocess per image at shape (1, 3, 224, 224)\n"
     ]
    },
    {
     "name": "stderr",
     "output_type": "stream",
     "text": [
      "\r",
      " 43%|███████████████████████████████████                                              | 51/118 [00:05<00:06, 10.02it/s]"
     ]
    },
    {
     "name": "stdout",
     "output_type": "stream",
     "text": [
      "\n",
      "0: 224x224 nevus 0.99, melanoma 0.01, pigmented_benign_keratosis 0.00, actinic_keratosis 0.00, seborrheic_keratosis 0.00, 71.1ms\n",
      "Speed: 0.0ms preprocess, 71.1ms inference, 0.3ms postprocess per image at shape (1, 3, 224, 224)\n",
      "\n",
      "0: 224x224 nevus 0.91, melanoma 0.07, pigmented_benign_keratosis 0.01, dermatofibroma 0.01, squamous_cell_carcinoma 0.00, 66.9ms\n",
      "Speed: 0.0ms preprocess, 66.9ms inference, 0.3ms postprocess per image at shape (1, 3, 224, 224)\n"
     ]
    },
    {
     "name": "stderr",
     "output_type": "stream",
     "text": [
      "\r",
      " 45%|████████████████████████████████████▍                                            | 53/118 [00:06<00:06, 10.25it/s]"
     ]
    },
    {
     "name": "stdout",
     "output_type": "stream",
     "text": [
      "\n",
      "0: 224x224 nevus 0.97, melanoma 0.03, seborrheic_keratosis 0.00, pigmented_benign_keratosis 0.00, squamous_cell_carcinoma 0.00, 88.6ms\n",
      "Speed: 0.0ms preprocess, 88.6ms inference, 0.3ms postprocess per image at shape (1, 3, 224, 224)\n",
      "\n",
      "0: 224x224 melanoma 0.49, basal_cell_carcinoma 0.46, nevus 0.02, pigmented_benign_keratosis 0.02, seborrheic_keratosis 0.00, 64.6ms\n",
      "Speed: 0.0ms preprocess, 64.6ms inference, 0.3ms postprocess per image at shape (1, 3, 224, 224)\n"
     ]
    },
    {
     "name": "stderr",
     "output_type": "stream",
     "text": [
      "\r",
      " 47%|█████████████████████████████████████▊                                           | 55/118 [00:06<00:06, 10.12it/s]"
     ]
    },
    {
     "name": "stdout",
     "output_type": "stream",
     "text": [
      "\n",
      "0: 224x224 melanoma 0.92, seborrheic_keratosis 0.04, squamous_cell_carcinoma 0.03, nevus 0.00, basal_cell_carcinoma 0.00, 59.4ms\n",
      "Speed: 0.0ms preprocess, 59.4ms inference, 0.3ms postprocess per image at shape (1, 3, 224, 224)\n",
      "\n",
      "0: 224x224 nevus 0.99, pigmented_benign_keratosis 0.01, melanoma 0.00, dermatofibroma 0.00, basal_cell_carcinoma 0.00, 61.9ms\n",
      "Speed: 0.0ms preprocess, 61.9ms inference, 0.3ms postprocess per image at shape (1, 3, 224, 224)\n"
     ]
    },
    {
     "name": "stderr",
     "output_type": "stream",
     "text": [
      "\r",
      " 48%|███████████████████████████████████████▏                                         | 57/118 [00:06<00:05, 10.72it/s]"
     ]
    },
    {
     "name": "stdout",
     "output_type": "stream",
     "text": [
      "\n",
      "0: 224x224 nevus 0.71, melanoma 0.24, pigmented_benign_keratosis 0.05, seborrheic_keratosis 0.00, basal_cell_carcinoma 0.00, 57.5ms\n",
      "Speed: 0.0ms preprocess, 57.5ms inference, 0.3ms postprocess per image at shape (1, 3, 224, 224)\n",
      "\n",
      "0: 224x224 nevus 0.99, dermatofibroma 0.01, pigmented_benign_keratosis 0.00, melanoma 0.00, basal_cell_carcinoma 0.00, 58.7ms\n",
      "Speed: 0.0ms preprocess, 58.7ms inference, 0.3ms postprocess per image at shape (1, 3, 224, 224)\n"
     ]
    },
    {
     "name": "stderr",
     "output_type": "stream",
     "text": [
      "\r",
      " 50%|████████████████████████████████████████▌                                        | 59/118 [00:06<00:05, 11.11it/s]"
     ]
    },
    {
     "name": "stdout",
     "output_type": "stream",
     "text": [
      "\n",
      "0: 224x224 melanoma 0.58, nevus 0.22, pigmented_benign_keratosis 0.20, seborrheic_keratosis 0.00, basal_cell_carcinoma 0.00, 56.7ms\n",
      "Speed: 0.0ms preprocess, 56.7ms inference, 0.3ms postprocess per image at shape (1, 3, 224, 224)\n",
      "\n",
      "0: 224x224 nevus 0.95, melanoma 0.04, pigmented_benign_keratosis 0.01, seborrheic_keratosis 0.00, squamous_cell_carcinoma 0.00, 58.0ms\n",
      "Speed: 0.0ms preprocess, 58.0ms inference, 0.3ms postprocess per image at shape (1, 3, 224, 224)\n"
     ]
    },
    {
     "name": "stderr",
     "output_type": "stream",
     "text": [
      "\r",
      " 52%|█████████████████████████████████████████▊                                       | 61/118 [00:06<00:04, 11.57it/s]"
     ]
    },
    {
     "name": "stdout",
     "output_type": "stream",
     "text": [
      "\n",
      "0: 224x224 melanoma 0.92, nevus 0.07, seborrheic_keratosis 0.01, pigmented_benign_keratosis 0.00, actinic_keratosis 0.00, 62.5ms\n",
      "Speed: 0.0ms preprocess, 62.5ms inference, 0.6ms postprocess per image at shape (1, 3, 224, 224)\n",
      "\n",
      "0: 224x224 nevus 0.98, melanoma 0.02, seborrheic_keratosis 0.00, pigmented_benign_keratosis 0.00, dermatofibroma 0.00, 55.0ms\n",
      "Speed: 0.0ms preprocess, 55.0ms inference, 0.3ms postprocess per image at shape (1, 3, 224, 224)\n"
     ]
    },
    {
     "name": "stderr",
     "output_type": "stream",
     "text": [
      "\r",
      " 53%|███████████████████████████████████████████▏                                     | 63/118 [00:06<00:04, 11.77it/s]"
     ]
    },
    {
     "name": "stdout",
     "output_type": "stream",
     "text": [
      "\n",
      "0: 224x224 nevus 0.88, melanoma 0.12, pigmented_benign_keratosis 0.00, seborrheic_keratosis 0.00, actinic_keratosis 0.00, 57.8ms\n",
      "Speed: 0.0ms preprocess, 57.8ms inference, 0.3ms postprocess per image at shape (1, 3, 224, 224)\n",
      "\n",
      "0: 224x224 nevus 0.99, melanoma 0.01, seborrheic_keratosis 0.00, pigmented_benign_keratosis 0.00, dermatofibroma 0.00, 59.0ms\n",
      "Speed: 0.0ms preprocess, 59.0ms inference, 0.3ms postprocess per image at shape (1, 3, 224, 224)\n"
     ]
    },
    {
     "name": "stderr",
     "output_type": "stream",
     "text": [
      "\r",
      " 55%|████████████████████████████████████████████▌                                    | 65/118 [00:07<00:04, 12.15it/s]"
     ]
    },
    {
     "name": "stdout",
     "output_type": "stream",
     "text": [
      "\n",
      "0: 224x224 nevus 0.93, melanoma 0.06, seborrheic_keratosis 0.01, pigmented_benign_keratosis 0.00, dermatofibroma 0.00, 58.0ms\n",
      "Speed: 0.0ms preprocess, 58.0ms inference, 0.3ms postprocess per image at shape (1, 3, 224, 224)\n",
      "\n",
      "0: 224x224 nevus 1.00, melanoma 0.00, seborrheic_keratosis 0.00, pigmented_benign_keratosis 0.00, squamous_cell_carcinoma 0.00, 58.6ms\n",
      "Speed: 0.0ms preprocess, 58.6ms inference, 0.3ms postprocess per image at shape (1, 3, 224, 224)\n"
     ]
    },
    {
     "name": "stderr",
     "output_type": "stream",
     "text": [
      "\r",
      " 57%|█████████████████████████████████████████████▉                                   | 67/118 [00:07<00:04, 12.57it/s]"
     ]
    },
    {
     "name": "stdout",
     "output_type": "stream",
     "text": [
      "\n",
      "0: 224x224 nevus 0.96, pigmented_benign_keratosis 0.04, melanoma 0.00, basal_cell_carcinoma 0.00, actinic_keratosis 0.00, 57.3ms\n",
      "Speed: 0.0ms preprocess, 57.3ms inference, 0.3ms postprocess per image at shape (1, 3, 224, 224)\n",
      "\n",
      "0: 224x224 nevus 1.00, melanoma 0.00, pigmented_benign_keratosis 0.00, seborrheic_keratosis 0.00, dermatofibroma 0.00, 56.5ms\n",
      "Speed: 0.0ms preprocess, 56.5ms inference, 0.3ms postprocess per image at shape (1, 3, 224, 224)\n"
     ]
    },
    {
     "name": "stderr",
     "output_type": "stream",
     "text": [
      "\r",
      " 58%|███████████████████████████████████████████████▎                                 | 69/118 [00:07<00:03, 13.08it/s]"
     ]
    },
    {
     "name": "stdout",
     "output_type": "stream",
     "text": [
      "\n",
      "0: 224x224 nevus 1.00, melanoma 0.00, pigmented_benign_keratosis 0.00, seborrheic_keratosis 0.00, vascular_lesion 0.00, 59.3ms\n",
      "Speed: 0.0ms preprocess, 59.3ms inference, 0.3ms postprocess per image at shape (1, 3, 224, 224)\n",
      "\n",
      "0: 224x224 nevus 0.97, melanoma 0.02, seborrheic_keratosis 0.00, pigmented_benign_keratosis 0.00, squamous_cell_carcinoma 0.00, 57.3ms\n",
      "Speed: 0.0ms preprocess, 57.3ms inference, 0.3ms postprocess per image at shape (1, 3, 224, 224)\n"
     ]
    },
    {
     "name": "stderr",
     "output_type": "stream",
     "text": [
      "\r",
      " 60%|████████████████████████████████████████████████▋                                | 71/118 [00:07<00:03, 13.37it/s]"
     ]
    },
    {
     "name": "stdout",
     "output_type": "stream",
     "text": [
      "\n",
      "0: 224x224 nevus 1.00, melanoma 0.00, pigmented_benign_keratosis 0.00, seborrheic_keratosis 0.00, actinic_keratosis 0.00, 61.9ms\n",
      "Speed: 0.0ms preprocess, 61.9ms inference, 0.3ms postprocess per image at shape (1, 3, 224, 224)\n",
      "\n",
      "0: 224x224 nevus 0.95, melanoma 0.04, seborrheic_keratosis 0.00, pigmented_benign_keratosis 0.00, actinic_keratosis 0.00, 60.5ms\n",
      "Speed: 0.0ms preprocess, 60.5ms inference, 0.3ms postprocess per image at shape (1, 3, 224, 224)\n"
     ]
    },
    {
     "name": "stderr",
     "output_type": "stream",
     "text": [
      "\r",
      " 62%|██████████████████████████████████████████████████                               | 73/118 [00:07<00:03, 13.35it/s]"
     ]
    },
    {
     "name": "stdout",
     "output_type": "stream",
     "text": [
      "\n",
      "0: 224x224 nevus 1.00, melanoma 0.00, seborrheic_keratosis 0.00, pigmented_benign_keratosis 0.00, squamous_cell_carcinoma 0.00, 55.4ms\n",
      "Speed: 0.0ms preprocess, 55.4ms inference, 0.3ms postprocess per image at shape (1, 3, 224, 224)\n",
      "\n",
      "0: 224x224 nevus 0.99, melanoma 0.01, pigmented_benign_keratosis 0.00, seborrheic_keratosis 0.00, basal_cell_carcinoma 0.00, 57.4ms\n",
      "Speed: 0.1ms preprocess, 57.4ms inference, 0.3ms postprocess per image at shape (1, 3, 224, 224)\n"
     ]
    },
    {
     "name": "stderr",
     "output_type": "stream",
     "text": [
      "\r",
      " 64%|███████████████████████████████████████████████████▍                             | 75/118 [00:07<00:03, 13.82it/s]"
     ]
    },
    {
     "name": "stdout",
     "output_type": "stream",
     "text": [
      "\n",
      "0: 224x224 nevus 0.99, melanoma 0.00, pigmented_benign_keratosis 0.00, seborrheic_keratosis 0.00, dermatofibroma 0.00, 65.5ms\n",
      "Speed: 0.0ms preprocess, 65.5ms inference, 0.3ms postprocess per image at shape (1, 3, 224, 224)\n",
      "\n",
      "0: 224x224 nevus 1.00, melanoma 0.00, pigmented_benign_keratosis 0.00, dermatofibroma 0.00, squamous_cell_carcinoma 0.00, 59.6ms\n",
      "Speed: 0.0ms preprocess, 59.6ms inference, 0.3ms postprocess per image at shape (1, 3, 224, 224)\n"
     ]
    },
    {
     "name": "stderr",
     "output_type": "stream",
     "text": [
      "\r",
      " 65%|████████████████████████████████████████████████████▊                            | 77/118 [00:07<00:02, 13.81it/s]"
     ]
    },
    {
     "name": "stdout",
     "output_type": "stream",
     "text": [
      "\n",
      "0: 224x224 nevus 1.00, melanoma 0.00, pigmented_benign_keratosis 0.00, seborrheic_keratosis 0.00, squamous_cell_carcinoma 0.00, 57.3ms\n",
      "Speed: 0.0ms preprocess, 57.3ms inference, 0.3ms postprocess per image at shape (1, 3, 224, 224)\n",
      "\n",
      "0: 224x224 nevus 1.00, melanoma 0.00, pigmented_benign_keratosis 0.00, seborrheic_keratosis 0.00, actinic_keratosis 0.00, 53.1ms\n",
      "Speed: 0.0ms preprocess, 53.1ms inference, 0.3ms postprocess per image at shape (1, 3, 224, 224)\n"
     ]
    },
    {
     "name": "stderr",
     "output_type": "stream",
     "text": [
      "\r",
      " 67%|██████████████████████████████████████████████████████▏                          | 79/118 [00:08<00:02, 13.39it/s]"
     ]
    },
    {
     "name": "stdout",
     "output_type": "stream",
     "text": [
      "\n",
      "0: 224x224 nevus 0.62, melanoma 0.37, seborrheic_keratosis 0.00, pigmented_benign_keratosis 0.00, basal_cell_carcinoma 0.00, 56.2ms\n",
      "Speed: 0.0ms preprocess, 56.2ms inference, 0.3ms postprocess per image at shape (1, 3, 224, 224)\n",
      "\n",
      "0: 224x224 pigmented_benign_keratosis 1.00, basal_cell_carcinoma 0.00, squamous_cell_carcinoma 0.00, nevus 0.00, melanoma 0.00, 57.4ms\n",
      "Speed: 0.0ms preprocess, 57.4ms inference, 0.3ms postprocess per image at shape (1, 3, 224, 224)\n"
     ]
    },
    {
     "name": "stderr",
     "output_type": "stream",
     "text": [
      "\r",
      " 69%|███████████████████████████████████████████████████████▌                         | 81/118 [00:08<00:02, 13.48it/s]"
     ]
    },
    {
     "name": "stdout",
     "output_type": "stream",
     "text": [
      "\n",
      "0: 224x224 pigmented_benign_keratosis 0.98, nevus 0.02, actinic_keratosis 0.00, basal_cell_carcinoma 0.00, melanoma 0.00, 58.4ms\n",
      "Speed: 0.1ms preprocess, 58.4ms inference, 0.3ms postprocess per image at shape (1, 3, 224, 224)\n",
      "\n",
      "0: 224x224 pigmented_benign_keratosis 1.00, nevus 0.00, squamous_cell_carcinoma 0.00, basal_cell_carcinoma 0.00, actinic_keratosis 0.00, 57.3ms\n",
      "Speed: 0.0ms preprocess, 57.3ms inference, 0.3ms postprocess per image at shape (1, 3, 224, 224)\n"
     ]
    },
    {
     "name": "stderr",
     "output_type": "stream",
     "text": [
      "\r",
      " 70%|████████████████████████████████████████████████████████▉                        | 83/118 [00:08<00:02, 13.81it/s]"
     ]
    },
    {
     "name": "stdout",
     "output_type": "stream",
     "text": [
      "\n",
      "0: 224x224 pigmented_benign_keratosis 1.00, vascular_lesion 0.00, dermatofibroma 0.00, basal_cell_carcinoma 0.00, nevus 0.00, 57.4ms\n",
      "Speed: 0.0ms preprocess, 57.4ms inference, 0.3ms postprocess per image at shape (1, 3, 224, 224)\n",
      "\n",
      "0: 224x224 pigmented_benign_keratosis 0.88, nevus 0.08, actinic_keratosis 0.02, squamous_cell_carcinoma 0.01, melanoma 0.00, 56.6ms\n",
      "Speed: 0.0ms preprocess, 56.6ms inference, 0.3ms postprocess per image at shape (1, 3, 224, 224)\n"
     ]
    },
    {
     "name": "stderr",
     "output_type": "stream",
     "text": [
      "\r",
      " 72%|██████████████████████████████████████████████████████████▎                      | 85/118 [00:08<00:02, 14.06it/s]"
     ]
    },
    {
     "name": "stdout",
     "output_type": "stream",
     "text": [
      "\n",
      "0: 224x224 pigmented_benign_keratosis 0.99, squamous_cell_carcinoma 0.00, nevus 0.00, melanoma 0.00, actinic_keratosis 0.00, 55.6ms\n",
      "Speed: 0.0ms preprocess, 55.6ms inference, 0.3ms postprocess per image at shape (1, 3, 224, 224)\n",
      "\n",
      "0: 224x224 pigmented_benign_keratosis 1.00, melanoma 0.00, nevus 0.00, dermatofibroma 0.00, squamous_cell_carcinoma 0.00, 60.9ms\n",
      "Speed: 0.0ms preprocess, 60.9ms inference, 0.3ms postprocess per image at shape (1, 3, 224, 224)\n"
     ]
    },
    {
     "name": "stderr",
     "output_type": "stream",
     "text": [
      "\r",
      " 74%|███████████████████████████████████████████████████████████▋                     | 87/118 [00:08<00:02, 14.15it/s]"
     ]
    },
    {
     "name": "stdout",
     "output_type": "stream",
     "text": [
      "\n",
      "0: 224x224 pigmented_benign_keratosis 0.72, melanoma 0.21, squamous_cell_carcinoma 0.06, seborrheic_keratosis 0.01, nevus 0.00, 55.5ms\n",
      "Speed: 0.0ms preprocess, 55.5ms inference, 0.3ms postprocess per image at shape (1, 3, 224, 224)\n",
      "\n",
      "0: 224x224 pigmented_benign_keratosis 1.00, nevus 0.00, actinic_keratosis 0.00, squamous_cell_carcinoma 0.00, melanoma 0.00, 54.7ms\n",
      "Speed: 0.0ms preprocess, 54.7ms inference, 0.3ms postprocess per image at shape (1, 3, 224, 224)\n"
     ]
    },
    {
     "name": "stderr",
     "output_type": "stream",
     "text": [
      "\r",
      " 75%|█████████████████████████████████████████████████████████████                    | 89/118 [00:08<00:02, 14.35it/s]"
     ]
    },
    {
     "name": "stdout",
     "output_type": "stream",
     "text": [
      "\n",
      "0: 224x224 pigmented_benign_keratosis 1.00, melanoma 0.00, vascular_lesion 0.00, squamous_cell_carcinoma 0.00, dermatofibroma 0.00, 53.5ms\n",
      "Speed: 0.0ms preprocess, 53.5ms inference, 0.3ms postprocess per image at shape (1, 3, 224, 224)\n",
      "\n",
      "0: 224x224 pigmented_benign_keratosis 1.00, nevus 0.00, actinic_keratosis 0.00, melanoma 0.00, basal_cell_carcinoma 0.00, 62.6ms\n",
      "Speed: 0.0ms preprocess, 62.6ms inference, 0.3ms postprocess per image at shape (1, 3, 224, 224)\n"
     ]
    },
    {
     "name": "stderr",
     "output_type": "stream",
     "text": [
      "\r",
      " 77%|██████████████████████████████████████████████████████████████▍                  | 91/118 [00:08<00:01, 14.34it/s]"
     ]
    },
    {
     "name": "stdout",
     "output_type": "stream",
     "text": [
      "\n",
      "0: 224x224 pigmented_benign_keratosis 1.00, nevus 0.00, actinic_keratosis 0.00, basal_cell_carcinoma 0.00, melanoma 0.00, 65.2ms\n",
      "Speed: 0.0ms preprocess, 65.2ms inference, 0.3ms postprocess per image at shape (1, 3, 224, 224)\n",
      "\n",
      "0: 224x224 squamous_cell_carcinoma 0.93, basal_cell_carcinoma 0.04, nevus 0.01, actinic_keratosis 0.01, pigmented_benign_keratosis 0.01, 56.7ms\n",
      "Speed: 0.0ms preprocess, 56.7ms inference, 0.3ms postprocess per image at shape (1, 3, 224, 224)\n"
     ]
    },
    {
     "name": "stderr",
     "output_type": "stream",
     "text": [
      "\r",
      " 79%|███████████████████████████████████████████████████████████████▊                 | 93/118 [00:08<00:01, 14.13it/s]"
     ]
    },
    {
     "name": "stdout",
     "output_type": "stream",
     "text": [
      "\n",
      "0: 224x224 pigmented_benign_keratosis 0.96, nevus 0.02, basal_cell_carcinoma 0.02, actinic_keratosis 0.01, melanoma 0.00, 55.4ms\n",
      "Speed: 0.0ms preprocess, 55.4ms inference, 0.3ms postprocess per image at shape (1, 3, 224, 224)\n",
      "\n",
      "0: 224x224 pigmented_benign_keratosis 0.69, squamous_cell_carcinoma 0.18, basal_cell_carcinoma 0.07, actinic_keratosis 0.03, nevus 0.01, 61.3ms\n",
      "Speed: 0.0ms preprocess, 61.3ms inference, 0.3ms postprocess per image at shape (1, 3, 224, 224)\n"
     ]
    },
    {
     "name": "stderr",
     "output_type": "stream",
     "text": [
      "\r",
      " 81%|█████████████████████████████████████████████████████████████████▏               | 95/118 [00:09<00:01, 14.08it/s]"
     ]
    },
    {
     "name": "stdout",
     "output_type": "stream",
     "text": [
      "\n",
      "0: 224x224 pigmented_benign_keratosis 0.90, basal_cell_carcinoma 0.06, squamous_cell_carcinoma 0.02, melanoma 0.01, actinic_keratosis 0.00, 57.5ms\n",
      "Speed: 0.0ms preprocess, 57.5ms inference, 0.3ms postprocess per image at shape (1, 3, 224, 224)\n",
      "\n",
      "0: 224x224 melanoma 0.74, nevus 0.17, seborrheic_keratosis 0.08, pigmented_benign_keratosis 0.01, actinic_keratosis 0.00, 58.8ms\n",
      "Speed: 0.1ms preprocess, 58.8ms inference, 0.3ms postprocess per image at shape (1, 3, 224, 224)\n"
     ]
    },
    {
     "name": "stderr",
     "output_type": "stream",
     "text": [
      "\r",
      " 82%|██████████████████████████████████████████████████████████████████▌              | 97/118 [00:09<00:01, 14.10it/s]"
     ]
    },
    {
     "name": "stdout",
     "output_type": "stream",
     "text": [
      "\n",
      "0: 224x224 melanoma 0.96, seborrheic_keratosis 0.04, nevus 0.00, pigmented_benign_keratosis 0.00, basal_cell_carcinoma 0.00, 55.2ms\n",
      "Speed: 0.0ms preprocess, 55.2ms inference, 0.3ms postprocess per image at shape (1, 3, 224, 224)\n",
      "\n",
      "0: 224x224 melanoma 0.96, seborrheic_keratosis 0.02, basal_cell_carcinoma 0.02, pigmented_benign_keratosis 0.00, nevus 0.00, 56.5ms\n",
      "Speed: 0.0ms preprocess, 56.5ms inference, 0.3ms postprocess per image at shape (1, 3, 224, 224)\n"
     ]
    },
    {
     "name": "stderr",
     "output_type": "stream",
     "text": [
      "\r",
      " 84%|███████████████████████████████████████████████████████████████████▉             | 99/118 [00:09<00:01, 14.11it/s]"
     ]
    },
    {
     "name": "stdout",
     "output_type": "stream",
     "text": [
      "\n",
      "0: 224x224 squamous_cell_carcinoma 0.83, melanoma 0.08, nevus 0.08, pigmented_benign_keratosis 0.00, seborrheic_keratosis 0.00, 57.9ms\n",
      "Speed: 0.3ms preprocess, 57.9ms inference, 0.3ms postprocess per image at shape (1, 3, 224, 224)\n",
      "\n",
      "0: 224x224 melanoma 0.89, dermatofibroma 0.05, pigmented_benign_keratosis 0.02, squamous_cell_carcinoma 0.02, nevus 0.02, 63.8ms\n",
      "Speed: 0.0ms preprocess, 63.8ms inference, 0.3ms postprocess per image at shape (1, 3, 224, 224)\n"
     ]
    },
    {
     "name": "stderr",
     "output_type": "stream",
     "text": [
      "\r",
      " 86%|████████████████████████████████████████████████████████████████████▍           | 101/118 [00:10<00:03,  5.23it/s]"
     ]
    },
    {
     "name": "stdout",
     "output_type": "stream",
     "text": [
      "\n",
      "0: 224x224 squamous_cell_carcinoma 0.59, actinic_keratosis 0.15, dermatofibroma 0.14, basal_cell_carcinoma 0.06, nevus 0.05, 55.6ms\n",
      "Speed: 0.0ms preprocess, 55.6ms inference, 0.3ms postprocess per image at shape (1, 3, 224, 224)\n",
      "\n",
      "0: 224x224 squamous_cell_carcinoma 0.98, actinic_keratosis 0.01, nevus 0.01, melanoma 0.00, basal_cell_carcinoma 0.00, 59.3ms\n",
      "Speed: 0.0ms preprocess, 59.3ms inference, 0.3ms postprocess per image at shape (1, 3, 224, 224)\n"
     ]
    },
    {
     "name": "stderr",
     "output_type": "stream",
     "text": [
      "\r",
      " 87%|█████████████████████████████████████████████████████████████████████▊          | 103/118 [00:11<00:03,  3.84it/s]"
     ]
    },
    {
     "name": "stdout",
     "output_type": "stream",
     "text": [
      "\n",
      "0: 224x224 basal_cell_carcinoma 0.98, squamous_cell_carcinoma 0.02, pigmented_benign_keratosis 0.00, dermatofibroma 0.00, melanoma 0.00, 56.5ms\n",
      "Speed: 0.0ms preprocess, 56.5ms inference, 0.3ms postprocess per image at shape (1, 3, 224, 224)\n"
     ]
    },
    {
     "name": "stderr",
     "output_type": "stream",
     "text": [
      "\r",
      " 88%|██████████████████████████████████████████████████████████████████████▌         | 104/118 [00:11<00:03,  3.51it/s]"
     ]
    },
    {
     "name": "stdout",
     "output_type": "stream",
     "text": [
      "\n",
      "0: 224x224 squamous_cell_carcinoma 0.70, basal_cell_carcinoma 0.24, pigmented_benign_keratosis 0.03, melanoma 0.01, actinic_keratosis 0.01, 60.5ms\n",
      "Speed: 0.0ms preprocess, 60.5ms inference, 0.3ms postprocess per image at shape (1, 3, 224, 224)\n",
      "\n",
      "0: 224x224 squamous_cell_carcinoma 0.93, pigmented_benign_keratosis 0.06, dermatofibroma 0.00, actinic_keratosis 0.00, nevus 0.00, 56.7ms\n",
      "Speed: 0.0ms preprocess, 56.7ms inference, 0.3ms postprocess per image at shape (1, 3, 224, 224)\n"
     ]
    },
    {
     "name": "stderr",
     "output_type": "stream",
     "text": [
      "\r",
      " 90%|███████████████████████████████████████████████████████████████████████▊        | 106/118 [00:11<00:02,  4.69it/s]"
     ]
    },
    {
     "name": "stdout",
     "output_type": "stream",
     "text": [
      "\n",
      "0: 224x224 squamous_cell_carcinoma 0.60, pigmented_benign_keratosis 0.39, basal_cell_carcinoma 0.00, nevus 0.00, melanoma 0.00, 58.0ms\n",
      "Speed: 0.0ms preprocess, 58.0ms inference, 0.3ms postprocess per image at shape (1, 3, 224, 224)\n",
      "\n",
      "0: 224x224 squamous_cell_carcinoma 0.99, basal_cell_carcinoma 0.01, actinic_keratosis 0.00, nevus 0.00, pigmented_benign_keratosis 0.00, 58.3ms\n",
      "Speed: 0.0ms preprocess, 58.3ms inference, 0.3ms postprocess per image at shape (1, 3, 224, 224)\n"
     ]
    },
    {
     "name": "stderr",
     "output_type": "stream",
     "text": [
      "\r",
      " 92%|█████████████████████████████████████████████████████████████████████████▏      | 108/118 [00:11<00:01,  6.01it/s]"
     ]
    },
    {
     "name": "stdout",
     "output_type": "stream",
     "text": [
      "\n",
      "0: 224x224 squamous_cell_carcinoma 0.96, basal_cell_carcinoma 0.04, pigmented_benign_keratosis 0.00, melanoma 0.00, actinic_keratosis 0.00, 54.3ms\n",
      "Speed: 0.0ms preprocess, 54.3ms inference, 0.3ms postprocess per image at shape (1, 3, 224, 224)\n",
      "\n",
      "0: 224x224 squamous_cell_carcinoma 0.85, basal_cell_carcinoma 0.13, pigmented_benign_keratosis 0.01, melanoma 0.00, nevus 0.00, 64.4ms\n",
      "Speed: 0.0ms preprocess, 64.4ms inference, 0.3ms postprocess per image at shape (1, 3, 224, 224)\n"
     ]
    },
    {
     "name": "stderr",
     "output_type": "stream",
     "text": [
      "\r",
      " 93%|██████████████████████████████████████████████████████████████████████████▌     | 110/118 [00:12<00:01,  7.35it/s]"
     ]
    },
    {
     "name": "stdout",
     "output_type": "stream",
     "text": [
      "\n",
      "0: 224x224 squamous_cell_carcinoma 0.63, basal_cell_carcinoma 0.33, pigmented_benign_keratosis 0.02, dermatofibroma 0.01, nevus 0.01, 62.1ms\n",
      "Speed: 0.0ms preprocess, 62.1ms inference, 0.3ms postprocess per image at shape (1, 3, 224, 224)\n",
      "\n",
      "0: 224x224 pigmented_benign_keratosis 1.00, basal_cell_carcinoma 0.00, squamous_cell_carcinoma 0.00, melanoma 0.00, vascular_lesion 0.00, 56.7ms\n",
      "Speed: 0.0ms preprocess, 56.7ms inference, 0.3ms postprocess per image at shape (1, 3, 224, 224)\n"
     ]
    },
    {
     "name": "stderr",
     "output_type": "stream",
     "text": [
      "\r",
      " 95%|███████████████████████████████████████████████████████████████████████████▉    | 112/118 [00:12<00:00,  8.61it/s]"
     ]
    },
    {
     "name": "stdout",
     "output_type": "stream",
     "text": [
      "\n",
      "0: 224x224 basal_cell_carcinoma 0.74, pigmented_benign_keratosis 0.19, nevus 0.03, squamous_cell_carcinoma 0.02, dermatofibroma 0.01, 59.6ms\n",
      "Speed: 0.1ms preprocess, 59.6ms inference, 0.3ms postprocess per image at shape (1, 3, 224, 224)\n",
      "\n",
      "0: 224x224 squamous_cell_carcinoma 0.98, pigmented_benign_keratosis 0.01, basal_cell_carcinoma 0.01, actinic_keratosis 0.00, melanoma 0.00, 54.3ms\n",
      "Speed: 0.1ms preprocess, 54.3ms inference, 0.3ms postprocess per image at shape (1, 3, 224, 224)\n"
     ]
    },
    {
     "name": "stderr",
     "output_type": "stream",
     "text": [
      "\r",
      " 97%|█████████████████████████████████████████████████████████████████████████████▎  | 114/118 [00:12<00:00,  9.85it/s]"
     ]
    },
    {
     "name": "stdout",
     "output_type": "stream",
     "text": [
      "\n",
      "0: 224x224 squamous_cell_carcinoma 0.99, basal_cell_carcinoma 0.01, pigmented_benign_keratosis 0.00, melanoma 0.00, actinic_keratosis 0.00, 56.7ms\n",
      "Speed: 0.0ms preprocess, 56.7ms inference, 0.3ms postprocess per image at shape (1, 3, 224, 224)\n",
      "\n",
      "0: 224x224 vascular_lesion 1.00, pigmented_benign_keratosis 0.00, basal_cell_carcinoma 0.00, melanoma 0.00, dermatofibroma 0.00, 61.2ms\n",
      "Speed: 0.0ms preprocess, 61.2ms inference, 0.3ms postprocess per image at shape (1, 3, 224, 224)\n"
     ]
    },
    {
     "name": "stderr",
     "output_type": "stream",
     "text": [
      "\r",
      " 98%|██████████████████████████████████████████████████████████████████████████████▋ | 116/118 [00:12<00:00, 10.84it/s]"
     ]
    },
    {
     "name": "stdout",
     "output_type": "stream",
     "text": [
      "\n",
      "0: 224x224 vascular_lesion 1.00, pigmented_benign_keratosis 0.00, dermatofibroma 0.00, basal_cell_carcinoma 0.00, melanoma 0.00, 59.6ms\n",
      "Speed: 0.0ms preprocess, 59.6ms inference, 0.3ms postprocess per image at shape (1, 3, 224, 224)\n",
      "\n",
      "0: 224x224 vascular_lesion 1.00, pigmented_benign_keratosis 0.00, dermatofibroma 0.00, nevus 0.00, basal_cell_carcinoma 0.00, 58.8ms\n",
      "Speed: 0.0ms preprocess, 58.8ms inference, 0.3ms postprocess per image at shape (1, 3, 224, 224)\n"
     ]
    },
    {
     "name": "stderr",
     "output_type": "stream",
     "text": [
      "100%|████████████████████████████████████████████████████████████████████████████████| 118/118 [00:12<00:00,  9.37it/s]"
     ]
    },
    {
     "name": "stdout",
     "output_type": "stream",
     "text": [
      "评估完成，summary_yolo_cls.xlsx 已保存。\n"
     ]
    },
    {
     "name": "stderr",
     "output_type": "stream",
     "text": [
      "\n"
     ]
    }
   ],
   "source": [
    "import os\n",
    "import torch\n",
    "from torchvision import datasets, transforms\n",
    "from torch.utils.data import DataLoader\n",
    "from ultralytics import YOLO\n",
    "from sklearn.metrics import (\n",
    "    accuracy_score, f1_score, roc_auc_score,\n",
    "    log_loss, top_k_accuracy_score\n",
    ")\n",
    "import pandas as pd\n",
    "from tqdm import tqdm\n",
    "import numpy as np\n",
    "\n",
    "model_path = './skin_cls_yolo/yolo_finetune/yolov8l_cls_exp/weights/best.pt'\n",
    "test_root = './datasets/Test/'\n",
    "save_dir = './skin_cls_yolo/yolo_finetune/yolov8l_cls_exp/results'\n",
    "os.makedirs(save_dir, exist_ok=True)\n",
    "\n",
    "device = torch.device(\"cuda\" if torch.cuda.is_available() else \"cpu\")\n",
    "\n",
    "\n",
    "transform = transforms.Compose([\n",
    "    transforms.Resize((224, 224)),\n",
    "    transforms.ToTensor(),\n",
    "])\n",
    "\n",
    "dataset = datasets.ImageFolder(root=test_root, transform=transform)\n",
    "loader = DataLoader(dataset, batch_size=1, shuffle=False)\n",
    "class_names = dataset.classes\n",
    "num_classes = len(class_names)\n",
    "\n",
    "\n",
    "model = YOLO(model_path)\n",
    "model.fuse()\n",
    "\n",
    "# Reason and record\n",
    "all_probs = []\n",
    "y_true = []\n",
    "y_preds = []\n",
    "\n",
    "print(\"All test images are being evaluated...\")\n",
    "\n",
    "for images, labels in tqdm(loader):\n",
    "    image = images[0].unsqueeze(0)\n",
    "    label = labels.item()\n",
    "\n",
    "    preds = model(image)\n",
    "\n",
    "    probs = preds[0].probs\n",
    "    if probs is None:\n",
    "        continue\n",
    "\n",
    "    probs_np = probs.data.cpu().numpy()\n",
    "    pred_cls = probs_np.argmax()\n",
    "\n",
    "    all_probs.append(probs_np)\n",
    "    y_true.append(label)\n",
    "    y_preds.append(pred_cls)\n",
    "\n",
    "# Convert to a NumPy array\n",
    "y_true = np.array(y_true)\n",
    "y_preds = np.array(y_preds)\n",
    "all_probs = np.vstack(all_probs)\n",
    "\n",
    "# Calculate the metrics\n",
    "top1 = accuracy_score(y_true, y_preds)\n",
    "top5 = top_k_accuracy_score(y_true, all_probs, k=5, labels=list(range(num_classes)))\n",
    "logloss = log_loss(y_true, all_probs)\n",
    "f1_macro = f1_score(y_true, y_preds, average='macro')\n",
    "f1_micro = f1_score(y_true, y_preds, average='micro')\n",
    "\n",
    "# AUC （macro and micro）\n",
    "try:\n",
    "    auc_macro = roc_auc_score(y_true, all_probs, average='macro', multi_class='ovr')\n",
    "except:\n",
    "    auc_macro = 'failed'\n",
    "\n",
    "try:\n",
    "    auc_micro = roc_auc_score(y_true, all_probs, average='micro', multi_class='ovr')\n",
    "except:\n",
    "    auc_micro = 'failed'\n",
    "\n",
    "# Save the results\n",
    "df = pd.DataFrame([{\n",
    "    \"Top1\": top1,\n",
    "    \"Top5\": top5,\n",
    "    \"LogLoss\": logloss,\n",
    "    \"F1-macro\": f1_macro,\n",
    "    \"F1-micro\": f1_micro,\n",
    "    \"AUC-macro\": auc_macro,\n",
    "    \"AUC-micro\": auc_micro\n",
    "}])\n",
    "\n",
    "df.to_excel(os.path.join(save_dir, \"summary_yolo_cls.xlsx\"), index=False)\n",
    "print(\"The assessment is complete, summary_yolo_cls.xlsx saved.\")\n"
   ]
  },
  {
   "cell_type": "code",
   "execution_count": 42,
   "id": "d2419c93",
   "metadata": {},
   "outputs": [
    {
     "name": "stdout",
     "output_type": "stream",
     "text": [
      "YOLOv8l-cls summary (fused): 54 layers, 36,196,105 parameters, 0 gradients, 98.7 GFLOPs\n",
      "\n",
      "0: 224x224 vascular_lesion 1.00, pigmented_benign_keratosis 0.00, basal_cell_carcinoma 0.00, melanoma 0.00, dermatofibroma 0.00, 62.9ms\n",
      "Speed: 0.0ms preprocess, 62.9ms inference, 0.3ms postprocess per image at shape (1, 3, 224, 224)\n",
      "\n",
      "0: 224x224 vascular_lesion 1.00, pigmented_benign_keratosis 0.00, basal_cell_carcinoma 0.00, melanoma 0.00, dermatofibroma 0.00, 58.4ms\n",
      "Speed: 0.0ms preprocess, 58.4ms inference, 0.3ms postprocess per image at shape (1, 3, 224, 224)\n",
      "\n",
      "0: 224x224 vascular_lesion 1.00, pigmented_benign_keratosis 0.00, basal_cell_carcinoma 0.00, melanoma 0.00, dermatofibroma 0.00, 57.2ms\n",
      "Speed: 0.0ms preprocess, 57.2ms inference, 0.4ms postprocess per image at shape (1, 3, 224, 224)\n",
      "\n",
      "0: 224x224 vascular_lesion 1.00, pigmented_benign_keratosis 0.00, basal_cell_carcinoma 0.00, melanoma 0.00, dermatofibroma 0.00, 72.6ms\n",
      "Speed: 0.0ms preprocess, 72.6ms inference, 0.4ms postprocess per image at shape (1, 3, 224, 224)\n",
      "\n",
      "0: 224x224 vascular_lesion 1.00, pigmented_benign_keratosis 0.00, basal_cell_carcinoma 0.00, melanoma 0.00, dermatofibroma 0.00, 60.7ms\n",
      "Speed: 0.2ms preprocess, 60.7ms inference, 0.3ms postprocess per image at shape (1, 3, 224, 224)\n",
      "\n",
      "0: 224x224 vascular_lesion 1.00, pigmented_benign_keratosis 0.00, basal_cell_carcinoma 0.00, melanoma 0.00, dermatofibroma 0.00, 57.0ms\n",
      "Speed: 0.0ms preprocess, 57.0ms inference, 0.3ms postprocess per image at shape (1, 3, 224, 224)\n",
      "\n",
      "0: 224x224 vascular_lesion 1.00, pigmented_benign_keratosis 0.00, basal_cell_carcinoma 0.00, melanoma 0.00, dermatofibroma 0.00, 60.2ms\n",
      "Speed: 0.0ms preprocess, 60.2ms inference, 0.3ms postprocess per image at shape (1, 3, 224, 224)\n",
      "\n",
      "0: 224x224 vascular_lesion 1.00, pigmented_benign_keratosis 0.00, basal_cell_carcinoma 0.00, melanoma 0.00, dermatofibroma 0.00, 56.9ms\n",
      "Speed: 0.1ms preprocess, 56.9ms inference, 0.3ms postprocess per image at shape (1, 3, 224, 224)\n",
      "\n",
      "0: 224x224 vascular_lesion 1.00, pigmented_benign_keratosis 0.00, basal_cell_carcinoma 0.00, melanoma 0.00, dermatofibroma 0.00, 60.0ms\n",
      "Speed: 0.0ms preprocess, 60.0ms inference, 0.3ms postprocess per image at shape (1, 3, 224, 224)\n",
      "\n",
      "0: 224x224 vascular_lesion 1.00, pigmented_benign_keratosis 0.00, basal_cell_carcinoma 0.00, melanoma 0.00, dermatofibroma 0.00, 60.8ms\n",
      "Speed: 0.0ms preprocess, 60.8ms inference, 0.3ms postprocess per image at shape (1, 3, 224, 224)\n",
      "\n",
      "0: 224x224 vascular_lesion 1.00, pigmented_benign_keratosis 0.00, basal_cell_carcinoma 0.00, melanoma 0.00, dermatofibroma 0.00, 92.8ms\n",
      "Speed: 0.1ms preprocess, 92.8ms inference, 0.3ms postprocess per image at shape (1, 3, 224, 224)\n",
      "\n",
      "0: 224x224 vascular_lesion 1.00, pigmented_benign_keratosis 0.00, basal_cell_carcinoma 0.00, melanoma 0.00, dermatofibroma 0.00, 60.2ms\n",
      "Speed: 0.0ms preprocess, 60.2ms inference, 0.3ms postprocess per image at shape (1, 3, 224, 224)\n",
      "\n",
      "0: 224x224 vascular_lesion 1.00, pigmented_benign_keratosis 0.00, basal_cell_carcinoma 0.00, melanoma 0.00, dermatofibroma 0.00, 58.5ms\n",
      "Speed: 0.1ms preprocess, 58.5ms inference, 0.3ms postprocess per image at shape (1, 3, 224, 224)\n",
      "\n",
      "0: 224x224 vascular_lesion 1.00, pigmented_benign_keratosis 0.00, basal_cell_carcinoma 0.00, melanoma 0.00, dermatofibroma 0.00, 64.6ms\n",
      "Speed: 0.0ms preprocess, 64.6ms inference, 0.3ms postprocess per image at shape (1, 3, 224, 224)\n",
      "\n",
      "0: 224x224 vascular_lesion 1.00, pigmented_benign_keratosis 0.00, basal_cell_carcinoma 0.00, melanoma 0.00, dermatofibroma 0.00, 61.2ms\n",
      "Speed: 0.1ms preprocess, 61.2ms inference, 0.3ms postprocess per image at shape (1, 3, 224, 224)\n",
      "\n",
      "0: 224x224 vascular_lesion 1.00, pigmented_benign_keratosis 0.00, basal_cell_carcinoma 0.00, melanoma 0.00, dermatofibroma 0.00, 67.8ms\n",
      "Speed: 0.0ms preprocess, 67.8ms inference, 0.3ms postprocess per image at shape (1, 3, 224, 224)\n",
      "\n",
      "0: 224x224 vascular_lesion 1.00, pigmented_benign_keratosis 0.00, basal_cell_carcinoma 0.00, melanoma 0.00, dermatofibroma 0.00, 65.7ms\n",
      "Speed: 0.0ms preprocess, 65.7ms inference, 0.3ms postprocess per image at shape (1, 3, 224, 224)\n",
      "\n",
      "0: 224x224 vascular_lesion 1.00, pigmented_benign_keratosis 0.00, basal_cell_carcinoma 0.00, melanoma 0.00, dermatofibroma 0.00, 58.3ms\n",
      "Speed: 0.0ms preprocess, 58.3ms inference, 0.3ms postprocess per image at shape (1, 3, 224, 224)\n",
      "\n",
      "0: 224x224 vascular_lesion 1.00, pigmented_benign_keratosis 0.00, basal_cell_carcinoma 0.00, melanoma 0.00, dermatofibroma 0.00, 59.1ms\n",
      "Speed: 0.0ms preprocess, 59.1ms inference, 0.3ms postprocess per image at shape (1, 3, 224, 224)\n",
      "\n",
      "0: 224x224 vascular_lesion 1.00, pigmented_benign_keratosis 0.00, basal_cell_carcinoma 0.00, melanoma 0.00, dermatofibroma 0.00, 55.2ms\n",
      "Speed: 0.2ms preprocess, 55.2ms inference, 0.4ms postprocess per image at shape (1, 3, 224, 224)\n",
      "\n",
      "0: 224x224 vascular_lesion 1.00, pigmented_benign_keratosis 0.00, basal_cell_carcinoma 0.00, melanoma 0.00, dermatofibroma 0.00, 60.3ms\n",
      "Speed: 0.0ms preprocess, 60.3ms inference, 0.3ms postprocess per image at shape (1, 3, 224, 224)\n",
      "\n",
      "0: 224x224 vascular_lesion 1.00, pigmented_benign_keratosis 0.00, basal_cell_carcinoma 0.00, melanoma 0.00, dermatofibroma 0.00, 61.9ms\n",
      "Speed: 0.0ms preprocess, 61.9ms inference, 0.4ms postprocess per image at shape (1, 3, 224, 224)\n",
      "\n",
      "0: 224x224 vascular_lesion 1.00, pigmented_benign_keratosis 0.00, basal_cell_carcinoma 0.00, melanoma 0.00, dermatofibroma 0.00, 71.8ms\n",
      "Speed: 0.1ms preprocess, 71.8ms inference, 0.4ms postprocess per image at shape (1, 3, 224, 224)\n",
      "\n",
      "0: 224x224 vascular_lesion 1.00, pigmented_benign_keratosis 0.00, basal_cell_carcinoma 0.00, melanoma 0.00, dermatofibroma 0.00, 60.8ms\n",
      "Speed: 0.0ms preprocess, 60.8ms inference, 0.3ms postprocess per image at shape (1, 3, 224, 224)\n",
      "\n",
      "0: 224x224 vascular_lesion 1.00, pigmented_benign_keratosis 0.00, basal_cell_carcinoma 0.00, melanoma 0.00, dermatofibroma 0.00, 71.7ms\n",
      "Speed: 0.1ms preprocess, 71.7ms inference, 0.4ms postprocess per image at shape (1, 3, 224, 224)\n",
      "\n",
      "0: 224x224 vascular_lesion 1.00, pigmented_benign_keratosis 0.00, basal_cell_carcinoma 0.00, melanoma 0.00, dermatofibroma 0.00, 68.2ms\n",
      "Speed: 0.0ms preprocess, 68.2ms inference, 0.3ms postprocess per image at shape (1, 3, 224, 224)\n",
      "\n",
      "0: 224x224 vascular_lesion 1.00, pigmented_benign_keratosis 0.00, basal_cell_carcinoma 0.00, melanoma 0.00, dermatofibroma 0.00, 66.2ms\n",
      "Speed: 0.2ms preprocess, 66.2ms inference, 0.4ms postprocess per image at shape (1, 3, 224, 224)\n",
      "\n",
      "0: 224x224 vascular_lesion 1.00, pigmented_benign_keratosis 0.00, basal_cell_carcinoma 0.00, melanoma 0.00, dermatofibroma 0.00, 58.0ms\n",
      "Speed: 0.1ms preprocess, 58.0ms inference, 0.3ms postprocess per image at shape (1, 3, 224, 224)\n",
      "\n",
      "0: 224x224 vascular_lesion 1.00, pigmented_benign_keratosis 0.00, basal_cell_carcinoma 0.00, melanoma 0.00, dermatofibroma 0.00, 57.1ms\n",
      "Speed: 0.0ms preprocess, 57.1ms inference, 0.4ms postprocess per image at shape (1, 3, 224, 224)\n",
      "\n",
      "0: 224x224 vascular_lesion 1.00, pigmented_benign_keratosis 0.00, basal_cell_carcinoma 0.00, melanoma 0.00, dermatofibroma 0.00, 59.4ms\n",
      "Speed: 0.0ms preprocess, 59.4ms inference, 0.3ms postprocess per image at shape (1, 3, 224, 224)\n",
      "\n",
      "0: 224x224 vascular_lesion 1.00, pigmented_benign_keratosis 0.00, basal_cell_carcinoma 0.00, melanoma 0.00, dermatofibroma 0.00, 56.0ms\n",
      "Speed: 0.0ms preprocess, 56.0ms inference, 0.3ms postprocess per image at shape (1, 3, 224, 224)\n",
      "\n",
      "0: 224x224 vascular_lesion 1.00, pigmented_benign_keratosis 0.00, basal_cell_carcinoma 0.00, melanoma 0.00, dermatofibroma 0.00, 56.4ms\n",
      "Speed: 0.1ms preprocess, 56.4ms inference, 0.3ms postprocess per image at shape (1, 3, 224, 224)\n",
      "\n",
      "0: 224x224 vascular_lesion 1.00, pigmented_benign_keratosis 0.00, basal_cell_carcinoma 0.00, melanoma 0.00, dermatofibroma 0.00, 66.5ms\n",
      "Speed: 0.0ms preprocess, 66.5ms inference, 0.4ms postprocess per image at shape (1, 3, 224, 224)\n",
      "\n",
      "0: 224x224 vascular_lesion 1.00, pigmented_benign_keratosis 0.00, basal_cell_carcinoma 0.00, melanoma 0.00, dermatofibroma 0.00, 65.8ms\n",
      "Speed: 0.0ms preprocess, 65.8ms inference, 0.9ms postprocess per image at shape (1, 3, 224, 224)\n",
      "\n",
      "0: 224x224 vascular_lesion 1.00, pigmented_benign_keratosis 0.00, basal_cell_carcinoma 0.00, melanoma 0.00, dermatofibroma 0.00, 60.1ms\n",
      "Speed: 0.0ms preprocess, 60.1ms inference, 0.5ms postprocess per image at shape (1, 3, 224, 224)\n"
     ]
    },
    {
     "name": "stdout",
     "output_type": "stream",
     "text": [
      "\n",
      "0: 224x224 vascular_lesion 1.00, pigmented_benign_keratosis 0.00, basal_cell_carcinoma 0.00, melanoma 0.00, dermatofibroma 0.00, 59.4ms\n",
      "Speed: 0.1ms preprocess, 59.4ms inference, 0.3ms postprocess per image at shape (1, 3, 224, 224)\n",
      "\n",
      "0: 224x224 vascular_lesion 1.00, pigmented_benign_keratosis 0.00, basal_cell_carcinoma 0.00, melanoma 0.00, dermatofibroma 0.00, 56.0ms\n",
      "Speed: 0.0ms preprocess, 56.0ms inference, 0.4ms postprocess per image at shape (1, 3, 224, 224)\n",
      "\n",
      "0: 224x224 vascular_lesion 1.00, pigmented_benign_keratosis 0.00, basal_cell_carcinoma 0.00, melanoma 0.00, dermatofibroma 0.00, 58.8ms\n",
      "Speed: 0.0ms preprocess, 58.8ms inference, 0.4ms postprocess per image at shape (1, 3, 224, 224)\n",
      "\n",
      "0: 224x224 vascular_lesion 1.00, pigmented_benign_keratosis 0.00, basal_cell_carcinoma 0.00, melanoma 0.00, dermatofibroma 0.00, 59.5ms\n",
      "Speed: 0.0ms preprocess, 59.5ms inference, 0.3ms postprocess per image at shape (1, 3, 224, 224)\n",
      "\n",
      "0: 224x224 vascular_lesion 1.00, pigmented_benign_keratosis 0.00, basal_cell_carcinoma 0.00, melanoma 0.00, dermatofibroma 0.00, 56.2ms\n",
      "Speed: 0.0ms preprocess, 56.2ms inference, 0.3ms postprocess per image at shape (1, 3, 224, 224)\n",
      "\n",
      "0: 224x224 vascular_lesion 1.00, pigmented_benign_keratosis 0.00, basal_cell_carcinoma 0.00, melanoma 0.00, dermatofibroma 0.00, 58.6ms\n",
      "Speed: 0.0ms preprocess, 58.6ms inference, 0.3ms postprocess per image at shape (1, 3, 224, 224)\n",
      "\n",
      "0: 224x224 vascular_lesion 1.00, pigmented_benign_keratosis 0.00, basal_cell_carcinoma 0.00, melanoma 0.00, dermatofibroma 0.00, 58.3ms\n",
      "Speed: 0.3ms preprocess, 58.3ms inference, 0.3ms postprocess per image at shape (1, 3, 224, 224)\n",
      "\n",
      "0: 224x224 vascular_lesion 1.00, pigmented_benign_keratosis 0.00, basal_cell_carcinoma 0.00, melanoma 0.00, dermatofibroma 0.00, 58.2ms\n",
      "Speed: 0.0ms preprocess, 58.2ms inference, 0.4ms postprocess per image at shape (1, 3, 224, 224)\n",
      "\n",
      "0: 224x224 vascular_lesion 1.00, pigmented_benign_keratosis 0.00, basal_cell_carcinoma 0.00, melanoma 0.00, dermatofibroma 0.00, 56.9ms\n",
      "Speed: 0.1ms preprocess, 56.9ms inference, 0.3ms postprocess per image at shape (1, 3, 224, 224)\n",
      "\n",
      "0: 224x224 vascular_lesion 1.00, pigmented_benign_keratosis 0.00, basal_cell_carcinoma 0.00, melanoma 0.00, dermatofibroma 0.00, 56.6ms\n",
      "Speed: 0.0ms preprocess, 56.6ms inference, 0.3ms postprocess per image at shape (1, 3, 224, 224)\n",
      "\n",
      "0: 224x224 vascular_lesion 1.00, pigmented_benign_keratosis 0.00, basal_cell_carcinoma 0.00, melanoma 0.00, dermatofibroma 0.00, 58.1ms\n",
      "Speed: 0.0ms preprocess, 58.1ms inference, 0.4ms postprocess per image at shape (1, 3, 224, 224)\n",
      "\n",
      "0: 224x224 vascular_lesion 1.00, pigmented_benign_keratosis 0.00, basal_cell_carcinoma 0.00, melanoma 0.00, dermatofibroma 0.00, 60.0ms\n",
      "Speed: 0.0ms preprocess, 60.0ms inference, 0.3ms postprocess per image at shape (1, 3, 224, 224)\n",
      "\n",
      "0: 224x224 vascular_lesion 1.00, pigmented_benign_keratosis 0.00, basal_cell_carcinoma 0.00, melanoma 0.00, dermatofibroma 0.00, 54.7ms\n",
      "Speed: 0.1ms preprocess, 54.7ms inference, 0.3ms postprocess per image at shape (1, 3, 224, 224)\n",
      "\n",
      "0: 224x224 vascular_lesion 1.00, pigmented_benign_keratosis 0.00, basal_cell_carcinoma 0.00, melanoma 0.00, dermatofibroma 0.00, 59.3ms\n",
      "Speed: 0.0ms preprocess, 59.3ms inference, 0.3ms postprocess per image at shape (1, 3, 224, 224)\n",
      "\n",
      "0: 224x224 vascular_lesion 1.00, pigmented_benign_keratosis 0.00, basal_cell_carcinoma 0.00, melanoma 0.00, dermatofibroma 0.00, 65.2ms\n",
      "Speed: 0.0ms preprocess, 65.2ms inference, 0.3ms postprocess per image at shape (1, 3, 224, 224)\n",
      "\n",
      "0: 224x224 vascular_lesion 1.00, pigmented_benign_keratosis 0.00, basal_cell_carcinoma 0.00, melanoma 0.00, dermatofibroma 0.00, 63.9ms\n",
      "Speed: 0.1ms preprocess, 63.9ms inference, 0.3ms postprocess per image at shape (1, 3, 224, 224)\n",
      "\n",
      "0: 224x224 vascular_lesion 1.00, pigmented_benign_keratosis 0.00, basal_cell_carcinoma 0.00, melanoma 0.00, dermatofibroma 0.00, 64.7ms\n",
      "Speed: 0.0ms preprocess, 64.7ms inference, 0.3ms postprocess per image at shape (1, 3, 224, 224)\n",
      "\n",
      "0: 224x224 vascular_lesion 1.00, pigmented_benign_keratosis 0.00, basal_cell_carcinoma 0.00, melanoma 0.00, dermatofibroma 0.00, 57.5ms\n",
      "Speed: 0.0ms preprocess, 57.5ms inference, 0.3ms postprocess per image at shape (1, 3, 224, 224)\n",
      "\n",
      "0: 224x224 vascular_lesion 1.00, pigmented_benign_keratosis 0.00, basal_cell_carcinoma 0.00, melanoma 0.00, dermatofibroma 0.00, 57.9ms\n",
      "Speed: 0.3ms preprocess, 57.9ms inference, 0.3ms postprocess per image at shape (1, 3, 224, 224)\n",
      "\n",
      "0: 224x224 vascular_lesion 1.00, pigmented_benign_keratosis 0.00, basal_cell_carcinoma 0.00, melanoma 0.00, dermatofibroma 0.00, 61.1ms\n",
      "Speed: 0.0ms preprocess, 61.1ms inference, 0.3ms postprocess per image at shape (1, 3, 224, 224)\n",
      "\n",
      "0: 224x224 vascular_lesion 1.00, pigmented_benign_keratosis 0.00, basal_cell_carcinoma 0.00, melanoma 0.00, dermatofibroma 0.00, 58.3ms\n",
      "Speed: 0.0ms preprocess, 58.3ms inference, 0.3ms postprocess per image at shape (1, 3, 224, 224)\n",
      "\n",
      "0: 224x224 vascular_lesion 1.00, pigmented_benign_keratosis 0.00, basal_cell_carcinoma 0.00, melanoma 0.00, dermatofibroma 0.00, 55.5ms\n",
      "Speed: 0.1ms preprocess, 55.5ms inference, 0.3ms postprocess per image at shape (1, 3, 224, 224)\n",
      "\n",
      "0: 224x224 vascular_lesion 1.00, pigmented_benign_keratosis 0.00, basal_cell_carcinoma 0.00, melanoma 0.00, dermatofibroma 0.00, 58.6ms\n",
      "Speed: 0.1ms preprocess, 58.6ms inference, 0.4ms postprocess per image at shape (1, 3, 224, 224)\n",
      "\n",
      "0: 224x224 vascular_lesion 1.00, pigmented_benign_keratosis 0.00, basal_cell_carcinoma 0.00, melanoma 0.00, dermatofibroma 0.00, 70.4ms\n",
      "Speed: 0.0ms preprocess, 70.4ms inference, 1.5ms postprocess per image at shape (1, 3, 224, 224)\n",
      "\n",
      "0: 224x224 vascular_lesion 1.00, pigmented_benign_keratosis 0.00, basal_cell_carcinoma 0.00, melanoma 0.00, dermatofibroma 0.00, 71.2ms\n",
      "Speed: 0.0ms preprocess, 71.2ms inference, 0.5ms postprocess per image at shape (1, 3, 224, 224)\n",
      "\n",
      "0: 224x224 vascular_lesion 1.00, pigmented_benign_keratosis 0.00, basal_cell_carcinoma 0.00, melanoma 0.00, dermatofibroma 0.00, 69.2ms\n",
      "Speed: 0.0ms preprocess, 69.2ms inference, 0.3ms postprocess per image at shape (1, 3, 224, 224)\n",
      "\n",
      "0: 224x224 vascular_lesion 1.00, pigmented_benign_keratosis 0.00, basal_cell_carcinoma 0.00, melanoma 0.00, dermatofibroma 0.00, 62.8ms\n",
      "Speed: 0.0ms preprocess, 62.8ms inference, 0.4ms postprocess per image at shape (1, 3, 224, 224)\n",
      "\n",
      "0: 224x224 vascular_lesion 1.00, pigmented_benign_keratosis 0.00, basal_cell_carcinoma 0.00, melanoma 0.00, dermatofibroma 0.00, 61.5ms\n",
      "Speed: 0.0ms preprocess, 61.5ms inference, 0.4ms postprocess per image at shape (1, 3, 224, 224)\n",
      "\n",
      "0: 224x224 vascular_lesion 1.00, pigmented_benign_keratosis 0.00, basal_cell_carcinoma 0.00, melanoma 0.00, dermatofibroma 0.00, 58.6ms\n",
      "Speed: 0.1ms preprocess, 58.6ms inference, 0.3ms postprocess per image at shape (1, 3, 224, 224)\n",
      "\n",
      "0: 224x224 vascular_lesion 1.00, pigmented_benign_keratosis 0.00, basal_cell_carcinoma 0.00, melanoma 0.00, dermatofibroma 0.00, 61.0ms\n",
      "Speed: 0.2ms preprocess, 61.0ms inference, 0.5ms postprocess per image at shape (1, 3, 224, 224)\n",
      "\n",
      "0: 224x224 vascular_lesion 1.00, pigmented_benign_keratosis 0.00, basal_cell_carcinoma 0.00, melanoma 0.00, dermatofibroma 0.00, 60.9ms\n",
      "Speed: 0.1ms preprocess, 60.9ms inference, 0.3ms postprocess per image at shape (1, 3, 224, 224)\n",
      "\n",
      "0: 224x224 vascular_lesion 1.00, pigmented_benign_keratosis 0.00, basal_cell_carcinoma 0.00, melanoma 0.00, dermatofibroma 0.00, 71.3ms\n",
      "Speed: 0.0ms preprocess, 71.3ms inference, 0.3ms postprocess per image at shape (1, 3, 224, 224)\n",
      "\n",
      "0: 224x224 vascular_lesion 1.00, pigmented_benign_keratosis 0.00, basal_cell_carcinoma 0.00, melanoma 0.00, dermatofibroma 0.00, 69.9ms\n",
      "Speed: 0.1ms preprocess, 69.9ms inference, 0.3ms postprocess per image at shape (1, 3, 224, 224)\n",
      "\n",
      "0: 224x224 vascular_lesion 1.00, pigmented_benign_keratosis 0.00, basal_cell_carcinoma 0.00, melanoma 0.00, dermatofibroma 0.00, 59.4ms\n",
      "Speed: 0.0ms preprocess, 59.4ms inference, 0.3ms postprocess per image at shape (1, 3, 224, 224)\n",
      "\n",
      "0: 224x224 vascular_lesion 1.00, pigmented_benign_keratosis 0.00, basal_cell_carcinoma 0.00, melanoma 0.00, dermatofibroma 0.00, 74.8ms\n",
      "Speed: 0.0ms preprocess, 74.8ms inference, 0.3ms postprocess per image at shape (1, 3, 224, 224)\n",
      "\n",
      "0: 224x224 vascular_lesion 1.00, pigmented_benign_keratosis 0.00, basal_cell_carcinoma 0.00, melanoma 0.00, dermatofibroma 0.00, 58.4ms\n"
     ]
    },
    {
     "name": "stdout",
     "output_type": "stream",
     "text": [
      "Speed: 0.0ms preprocess, 58.4ms inference, 0.3ms postprocess per image at shape (1, 3, 224, 224)\n",
      "\n",
      "0: 224x224 vascular_lesion 1.00, pigmented_benign_keratosis 0.00, basal_cell_carcinoma 0.00, melanoma 0.00, dermatofibroma 0.00, 60.1ms\n",
      "Speed: 0.0ms preprocess, 60.1ms inference, 0.3ms postprocess per image at shape (1, 3, 224, 224)\n",
      "\n",
      "0: 224x224 vascular_lesion 1.00, pigmented_benign_keratosis 0.00, basal_cell_carcinoma 0.00, melanoma 0.00, dermatofibroma 0.00, 59.0ms\n",
      "Speed: 0.3ms preprocess, 59.0ms inference, 0.4ms postprocess per image at shape (1, 3, 224, 224)\n",
      "\n",
      "0: 224x224 vascular_lesion 1.00, pigmented_benign_keratosis 0.00, basal_cell_carcinoma 0.00, melanoma 0.00, dermatofibroma 0.00, 58.5ms\n",
      "Speed: 0.0ms preprocess, 58.5ms inference, 0.3ms postprocess per image at shape (1, 3, 224, 224)\n",
      "\n",
      "0: 224x224 vascular_lesion 1.00, pigmented_benign_keratosis 0.00, basal_cell_carcinoma 0.00, melanoma 0.00, dermatofibroma 0.00, 58.8ms\n",
      "Speed: 0.0ms preprocess, 58.8ms inference, 0.4ms postprocess per image at shape (1, 3, 224, 224)\n",
      "\n",
      "0: 224x224 vascular_lesion 1.00, pigmented_benign_keratosis 0.00, basal_cell_carcinoma 0.00, melanoma 0.00, dermatofibroma 0.00, 64.6ms\n",
      "Speed: 0.0ms preprocess, 64.6ms inference, 0.4ms postprocess per image at shape (1, 3, 224, 224)\n",
      "\n",
      "0: 224x224 vascular_lesion 1.00, pigmented_benign_keratosis 0.00, basal_cell_carcinoma 0.00, melanoma 0.00, dermatofibroma 0.00, 69.1ms\n",
      "Speed: 0.0ms preprocess, 69.1ms inference, 0.4ms postprocess per image at shape (1, 3, 224, 224)\n",
      "\n",
      "0: 224x224 vascular_lesion 1.00, pigmented_benign_keratosis 0.00, basal_cell_carcinoma 0.00, melanoma 0.00, dermatofibroma 0.00, 90.4ms\n",
      "Speed: 0.0ms preprocess, 90.4ms inference, 0.5ms postprocess per image at shape (1, 3, 224, 224)\n",
      "\n",
      "0: 224x224 vascular_lesion 1.00, pigmented_benign_keratosis 0.00, basal_cell_carcinoma 0.00, melanoma 0.00, dermatofibroma 0.00, 73.5ms\n",
      "Speed: 0.0ms preprocess, 73.5ms inference, 0.4ms postprocess per image at shape (1, 3, 224, 224)\n",
      "\n",
      "0: 224x224 vascular_lesion 1.00, pigmented_benign_keratosis 0.00, basal_cell_carcinoma 0.00, melanoma 0.00, dermatofibroma 0.00, 64.7ms\n",
      "Speed: 0.1ms preprocess, 64.7ms inference, 0.3ms postprocess per image at shape (1, 3, 224, 224)\n",
      "\n",
      "0: 224x224 vascular_lesion 1.00, pigmented_benign_keratosis 0.00, basal_cell_carcinoma 0.00, melanoma 0.00, dermatofibroma 0.00, 63.0ms\n",
      "Speed: 0.1ms preprocess, 63.0ms inference, 0.3ms postprocess per image at shape (1, 3, 224, 224)\n",
      "\n",
      "0: 224x224 vascular_lesion 1.00, pigmented_benign_keratosis 0.00, basal_cell_carcinoma 0.00, melanoma 0.00, dermatofibroma 0.00, 68.1ms\n",
      "Speed: 0.0ms preprocess, 68.1ms inference, 0.3ms postprocess per image at shape (1, 3, 224, 224)\n",
      "\n",
      "0: 224x224 vascular_lesion 1.00, pigmented_benign_keratosis 0.00, basal_cell_carcinoma 0.00, melanoma 0.00, dermatofibroma 0.00, 72.3ms\n",
      "Speed: 0.0ms preprocess, 72.3ms inference, 0.3ms postprocess per image at shape (1, 3, 224, 224)\n",
      "\n",
      "0: 224x224 vascular_lesion 1.00, pigmented_benign_keratosis 0.00, basal_cell_carcinoma 0.00, melanoma 0.00, dermatofibroma 0.00, 64.2ms\n",
      "Speed: 0.0ms preprocess, 64.2ms inference, 0.3ms postprocess per image at shape (1, 3, 224, 224)\n",
      "\n",
      "0: 224x224 vascular_lesion 1.00, pigmented_benign_keratosis 0.00, basal_cell_carcinoma 0.00, melanoma 0.00, dermatofibroma 0.00, 61.4ms\n",
      "Speed: 0.1ms preprocess, 61.4ms inference, 0.3ms postprocess per image at shape (1, 3, 224, 224)\n",
      "\n",
      "0: 224x224 vascular_lesion 1.00, pigmented_benign_keratosis 0.00, basal_cell_carcinoma 0.00, melanoma 0.00, dermatofibroma 0.00, 58.2ms\n",
      "Speed: 0.1ms preprocess, 58.2ms inference, 0.3ms postprocess per image at shape (1, 3, 224, 224)\n",
      "\n",
      "0: 224x224 vascular_lesion 1.00, pigmented_benign_keratosis 0.00, basal_cell_carcinoma 0.00, melanoma 0.00, dermatofibroma 0.00, 63.7ms\n",
      "Speed: 0.0ms preprocess, 63.7ms inference, 0.3ms postprocess per image at shape (1, 3, 224, 224)\n",
      "\n",
      "0: 224x224 vascular_lesion 1.00, pigmented_benign_keratosis 0.00, basal_cell_carcinoma 0.00, melanoma 0.00, dermatofibroma 0.00, 59.7ms\n",
      "Speed: 0.1ms preprocess, 59.7ms inference, 0.3ms postprocess per image at shape (1, 3, 224, 224)\n",
      "\n",
      "0: 224x224 vascular_lesion 1.00, pigmented_benign_keratosis 0.00, basal_cell_carcinoma 0.00, melanoma 0.00, dermatofibroma 0.00, 60.1ms\n",
      "Speed: 0.1ms preprocess, 60.1ms inference, 0.3ms postprocess per image at shape (1, 3, 224, 224)\n",
      "\n",
      "0: 224x224 vascular_lesion 1.00, pigmented_benign_keratosis 0.00, basal_cell_carcinoma 0.00, melanoma 0.00, dermatofibroma 0.00, 69.0ms\n",
      "Speed: 0.1ms preprocess, 69.0ms inference, 0.3ms postprocess per image at shape (1, 3, 224, 224)\n",
      "\n",
      "0: 224x224 vascular_lesion 1.00, pigmented_benign_keratosis 0.00, basal_cell_carcinoma 0.00, melanoma 0.00, dermatofibroma 0.00, 63.4ms\n",
      "Speed: 0.1ms preprocess, 63.4ms inference, 0.3ms postprocess per image at shape (1, 3, 224, 224)\n",
      "\n",
      "0: 224x224 vascular_lesion 1.00, pigmented_benign_keratosis 0.00, basal_cell_carcinoma 0.00, melanoma 0.00, dermatofibroma 0.00, 62.8ms\n",
      "Speed: 0.2ms preprocess, 62.8ms inference, 0.3ms postprocess per image at shape (1, 3, 224, 224)\n",
      "\n",
      "0: 224x224 vascular_lesion 1.00, pigmented_benign_keratosis 0.00, basal_cell_carcinoma 0.00, melanoma 0.00, dermatofibroma 0.00, 58.1ms\n",
      "Speed: 0.0ms preprocess, 58.1ms inference, 0.3ms postprocess per image at shape (1, 3, 224, 224)\n",
      "\n",
      "0: 224x224 vascular_lesion 1.00, pigmented_benign_keratosis 0.00, basal_cell_carcinoma 0.00, melanoma 0.00, dermatofibroma 0.00, 56.9ms\n",
      "Speed: 0.0ms preprocess, 56.9ms inference, 0.4ms postprocess per image at shape (1, 3, 224, 224)\n",
      "\n",
      "0: 224x224 vascular_lesion 1.00, pigmented_benign_keratosis 0.00, basal_cell_carcinoma 0.00, melanoma 0.00, dermatofibroma 0.00, 58.7ms\n",
      "Speed: 0.0ms preprocess, 58.7ms inference, 0.3ms postprocess per image at shape (1, 3, 224, 224)\n",
      "\n",
      "0: 224x224 vascular_lesion 1.00, pigmented_benign_keratosis 0.00, basal_cell_carcinoma 0.00, melanoma 0.00, dermatofibroma 0.00, 56.5ms\n",
      "Speed: 0.0ms preprocess, 56.5ms inference, 0.3ms postprocess per image at shape (1, 3, 224, 224)\n",
      "\n",
      "0: 224x224 vascular_lesion 1.00, pigmented_benign_keratosis 0.00, basal_cell_carcinoma 0.00, melanoma 0.00, dermatofibroma 0.00, 62.1ms\n",
      "Speed: 0.0ms preprocess, 62.1ms inference, 0.3ms postprocess per image at shape (1, 3, 224, 224)\n",
      "\n",
      "0: 224x224 vascular_lesion 1.00, pigmented_benign_keratosis 0.00, basal_cell_carcinoma 0.00, melanoma 0.00, dermatofibroma 0.00, 59.1ms\n",
      "Speed: 0.0ms preprocess, 59.1ms inference, 0.3ms postprocess per image at shape (1, 3, 224, 224)\n",
      "\n",
      "0: 224x224 vascular_lesion 1.00, pigmented_benign_keratosis 0.00, basal_cell_carcinoma 0.00, melanoma 0.00, dermatofibroma 0.00, 71.7ms\n",
      "Speed: 0.0ms preprocess, 71.7ms inference, 0.3ms postprocess per image at shape (1, 3, 224, 224)\n",
      "\n",
      "0: 224x224 vascular_lesion 1.00, pigmented_benign_keratosis 0.00, basal_cell_carcinoma 0.00, melanoma 0.00, dermatofibroma 0.00, 60.5ms\n",
      "Speed: 0.2ms preprocess, 60.5ms inference, 0.3ms postprocess per image at shape (1, 3, 224, 224)\n",
      "\n",
      "0: 224x224 vascular_lesion 1.00, pigmented_benign_keratosis 0.00, basal_cell_carcinoma 0.00, melanoma 0.00, dermatofibroma 0.00, 63.0ms\n",
      "Speed: 0.0ms preprocess, 63.0ms inference, 0.7ms postprocess per image at shape (1, 3, 224, 224)\n",
      "\n",
      "0: 224x224 vascular_lesion 1.00, pigmented_benign_keratosis 0.00, basal_cell_carcinoma 0.00, melanoma 0.00, dermatofibroma 0.00, 56.1ms\n",
      "Speed: 0.0ms preprocess, 56.1ms inference, 0.3ms postprocess per image at shape (1, 3, 224, 224)\n",
      "\n",
      "0: 224x224 vascular_lesion 1.00, pigmented_benign_keratosis 0.00, basal_cell_carcinoma 0.00, melanoma 0.00, dermatofibroma 0.00, 60.6ms\n",
      "Speed: 0.0ms preprocess, 60.6ms inference, 0.5ms postprocess per image at shape (1, 3, 224, 224)\n",
      "\n",
      "0: 224x224 vascular_lesion 1.00, pigmented_benign_keratosis 0.00, basal_cell_carcinoma 0.00, melanoma 0.00, dermatofibroma 0.00, 58.3ms\n",
      "Speed: 0.0ms preprocess, 58.3ms inference, 0.3ms postprocess per image at shape (1, 3, 224, 224)\n",
      "\n",
      "0: 224x224 vascular_lesion 1.00, pigmented_benign_keratosis 0.00, basal_cell_carcinoma 0.00, melanoma 0.00, dermatofibroma 0.00, 61.7ms\n",
      "Speed: 0.0ms preprocess, 61.7ms inference, 0.3ms postprocess per image at shape (1, 3, 224, 224)\n",
      "\n",
      "0: 224x224 vascular_lesion 1.00, pigmented_benign_keratosis 0.00, basal_cell_carcinoma 0.00, melanoma 0.00, dermatofibroma 0.00, 63.3ms\n",
      "Speed: 0.0ms preprocess, 63.3ms inference, 0.6ms postprocess per image at shape (1, 3, 224, 224)\n"
     ]
    },
    {
     "name": "stdout",
     "output_type": "stream",
     "text": [
      "\n",
      "0: 224x224 vascular_lesion 1.00, pigmented_benign_keratosis 0.00, basal_cell_carcinoma 0.00, melanoma 0.00, dermatofibroma 0.00, 57.7ms\n",
      "Speed: 0.0ms preprocess, 57.7ms inference, 0.3ms postprocess per image at shape (1, 3, 224, 224)\n",
      "\n",
      "0: 224x224 vascular_lesion 1.00, pigmented_benign_keratosis 0.00, basal_cell_carcinoma 0.00, melanoma 0.00, dermatofibroma 0.00, 58.4ms\n",
      "Speed: 0.1ms preprocess, 58.4ms inference, 0.3ms postprocess per image at shape (1, 3, 224, 224)\n",
      "\n",
      "0: 224x224 vascular_lesion 1.00, pigmented_benign_keratosis 0.00, basal_cell_carcinoma 0.00, melanoma 0.00, dermatofibroma 0.00, 57.2ms\n",
      "Speed: 0.0ms preprocess, 57.2ms inference, 0.3ms postprocess per image at shape (1, 3, 224, 224)\n",
      "\n",
      "0: 224x224 vascular_lesion 1.00, pigmented_benign_keratosis 0.00, basal_cell_carcinoma 0.00, melanoma 0.00, dermatofibroma 0.00, 59.9ms\n",
      "Speed: 0.2ms preprocess, 59.9ms inference, 0.3ms postprocess per image at shape (1, 3, 224, 224)\n",
      "模型复杂度指标计算完成，已保存到 model_complexity_yolo.xlsx\n"
     ]
    }
   ],
   "source": [
    "import torch\n",
    "import time\n",
    "import pandas as pd\n",
    "from ultralytics import YOLO\n",
    "from thop import profile\n",
    "from torchvision import transforms\n",
    "from PIL import Image\n",
    "import os\n",
    "\n",
    "model_path = './skin_cls_yolo/yolo_finetune/yolov8l_cls_exp/weights/best.pt'\n",
    "image_path = './datasets/Test/vascular_lesion/ISIC_0024370.jpg'  # An arbitrary image is used to test the speed of inference\n",
    "save_dir = './skin_cls_yolo/yolo_finetune/yolov8l_cls_exp/results'\n",
    "os.makedirs(save_dir, exist_ok=True)\n",
    "\n",
    "device = torch.device(\"cuda\" if torch.cuda.is_available() else \"cpu\")\n",
    "\n",
    "model = YOLO(model_path)\n",
    "model.fuse()\n",
    "model.eval()\n",
    "\n",
    "input_size = (3, 224, 224)\n",
    "dummy_input = torch.randn(1, *input_size).to(device)\n",
    "\n",
    "# Params & FLOPs \n",
    "macs, params = profile(model.model, inputs=(dummy_input,), verbose=False)\n",
    "flops = macs * 2  # 1 MAC ≈ 2 FLOPs\n",
    "mparams = params / 1e6\n",
    "flops_g = flops / 1e9\n",
    "\n",
    "#  FPS \n",
    "transform = transforms.Compose([\n",
    "    transforms.Resize((224, 224)),\n",
    "    transforms.ToTensor(),\n",
    "])\n",
    "\n",
    "image = Image.open(image_path).convert('RGB')\n",
    "input_tensor = transform(image).unsqueeze(0).to(device)\n",
    "\n",
    "# preheat\n",
    "for _ in range(10):\n",
    "    _ = model(input_tensor)\n",
    "\n",
    "# Velocity\n",
    "n_runs = 100\n",
    "start = time.time()\n",
    "with torch.no_grad():\n",
    "    for _ in range(n_runs):\n",
    "        _ = model(input_tensor)\n",
    "end = time.time()\n",
    "\n",
    "fps = n_runs / (end - start)\n",
    "\n",
    "df = pd.DataFrame([{\n",
    "    \"Model\": os.path.basename(model_path),\n",
    "    \"Params(M)\": round(mparams, 2),\n",
    "    \"FLOPs(G)\": round(flops_g, 2),\n",
    "    \"FPS\": round(fps, 2)\n",
    "}])\n",
    "df.to_excel(os.path.join(save_dir, \"model_complexity_yolo.xlsx\"), index=False)\n",
    "\n",
    "print(\"The model complexity metric has been calculated and saved to model_complexity_yolo.xlsx\")\n"
   ]
  },
  {
   "cell_type": "code",
   "execution_count": null,
   "id": "ef2b8cab",
   "metadata": {},
   "outputs": [],
   "source": []
  }
 ],
 "metadata": {
  "kernelspec": {
   "display_name": "Python (py310)",
   "language": "python",
   "name": "py310"
  },
  "language_info": {
   "codemirror_mode": {
    "name": "ipython",
    "version": 3
   },
   "file_extension": ".py",
   "mimetype": "text/x-python",
   "name": "python",
   "nbconvert_exporter": "python",
   "pygments_lexer": "ipython3",
   "version": "3.10.16"
  }
 },
 "nbformat": 4,
 "nbformat_minor": 5
}
