{
 "cells": [
  {
   "cell_type": "code",
   "execution_count": 27,
   "id": "883a1763",
   "metadata": {},
   "outputs": [
    {
     "name": "stdout",
     "output_type": "stream",
     "text": [
      "New https://pypi.org/project/ultralytics/8.3.152 available  Update with 'pip install -U ultralytics'\n",
      "Ultralytics 8.3.151  Python-3.10.16 torch-2.7.1+cpu CPU (11th Gen Intel Core(TM) i5-11260H 2.60GHz)\n",
      "\u001b[34m\u001b[1mengine\\trainer: \u001b[0magnostic_nms=False, amp=True, augment=False, auto_augment=randaugment, batch=32, bgr=0.0, box=7.5, cache=False, cfg=None, classes=None, close_mosaic=10, cls=0.5, conf=None, copy_paste=0.0, copy_paste_mode=flip, cos_lr=False, cutmix=0.0, data=./datasets/, degrees=0.0, deterministic=True, device=cpu, dfl=1.5, dnn=False, dropout=0.0, dynamic=False, embed=None, epochs=10, erasing=0.4, exist_ok=True, fliplr=0.5, flipud=0.0, format=torchscript, fraction=1.0, freeze=None, half=False, hsv_h=0.015, hsv_s=0.7, hsv_v=0.4, imgsz=224, int8=False, iou=0.7, keras=False, kobj=1.0, line_width=None, lr0=0.01, lrf=0.01, mask_ratio=4, max_det=300, mixup=0.0, mode=train, model=yolov8l-cls.pt, momentum=0.937, mosaic=1.0, multi_scale=False, name=yolov8l_cls_exp, nbs=64, nms=False, opset=None, optimize=False, optimizer=auto, overlap_mask=True, patience=100, perspective=0.0, plots=True, pose=12.0, pretrained=True, profile=False, project=skin_cls_yolo, rect=False, resume=False, retina_masks=False, save=True, save_conf=False, save_crop=False, save_dir=skin_cls_yolo\\yolov8l_cls_exp, save_frames=False, save_json=False, save_period=-1, save_txt=False, scale=0.5, seed=0, shear=0.0, show=False, show_boxes=True, show_conf=True, show_labels=True, simplify=True, single_cls=False, source=None, split=val, stream_buffer=False, task=classify, time=None, tracker=botsort.yaml, translate=0.1, val=True, verbose=True, vid_stride=1, visualize=False, warmup_bias_lr=0.1, warmup_epochs=3.0, warmup_momentum=0.8, weight_decay=0.0005, workers=4, workspace=None\n",
      "\u001b[34m\u001b[1mtrain:\u001b[0m F:\\JupyterProject\\Cancer Classify\\datasets\\train... found 7786 images in 9 classes  \n",
      "\u001b[34m\u001b[1mval:\u001b[0m None...\n",
      "\u001b[34m\u001b[1mtest:\u001b[0m F:\\JupyterProject\\Cancer Classify\\datasets\\test... found 118 images in 9 classes  \n",
      "Overriding model.yaml nc=1000 with nc=9\n",
      "\n",
      "                   from  n    params  module                                       arguments                     \n",
      "  0                  -1  1      1856  ultralytics.nn.modules.conv.Conv             [3, 64, 3, 2]                 \n",
      "  1                  -1  1     73984  ultralytics.nn.modules.conv.Conv             [64, 128, 3, 2]               \n",
      "  2                  -1  3    279808  ultralytics.nn.modules.block.C2f             [128, 128, 3, True]           \n",
      "  3                  -1  1    295424  ultralytics.nn.modules.conv.Conv             [128, 256, 3, 2]              \n",
      "  4                  -1  6   2101248  ultralytics.nn.modules.block.C2f             [256, 256, 6, True]           \n",
      "  5                  -1  1   1180672  ultralytics.nn.modules.conv.Conv             [256, 512, 3, 2]              \n",
      "  6                  -1  6   8396800  ultralytics.nn.modules.block.C2f             [512, 512, 6, True]           \n",
      "  7                  -1  1   4720640  ultralytics.nn.modules.conv.Conv             [512, 1024, 3, 2]             \n",
      "  8                  -1  3  17836032  ultralytics.nn.modules.block.C2f             [1024, 1024, 3, True]         \n",
      "  9                  -1  1   1324809  ultralytics.nn.modules.head.Classify         [1024, 9]                     \n",
      "YOLOv8l-cls summary: 104 layers, 36,211,273 parameters, 36,211,273 gradients, 99.1 GFLOPs\n",
      "Transferred 300/302 items from pretrained weights\n",
      "\u001b[34m\u001b[1mtrain: \u001b[0mFast image access  (ping: 0.10.0 ms, read: 455.1440.5 MB/s, size: 129.7 KB)\n"
     ]
    },
    {
     "name": "stderr",
     "output_type": "stream",
     "text": [
      "\u001b[34m\u001b[1mtrain: \u001b[0mScanning F:\\JupyterProject\\Cancer Classify\\datasets\\train... 7786 images, 0 corrupt: 100%|██████████| 7786/7786 \u001b[0m"
     ]
    },
    {
     "name": "stdout",
     "output_type": "stream",
     "text": [
      "\u001b[34m\u001b[1mval: \u001b[0mFast image access  (ping: 0.10.0 ms, read: 1190.4676.7 MB/s, size: 193.6 KB)\n"
     ]
    },
    {
     "name": "stderr",
     "output_type": "stream",
     "text": [
      "\n",
      "\u001b[34m\u001b[1mval: \u001b[0mScanning F:\\JupyterProject\\Cancer Classify\\datasets\\test... 118 images, 0 corrupt: 100%|██████████| 118/118 [00:00\u001b[0m\n"
     ]
    },
    {
     "name": "stdout",
     "output_type": "stream",
     "text": [
      "\u001b[34m\u001b[1moptimizer:\u001b[0m 'optimizer=auto' found, ignoring 'lr0=0.01' and 'momentum=0.937' and determining best 'optimizer', 'lr0' and 'momentum' automatically... \n",
      "\u001b[34m\u001b[1moptimizer:\u001b[0m AdamW(lr=0.000769, momentum=0.9) with parameter groups 50 weight(decay=0.0), 51 weight(decay=0.0005), 51 bias(decay=0.0)\n",
      "Image sizes 224 train, 224 val\n",
      "Using 0 dataloader workers\n",
      "Logging results to \u001b[1mskin_cls_yolo\\yolov8l_cls_exp\u001b[0m\n",
      "Starting training for 10 epochs...\n",
      "\n",
      "      Epoch    GPU_mem       loss  Instances       Size\n"
     ]
    },
    {
     "name": "stderr",
     "output_type": "stream",
     "text": [
      "       1/10         0G      1.625         10        224: 100%|██████████| 244/244 [22:13<00:00,  5.46s/it]\n",
      "               classes   top1_acc   top5_acc: 100%|██████████| 2/2 [00:11<00:00,  5.67s/it]"
     ]
    },
    {
     "name": "stdout",
     "output_type": "stream",
     "text": [
      "                   all        0.5      0.924\n"
     ]
    },
    {
     "name": "stderr",
     "output_type": "stream",
     "text": [
      "\n"
     ]
    },
    {
     "name": "stdout",
     "output_type": "stream",
     "text": [
      "\n",
      "      Epoch    GPU_mem       loss  Instances       Size\n"
     ]
    },
    {
     "name": "stderr",
     "output_type": "stream",
     "text": [
      "       2/10         0G     0.9803         10        224: 100%|██████████| 244/244 [21:36<00:00,  5.31s/it]\n",
      "               classes   top1_acc   top5_acc: 100%|██████████| 2/2 [00:11<00:00,  5.54s/it]"
     ]
    },
    {
     "name": "stdout",
     "output_type": "stream",
     "text": [
      "                   all      0.534      0.941\n"
     ]
    },
    {
     "name": "stderr",
     "output_type": "stream",
     "text": [
      "\n"
     ]
    },
    {
     "name": "stdout",
     "output_type": "stream",
     "text": [
      "\n",
      "      Epoch    GPU_mem       loss  Instances       Size\n"
     ]
    },
    {
     "name": "stderr",
     "output_type": "stream",
     "text": [
      "       3/10         0G     0.8619         10        224: 100%|██████████| 244/244 [21:23<00:00,  5.26s/it]\n",
      "               classes   top1_acc   top5_acc: 100%|██████████| 2/2 [00:11<00:00,  5.58s/it]"
     ]
    },
    {
     "name": "stdout",
     "output_type": "stream",
     "text": [
      "                   all      0.508      0.898\n"
     ]
    },
    {
     "name": "stderr",
     "output_type": "stream",
     "text": [
      "\n"
     ]
    },
    {
     "name": "stdout",
     "output_type": "stream",
     "text": [
      "\n",
      "      Epoch    GPU_mem       loss  Instances       Size\n"
     ]
    },
    {
     "name": "stderr",
     "output_type": "stream",
     "text": [
      "       4/10         0G     0.7486         10        224: 100%|██████████| 244/244 [21:25<00:00,  5.27s/it]\n",
      "               classes   top1_acc   top5_acc: 100%|██████████| 2/2 [00:10<00:00,  5.48s/it]"
     ]
    },
    {
     "name": "stdout",
     "output_type": "stream",
     "text": [
      "                   all      0.627      0.983\n"
     ]
    },
    {
     "name": "stderr",
     "output_type": "stream",
     "text": [
      "\n"
     ]
    },
    {
     "name": "stdout",
     "output_type": "stream",
     "text": [
      "\n",
      "      Epoch    GPU_mem       loss  Instances       Size\n"
     ]
    },
    {
     "name": "stderr",
     "output_type": "stream",
     "text": [
      "       5/10         0G     0.6009         10        224: 100%|██████████| 244/244 [21:24<00:00,  5.27s/it]\n",
      "               classes   top1_acc   top5_acc: 100%|██████████| 2/2 [00:10<00:00,  5.46s/it]"
     ]
    },
    {
     "name": "stdout",
     "output_type": "stream",
     "text": [
      "                   all      0.568      0.958\n"
     ]
    },
    {
     "name": "stderr",
     "output_type": "stream",
     "text": [
      "\n"
     ]
    },
    {
     "name": "stdout",
     "output_type": "stream",
     "text": [
      "\n",
      "      Epoch    GPU_mem       loss  Instances       Size\n"
     ]
    },
    {
     "name": "stderr",
     "output_type": "stream",
     "text": [
      "       6/10         0G     0.4932         10        224: 100%|██████████| 244/244 [21:21<00:00,  5.25s/it]\n",
      "               classes   top1_acc   top5_acc: 100%|██████████| 2/2 [00:11<00:00,  5.61s/it]"
     ]
    },
    {
     "name": "stdout",
     "output_type": "stream",
     "text": [
      "                   all      0.636      0.983\n"
     ]
    },
    {
     "name": "stderr",
     "output_type": "stream",
     "text": [
      "\n"
     ]
    },
    {
     "name": "stdout",
     "output_type": "stream",
     "text": [
      "\n",
      "      Epoch    GPU_mem       loss  Instances       Size\n"
     ]
    },
    {
     "name": "stderr",
     "output_type": "stream",
     "text": [
      "       7/10         0G     0.4124         10        224: 100%|██████████| 244/244 [21:21<00:00,  5.25s/it]\n",
      "               classes   top1_acc   top5_acc: 100%|██████████| 2/2 [00:10<00:00,  5.50s/it]"
     ]
    },
    {
     "name": "stdout",
     "output_type": "stream",
     "text": [
      "                   all      0.619      0.975\n"
     ]
    },
    {
     "name": "stderr",
     "output_type": "stream",
     "text": [
      "\n"
     ]
    },
    {
     "name": "stdout",
     "output_type": "stream",
     "text": [
      "\n",
      "      Epoch    GPU_mem       loss  Instances       Size\n"
     ]
    },
    {
     "name": "stderr",
     "output_type": "stream",
     "text": [
      "       8/10         0G     0.3425         10        224: 100%|██████████| 244/244 [21:24<00:00,  5.26s/it]\n",
      "               classes   top1_acc   top5_acc: 100%|██████████| 2/2 [00:11<00:00,  5.53s/it]"
     ]
    },
    {
     "name": "stdout",
     "output_type": "stream",
     "text": [
      "                   all      0.636      0.966\n"
     ]
    },
    {
     "name": "stderr",
     "output_type": "stream",
     "text": [
      "\n"
     ]
    },
    {
     "name": "stdout",
     "output_type": "stream",
     "text": [
      "\n",
      "      Epoch    GPU_mem       loss  Instances       Size\n"
     ]
    },
    {
     "name": "stderr",
     "output_type": "stream",
     "text": [
      "       9/10         0G      0.291         10        224: 100%|██████████| 244/244 [21:30<00:00,  5.29s/it]\n",
      "               classes   top1_acc   top5_acc: 100%|██████████| 2/2 [00:11<00:00,  5.56s/it]"
     ]
    },
    {
     "name": "stdout",
     "output_type": "stream",
     "text": [
      "                   all      0.593      0.975\n"
     ]
    },
    {
     "name": "stderr",
     "output_type": "stream",
     "text": [
      "\n"
     ]
    },
    {
     "name": "stdout",
     "output_type": "stream",
     "text": [
      "\n",
      "      Epoch    GPU_mem       loss  Instances       Size\n"
     ]
    },
    {
     "name": "stderr",
     "output_type": "stream",
     "text": [
      "      10/10         0G     0.2684         10        224: 100%|██████████| 244/244 [21:25<00:00,  5.27s/it]\n",
      "               classes   top1_acc   top5_acc: 100%|██████████| 2/2 [00:10<00:00,  5.49s/it]"
     ]
    },
    {
     "name": "stdout",
     "output_type": "stream",
     "text": [
      "                   all      0.619      0.975\n"
     ]
    },
    {
     "name": "stderr",
     "output_type": "stream",
     "text": [
      "\n"
     ]
    },
    {
     "name": "stdout",
     "output_type": "stream",
     "text": [
      "\n",
      "10 epochs completed in 3.620 hours.\n",
      "Optimizer stripped from skin_cls_yolo\\yolov8l_cls_exp\\weights\\last.pt, 72.6MB\n",
      "Optimizer stripped from skin_cls_yolo\\yolov8l_cls_exp\\weights\\best.pt, 72.6MB\n",
      "\n",
      "Validating skin_cls_yolo\\yolov8l_cls_exp\\weights\\best.pt...\n",
      "Ultralytics 8.3.151  Python-3.10.16 torch-2.7.1+cpu CPU (11th Gen Intel Core(TM) i5-11260H 2.60GHz)\n",
      "YOLOv8l-cls summary (fused): 54 layers, 36,196,105 parameters, 0 gradients, 98.7 GFLOPs\n",
      "WARNING Dataset 'split=val' not found, using 'split=test' instead.\n",
      "\u001b[34m\u001b[1mtrain:\u001b[0m F:\\JupyterProject\\Cancer Classify\\datasets\\train... found 7786 images in 9 classes  \n",
      "\u001b[34m\u001b[1mval:\u001b[0m F:\\JupyterProject\\Cancer Classify\\datasets\\test... found 118 images in 9 classes  \n",
      "\u001b[34m\u001b[1mtest:\u001b[0m F:\\JupyterProject\\Cancer Classify\\datasets\\test... found 118 images in 9 classes  \n"
     ]
    },
    {
     "name": "stderr",
     "output_type": "stream",
     "text": [
      "               classes   top1_acc   top5_acc: 100%|██████████| 2/2 [00:10<00:00,  5.43s/it]\n"
     ]
    },
    {
     "name": "stdout",
     "output_type": "stream",
     "text": [
      "                   all      0.636      0.983\n",
      "Speed: 0.0ms preprocess, 44.9ms inference, 0.0ms loss, 0.0ms postprocess per image\n",
      "Results saved to \u001b[1mskin_cls_yolo\\yolov8l_cls_exp\u001b[0m\n"
     ]
    }
   ],
   "source": [
    "from ultralytics import YOLO\n",
    "import os\n",
    "\n",
    "\n",
    "model = YOLO(\"yolov8l-cls.pt\")  # yolov8s-cls.pt, yolov8m-cls.pt, yolov8l-cls.pt, yolov11...\n",
    "\n",
    "\n",
    "\n",
    "results = model.train(\n",
    "    data=\"./datasets/\",  \n",
    "    epochs=10,                     # Training rounds\n",
    "    imgsz=224,                     # Enter the image size, default is 224x224\n",
    "    device='cpu',                  # Training device: 0 = GPU 0, 'cpu' = CPU used\n",
    "    workers=4,                     # Number of threads for data loading\n",
    "    batch=32,                      # Number of images per batch\n",
    "    project=\"skin_cls_yolo\",       # Save the project name\n",
    "    name=\"yolov8l_cls_exp\",        # Name of the subdirectory of the current experiment\n",
    "    exist_ok=True                  # If the directory exists, continue instead of reporting an error\n",
    ")\n"
   ]
  },
  {
   "cell_type": "code",
   "execution_count": 25,
   "id": "8f67af1d",
   "metadata": {},
   "outputs": [
    {
     "name": "stdout",
     "output_type": "stream",
     "text": [
      "YOLO11n-cls summary: 86 layers, 2,812,104 parameters, 2,812,104 gradients, 4.3 GFLOPs\n",
      "Ultralytics 8.3.151  Python-3.10.16 torch-2.7.1+cpu CPU (11th Gen Intel Core(TM) i5-11260H 2.60GHz)\n",
      "\u001b[34m\u001b[1mengine\\trainer: \u001b[0magnostic_nms=False, amp=True, augment=False, auto_augment=randaugment, batch=32, bgr=0.0, box=7.5, cache=False, cfg=None, classes=None, close_mosaic=10, cls=0.5, conf=None, copy_paste=0.0, copy_paste_mode=flip, cos_lr=False, cutmix=0.0, data=./datasets/, degrees=0.0, deterministic=True, device=cpu, dfl=1.5, dnn=False, dropout=0.0, dynamic=False, embed=None, epochs=30, erasing=0.4, exist_ok=True, fliplr=0.5, flipud=0.0, format=torchscript, fraction=1.0, freeze=None, half=False, hsv_h=0.015, hsv_s=0.7, hsv_v=0.4, imgsz=224, int8=False, iou=0.7, keras=False, kobj=1.0, line_width=None, lr0=0.01, lrf=0.01, mask_ratio=4, max_det=300, mixup=0.0, mode=train, model=yolo11n-cls.yaml, momentum=0.937, mosaic=1.0, multi_scale=False, name=yolov11n_cls_from_scratch, nbs=64, nms=False, opset=None, optimize=False, optimizer=auto, overlap_mask=True, patience=100, perspective=0.0, plots=True, pose=12.0, pretrained=True, profile=False, project=skin_cls_yolo, rect=False, resume=False, retina_masks=False, save=True, save_conf=False, save_crop=False, save_dir=skin_cls_yolo\\yolov11n_cls_from_scratch, save_frames=False, save_json=False, save_period=-1, save_txt=False, scale=0.5, seed=0, shear=0.0, show=False, show_boxes=True, show_conf=True, show_labels=True, simplify=True, single_cls=False, source=None, split=val, stream_buffer=False, task=classify, time=None, tracker=botsort.yaml, translate=0.1, val=True, verbose=True, vid_stride=1, visualize=False, warmup_bias_lr=0.1, warmup_epochs=3.0, warmup_momentum=0.8, weight_decay=0.0005, workers=4, workspace=None\n",
      "\u001b[34m\u001b[1mtrain:\u001b[0m F:\\JupyterProject\\Cancer Classify\\datasets\\train... found 7786 images in 9 classes  \n",
      "\u001b[34m\u001b[1mval:\u001b[0m None...\n",
      "\u001b[34m\u001b[1mtest:\u001b[0m F:\\JupyterProject\\Cancer Classify\\datasets\\test... found 118 images in 9 classes  \n",
      "Overriding model.yaml nc=1000 with nc=9\n",
      "\n",
      "                   from  n    params  module                                       arguments                     \n",
      "  0                  -1  1       464  ultralytics.nn.modules.conv.Conv             [3, 16, 3, 2]                 \n",
      "  1                  -1  1      4672  ultralytics.nn.modules.conv.Conv             [16, 32, 3, 2]                \n",
      "  2                  -1  1      6640  ultralytics.nn.modules.block.C3k2            [32, 64, 1, False, 0.25]      \n",
      "  3                  -1  1     36992  ultralytics.nn.modules.conv.Conv             [64, 64, 3, 2]                \n",
      "  4                  -1  1     26080  ultralytics.nn.modules.block.C3k2            [64, 128, 1, False, 0.25]     \n",
      "  5                  -1  1    147712  ultralytics.nn.modules.conv.Conv             [128, 128, 3, 2]              \n",
      "  6                  -1  1     87040  ultralytics.nn.modules.block.C3k2            [128, 128, 1, True]           \n",
      "  7                  -1  1    295424  ultralytics.nn.modules.conv.Conv             [128, 256, 3, 2]              \n",
      "  8                  -1  1    346112  ultralytics.nn.modules.block.C3k2            [256, 256, 1, True]           \n",
      "  9                  -1  1    249728  ultralytics.nn.modules.block.C2PSA           [256, 256, 1]                 \n",
      " 10                  -1  1    341769  ultralytics.nn.modules.head.Classify         [256, 9]                      \n",
      "YOLO11n-cls summary: 86 layers, 1,542,633 parameters, 1,542,633 gradients, 3.3 GFLOPs\n",
      "\u001b[34m\u001b[1mtrain: \u001b[0mFast image access  (ping: 0.20.1 ms, read: 391.7263.4 MB/s, size: 129.7 KB)\n"
     ]
    },
    {
     "name": "stderr",
     "output_type": "stream",
     "text": [
      "\u001b[34m\u001b[1mtrain: \u001b[0mScanning F:\\JupyterProject\\Cancer Classify\\datasets\\train... 7786 images, 0 corrupt: 100%|██████████| 7786/7786 \u001b[0m"
     ]
    },
    {
     "name": "stdout",
     "output_type": "stream",
     "text": [
      "\u001b[34m\u001b[1mval: \u001b[0mFast image access  (ping: 0.20.0 ms, read: 698.6351.5 MB/s, size: 193.6 KB)\n"
     ]
    },
    {
     "name": "stderr",
     "output_type": "stream",
     "text": [
      "\n",
      "\u001b[34m\u001b[1mval: \u001b[0mScanning F:\\JupyterProject\\Cancer Classify\\datasets\\test... 118 images, 0 corrupt: 100%|██████████| 118/118 [00:00\u001b[0m\n"
     ]
    },
    {
     "name": "stdout",
     "output_type": "stream",
     "text": [
      "\u001b[34m\u001b[1moptimizer:\u001b[0m 'optimizer=auto' found, ignoring 'lr0=0.01' and 'momentum=0.937' and determining best 'optimizer', 'lr0' and 'momentum' automatically... \n",
      "\u001b[34m\u001b[1moptimizer:\u001b[0m AdamW(lr=0.000769, momentum=0.9) with parameter groups 39 weight(decay=0.0), 40 weight(decay=0.0005), 40 bias(decay=0.0)\n",
      "Image sizes 224 train, 224 val\n",
      "Using 0 dataloader workers\n",
      "Logging results to \u001b[1mskin_cls_yolo\\yolov11n_cls_from_scratch\u001b[0m\n",
      "Starting training for 30 epochs...\n",
      "\n",
      "      Epoch    GPU_mem       loss  Instances       Size\n"
     ]
    },
    {
     "name": "stderr",
     "output_type": "stream",
     "text": [
      "       1/30         0G      2.001         10        224: 100%|██████████| 244/244 [04:49<00:00,  1.19s/it]\n",
      "               classes   top1_acc   top5_acc: 100%|██████████| 2/2 [00:07<00:00,  3.58s/it]"
     ]
    },
    {
     "name": "stdout",
     "output_type": "stream",
     "text": [
      "                   all      0.161      0.771\n"
     ]
    },
    {
     "name": "stderr",
     "output_type": "stream",
     "text": [
      "\n"
     ]
    },
    {
     "name": "stdout",
     "output_type": "stream",
     "text": [
      "\n",
      "      Epoch    GPU_mem       loss  Instances       Size\n"
     ]
    },
    {
     "name": "stderr",
     "output_type": "stream",
     "text": [
      "       2/30         0G      1.801         10        224: 100%|██████████| 244/244 [04:25<00:00,  1.09s/it]\n",
      "               classes   top1_acc   top5_acc: 100%|██████████| 2/2 [00:06<00:00,  3.37s/it]"
     ]
    },
    {
     "name": "stdout",
     "output_type": "stream",
     "text": [
      "                   all      0.229      0.839\n",
      "\n",
      "      Epoch    GPU_mem       loss  Instances       Size\n"
     ]
    },
    {
     "name": "stderr",
     "output_type": "stream",
     "text": [
      "\n",
      "       3/30         0G      1.751         10        224: 100%|██████████| 244/244 [03:27<00:00,  1.18it/s]\n",
      "               classes   top1_acc   top5_acc: 100%|██████████| 2/2 [00:05<00:00,  2.89s/it]"
     ]
    },
    {
     "name": "stdout",
     "output_type": "stream",
     "text": [
      "                   all      0.339      0.856\n",
      "\n",
      "      Epoch    GPU_mem       loss  Instances       Size\n"
     ]
    },
    {
     "name": "stderr",
     "output_type": "stream",
     "text": [
      "\n",
      "       4/30         0G      1.716         10        224: 100%|██████████| 244/244 [03:18<00:00,  1.23it/s]\n",
      "               classes   top1_acc   top5_acc: 100%|██████████| 2/2 [00:05<00:00,  2.87s/it]"
     ]
    },
    {
     "name": "stdout",
     "output_type": "stream",
     "text": [
      "                   all      0.229      0.771\n",
      "\n",
      "      Epoch    GPU_mem       loss  Instances       Size\n"
     ]
    },
    {
     "name": "stderr",
     "output_type": "stream",
     "text": [
      "\n",
      "       5/30         0G      1.684         10        224: 100%|██████████| 244/244 [03:18<00:00,  1.23it/s]\n",
      "               classes   top1_acc   top5_acc: 100%|██████████| 2/2 [00:05<00:00,  2.88s/it]"
     ]
    },
    {
     "name": "stdout",
     "output_type": "stream",
     "text": [
      "                   all      0.314      0.839\n",
      "\n",
      "      Epoch    GPU_mem       loss  Instances       Size\n"
     ]
    },
    {
     "name": "stderr",
     "output_type": "stream",
     "text": [
      "\n",
      "       6/30         0G      1.655         10        224: 100%|██████████| 244/244 [03:17<00:00,  1.23it/s]\n",
      "               classes   top1_acc   top5_acc: 100%|██████████| 2/2 [00:05<00:00,  2.85s/it]"
     ]
    },
    {
     "name": "stdout",
     "output_type": "stream",
     "text": [
      "                   all      0.407      0.847\n",
      "\n",
      "      Epoch    GPU_mem       loss  Instances       Size\n"
     ]
    },
    {
     "name": "stderr",
     "output_type": "stream",
     "text": [
      "\n",
      "       7/30         0G      1.639         10        224: 100%|██████████| 244/244 [03:18<00:00,  1.23it/s]\n",
      "               classes   top1_acc   top5_acc: 100%|██████████| 2/2 [00:05<00:00,  2.91s/it]"
     ]
    },
    {
     "name": "stdout",
     "output_type": "stream",
     "text": [
      "                   all      0.347      0.881\n",
      "\n",
      "      Epoch    GPU_mem       loss  Instances       Size\n"
     ]
    },
    {
     "name": "stderr",
     "output_type": "stream",
     "text": [
      "\n",
      "       8/30         0G      1.606         10        224: 100%|██████████| 244/244 [03:17<00:00,  1.23it/s]\n",
      "               classes   top1_acc   top5_acc: 100%|██████████| 2/2 [00:05<00:00,  2.85s/it]"
     ]
    },
    {
     "name": "stdout",
     "output_type": "stream",
     "text": [
      "                   all      0.347      0.856\n",
      "\n",
      "      Epoch    GPU_mem       loss  Instances       Size\n"
     ]
    },
    {
     "name": "stderr",
     "output_type": "stream",
     "text": [
      "\n",
      "       9/30         0G      1.592         10        224: 100%|██████████| 244/244 [03:18<00:00,  1.23it/s]\n",
      "               classes   top1_acc   top5_acc: 100%|██████████| 2/2 [00:05<00:00,  2.84s/it]"
     ]
    },
    {
     "name": "stdout",
     "output_type": "stream",
     "text": [
      "                   all      0.305       0.78\n",
      "\n",
      "      Epoch    GPU_mem       loss  Instances       Size\n"
     ]
    },
    {
     "name": "stderr",
     "output_type": "stream",
     "text": [
      "\n",
      "      10/30         0G      1.556         10        224: 100%|██████████| 244/244 [03:21<00:00,  1.21it/s]\n",
      "               classes   top1_acc   top5_acc: 100%|██████████| 2/2 [00:05<00:00,  2.83s/it]"
     ]
    },
    {
     "name": "stdout",
     "output_type": "stream",
     "text": [
      "                   all      0.398      0.839\n",
      "\n",
      "      Epoch    GPU_mem       loss  Instances       Size\n"
     ]
    },
    {
     "name": "stderr",
     "output_type": "stream",
     "text": [
      "\n",
      "      11/30         0G      1.548         10        224: 100%|██████████| 244/244 [03:20<00:00,  1.21it/s]\n",
      "               classes   top1_acc   top5_acc: 100%|██████████| 2/2 [00:05<00:00,  2.87s/it]"
     ]
    },
    {
     "name": "stdout",
     "output_type": "stream",
     "text": [
      "                   all      0.415       0.89\n",
      "\n",
      "      Epoch    GPU_mem       loss  Instances       Size\n"
     ]
    },
    {
     "name": "stderr",
     "output_type": "stream",
     "text": [
      "\n",
      "      12/30         0G      1.506         10        224: 100%|██████████| 244/244 [03:21<00:00,  1.21it/s]\n",
      "               classes   top1_acc   top5_acc: 100%|██████████| 2/2 [00:07<00:00,  3.64s/it]"
     ]
    },
    {
     "name": "stdout",
     "output_type": "stream",
     "text": [
      "                   all      0.424      0.873\n",
      "\n",
      "      Epoch    GPU_mem       loss  Instances       Size\n"
     ]
    },
    {
     "name": "stderr",
     "output_type": "stream",
     "text": [
      "\n",
      "      13/30         0G      1.482         10        224: 100%|██████████| 244/244 [03:37<00:00,  1.12it/s]\n",
      "               classes   top1_acc   top5_acc: 100%|██████████| 2/2 [00:06<00:00,  3.11s/it]"
     ]
    },
    {
     "name": "stdout",
     "output_type": "stream",
     "text": [
      "                   all      0.398      0.881\n",
      "\n",
      "      Epoch    GPU_mem       loss  Instances       Size\n"
     ]
    },
    {
     "name": "stderr",
     "output_type": "stream",
     "text": [
      "\n",
      "      14/30         0G       1.47         10        224: 100%|██████████| 244/244 [03:39<00:00,  1.11it/s]\n",
      "               classes   top1_acc   top5_acc: 100%|██████████| 2/2 [00:06<00:00,  3.00s/it]"
     ]
    },
    {
     "name": "stdout",
     "output_type": "stream",
     "text": [
      "                   all      0.339      0.839\n",
      "\n",
      "      Epoch    GPU_mem       loss  Instances       Size\n"
     ]
    },
    {
     "name": "stderr",
     "output_type": "stream",
     "text": [
      "\n",
      "      15/30         0G      1.448         10        224: 100%|██████████| 244/244 [03:38<00:00,  1.12it/s]\n",
      "               classes   top1_acc   top5_acc: 100%|██████████| 2/2 [00:06<00:00,  3.04s/it]"
     ]
    },
    {
     "name": "stdout",
     "output_type": "stream",
     "text": [
      "                   all      0.407      0.864\n",
      "\n",
      "      Epoch    GPU_mem       loss  Instances       Size\n"
     ]
    },
    {
     "name": "stderr",
     "output_type": "stream",
     "text": [
      "\n",
      "      16/30         0G      1.432         10        224: 100%|██████████| 244/244 [03:41<00:00,  1.10it/s]\n",
      "               classes   top1_acc   top5_acc: 100%|██████████| 2/2 [00:06<00:00,  3.04s/it]"
     ]
    },
    {
     "name": "stdout",
     "output_type": "stream",
     "text": [
      "                   all      0.381      0.915\n",
      "\n",
      "      Epoch    GPU_mem       loss  Instances       Size\n"
     ]
    },
    {
     "name": "stderr",
     "output_type": "stream",
     "text": [
      "\n",
      "      17/30         0G      1.408         10        224: 100%|██████████| 244/244 [03:47<00:00,  1.07it/s]\n",
      "               classes   top1_acc   top5_acc: 100%|██████████| 2/2 [00:06<00:00,  3.23s/it]"
     ]
    },
    {
     "name": "stdout",
     "output_type": "stream",
     "text": [
      "                   all      0.466      0.881\n",
      "\n",
      "      Epoch    GPU_mem       loss  Instances       Size\n"
     ]
    },
    {
     "name": "stderr",
     "output_type": "stream",
     "text": [
      "\n",
      "      18/30         0G      1.387         10        224: 100%|██████████| 244/244 [03:54<00:00,  1.04it/s]\n",
      "               classes   top1_acc   top5_acc: 100%|██████████| 2/2 [00:06<00:00,  3.11s/it]"
     ]
    },
    {
     "name": "stdout",
     "output_type": "stream",
     "text": [
      "                   all      0.466      0.898\n",
      "\n",
      "      Epoch    GPU_mem       loss  Instances       Size\n"
     ]
    },
    {
     "name": "stderr",
     "output_type": "stream",
     "text": [
      "\n",
      "      19/30         0G      1.371         10        224: 100%|██████████| 244/244 [03:54<00:00,  1.04it/s]\n",
      "               classes   top1_acc   top5_acc: 100%|██████████| 2/2 [00:06<00:00,  3.11s/it]"
     ]
    },
    {
     "name": "stdout",
     "output_type": "stream",
     "text": [
      "                   all      0.492      0.924\n",
      "\n",
      "      Epoch    GPU_mem       loss  Instances       Size\n"
     ]
    },
    {
     "name": "stderr",
     "output_type": "stream",
     "text": [
      "\n",
      "      20/30         0G       1.35         10        224: 100%|██████████| 244/244 [03:45<00:00,  1.08it/s]\n",
      "               classes   top1_acc   top5_acc: 100%|██████████| 2/2 [00:06<00:00,  3.02s/it]"
     ]
    },
    {
     "name": "stdout",
     "output_type": "stream",
     "text": [
      "                   all      0.483      0.907\n",
      "\n",
      "      Epoch    GPU_mem       loss  Instances       Size\n"
     ]
    },
    {
     "name": "stderr",
     "output_type": "stream",
     "text": [
      "\n",
      "      21/30         0G      1.335         10        224: 100%|██████████| 244/244 [03:47<00:00,  1.07it/s]\n",
      "               classes   top1_acc   top5_acc: 100%|██████████| 2/2 [00:06<00:00,  3.02s/it]"
     ]
    },
    {
     "name": "stdout",
     "output_type": "stream",
     "text": [
      "                   all      0.483      0.941\n",
      "\n",
      "      Epoch    GPU_mem       loss  Instances       Size\n"
     ]
    },
    {
     "name": "stderr",
     "output_type": "stream",
     "text": [
      "\n",
      "      22/30         0G      1.307         10        224: 100%|██████████| 244/244 [03:53<00:00,  1.05it/s]\n",
      "               classes   top1_acc   top5_acc: 100%|██████████| 2/2 [00:06<00:00,  3.11s/it]"
     ]
    },
    {
     "name": "stdout",
     "output_type": "stream",
     "text": [
      "                   all      0.449       0.89\n",
      "\n",
      "      Epoch    GPU_mem       loss  Instances       Size\n"
     ]
    },
    {
     "name": "stderr",
     "output_type": "stream",
     "text": [
      "\n",
      "      23/30         0G      1.288         10        224: 100%|██████████| 244/244 [03:57<00:00,  1.03it/s]\n",
      "               classes   top1_acc   top5_acc: 100%|██████████| 2/2 [00:06<00:00,  3.11s/it]"
     ]
    },
    {
     "name": "stdout",
     "output_type": "stream",
     "text": [
      "                   all      0.483      0.924\n"
     ]
    },
    {
     "name": "stderr",
     "output_type": "stream",
     "text": [
      "\n"
     ]
    },
    {
     "name": "stdout",
     "output_type": "stream",
     "text": [
      "\n",
      "      Epoch    GPU_mem       loss  Instances       Size\n"
     ]
    },
    {
     "name": "stderr",
     "output_type": "stream",
     "text": [
      "      24/30         0G      1.287         10        224: 100%|██████████| 244/244 [03:57<00:00,  1.03it/s]\n",
      "               classes   top1_acc   top5_acc: 100%|██████████| 2/2 [00:06<00:00,  3.32s/it]"
     ]
    },
    {
     "name": "stdout",
     "output_type": "stream",
     "text": [
      "                   all      0.492      0.932\n",
      "\n",
      "      Epoch    GPU_mem       loss  Instances       Size\n"
     ]
    },
    {
     "name": "stderr",
     "output_type": "stream",
     "text": [
      "\n",
      "      25/30         0G      1.257         10        224: 100%|██████████| 244/244 [04:00<00:00,  1.02it/s]\n",
      "               classes   top1_acc   top5_acc: 100%|██████████| 2/2 [00:06<00:00,  3.22s/it]"
     ]
    },
    {
     "name": "stdout",
     "output_type": "stream",
     "text": [
      "                   all      0.458      0.915\n",
      "\n",
      "      Epoch    GPU_mem       loss  Instances       Size\n"
     ]
    },
    {
     "name": "stderr",
     "output_type": "stream",
     "text": [
      "\n",
      "      26/30         0G      1.252         10        224: 100%|██████████| 244/244 [04:09<00:00,  1.02s/it]\n",
      "               classes   top1_acc   top5_acc: 100%|██████████| 2/2 [00:06<00:00,  3.33s/it]"
     ]
    },
    {
     "name": "stdout",
     "output_type": "stream",
     "text": [
      "                   all      0.492      0.958\n",
      "\n",
      "      Epoch    GPU_mem       loss  Instances       Size\n"
     ]
    },
    {
     "name": "stderr",
     "output_type": "stream",
     "text": [
      "\n",
      "      27/30         0G      1.232         10        224: 100%|██████████| 244/244 [04:05<00:00,  1.01s/it]\n",
      "               classes   top1_acc   top5_acc: 100%|██████████| 2/2 [00:06<00:00,  3.33s/it]"
     ]
    },
    {
     "name": "stdout",
     "output_type": "stream",
     "text": [
      "                   all      0.466      0.958\n",
      "\n",
      "      Epoch    GPU_mem       loss  Instances       Size\n"
     ]
    },
    {
     "name": "stderr",
     "output_type": "stream",
     "text": [
      "\n",
      "      28/30         0G      1.206         10        224: 100%|██████████| 244/244 [04:04<00:00,  1.00s/it]\n",
      "               classes   top1_acc   top5_acc: 100%|██████████| 2/2 [00:06<00:00,  3.10s/it]"
     ]
    },
    {
     "name": "stdout",
     "output_type": "stream",
     "text": [
      "                   all      0.441      0.941\n",
      "\n",
      "      Epoch    GPU_mem       loss  Instances       Size\n"
     ]
    },
    {
     "name": "stderr",
     "output_type": "stream",
     "text": [
      "\n",
      "      29/30         0G      1.195         10        224: 100%|██████████| 244/244 [03:36<00:00,  1.13it/s]\n",
      "               classes   top1_acc   top5_acc: 100%|██████████| 2/2 [00:06<00:00,  3.03s/it]"
     ]
    },
    {
     "name": "stdout",
     "output_type": "stream",
     "text": [
      "                   all      0.449      0.932\n",
      "\n",
      "      Epoch    GPU_mem       loss  Instances       Size\n"
     ]
    },
    {
     "name": "stderr",
     "output_type": "stream",
     "text": [
      "\n",
      "      30/30         0G      1.186         10        224: 100%|██████████| 244/244 [03:34<00:00,  1.14it/s]\n",
      "               classes   top1_acc   top5_acc: 100%|██████████| 2/2 [00:06<00:00,  3.02s/it]"
     ]
    },
    {
     "name": "stdout",
     "output_type": "stream",
     "text": [
      "                   all      0.449      0.932\n",
      "\n",
      "30 epochs completed in 1.914 hours.\n"
     ]
    },
    {
     "name": "stderr",
     "output_type": "stream",
     "text": [
      "\n"
     ]
    },
    {
     "name": "stdout",
     "output_type": "stream",
     "text": [
      "Optimizer stripped from skin_cls_yolo\\yolov11n_cls_from_scratch\\weights\\last.pt, 3.2MB\n",
      "Optimizer stripped from skin_cls_yolo\\yolov11n_cls_from_scratch\\weights\\best.pt, 3.2MB\n",
      "\n",
      "Validating skin_cls_yolo\\yolov11n_cls_from_scratch\\weights\\best.pt...\n",
      "Ultralytics 8.3.151  Python-3.10.16 torch-2.7.1+cpu CPU (11th Gen Intel Core(TM) i5-11260H 2.60GHz)\n",
      "YOLO11n-cls summary (fused): 47 layers, 1,537,553 parameters, 0 gradients, 3.2 GFLOPs\n",
      "WARNING Dataset 'split=val' not found, using 'split=test' instead.\n",
      "\u001b[34m\u001b[1mtrain:\u001b[0m F:\\JupyterProject\\Cancer Classify\\datasets\\train... found 7786 images in 9 classes  \n",
      "\u001b[34m\u001b[1mval:\u001b[0m F:\\JupyterProject\\Cancer Classify\\datasets\\test... found 118 images in 9 classes  \n",
      "\u001b[34m\u001b[1mtest:\u001b[0m F:\\JupyterProject\\Cancer Classify\\datasets\\test... found 118 images in 9 classes  \n"
     ]
    },
    {
     "name": "stderr",
     "output_type": "stream",
     "text": [
      "               classes   top1_acc   top5_acc: 100%|██████████| 2/2 [00:05<00:00,  2.91s/it]\n"
     ]
    },
    {
     "name": "stdout",
     "output_type": "stream",
     "text": [
      "                   all      0.492      0.958\n",
      "Speed: 0.0ms preprocess, 4.1ms inference, 0.0ms loss, 0.0ms postprocess per image\n",
      "Results saved to \u001b[1mskin_cls_yolo\\yolov11n_cls_from_scratch\u001b[0m\n"
     ]
    }
   ],
   "source": [
    "# Train from scratch: Load the model structure instead of the pre-trained weights\n",
    "model = YOLO(\"yolo11n-cls.yaml\")  # yolov8s-cls.yaml, yolov8m-cls.yaml, yolov8l-cls.yaml, yolov11...\n",
    "\n",
    "results = model.train(\n",
    "    data=\"./datasets/\",             \n",
    "    epochs=30,                     \n",
    "    imgsz=224,                     \n",
    "    device=\"cpu\",                  \n",
    "    batch=32,\n",
    "    workers=4,\n",
    "    project=\"skin_cls_yolo\",\n",
    "    name=\"yolov11n_cls_from_scratch\",\n",
    "    exist_ok=True\n",
    ")\n"
   ]
  },
  {
   "cell_type": "code",
   "execution_count": 7,
   "id": "48841af6",
   "metadata": {},
   "outputs": [
    {
     "name": "stdout",
     "output_type": "stream",
     "text": [
      "Ultralytics 8.3.151  Python-3.10.16 torch-2.7.1+cpu CPU (11th Gen Intel Core(TM) i5-11260H 2.60GHz)\n",
      "YOLOv8n-cls summary (fused): 30 layers, 1,446,409 parameters, 0 gradients, 3.3 GFLOPs\n",
      "\n",
      "\u001b[34m\u001b[1mPyTorch:\u001b[0m starting from 'skin_cls_yolo\\yolov8n_cls_exp\\weights\\best.pt' with input shape (1, 3, 224, 224) BCHW and output shape(s) (1, 9) (2.8 MB)\n",
      "\n",
      "\u001b[34m\u001b[1mONNX:\u001b[0m starting export with onnx 1.17.0 opset 19...\n",
      "\u001b[34m\u001b[1mONNX:\u001b[0m slimming with onnxslim 0.1.56...\n",
      "\u001b[34m\u001b[1mONNX:\u001b[0m export success  0.4s, saved as 'skin_cls_yolo\\yolov8n_cls_exp\\weights\\best.onnx' (5.5 MB)\n",
      "\n",
      "Export complete (0.5s)\n",
      "Results saved to \u001b[1mF:\\JupyterProject\\Cancer Classify\\skin_cls_yolo\\yolov8n_cls_exp\\weights\u001b[0m\n",
      "Predict:         yolo predict task=classify model=skin_cls_yolo\\yolov8n_cls_exp\\weights\\best.onnx imgsz=224  \n",
      "Validate:        yolo val task=classify model=skin_cls_yolo\\yolov8n_cls_exp\\weights\\best.onnx imgsz=224 data=./datasets/  \n",
      "Visualize:       https://netron.app\n",
      "已导出 ONNX 模型路径： skin_cls_yolo\\yolov8n_cls_exp\\weights\\best.onnx\n"
     ]
    }
   ],
   "source": [
    "# Export to ONNX model (for deployment)\n",
    "exported_path = model.export(format=\"onnx\")\n",
    "print(\"Exported ONNX model path:\", exported_path)\n"
   ]
  },
  {
   "cell_type": "code",
   "execution_count": 5,
   "id": "446031ca",
   "metadata": {},
   "outputs": [
    {
     "name": "stdout",
     "output_type": "stream",
     "text": [
      "\n",
      "image 1/1 F:\\JupyterProject\\Cancer Classify\\datasets\\Test\\melanoma\\ISIC_0000030.jpg: 224x224 pigmented_benign_keratosis 0.51, nevus 0.18, melanoma 0.13, basal_cell_carcinoma 0.08, squamous_cell_carcinoma 0.06, 14.0ms\n",
      "Speed: 27.1ms preprocess, 14.0ms inference, 0.1ms postprocess per image at shape (1, 3, 224, 224)\n",
      "Predictive category index： 5\n",
      "Categorical probability distributions： [0.0053479429334402084, 0.07602591067552567, 0.0004357757861725986, 0.13068914413452148, 0.17525655031204224, 0.506921112537384, 0.02895301766693592, 0.06324919313192368, 0.013121393509209156]\n"
     ]
    }
   ],
   "source": [
    "from ultralytics import YOLO\n",
    "import os\n",
    "# Loading a Trained Model (Best Model)\n",
    "best_model_path = os.path.join(\"./skin_cls_yolo/yolo_finetune/\", \"yolov8n_cls_exp\", \"weights\", \"best.pt\")\n",
    "model = YOLO(best_model_path)\n",
    "\n",
    "\n",
    "# Test a single image\n",
    "image_path = \"datasets/Test/melanoma/ISIC_0000030.jpg\"\n",
    "results = model(image_path)\n",
    "\n",
    "# Output the prediction results\n",
    "print(\"Predictive category index：\", results[0].probs.top1)       \n",
    "print(\"Categorical probability distributions：\", results[0].probs.data.tolist())  \n",
    "\n",
    "# Displays the prediction picture + classification results\n",
    "results[0].show() "
   ]
  },
  {
   "cell_type": "code",
   "execution_count": null,
   "id": "0dc4f0d5",
   "metadata": {},
   "outputs": [],
   "source": []
  }
 ],
 "metadata": {
  "kernelspec": {
   "display_name": "Python (py310)",
   "language": "python",
   "name": "py310"
  },
  "language_info": {
   "codemirror_mode": {
    "name": "ipython",
    "version": 3
   },
   "file_extension": ".py",
   "mimetype": "text/x-python",
   "name": "python",
   "nbconvert_exporter": "python",
   "pygments_lexer": "ipython3",
   "version": "3.10.16"
  }
 },
 "nbformat": 4,
 "nbformat_minor": 5
}
