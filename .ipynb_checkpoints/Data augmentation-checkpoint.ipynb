{
 "cells": [
  {
   "cell_type": "code",
   "execution_count": 3,
   "id": "3e841c4e",
   "metadata": {},
   "outputs": [
    {
     "name": "stdout",
     "output_type": "stream",
     "text": [
      "增强类别：actinic_keratosis\n"
     ]
    },
    {
     "name": "stderr",
     "output_type": "stream",
     "text": [
      "100%|████████████████████████████████████████████████████████████████████████████████| 114/114 [00:13<00:00,  8.39it/s]\n"
     ]
    },
    {
     "name": "stdout",
     "output_type": "stream",
     "text": [
      "增强类别：basal_cell_carcinoma\n"
     ]
    },
    {
     "name": "stderr",
     "output_type": "stream",
     "text": [
      "100%|████████████████████████████████████████████████████████████████████████████████| 376/376 [00:44<00:00,  8.38it/s]\n"
     ]
    },
    {
     "name": "stdout",
     "output_type": "stream",
     "text": [
      "增强类别：dermatofibroma\n"
     ]
    },
    {
     "name": "stderr",
     "output_type": "stream",
     "text": [
      "100%|██████████████████████████████████████████████████████████████████████████████████| 95/95 [00:12<00:00,  7.72it/s]\n"
     ]
    },
    {
     "name": "stdout",
     "output_type": "stream",
     "text": [
      "增强类别：melanoma\n"
     ]
    },
    {
     "name": "stderr",
     "output_type": "stream",
     "text": [
      "100%|████████████████████████████████████████████████████████████████████████████████| 438/438 [06:30<00:00,  1.12it/s]\n"
     ]
    },
    {
     "name": "stdout",
     "output_type": "stream",
     "text": [
      "增强类别：nevus\n"
     ]
    },
    {
     "name": "stderr",
     "output_type": "stream",
     "text": [
      "100%|████████████████████████████████████████████████████████████████████████████████| 357/357 [05:22<00:00,  1.11it/s]\n"
     ]
    },
    {
     "name": "stdout",
     "output_type": "stream",
     "text": [
      "增强类别：pigmented_benign_keratosis\n"
     ]
    },
    {
     "name": "stderr",
     "output_type": "stream",
     "text": [
      "100%|████████████████████████████████████████████████████████████████████████████████| 462/462 [01:15<00:00,  6.14it/s]\n"
     ]
    },
    {
     "name": "stdout",
     "output_type": "stream",
     "text": [
      "增强类别：seborrheic_keratosis\n"
     ]
    },
    {
     "name": "stderr",
     "output_type": "stream",
     "text": [
      "100%|██████████████████████████████████████████████████████████████████████████████████| 77/77 [00:32<00:00,  2.35it/s]\n"
     ]
    },
    {
     "name": "stdout",
     "output_type": "stream",
     "text": [
      "增强类别：squamous_cell_carcinoma\n"
     ]
    },
    {
     "name": "stderr",
     "output_type": "stream",
     "text": [
      "100%|████████████████████████████████████████████████████████████████████████████████| 181/181 [00:30<00:00,  5.92it/s]\n"
     ]
    },
    {
     "name": "stdout",
     "output_type": "stream",
     "text": [
      "增强类别：vascular_lesion\n"
     ]
    },
    {
     "name": "stderr",
     "output_type": "stream",
     "text": [
      "100%|████████████████████████████████████████████████████████████████████████████████| 139/139 [00:22<00:00,  6.16it/s]\n"
     ]
    }
   ],
   "source": [
    "import os\n",
    "import random\n",
    "from PIL import Image\n",
    "from torchvision import transforms\n",
    "from torchvision.transforms import functional as F\n",
    "from tqdm import tqdm\n",
    "\n",
    "# Augmentation Range\n",
    "AUG_PER_IMAGE = (2, 3)\n",
    "\n",
    "image_exts = ['.jpg', '.jpeg', '.png', '.bmp']\n",
    "\n",
    "# Path\n",
    "root_dir = \"datasets/Train\"\n",
    "\n",
    "# Define Augmentation\n",
    "def get_augment_pipeline():\n",
    "    return transforms.Compose([\n",
    "        transforms.RandomHorizontalFlip(p=0.5),\n",
    "        transforms.RandomVerticalFlip(p=0.5),\n",
    "        transforms.ColorJitter(\n",
    "            brightness=0.2, contrast=0.2, saturation=0.2, hue=0.05\n",
    "        ),\n",
    "        transforms.RandomAffine(\n",
    "            degrees=15, translate=(0.05, 0.05),\n",
    "            scale=(0.95, 1.05), shear=5\n",
    "        ),\n",
    "        transforms.GaussianBlur(kernel_size=3, sigma=(0.1, 1.5)),\n",
    "        transforms.ToTensor(),  \n",
    "    ])\n",
    "\n",
    "# Tensor -> PIL  For Saving\n",
    "def tensor_to_pil(tensor):\n",
    "    return F.to_pil_image(tensor)\n",
    "\n",
    "for class_name in os.listdir(root_dir):\n",
    "    class_path = os.path.join(root_dir, class_name)\n",
    "    if not os.path.isdir(class_path):\n",
    "        continue\n",
    "\n",
    "    print(f\"Augmentation Categories：{class_name}\")\n",
    "    \n",
    "    for filename in tqdm(os.listdir(class_path)):\n",
    "        file_path = os.path.join(class_path, filename)\n",
    "        name, ext = os.path.splitext(filename)\n",
    "        if ext.lower() not in image_exts or '_aug' in name:\n",
    "            continue\n",
    "\n",
    "        try:\n",
    "            img = Image.open(file_path).convert(\"RGB\")\n",
    "            n_aug = random.randint(*AUG_PER_IMAGE)\n",
    "\n",
    "            for i in range(n_aug):\n",
    "                aug_img = get_augment_pipeline()(img)\n",
    "                aug_img_pil = tensor_to_pil(aug_img)\n",
    "                aug_name = f\"{name}_aug{i+1}{ext}\"\n",
    "                aug_img_pil.save(os.path.join(class_path, aug_name))\n",
    "\n",
    "        except Exception as e:\n",
    "            print(f\"Failed!: {file_path}, Error: {e}\")\n"
   ]
  },
  {
   "cell_type": "code",
   "execution_count": null,
   "id": "6acf819d",
   "metadata": {},
   "outputs": [],
   "source": []
  }
 ],
 "metadata": {
  "kernelspec": {
   "display_name": "Python (py310)",
   "language": "python",
   "name": "py310"
  },
  "language_info": {
   "codemirror_mode": {
    "name": "ipython",
    "version": 3
   },
   "file_extension": ".py",
   "mimetype": "text/x-python",
   "name": "python",
   "nbconvert_exporter": "python",
   "pygments_lexer": "ipython3",
   "version": "3.10.16"
  }
 },
 "nbformat": 4,
 "nbformat_minor": 5
}
