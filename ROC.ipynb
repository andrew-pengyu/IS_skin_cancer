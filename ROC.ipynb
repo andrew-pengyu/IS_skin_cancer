{
 "cells": [
  {
   "cell_type": "code",
   "execution_count": 2,
   "id": "de62e1df",
   "metadata": {},
   "outputs": [
    {
     "name": "stdout",
     "output_type": "stream",
     "text": [
      "Processing: yolov8n\n"
     ]
    },
    {
     "name": "stderr",
     "output_type": "stream",
     "text": [
      "\r",
      "  0%|                                                                                          | 0/118 [00:00<?, ?it/s]"
     ]
    },
    {
     "name": "stdout",
     "output_type": "stream",
     "text": [
      "\n",
      "0: 224x224 melanoma 0.56, seborrheic_keratosis 0.38, pigmented_benign_keratosis 0.02, nevus 0.01, actinic_keratosis 0.01, 14.3ms\n",
      "Speed: 0.0ms preprocess, 14.3ms inference, 0.3ms postprocess per image at shape (1, 3, 224, 224)\n",
      "\n",
      "0: 224x224 nevus 0.88, melanoma 0.11, seborrheic_keratosis 0.02, pigmented_benign_keratosis 0.00, dermatofibroma 0.00, 6.7ms\n",
      "Speed: 0.0ms preprocess, 6.7ms inference, 0.3ms postprocess per image at shape (1, 3, 224, 224)\n"
     ]
    },
    {
     "name": "stderr",
     "output_type": "stream",
     "text": [
      "\r",
      "  2%|█▍                                                                                | 2/118 [00:00<00:06, 18.27it/s]"
     ]
    },
    {
     "name": "stdout",
     "output_type": "stream",
     "text": [
      "\n",
      "0: 224x224 nevus 0.47, actinic_keratosis 0.43, squamous_cell_carcinoma 0.09, melanoma 0.01, basal_cell_carcinoma 0.00, 8.6ms\n",
      "Speed: 0.0ms preprocess, 8.6ms inference, 0.3ms postprocess per image at shape (1, 3, 224, 224)\n",
      "\n",
      "0: 224x224 squamous_cell_carcinoma 0.32, pigmented_benign_keratosis 0.15, melanoma 0.13, nevus 0.12, dermatofibroma 0.10, 7.0ms\n",
      "Speed: 0.0ms preprocess, 7.0ms inference, 0.3ms postprocess per image at shape (1, 3, 224, 224)\n",
      "\n",
      "0: 224x224 pigmented_benign_keratosis 0.47, nevus 0.24, actinic_keratosis 0.16, melanoma 0.06, basal_cell_carcinoma 0.05, 7.5ms\n",
      "Speed: 0.0ms preprocess, 7.5ms inference, 0.3ms postprocess per image at shape (1, 3, 224, 224)\n",
      "\n",
      "0: 224x224 actinic_keratosis 0.72, nevus 0.23, pigmented_benign_keratosis 0.04, squamous_cell_carcinoma 0.01, melanoma 0.00, 7.0ms\n",
      "Speed: 0.1ms preprocess, 7.0ms inference, 0.3ms postprocess per image at shape (1, 3, 224, 224)\n",
      "\n",
      "0: 224x224 pigmented_benign_keratosis 0.85, nevus 0.06, basal_cell_carcinoma 0.04, melanoma 0.03, actinic_keratosis 0.00, 7.1ms\n",
      "Speed: 0.0ms preprocess, 7.1ms inference, 0.3ms postprocess per image at shape (1, 3, 224, 224)\n"
     ]
    },
    {
     "name": "stderr",
     "output_type": "stream",
     "text": [
      "\r",
      "  6%|████▊                                                                             | 7/118 [00:00<00:03, 36.12it/s]"
     ]
    },
    {
     "name": "stdout",
     "output_type": "stream",
     "text": [
      "\n",
      "0: 224x224 pigmented_benign_keratosis 0.46, actinic_keratosis 0.21, melanoma 0.19, nevus 0.11, seborrheic_keratosis 0.02, 7.3ms\n",
      "Speed: 0.0ms preprocess, 7.3ms inference, 0.3ms postprocess per image at shape (1, 3, 224, 224)\n",
      "\n",
      "0: 224x224 nevus 0.38, actinic_keratosis 0.24, melanoma 0.20, pigmented_benign_keratosis 0.09, squamous_cell_carcinoma 0.05, 7.4ms\n",
      "Speed: 0.0ms preprocess, 7.4ms inference, 0.2ms postprocess per image at shape (1, 3, 224, 224)\n",
      "\n",
      "0: 224x224 nevus 0.60, actinic_keratosis 0.33, squamous_cell_carcinoma 0.07, melanoma 0.00, basal_cell_carcinoma 0.00, 6.6ms\n",
      "Speed: 0.0ms preprocess, 6.6ms inference, 0.3ms postprocess per image at shape (1, 3, 224, 224)\n",
      "\n",
      "0: 224x224 nevus 0.89, basal_cell_carcinoma 0.04, squamous_cell_carcinoma 0.04, actinic_keratosis 0.02, pigmented_benign_keratosis 0.01, 6.7ms\n",
      "Speed: 0.1ms preprocess, 6.7ms inference, 0.3ms postprocess per image at shape (1, 3, 224, 224)\n",
      "\n",
      "0: 224x224 basal_cell_carcinoma 0.81, pigmented_benign_keratosis 0.07, nevus 0.06, actinic_keratosis 0.03, squamous_cell_carcinoma 0.01, 12.0ms\n",
      "Speed: 0.0ms preprocess, 12.0ms inference, 0.3ms postprocess per image at shape (1, 3, 224, 224)\n"
     ]
    },
    {
     "name": "stderr",
     "output_type": "stream",
     "text": [
      "\r",
      " 10%|████████▏                                                                        | 12/118 [00:00<00:02, 42.26it/s]"
     ]
    },
    {
     "name": "stdout",
     "output_type": "stream",
     "text": [
      "\n",
      "0: 224x224 pigmented_benign_keratosis 0.73, actinic_keratosis 0.12, nevus 0.11, squamous_cell_carcinoma 0.01, melanoma 0.01, 7.8ms\n",
      "Speed: 0.0ms preprocess, 7.8ms inference, 0.3ms postprocess per image at shape (1, 3, 224, 224)\n",
      "\n",
      "0: 224x224 actinic_keratosis 0.56, nevus 0.37, melanoma 0.03, squamous_cell_carcinoma 0.02, pigmented_benign_keratosis 0.02, 7.0ms\n",
      "Speed: 0.0ms preprocess, 7.0ms inference, 0.4ms postprocess per image at shape (1, 3, 224, 224)\n",
      "\n",
      "0: 224x224 actinic_keratosis 0.48, nevus 0.37, pigmented_benign_keratosis 0.12, squamous_cell_carcinoma 0.03, basal_cell_carcinoma 0.01, 6.6ms\n",
      "Speed: 0.0ms preprocess, 6.6ms inference, 0.5ms postprocess per image at shape (1, 3, 224, 224)\n",
      "\n",
      "0: 224x224 pigmented_benign_keratosis 0.74, squamous_cell_carcinoma 0.09, actinic_keratosis 0.07, nevus 0.05, basal_cell_carcinoma 0.03, 7.0ms\n",
      "Speed: 0.0ms preprocess, 7.0ms inference, 0.3ms postprocess per image at shape (1, 3, 224, 224)\n",
      "\n",
      "0: 224x224 basal_cell_carcinoma 1.00, dermatofibroma 0.00, squamous_cell_carcinoma 0.00, pigmented_benign_keratosis 0.00, nevus 0.00, 7.2ms\n",
      "Speed: 0.0ms preprocess, 7.2ms inference, 0.4ms postprocess per image at shape (1, 3, 224, 224)\n",
      "\n",
      "0: 224x224 basal_cell_carcinoma 0.63, squamous_cell_carcinoma 0.15, pigmented_benign_keratosis 0.11, nevus 0.04, dermatofibroma 0.03, 6.8ms\n",
      "Speed: 0.0ms preprocess, 6.8ms inference, 0.3ms postprocess per image at shape (1, 3, 224, 224)\n"
     ]
    },
    {
     "name": "stderr",
     "output_type": "stream",
     "text": [
      "\r",
      " 15%|████████████▎                                                                    | 18/118 [00:00<00:02, 47.53it/s]"
     ]
    },
    {
     "name": "stdout",
     "output_type": "stream",
     "text": [
      "\n",
      "0: 224x224 basal_cell_carcinoma 0.82, squamous_cell_carcinoma 0.08, pigmented_benign_keratosis 0.04, actinic_keratosis 0.03, nevus 0.03, 7.2ms\n",
      "Speed: 0.1ms preprocess, 7.2ms inference, 0.3ms postprocess per image at shape (1, 3, 224, 224)\n",
      "\n",
      "0: 224x224 basal_cell_carcinoma 0.74, pigmented_benign_keratosis 0.24, nevus 0.01, melanoma 0.00, dermatofibroma 0.00, 7.1ms\n",
      "Speed: 0.0ms preprocess, 7.1ms inference, 0.3ms postprocess per image at shape (1, 3, 224, 224)\n",
      "\n",
      "0: 224x224 basal_cell_carcinoma 0.99, squamous_cell_carcinoma 0.01, pigmented_benign_keratosis 0.00, actinic_keratosis 0.00, dermatofibroma 0.00, 7.7ms\n",
      "Speed: 0.0ms preprocess, 7.7ms inference, 0.3ms postprocess per image at shape (1, 3, 224, 224)\n",
      "\n",
      "0: 224x224 pigmented_benign_keratosis 0.66, basal_cell_carcinoma 0.15, actinic_keratosis 0.08, melanoma 0.07, nevus 0.03, 6.9ms\n",
      "Speed: 0.1ms preprocess, 6.9ms inference, 0.3ms postprocess per image at shape (1, 3, 224, 224)\n",
      "\n",
      "0: 224x224 pigmented_benign_keratosis 0.77, nevus 0.11, basal_cell_carcinoma 0.06, melanoma 0.04, actinic_keratosis 0.01, 8.4ms\n",
      "Speed: 0.0ms preprocess, 8.4ms inference, 0.3ms postprocess per image at shape (1, 3, 224, 224)\n",
      "\n",
      "0: 224x224 nevus 0.63, melanoma 0.19, seborrheic_keratosis 0.17, pigmented_benign_keratosis 0.01, actinic_keratosis 0.00, 7.7ms\n",
      "Speed: 0.0ms preprocess, 7.7ms inference, 0.3ms postprocess per image at shape (1, 3, 224, 224)\n"
     ]
    },
    {
     "name": "stderr",
     "output_type": "stream",
     "text": [
      "\r",
      " 20%|████████████████▍                                                                | 24/118 [00:00<00:01, 49.13it/s]"
     ]
    },
    {
     "name": "stdout",
     "output_type": "stream",
     "text": [
      "\n",
      "0: 224x224 basal_cell_carcinoma 1.00, dermatofibroma 0.00, squamous_cell_carcinoma 0.00, pigmented_benign_keratosis 0.00, nevus 0.00, 7.5ms\n",
      "Speed: 0.0ms preprocess, 7.5ms inference, 0.3ms postprocess per image at shape (1, 3, 224, 224)\n",
      "\n",
      "0: 224x224 basal_cell_carcinoma 1.00, vascular_lesion 0.00, nevus 0.00, squamous_cell_carcinoma 0.00, pigmented_benign_keratosis 0.00, 7.3ms\n",
      "Speed: 0.0ms preprocess, 7.3ms inference, 0.4ms postprocess per image at shape (1, 3, 224, 224)\n",
      "\n",
      "0: 224x224 basal_cell_carcinoma 0.97, squamous_cell_carcinoma 0.03, actinic_keratosis 0.00, nevus 0.00, melanoma 0.00, 10.5ms\n",
      "Speed: 0.0ms preprocess, 10.5ms inference, 0.7ms postprocess per image at shape (1, 3, 224, 224)\n",
      "\n",
      "0: 224x224 basal_cell_carcinoma 0.98, nevus 0.02, melanoma 0.00, pigmented_benign_keratosis 0.00, vascular_lesion 0.00, 7.7ms\n",
      "Speed: 0.0ms preprocess, 7.7ms inference, 0.3ms postprocess per image at shape (1, 3, 224, 224)\n",
      "\n",
      "0: 224x224 basal_cell_carcinoma 0.97, squamous_cell_carcinoma 0.01, melanoma 0.01, seborrheic_keratosis 0.00, actinic_keratosis 0.00, 10.4ms\n",
      "Speed: 0.0ms preprocess, 10.4ms inference, 0.3ms postprocess per image at shape (1, 3, 224, 224)\n",
      "\n",
      "0: 224x224 basal_cell_carcinoma 0.83, nevus 0.11, melanoma 0.05, pigmented_benign_keratosis 0.01, squamous_cell_carcinoma 0.01, 8.6ms\n",
      "Speed: 0.0ms preprocess, 8.6ms inference, 1.6ms postprocess per image at shape (1, 3, 224, 224)\n"
     ]
    },
    {
     "name": "stderr",
     "output_type": "stream",
     "text": [
      "\r",
      " 25%|████████████████████▌                                                            | 30/118 [00:00<00:01, 49.68it/s]"
     ]
    },
    {
     "name": "stdout",
     "output_type": "stream",
     "text": [
      "\n",
      "0: 224x224 basal_cell_carcinoma 1.00, squamous_cell_carcinoma 0.00, pigmented_benign_keratosis 0.00, dermatofibroma 0.00, vascular_lesion 0.00, 7.2ms\n",
      "Speed: 0.0ms preprocess, 7.2ms inference, 0.3ms postprocess per image at shape (1, 3, 224, 224)\n",
      "\n",
      "0: 224x224 basal_cell_carcinoma 1.00, nevus 0.00, pigmented_benign_keratosis 0.00, vascular_lesion 0.00, melanoma 0.00, 7.4ms\n",
      "Speed: 0.0ms preprocess, 7.4ms inference, 0.3ms postprocess per image at shape (1, 3, 224, 224)\n",
      "\n",
      "0: 224x224 melanoma 0.83, seborrheic_keratosis 0.09, nevus 0.07, basal_cell_carcinoma 0.00, squamous_cell_carcinoma 0.00, 6.4ms\n",
      "Speed: 0.0ms preprocess, 6.4ms inference, 0.3ms postprocess per image at shape (1, 3, 224, 224)\n",
      "\n",
      "0: 224x224 nevus 0.91, melanoma 0.07, pigmented_benign_keratosis 0.01, seborrheic_keratosis 0.01, dermatofibroma 0.00, 9.5ms\n",
      "Speed: 0.0ms preprocess, 9.5ms inference, 0.4ms postprocess per image at shape (1, 3, 224, 224)\n",
      "\n",
      "0: 224x224 basal_cell_carcinoma 0.81, dermatofibroma 0.17, nevus 0.01, pigmented_benign_keratosis 0.00, actinic_keratosis 0.00, 6.6ms\n",
      "Speed: 0.0ms preprocess, 6.6ms inference, 0.3ms postprocess per image at shape (1, 3, 224, 224)\n"
     ]
    },
    {
     "name": "stderr",
     "output_type": "stream",
     "text": [
      "\r",
      " 30%|████████████████████████                                                         | 35/118 [00:01<00:04, 19.00it/s]"
     ]
    },
    {
     "name": "stdout",
     "output_type": "stream",
     "text": [
      "\n",
      "0: 224x224 dermatofibroma 0.38, pigmented_benign_keratosis 0.20, melanoma 0.16, nevus 0.13, squamous_cell_carcinoma 0.09, 7.6ms\n",
      "Speed: 0.0ms preprocess, 7.6ms inference, 0.4ms postprocess per image at shape (1, 3, 224, 224)\n",
      "\n",
      "0: 224x224 dermatofibroma 0.80, pigmented_benign_keratosis 0.11, basal_cell_carcinoma 0.04, squamous_cell_carcinoma 0.04, nevus 0.01, 6.8ms\n",
      "Speed: 0.0ms preprocess, 6.8ms inference, 0.5ms postprocess per image at shape (1, 3, 224, 224)\n",
      "\n",
      "0: 224x224 melanoma 0.62, dermatofibroma 0.17, pigmented_benign_keratosis 0.11, basal_cell_carcinoma 0.05, nevus 0.02, 9.6ms\n",
      "Speed: 0.0ms preprocess, 9.6ms inference, 1.0ms postprocess per image at shape (1, 3, 224, 224)\n",
      "\n",
      "0: 224x224 nevus 0.86, melanoma 0.06, pigmented_benign_keratosis 0.03, actinic_keratosis 0.03, basal_cell_carcinoma 0.01, 7.8ms\n",
      "Speed: 0.0ms preprocess, 7.8ms inference, 0.3ms postprocess per image at shape (1, 3, 224, 224)\n"
     ]
    },
    {
     "name": "stderr",
     "output_type": "stream",
     "text": [
      "\r",
      " 33%|██████████████████████████▊                                                      | 39/118 [00:02<00:10,  7.36it/s]"
     ]
    },
    {
     "name": "stdout",
     "output_type": "stream",
     "text": [
      "\n",
      "0: 224x224 dermatofibroma 1.00, basal_cell_carcinoma 0.00, vascular_lesion 0.00, nevus 0.00, actinic_keratosis 0.00, 7.9ms\n",
      "Speed: 0.0ms preprocess, 7.9ms inference, 0.3ms postprocess per image at shape (1, 3, 224, 224)\n",
      "\n",
      "0: 224x224 basal_cell_carcinoma 0.95, dermatofibroma 0.03, pigmented_benign_keratosis 0.01, squamous_cell_carcinoma 0.00, nevus 0.00, 7.1ms\n",
      "Speed: 0.0ms preprocess, 7.1ms inference, 0.3ms postprocess per image at shape (1, 3, 224, 224)\n",
      "\n",
      "0: 224x224 dermatofibroma 1.00, vascular_lesion 0.00, pigmented_benign_keratosis 0.00, basal_cell_carcinoma 0.00, nevus 0.00, 6.9ms\n",
      "Speed: 0.0ms preprocess, 6.9ms inference, 0.4ms postprocess per image at shape (1, 3, 224, 224)\n",
      "\n",
      "0: 224x224 dermatofibroma 0.93, pigmented_benign_keratosis 0.04, vascular_lesion 0.02, basal_cell_carcinoma 0.01, nevus 0.00, 7.2ms\n",
      "Speed: 0.0ms preprocess, 7.2ms inference, 0.3ms postprocess per image at shape (1, 3, 224, 224)\n",
      "\n",
      "0: 224x224 dermatofibroma 0.99, vascular_lesion 0.01, basal_cell_carcinoma 0.01, pigmented_benign_keratosis 0.00, nevus 0.00, 6.9ms\n",
      "Speed: 0.0ms preprocess, 6.9ms inference, 0.3ms postprocess per image at shape (1, 3, 224, 224)\n",
      "\n",
      "0: 224x224 dermatofibroma 0.81, nevus 0.08, pigmented_benign_keratosis 0.07, melanoma 0.02, squamous_cell_carcinoma 0.00, 7.1ms\n",
      "Speed: 0.0ms preprocess, 7.1ms inference, 0.3ms postprocess per image at shape (1, 3, 224, 224)\n"
     ]
    },
    {
     "name": "stderr",
     "output_type": "stream",
     "text": [
      "\r",
      " 38%|██████████████████████████████▉                                                  | 45/118 [00:02<00:06, 10.60it/s]"
     ]
    },
    {
     "name": "stdout",
     "output_type": "stream",
     "text": [
      "\n",
      "0: 224x224 dermatofibroma 0.78, basal_cell_carcinoma 0.09, melanoma 0.04, squamous_cell_carcinoma 0.04, pigmented_benign_keratosis 0.04, 7.4ms\n",
      "Speed: 0.2ms preprocess, 7.4ms inference, 0.3ms postprocess per image at shape (1, 3, 224, 224)\n",
      "\n",
      "0: 224x224 dermatofibroma 1.00, pigmented_benign_keratosis 0.00, vascular_lesion 0.00, basal_cell_carcinoma 0.00, nevus 0.00, 6.9ms\n",
      "Speed: 0.0ms preprocess, 6.9ms inference, 0.3ms postprocess per image at shape (1, 3, 224, 224)\n",
      "\n",
      "0: 224x224 basal_cell_carcinoma 0.37, pigmented_benign_keratosis 0.33, actinic_keratosis 0.11, dermatofibroma 0.09, nevus 0.05, 7.1ms\n",
      "Speed: 0.0ms preprocess, 7.1ms inference, 0.3ms postprocess per image at shape (1, 3, 224, 224)\n",
      "\n",
      "0: 224x224 nevus 0.97, melanoma 0.02, pigmented_benign_keratosis 0.00, seborrheic_keratosis 0.00, dermatofibroma 0.00, 6.7ms\n",
      "Speed: 0.0ms preprocess, 6.7ms inference, 0.3ms postprocess per image at shape (1, 3, 224, 224)\n",
      "\n",
      "0: 224x224 pigmented_benign_keratosis 0.74, nevus 0.14, melanoma 0.10, seborrheic_keratosis 0.01, basal_cell_carcinoma 0.01, 7.2ms\n",
      "Speed: 0.0ms preprocess, 7.2ms inference, 0.3ms postprocess per image at shape (1, 3, 224, 224)\n"
     ]
    },
    {
     "name": "stderr",
     "output_type": "stream",
     "text": [
      "\r",
      " 42%|██████████████████████████████████▎                                              | 50/118 [00:03<00:04, 13.83it/s]"
     ]
    },
    {
     "name": "stdout",
     "output_type": "stream",
     "text": [
      "\n",
      "0: 224x224 nevus 0.48, melanoma 0.39, seborrheic_keratosis 0.13, pigmented_benign_keratosis 0.00, squamous_cell_carcinoma 0.00, 6.1ms\n",
      "Speed: 0.0ms preprocess, 6.1ms inference, 0.4ms postprocess per image at shape (1, 3, 224, 224)\n",
      "\n",
      "0: 224x224 nevus 1.00, melanoma 0.00, pigmented_benign_keratosis 0.00, seborrheic_keratosis 0.00, dermatofibroma 0.00, 7.1ms\n",
      "Speed: 0.0ms preprocess, 7.1ms inference, 0.3ms postprocess per image at shape (1, 3, 224, 224)\n",
      "\n",
      "0: 224x224 nevus 0.49, dermatofibroma 0.28, pigmented_benign_keratosis 0.12, melanoma 0.09, basal_cell_carcinoma 0.01, 7.0ms\n",
      "Speed: 0.0ms preprocess, 7.0ms inference, 0.5ms postprocess per image at shape (1, 3, 224, 224)\n",
      "\n",
      "0: 224x224 nevus 0.90, melanoma 0.10, seborrheic_keratosis 0.00, dermatofibroma 0.00, pigmented_benign_keratosis 0.00, 7.2ms\n",
      "Speed: 0.0ms preprocess, 7.2ms inference, 0.3ms postprocess per image at shape (1, 3, 224, 224)\n",
      "\n",
      "0: 224x224 nevus 0.38, pigmented_benign_keratosis 0.28, melanoma 0.22, basal_cell_carcinoma 0.07, squamous_cell_carcinoma 0.02, 5.6ms\n",
      "Speed: 0.0ms preprocess, 5.6ms inference, 0.2ms postprocess per image at shape (1, 3, 224, 224)\n"
     ]
    },
    {
     "name": "stderr",
     "output_type": "stream",
     "text": [
      "\r",
      " 47%|█████████████████████████████████████▊                                           | 55/118 [00:03<00:03, 17.26it/s]"
     ]
    },
    {
     "name": "stdout",
     "output_type": "stream",
     "text": [
      "\n",
      "0: 224x224 melanoma 0.72, pigmented_benign_keratosis 0.12, nevus 0.08, squamous_cell_carcinoma 0.06, seborrheic_keratosis 0.01, 6.0ms\n",
      "Speed: 0.1ms preprocess, 6.0ms inference, 0.2ms postprocess per image at shape (1, 3, 224, 224)\n",
      "\n",
      "0: 224x224 nevus 1.00, melanoma 0.00, pigmented_benign_keratosis 0.00, dermatofibroma 0.00, seborrheic_keratosis 0.00, 6.7ms\n",
      "Speed: 0.0ms preprocess, 6.7ms inference, 0.2ms postprocess per image at shape (1, 3, 224, 224)\n",
      "\n",
      "0: 224x224 nevus 0.49, melanoma 0.37, pigmented_benign_keratosis 0.08, seborrheic_keratosis 0.05, dermatofibroma 0.00, 6.6ms\n",
      "Speed: 0.0ms preprocess, 6.6ms inference, 0.3ms postprocess per image at shape (1, 3, 224, 224)\n",
      "\n",
      "0: 224x224 nevus 0.92, melanoma 0.05, dermatofibroma 0.01, pigmented_benign_keratosis 0.01, seborrheic_keratosis 0.00, 6.6ms\n",
      "Speed: 0.0ms preprocess, 6.6ms inference, 0.4ms postprocess per image at shape (1, 3, 224, 224)\n"
     ]
    },
    {
     "name": "stderr",
     "output_type": "stream",
     "text": [
      "\r",
      " 50%|████████████████████████████████████████▌                                        | 59/118 [00:03<00:02, 20.05it/s]"
     ]
    },
    {
     "name": "stdout",
     "output_type": "stream",
     "text": [
      "\n",
      "0: 224x224 nevus 0.67, melanoma 0.21, seborrheic_keratosis 0.11, pigmented_benign_keratosis 0.00, basal_cell_carcinoma 0.00, 6.9ms\n",
      "Speed: 0.0ms preprocess, 6.9ms inference, 0.3ms postprocess per image at shape (1, 3, 224, 224)\n",
      "\n",
      "0: 224x224 nevus 0.98, melanoma 0.02, seborrheic_keratosis 0.00, pigmented_benign_keratosis 0.00, dermatofibroma 0.00, 7.0ms\n",
      "Speed: 0.0ms preprocess, 7.0ms inference, 0.3ms postprocess per image at shape (1, 3, 224, 224)\n",
      "\n",
      "0: 224x224 melanoma 0.56, nevus 0.42, seborrheic_keratosis 0.02, pigmented_benign_keratosis 0.00, squamous_cell_carcinoma 0.00, 6.6ms\n",
      "Speed: 0.0ms preprocess, 6.6ms inference, 0.3ms postprocess per image at shape (1, 3, 224, 224)\n",
      "\n",
      "0: 224x224 nevus 0.77, melanoma 0.21, seborrheic_keratosis 0.02, dermatofibroma 0.00, pigmented_benign_keratosis 0.00, 10.0ms\n",
      "Speed: 0.0ms preprocess, 10.0ms inference, 0.3ms postprocess per image at shape (1, 3, 224, 224)\n"
     ]
    },
    {
     "name": "stderr",
     "output_type": "stream",
     "text": [
      "\r",
      " 53%|███████████████████████████████████████████▏                                     | 63/118 [00:03<00:02, 22.60it/s]"
     ]
    },
    {
     "name": "stdout",
     "output_type": "stream",
     "text": [
      "\n",
      "0: 224x224 nevus 0.87, melanoma 0.13, seborrheic_keratosis 0.00, pigmented_benign_keratosis 0.00, squamous_cell_carcinoma 0.00, 8.4ms\n",
      "Speed: 0.0ms preprocess, 8.4ms inference, 0.3ms postprocess per image at shape (1, 3, 224, 224)\n",
      "\n",
      "0: 224x224 nevus 1.00, melanoma 0.00, pigmented_benign_keratosis 0.00, seborrheic_keratosis 0.00, vascular_lesion 0.00, 10.1ms\n",
      "Speed: 0.1ms preprocess, 10.1ms inference, 0.3ms postprocess per image at shape (1, 3, 224, 224)\n",
      "\n",
      "0: 224x224 nevus 0.74, melanoma 0.16, seborrheic_keratosis 0.05, dermatofibroma 0.02, pigmented_benign_keratosis 0.01, 8.1ms\n",
      "Speed: 0.0ms preprocess, 8.1ms inference, 0.3ms postprocess per image at shape (1, 3, 224, 224)\n",
      "\n",
      "0: 224x224 nevus 0.89, melanoma 0.10, seborrheic_keratosis 0.01, pigmented_benign_keratosis 0.00, dermatofibroma 0.00, 7.1ms\n",
      "Speed: 0.0ms preprocess, 7.1ms inference, 0.3ms postprocess per image at shape (1, 3, 224, 224)\n",
      "\n",
      "0: 224x224 nevus 0.99, pigmented_benign_keratosis 0.01, melanoma 0.00, seborrheic_keratosis 0.00, dermatofibroma 0.00, 7.4ms\n",
      "Speed: 0.0ms preprocess, 7.4ms inference, 0.3ms postprocess per image at shape (1, 3, 224, 224)\n"
     ]
    },
    {
     "name": "stderr",
     "output_type": "stream",
     "text": [
      "\r",
      " 58%|██████████████████████████████████████████████▋                                  | 68/118 [00:03<00:01, 26.71it/s]"
     ]
    },
    {
     "name": "stdout",
     "output_type": "stream",
     "text": [
      "\n",
      "0: 224x224 nevus 0.99, pigmented_benign_keratosis 0.01, melanoma 0.00, seborrheic_keratosis 0.00, dermatofibroma 0.00, 7.1ms\n",
      "Speed: 0.0ms preprocess, 7.1ms inference, 0.3ms postprocess per image at shape (1, 3, 224, 224)\n",
      "\n",
      "0: 224x224 nevus 0.99, pigmented_benign_keratosis 0.01, melanoma 0.00, vascular_lesion 0.00, seborrheic_keratosis 0.00, 7.8ms\n",
      "Speed: 0.0ms preprocess, 7.8ms inference, 0.3ms postprocess per image at shape (1, 3, 224, 224)\n",
      "\n",
      "0: 224x224 nevus 0.96, melanoma 0.04, seborrheic_keratosis 0.00, pigmented_benign_keratosis 0.00, dermatofibroma 0.00, 6.7ms\n",
      "Speed: 0.0ms preprocess, 6.7ms inference, 0.3ms postprocess per image at shape (1, 3, 224, 224)\n",
      "\n",
      "0: 224x224 nevus 0.99, melanoma 0.01, pigmented_benign_keratosis 0.00, seborrheic_keratosis 0.00, dermatofibroma 0.00, 6.9ms\n",
      "Speed: 0.1ms preprocess, 6.9ms inference, 0.2ms postprocess per image at shape (1, 3, 224, 224)\n",
      "\n",
      "0: 224x224 nevus 0.83, pigmented_benign_keratosis 0.10, melanoma 0.05, seborrheic_keratosis 0.02, basal_cell_carcinoma 0.00, 6.8ms\n",
      "Speed: 0.0ms preprocess, 6.8ms inference, 0.4ms postprocess per image at shape (1, 3, 224, 224)\n"
     ]
    },
    {
     "name": "stderr",
     "output_type": "stream",
     "text": [
      "\r",
      " 62%|██████████████████████████████████████████████████                               | 73/118 [00:03<00:01, 31.12it/s]"
     ]
    },
    {
     "name": "stdout",
     "output_type": "stream",
     "text": [
      "\n",
      "0: 224x224 nevus 0.92, melanoma 0.07, seborrheic_keratosis 0.00, pigmented_benign_keratosis 0.00, dermatofibroma 0.00, 6.8ms\n",
      "Speed: 0.0ms preprocess, 6.8ms inference, 0.3ms postprocess per image at shape (1, 3, 224, 224)\n",
      "\n",
      "0: 224x224 nevus 0.93, pigmented_benign_keratosis 0.06, melanoma 0.01, dermatofibroma 0.00, seborrheic_keratosis 0.00, 6.5ms\n",
      "Speed: 0.0ms preprocess, 6.5ms inference, 0.3ms postprocess per image at shape (1, 3, 224, 224)\n",
      "\n",
      "0: 224x224 nevus 0.98, melanoma 0.01, dermatofibroma 0.00, pigmented_benign_keratosis 0.00, seborrheic_keratosis 0.00, 6.8ms\n",
      "Speed: 0.0ms preprocess, 6.8ms inference, 0.3ms postprocess per image at shape (1, 3, 224, 224)\n",
      "\n",
      "0: 224x224 nevus 0.99, melanoma 0.01, pigmented_benign_keratosis 0.00, seborrheic_keratosis 0.00, dermatofibroma 0.00, 10.8ms\n",
      "Speed: 0.0ms preprocess, 10.8ms inference, 0.3ms postprocess per image at shape (1, 3, 224, 224)\n",
      "\n",
      "0: 224x224 nevus 0.99, melanoma 0.01, pigmented_benign_keratosis 0.00, seborrheic_keratosis 0.00, vascular_lesion 0.00, 6.3ms\n",
      "Speed: 0.0ms preprocess, 6.3ms inference, 0.3ms postprocess per image at shape (1, 3, 224, 224)\n",
      "\n",
      "0: 224x224 nevus 0.99, melanoma 0.00, pigmented_benign_keratosis 0.00, seborrheic_keratosis 0.00, actinic_keratosis 0.00, 9.2ms\n",
      "Speed: 0.0ms preprocess, 9.2ms inference, 0.4ms postprocess per image at shape (1, 3, 224, 224)\n"
     ]
    },
    {
     "name": "stderr",
     "output_type": "stream",
     "text": [
      "\r",
      " 67%|██████████████████████████████████████████████████████▏                          | 79/118 [00:03<00:01, 35.04it/s]"
     ]
    },
    {
     "name": "stdout",
     "output_type": "stream",
     "text": [
      "\n",
      "0: 224x224 nevus 0.91, melanoma 0.08, seborrheic_keratosis 0.01, pigmented_benign_keratosis 0.00, squamous_cell_carcinoma 0.00, 7.8ms\n",
      "Speed: 0.0ms preprocess, 7.8ms inference, 0.3ms postprocess per image at shape (1, 3, 224, 224)\n",
      "\n",
      "0: 224x224 pigmented_benign_keratosis 0.93, squamous_cell_carcinoma 0.03, basal_cell_carcinoma 0.03, nevus 0.01, actinic_keratosis 0.00, 12.4ms\n",
      "Speed: 0.0ms preprocess, 12.4ms inference, 0.5ms postprocess per image at shape (1, 3, 224, 224)\n",
      "\n",
      "0: 224x224 pigmented_benign_keratosis 0.98, nevus 0.02, basal_cell_carcinoma 0.01, actinic_keratosis 0.00, dermatofibroma 0.00, 12.3ms\n",
      "Speed: 0.0ms preprocess, 12.3ms inference, 0.3ms postprocess per image at shape (1, 3, 224, 224)\n",
      "\n",
      "0: 224x224 pigmented_benign_keratosis 0.98, nevus 0.01, squamous_cell_carcinoma 0.01, basal_cell_carcinoma 0.00, dermatofibroma 0.00, 19.1ms\n",
      "Speed: 0.0ms preprocess, 19.1ms inference, 0.3ms postprocess per image at shape (1, 3, 224, 224)\n",
      "\n",
      "0: 224x224 pigmented_benign_keratosis 1.00, nevus 0.00, dermatofibroma 0.00, vascular_lesion 0.00, melanoma 0.00, 8.7ms\n",
      "Speed: 0.0ms preprocess, 8.7ms inference, 0.6ms postprocess per image at shape (1, 3, 224, 224)\n"
     ]
    },
    {
     "name": "stderr",
     "output_type": "stream",
     "text": [
      "\r",
      " 71%|█████████████████████████████████████████████████████████▋                       | 84/118 [00:03<00:00, 35.32it/s]"
     ]
    },
    {
     "name": "stdout",
     "output_type": "stream",
     "text": [
      "\n",
      "0: 224x224 pigmented_benign_keratosis 0.99, dermatofibroma 0.00, nevus 0.00, melanoma 0.00, actinic_keratosis 0.00, 8.3ms\n",
      "Speed: 0.0ms preprocess, 8.3ms inference, 0.3ms postprocess per image at shape (1, 3, 224, 224)\n",
      "\n",
      "0: 224x224 pigmented_benign_keratosis 0.99, actinic_keratosis 0.00, nevus 0.00, squamous_cell_carcinoma 0.00, melanoma 0.00, 7.7ms\n",
      "Speed: 0.0ms preprocess, 7.7ms inference, 0.3ms postprocess per image at shape (1, 3, 224, 224)\n",
      "\n",
      "0: 224x224 nevus 0.61, pigmented_benign_keratosis 0.25, melanoma 0.12, dermatofibroma 0.02, basal_cell_carcinoma 0.01, 8.6ms\n",
      "Speed: 0.0ms preprocess, 8.6ms inference, 0.4ms postprocess per image at shape (1, 3, 224, 224)\n",
      "\n",
      "0: 224x224 pigmented_benign_keratosis 0.44, squamous_cell_carcinoma 0.33, melanoma 0.14, nevus 0.05, actinic_keratosis 0.01, 6.7ms\n",
      "Speed: 0.0ms preprocess, 6.7ms inference, 0.4ms postprocess per image at shape (1, 3, 224, 224)\n",
      "\n",
      "0: 224x224 pigmented_benign_keratosis 0.92, actinic_keratosis 0.05, nevus 0.02, melanoma 0.00, squamous_cell_carcinoma 0.00, 7.7ms\n",
      "Speed: 0.0ms preprocess, 7.7ms inference, 0.3ms postprocess per image at shape (1, 3, 224, 224)\n"
     ]
    },
    {
     "name": "stderr",
     "output_type": "stream",
     "text": [
      "\r",
      " 75%|█████████████████████████████████████████████████████████████                    | 89/118 [00:03<00:00, 38.55it/s]"
     ]
    },
    {
     "name": "stdout",
     "output_type": "stream",
     "text": [
      "\n",
      "0: 224x224 pigmented_benign_keratosis 1.00, vascular_lesion 0.00, melanoma 0.00, nevus 0.00, squamous_cell_carcinoma 0.00, 7.6ms\n",
      "Speed: 0.0ms preprocess, 7.6ms inference, 0.3ms postprocess per image at shape (1, 3, 224, 224)\n",
      "\n",
      "0: 224x224 pigmented_benign_keratosis 0.99, nevus 0.01, basal_cell_carcinoma 0.00, melanoma 0.00, actinic_keratosis 0.00, 10.3ms\n",
      "Speed: 0.0ms preprocess, 10.3ms inference, 0.3ms postprocess per image at shape (1, 3, 224, 224)\n",
      "\n",
      "0: 224x224 pigmented_benign_keratosis 0.90, nevus 0.08, basal_cell_carcinoma 0.01, melanoma 0.00, actinic_keratosis 0.00, 6.7ms\n",
      "Speed: 0.0ms preprocess, 6.7ms inference, 0.3ms postprocess per image at shape (1, 3, 224, 224)\n",
      "\n",
      "0: 224x224 basal_cell_carcinoma 0.93, dermatofibroma 0.03, nevus 0.02, pigmented_benign_keratosis 0.01, melanoma 0.01, 7.9ms\n",
      "Speed: 0.0ms preprocess, 7.9ms inference, 0.3ms postprocess per image at shape (1, 3, 224, 224)\n",
      "\n",
      "0: 224x224 pigmented_benign_keratosis 0.63, actinic_keratosis 0.19, nevus 0.16, melanoma 0.01, squamous_cell_carcinoma 0.01, 7.0ms\n",
      "Speed: 0.0ms preprocess, 7.0ms inference, 0.2ms postprocess per image at shape (1, 3, 224, 224)\n"
     ]
    },
    {
     "name": "stderr",
     "output_type": "stream",
     "text": [
      "\r",
      " 80%|████████████████████████████████████████████████████████████████▌                | 94/118 [00:04<00:00, 41.36it/s]"
     ]
    },
    {
     "name": "stdout",
     "output_type": "stream",
     "text": [
      "\n",
      "0: 224x224 pigmented_benign_keratosis 0.61, squamous_cell_carcinoma 0.17, nevus 0.07, basal_cell_carcinoma 0.06, melanoma 0.05, 7.6ms\n",
      "Speed: 0.0ms preprocess, 7.6ms inference, 0.3ms postprocess per image at shape (1, 3, 224, 224)\n",
      "\n",
      "0: 224x224 basal_cell_carcinoma 0.51, nevus 0.35, melanoma 0.05, actinic_keratosis 0.04, pigmented_benign_keratosis 0.04, 7.0ms\n",
      "Speed: 0.0ms preprocess, 7.0ms inference, 0.3ms postprocess per image at shape (1, 3, 224, 224)\n",
      "\n",
      "0: 224x224 melanoma 0.58, nevus 0.35, seborrheic_keratosis 0.07, pigmented_benign_keratosis 0.00, actinic_keratosis 0.00, 7.5ms\n",
      "Speed: 0.0ms preprocess, 7.5ms inference, 0.3ms postprocess per image at shape (1, 3, 224, 224)\n",
      "\n",
      "0: 224x224 melanoma 0.85, seborrheic_keratosis 0.14, nevus 0.00, basal_cell_carcinoma 0.00, pigmented_benign_keratosis 0.00, 7.1ms\n",
      "Speed: 0.0ms preprocess, 7.1ms inference, 0.3ms postprocess per image at shape (1, 3, 224, 224)\n",
      "\n",
      "0: 224x224 melanoma 0.94, seborrheic_keratosis 0.05, nevus 0.00, pigmented_benign_keratosis 0.00, actinic_keratosis 0.00, 7.4ms\n",
      "Speed: 0.0ms preprocess, 7.4ms inference, 0.3ms postprocess per image at shape (1, 3, 224, 224)\n",
      "\n",
      "0: 224x224 squamous_cell_carcinoma 0.48, melanoma 0.22, nevus 0.13, pigmented_benign_keratosis 0.11, seborrheic_keratosis 0.05, 8.1ms\n",
      "Speed: 0.0ms preprocess, 8.1ms inference, 0.3ms postprocess per image at shape (1, 3, 224, 224)\n"
     ]
    },
    {
     "name": "stderr",
     "output_type": "stream",
     "text": [
      "\r",
      " 85%|███████████████████████████████████████████████████████████████████▊            | 100/118 [00:04<00:00, 22.28it/s]"
     ]
    },
    {
     "name": "stdout",
     "output_type": "stream",
     "text": [
      "\n",
      "0: 224x224 melanoma 0.55, pigmented_benign_keratosis 0.20, dermatofibroma 0.17, vascular_lesion 0.03, nevus 0.03, 7.9ms\n",
      "Speed: 0.0ms preprocess, 7.9ms inference, 0.3ms postprocess per image at shape (1, 3, 224, 224)\n",
      "\n",
      "0: 224x224 squamous_cell_carcinoma 0.92, actinic_keratosis 0.04, basal_cell_carcinoma 0.02, nevus 0.02, melanoma 0.00, 8.3ms\n",
      "Speed: 0.0ms preprocess, 8.3ms inference, 0.5ms postprocess per image at shape (1, 3, 224, 224)\n",
      "\n",
      "0: 224x224 squamous_cell_carcinoma 0.80, basal_cell_carcinoma 0.13, actinic_keratosis 0.05, nevus 0.02, melanoma 0.00, 7.3ms\n",
      "Speed: 0.0ms preprocess, 7.3ms inference, 0.4ms postprocess per image at shape (1, 3, 224, 224)\n",
      "\n",
      "0: 224x224 basal_cell_carcinoma 1.00, nevus 0.00, pigmented_benign_keratosis 0.00, vascular_lesion 0.00, melanoma 0.00, 10.3ms\n",
      "Speed: 0.0ms preprocess, 10.3ms inference, 0.3ms postprocess per image at shape (1, 3, 224, 224)\n"
     ]
    },
    {
     "name": "stderr",
     "output_type": "stream",
     "text": [
      "\r",
      " 88%|██████████████████████████████████████████████████████████████████████▌         | 104/118 [00:06<00:01,  8.08it/s]"
     ]
    },
    {
     "name": "stdout",
     "output_type": "stream",
     "text": [
      "\n",
      "0: 224x224 basal_cell_carcinoma 0.82, squamous_cell_carcinoma 0.15, actinic_keratosis 0.02, pigmented_benign_keratosis 0.01, nevus 0.01, 7.3ms\n",
      "Speed: 0.0ms preprocess, 7.3ms inference, 0.5ms postprocess per image at shape (1, 3, 224, 224)\n",
      "\n",
      "0: 224x224 squamous_cell_carcinoma 0.64, pigmented_benign_keratosis 0.15, actinic_keratosis 0.14, dermatofibroma 0.05, nevus 0.02, 6.8ms\n",
      "Speed: 0.0ms preprocess, 6.8ms inference, 0.4ms postprocess per image at shape (1, 3, 224, 224)\n",
      "\n",
      "0: 224x224 pigmented_benign_keratosis 0.44, nevus 0.24, melanoma 0.17, squamous_cell_carcinoma 0.10, seborrheic_keratosis 0.03, 7.4ms\n",
      "Speed: 0.0ms preprocess, 7.4ms inference, 0.3ms postprocess per image at shape (1, 3, 224, 224)\n",
      "\n",
      "0: 224x224 squamous_cell_carcinoma 0.71, basal_cell_carcinoma 0.15, melanoma 0.11, nevus 0.02, seborrheic_keratosis 0.01, 7.0ms\n",
      "Speed: 0.0ms preprocess, 7.0ms inference, 0.2ms postprocess per image at shape (1, 3, 224, 224)\n",
      "\n",
      "0: 224x224 squamous_cell_carcinoma 0.64, pigmented_benign_keratosis 0.14, actinic_keratosis 0.11, nevus 0.05, melanoma 0.03, 8.1ms\n",
      "Speed: 0.0ms preprocess, 8.1ms inference, 0.3ms postprocess per image at shape (1, 3, 224, 224)\n",
      "\n",
      "0: 224x224 basal_cell_carcinoma 0.40, dermatofibroma 0.21, pigmented_benign_keratosis 0.14, nevus 0.09, squamous_cell_carcinoma 0.08, 6.6ms\n",
      "Speed: 0.0ms preprocess, 6.6ms inference, 0.3ms postprocess per image at shape (1, 3, 224, 224)\n"
     ]
    },
    {
     "name": "stderr",
     "output_type": "stream",
     "text": [
      "\r",
      " 93%|██████████████████████████████████████████████████████████████████████████▌     | 110/118 [00:06<00:00, 11.39it/s]"
     ]
    },
    {
     "name": "stdout",
     "output_type": "stream",
     "text": [
      "\n",
      "0: 224x224 basal_cell_carcinoma 0.51, dermatofibroma 0.17, pigmented_benign_keratosis 0.14, squamous_cell_carcinoma 0.10, nevus 0.05, 6.7ms\n",
      "Speed: 0.0ms preprocess, 6.7ms inference, 0.3ms postprocess per image at shape (1, 3, 224, 224)\n",
      "\n",
      "0: 224x224 pigmented_benign_keratosis 0.95, basal_cell_carcinoma 0.03, actinic_keratosis 0.01, squamous_cell_carcinoma 0.01, nevus 0.00, 6.5ms\n",
      "Speed: 0.0ms preprocess, 6.5ms inference, 0.3ms postprocess per image at shape (1, 3, 224, 224)\n",
      "\n",
      "0: 224x224 squamous_cell_carcinoma 0.32, basal_cell_carcinoma 0.25, pigmented_benign_keratosis 0.14, nevus 0.11, melanoma 0.08, 6.8ms\n",
      "Speed: 0.1ms preprocess, 6.8ms inference, 0.3ms postprocess per image at shape (1, 3, 224, 224)\n",
      "\n",
      "0: 224x224 squamous_cell_carcinoma 0.26, actinic_keratosis 0.20, pigmented_benign_keratosis 0.20, nevus 0.15, dermatofibroma 0.14, 6.9ms\n",
      "Speed: 0.0ms preprocess, 6.9ms inference, 0.3ms postprocess per image at shape (1, 3, 224, 224)\n",
      "\n",
      "0: 224x224 squamous_cell_carcinoma 0.93, pigmented_benign_keratosis 0.03, melanoma 0.02, seborrheic_keratosis 0.01, actinic_keratosis 0.01, 6.7ms\n",
      "Speed: 0.0ms preprocess, 6.7ms inference, 0.3ms postprocess per image at shape (1, 3, 224, 224)\n",
      "\n",
      "0: 224x224 vascular_lesion 1.00, basal_cell_carcinoma 0.00, pigmented_benign_keratosis 0.00, nevus 0.00, seborrheic_keratosis 0.00, 6.9ms\n",
      "Speed: 0.0ms preprocess, 6.9ms inference, 0.3ms postprocess per image at shape (1, 3, 224, 224)\n"
     ]
    },
    {
     "name": "stderr",
     "output_type": "stream",
     "text": [
      "\r",
      " 98%|██████████████████████████████████████████████████████████████████████████████▋ | 116/118 [00:06<00:00, 15.41it/s]"
     ]
    },
    {
     "name": "stdout",
     "output_type": "stream",
     "text": [
      "\n",
      "0: 224x224 vascular_lesion 1.00, basal_cell_carcinoma 0.00, pigmented_benign_keratosis 0.00, dermatofibroma 0.00, nevus 0.00, 7.3ms\n",
      "Speed: 0.0ms preprocess, 7.3ms inference, 0.3ms postprocess per image at shape (1, 3, 224, 224)\n",
      "\n",
      "0: 224x224 vascular_lesion 1.00, pigmented_benign_keratosis 0.00, basal_cell_carcinoma 0.00, nevus 0.00, melanoma 0.00, 8.1ms\n",
      "Speed: 0.0ms preprocess, 8.1ms inference, 0.3ms postprocess per image at shape (1, 3, 224, 224)\n"
     ]
    },
    {
     "name": "stderr",
     "output_type": "stream",
     "text": [
      "100%|████████████████████████████████████████████████████████████████████████████████| 118/118 [00:06<00:00, 18.76it/s]\n"
     ]
    },
    {
     "name": "stdout",
     "output_type": "stream",
     "text": [
      "Processing: yolov8s\n"
     ]
    },
    {
     "name": "stderr",
     "output_type": "stream",
     "text": [
      "\r",
      "  0%|                                                                                          | 0/118 [00:00<?, ?it/s]"
     ]
    },
    {
     "name": "stdout",
     "output_type": "stream",
     "text": [
      "\n",
      "0: 224x224 melanoma 0.68, seborrheic_keratosis 0.20, pigmented_benign_keratosis 0.05, actinic_keratosis 0.03, nevus 0.02, 20.9ms\n",
      "Speed: 0.0ms preprocess, 20.9ms inference, 0.3ms postprocess per image at shape (1, 3, 224, 224)\n",
      "\n",
      "0: 224x224 nevus 0.88, melanoma 0.12, seborrheic_keratosis 0.00, pigmented_benign_keratosis 0.00, squamous_cell_carcinoma 0.00, 12.8ms\n",
      "Speed: 0.0ms preprocess, 12.8ms inference, 0.3ms postprocess per image at shape (1, 3, 224, 224)\n"
     ]
    },
    {
     "name": "stderr",
     "output_type": "stream",
     "text": [
      "\r",
      "  2%|█▍                                                                                | 2/118 [00:00<00:06, 17.44it/s]"
     ]
    },
    {
     "name": "stdout",
     "output_type": "stream",
     "text": [
      "\n",
      "0: 224x224 actinic_keratosis 0.55, nevus 0.44, squamous_cell_carcinoma 0.01, melanoma 0.00, basal_cell_carcinoma 0.00, 13.7ms\n",
      "Speed: 0.2ms preprocess, 13.7ms inference, 0.3ms postprocess per image at shape (1, 3, 224, 224)\n",
      "\n",
      "0: 224x224 actinic_keratosis 0.33, nevus 0.24, squamous_cell_carcinoma 0.14, dermatofibroma 0.10, basal_cell_carcinoma 0.06, 12.1ms\n",
      "Speed: 0.1ms preprocess, 12.1ms inference, 0.3ms postprocess per image at shape (1, 3, 224, 224)\n",
      "\n",
      "0: 224x224 pigmented_benign_keratosis 0.43, basal_cell_carcinoma 0.30, nevus 0.08, actinic_keratosis 0.07, squamous_cell_carcinoma 0.04, 13.5ms\n",
      "Speed: 0.0ms preprocess, 13.5ms inference, 0.3ms postprocess per image at shape (1, 3, 224, 224)\n",
      "\n",
      "0: 224x224 pigmented_benign_keratosis 0.46, actinic_keratosis 0.27, nevus 0.20, squamous_cell_carcinoma 0.03, melanoma 0.03, 13.3ms\n",
      "Speed: 0.0ms preprocess, 13.3ms inference, 0.6ms postprocess per image at shape (1, 3, 224, 224)\n",
      "\n",
      "0: 224x224 pigmented_benign_keratosis 0.67, basal_cell_carcinoma 0.14, dermatofibroma 0.08, melanoma 0.06, nevus 0.03, 13.2ms\n",
      "Speed: 0.0ms preprocess, 13.2ms inference, 0.4ms postprocess per image at shape (1, 3, 224, 224)\n"
     ]
    },
    {
     "name": "stderr",
     "output_type": "stream",
     "text": [
      "\r",
      "  6%|████▊                                                                             | 7/118 [00:00<00:03, 31.36it/s]"
     ]
    },
    {
     "name": "stdout",
     "output_type": "stream",
     "text": [
      "\n",
      "0: 224x224 pigmented_benign_keratosis 0.81, nevus 0.10, actinic_keratosis 0.05, squamous_cell_carcinoma 0.02, melanoma 0.01, 13.5ms\n",
      "Speed: 0.1ms preprocess, 13.5ms inference, 0.5ms postprocess per image at shape (1, 3, 224, 224)\n",
      "\n",
      "0: 224x224 actinic_keratosis 0.52, nevus 0.23, melanoma 0.12, squamous_cell_carcinoma 0.08, pigmented_benign_keratosis 0.03, 13.2ms\n",
      "Speed: 0.0ms preprocess, 13.2ms inference, 0.5ms postprocess per image at shape (1, 3, 224, 224)\n",
      "\n",
      "0: 224x224 actinic_keratosis 0.52, nevus 0.44, squamous_cell_carcinoma 0.02, melanoma 0.01, basal_cell_carcinoma 0.01, 13.2ms\n",
      "Speed: 0.0ms preprocess, 13.2ms inference, 0.6ms postprocess per image at shape (1, 3, 224, 224)\n",
      "\n",
      "0: 224x224 squamous_cell_carcinoma 0.80, dermatofibroma 0.05, actinic_keratosis 0.04, pigmented_benign_keratosis 0.04, melanoma 0.04, 12.8ms\n",
      "Speed: 0.0ms preprocess, 12.8ms inference, 0.4ms postprocess per image at shape (1, 3, 224, 224)\n",
      "\n",
      "0: 224x224 actinic_keratosis 0.37, basal_cell_carcinoma 0.23, nevus 0.16, squamous_cell_carcinoma 0.09, dermatofibroma 0.06, 12.9ms\n",
      "Speed: 0.0ms preprocess, 12.9ms inference, 0.3ms postprocess per image at shape (1, 3, 224, 224)\n"
     ]
    },
    {
     "name": "stderr",
     "output_type": "stream",
     "text": [
      "\r",
      " 10%|████████▏                                                                        | 12/118 [00:00<00:02, 35.47it/s]"
     ]
    },
    {
     "name": "stdout",
     "output_type": "stream",
     "text": [
      "\n",
      "0: 224x224 pigmented_benign_keratosis 0.88, actinic_keratosis 0.03, nevus 0.03, melanoma 0.02, squamous_cell_carcinoma 0.02, 15.6ms\n",
      "Speed: 0.0ms preprocess, 15.6ms inference, 0.3ms postprocess per image at shape (1, 3, 224, 224)\n",
      "\n",
      "0: 224x224 actinic_keratosis 0.40, nevus 0.23, pigmented_benign_keratosis 0.18, melanoma 0.09, squamous_cell_carcinoma 0.07, 12.1ms\n",
      "Speed: 0.0ms preprocess, 12.1ms inference, 0.3ms postprocess per image at shape (1, 3, 224, 224)\n",
      "\n",
      "0: 224x224 nevus 0.23, squamous_cell_carcinoma 0.22, actinic_keratosis 0.21, basal_cell_carcinoma 0.19, pigmented_benign_keratosis 0.15, 12.1ms\n",
      "Speed: 0.1ms preprocess, 12.1ms inference, 0.5ms postprocess per image at shape (1, 3, 224, 224)\n",
      "\n",
      "0: 224x224 pigmented_benign_keratosis 0.89, squamous_cell_carcinoma 0.03, basal_cell_carcinoma 0.03, actinic_keratosis 0.02, dermatofibroma 0.01, 22.1ms\n",
      "Speed: 0.0ms preprocess, 22.1ms inference, 0.4ms postprocess per image at shape (1, 3, 224, 224)\n"
     ]
    },
    {
     "name": "stderr",
     "output_type": "stream",
     "text": [
      "\r",
      " 14%|██████████▉                                                                      | 16/118 [00:00<00:02, 35.92it/s]"
     ]
    },
    {
     "name": "stdout",
     "output_type": "stream",
     "text": [
      "\n",
      "0: 224x224 basal_cell_carcinoma 0.99, squamous_cell_carcinoma 0.00, melanoma 0.00, actinic_keratosis 0.00, dermatofibroma 0.00, 13.4ms\n",
      "Speed: 0.0ms preprocess, 13.4ms inference, 0.3ms postprocess per image at shape (1, 3, 224, 224)\n",
      "\n",
      "0: 224x224 basal_cell_carcinoma 0.50, squamous_cell_carcinoma 0.45, nevus 0.02, pigmented_benign_keratosis 0.01, melanoma 0.01, 12.3ms\n",
      "Speed: 0.0ms preprocess, 12.3ms inference, 0.3ms postprocess per image at shape (1, 3, 224, 224)\n",
      "\n",
      "0: 224x224 basal_cell_carcinoma 0.34, squamous_cell_carcinoma 0.27, actinic_keratosis 0.11, nevus 0.11, pigmented_benign_keratosis 0.10, 13.6ms\n",
      "Speed: 0.0ms preprocess, 13.6ms inference, 0.4ms postprocess per image at shape (1, 3, 224, 224)\n",
      "\n",
      "0: 224x224 basal_cell_carcinoma 0.96, pigmented_benign_keratosis 0.03, melanoma 0.00, dermatofibroma 0.00, nevus 0.00, 15.3ms\n",
      "Speed: 0.0ms preprocess, 15.3ms inference, 0.3ms postprocess per image at shape (1, 3, 224, 224)\n"
     ]
    },
    {
     "name": "stderr",
     "output_type": "stream",
     "text": [
      "\r",
      " 17%|█████████████▋                                                                   | 20/118 [00:00<00:02, 36.96it/s]"
     ]
    },
    {
     "name": "stdout",
     "output_type": "stream",
     "text": [
      "\n",
      "0: 224x224 basal_cell_carcinoma 0.78, squamous_cell_carcinoma 0.14, pigmented_benign_keratosis 0.05, actinic_keratosis 0.01, nevus 0.01, 13.9ms\n",
      "Speed: 0.0ms preprocess, 13.9ms inference, 0.3ms postprocess per image at shape (1, 3, 224, 224)\n",
      "\n",
      "0: 224x224 pigmented_benign_keratosis 0.54, basal_cell_carcinoma 0.30, melanoma 0.06, actinic_keratosis 0.04, squamous_cell_carcinoma 0.02, 28.5ms\n",
      "Speed: 0.0ms preprocess, 28.5ms inference, 0.7ms postprocess per image at shape (1, 3, 224, 224)\n",
      "\n",
      "0: 224x224 pigmented_benign_keratosis 0.42, melanoma 0.23, basal_cell_carcinoma 0.23, nevus 0.05, squamous_cell_carcinoma 0.03, 18.0ms\n",
      "Speed: 0.0ms preprocess, 18.0ms inference, 0.4ms postprocess per image at shape (1, 3, 224, 224)\n",
      "\n",
      "0: 224x224 melanoma 0.44, pigmented_benign_keratosis 0.21, nevus 0.13, seborrheic_keratosis 0.13, basal_cell_carcinoma 0.05, 17.2ms\n",
      "Speed: 0.0ms preprocess, 17.2ms inference, 0.4ms postprocess per image at shape (1, 3, 224, 224)\n"
     ]
    },
    {
     "name": "stderr",
     "output_type": "stream",
     "text": [
      "\r",
      " 20%|████████████████▍                                                                | 24/118 [00:00<00:02, 34.20it/s]"
     ]
    },
    {
     "name": "stdout",
     "output_type": "stream",
     "text": [
      "\n",
      "0: 224x224 basal_cell_carcinoma 1.00, squamous_cell_carcinoma 0.00, pigmented_benign_keratosis 0.00, dermatofibroma 0.00, nevus 0.00, 19.8ms\n",
      "Speed: 0.0ms preprocess, 19.8ms inference, 0.4ms postprocess per image at shape (1, 3, 224, 224)\n",
      "\n",
      "0: 224x224 basal_cell_carcinoma 0.99, squamous_cell_carcinoma 0.00, pigmented_benign_keratosis 0.00, vascular_lesion 0.00, melanoma 0.00, 15.6ms\n",
      "Speed: 0.0ms preprocess, 15.6ms inference, 0.3ms postprocess per image at shape (1, 3, 224, 224)\n",
      "\n",
      "0: 224x224 basal_cell_carcinoma 0.99, squamous_cell_carcinoma 0.01, actinic_keratosis 0.00, nevus 0.00, dermatofibroma 0.00, 26.2ms\n",
      "Speed: 0.0ms preprocess, 26.2ms inference, 0.7ms postprocess per image at shape (1, 3, 224, 224)\n",
      "\n",
      "0: 224x224 basal_cell_carcinoma 0.99, melanoma 0.00, nevus 0.00, squamous_cell_carcinoma 0.00, seborrheic_keratosis 0.00, 18.6ms\n",
      "Speed: 0.0ms preprocess, 18.6ms inference, 0.6ms postprocess per image at shape (1, 3, 224, 224)\n"
     ]
    },
    {
     "name": "stderr",
     "output_type": "stream",
     "text": [
      "\r",
      " 24%|███████████████████▏                                                             | 28/118 [00:00<00:02, 33.00it/s]"
     ]
    },
    {
     "name": "stdout",
     "output_type": "stream",
     "text": [
      "\n",
      "0: 224x224 basal_cell_carcinoma 1.00, squamous_cell_carcinoma 0.00, melanoma 0.00, pigmented_benign_keratosis 0.00, seborrheic_keratosis 0.00, 14.8ms\n",
      "Speed: 0.0ms preprocess, 14.8ms inference, 0.3ms postprocess per image at shape (1, 3, 224, 224)\n",
      "\n",
      "0: 224x224 basal_cell_carcinoma 0.97, pigmented_benign_keratosis 0.01, melanoma 0.01, squamous_cell_carcinoma 0.00, nevus 0.00, 14.4ms\n",
      "Speed: 0.0ms preprocess, 14.4ms inference, 0.3ms postprocess per image at shape (1, 3, 224, 224)\n",
      "\n",
      "0: 224x224 basal_cell_carcinoma 0.98, squamous_cell_carcinoma 0.02, melanoma 0.00, dermatofibroma 0.00, pigmented_benign_keratosis 0.00, 14.3ms\n",
      "Speed: 0.0ms preprocess, 14.3ms inference, 0.4ms postprocess per image at shape (1, 3, 224, 224)\n",
      "\n",
      "0: 224x224 basal_cell_carcinoma 1.00, squamous_cell_carcinoma 0.00, melanoma 0.00, pigmented_benign_keratosis 0.00, seborrheic_keratosis 0.00, 17.6ms\n",
      "Speed: 0.0ms preprocess, 17.6ms inference, 0.3ms postprocess per image at shape (1, 3, 224, 224)\n"
     ]
    },
    {
     "name": "stderr",
     "output_type": "stream",
     "text": [
      "\r",
      " 27%|█████████████████████▉                                                           | 32/118 [00:00<00:02, 33.94it/s]"
     ]
    },
    {
     "name": "stdout",
     "output_type": "stream",
     "text": [
      "\n",
      "0: 224x224 melanoma 0.69, seborrheic_keratosis 0.21, nevus 0.08, basal_cell_carcinoma 0.01, pigmented_benign_keratosis 0.01, 12.4ms\n",
      "Speed: 0.0ms preprocess, 12.4ms inference, 0.3ms postprocess per image at shape (1, 3, 224, 224)\n",
      "\n",
      "0: 224x224 nevus 0.83, melanoma 0.12, pigmented_benign_keratosis 0.03, dermatofibroma 0.01, seborrheic_keratosis 0.00, 12.2ms\n",
      "Speed: 0.0ms preprocess, 12.2ms inference, 0.3ms postprocess per image at shape (1, 3, 224, 224)\n",
      "\n",
      "0: 224x224 dermatofibroma 0.63, basal_cell_carcinoma 0.33, squamous_cell_carcinoma 0.03, melanoma 0.00, actinic_keratosis 0.00, 14.7ms\n",
      "Speed: 0.0ms preprocess, 14.7ms inference, 0.3ms postprocess per image at shape (1, 3, 224, 224)\n",
      "\n",
      "0: 224x224 dermatofibroma 0.41, squamous_cell_carcinoma 0.18, nevus 0.11, actinic_keratosis 0.10, melanoma 0.10, 14.1ms\n",
      "Speed: 0.0ms preprocess, 14.1ms inference, 0.3ms postprocess per image at shape (1, 3, 224, 224)\n"
     ]
    },
    {
     "name": "stderr",
     "output_type": "stream",
     "text": [
      "\r",
      " 31%|████████████████████████▋                                                        | 36/118 [00:01<00:07, 10.65it/s]"
     ]
    },
    {
     "name": "stdout",
     "output_type": "stream",
     "text": [
      "\n",
      "0: 224x224 dermatofibroma 0.89, basal_cell_carcinoma 0.03, actinic_keratosis 0.02, nevus 0.02, melanoma 0.02, 14.2ms\n",
      "Speed: 0.0ms preprocess, 14.2ms inference, 0.3ms postprocess per image at shape (1, 3, 224, 224)\n",
      "\n",
      "0: 224x224 dermatofibroma 0.34, squamous_cell_carcinoma 0.26, actinic_keratosis 0.22, pigmented_benign_keratosis 0.08, nevus 0.04, 18.3ms\n",
      "Speed: 0.0ms preprocess, 18.3ms inference, 0.3ms postprocess per image at shape (1, 3, 224, 224)\n",
      "\n",
      "0: 224x224 nevus 0.42, melanoma 0.39, pigmented_benign_keratosis 0.08, squamous_cell_carcinoma 0.03, seborrheic_keratosis 0.03, 17.5ms\n",
      "Speed: 0.0ms preprocess, 17.5ms inference, 0.3ms postprocess per image at shape (1, 3, 224, 224)\n"
     ]
    },
    {
     "name": "stderr",
     "output_type": "stream",
     "text": [
      "\r",
      " 33%|██████████████████████████▊                                                      | 39/118 [00:03<00:13,  5.99it/s]"
     ]
    },
    {
     "name": "stdout",
     "output_type": "stream",
     "text": [
      "\n",
      "0: 224x224 dermatofibroma 1.00, melanoma 0.00, vascular_lesion 0.00, basal_cell_carcinoma 0.00, nevus 0.00, 15.6ms\n",
      "Speed: 0.2ms preprocess, 15.6ms inference, 0.3ms postprocess per image at shape (1, 3, 224, 224)\n",
      "\n",
      "0: 224x224 basal_cell_carcinoma 0.94, dermatofibroma 0.05, squamous_cell_carcinoma 0.00, pigmented_benign_keratosis 0.00, nevus 0.00, 13.8ms\n",
      "Speed: 0.0ms preprocess, 13.8ms inference, 0.4ms postprocess per image at shape (1, 3, 224, 224)\n",
      "\n",
      "0: 224x224 dermatofibroma 1.00, vascular_lesion 0.00, basal_cell_carcinoma 0.00, pigmented_benign_keratosis 0.00, nevus 0.00, 15.9ms\n",
      "Speed: 0.0ms preprocess, 15.9ms inference, 0.3ms postprocess per image at shape (1, 3, 224, 224)\n",
      "\n",
      "0: 224x224 dermatofibroma 1.00, pigmented_benign_keratosis 0.00, basal_cell_carcinoma 0.00, vascular_lesion 0.00, nevus 0.00, 17.9ms\n",
      "Speed: 0.0ms preprocess, 17.9ms inference, 0.3ms postprocess per image at shape (1, 3, 224, 224)\n"
     ]
    },
    {
     "name": "stderr",
     "output_type": "stream",
     "text": [
      "\r",
      " 36%|█████████████████████████████▌                                                   | 43/118 [00:03<00:09,  8.17it/s]"
     ]
    },
    {
     "name": "stdout",
     "output_type": "stream",
     "text": [
      "\n",
      "0: 224x224 dermatofibroma 1.00, basal_cell_carcinoma 0.00, vascular_lesion 0.00, melanoma 0.00, squamous_cell_carcinoma 0.00, 19.5ms\n",
      "Speed: 0.0ms preprocess, 19.5ms inference, 0.4ms postprocess per image at shape (1, 3, 224, 224)\n",
      "\n",
      "0: 224x224 dermatofibroma 1.00, nevus 0.00, pigmented_benign_keratosis 0.00, melanoma 0.00, basal_cell_carcinoma 0.00, 14.6ms\n",
      "Speed: 0.0ms preprocess, 14.6ms inference, 0.3ms postprocess per image at shape (1, 3, 224, 224)\n",
      "\n",
      "0: 224x224 dermatofibroma 0.53, squamous_cell_carcinoma 0.38, pigmented_benign_keratosis 0.04, basal_cell_carcinoma 0.02, melanoma 0.02, 18.5ms\n",
      "Speed: 0.0ms preprocess, 18.5ms inference, 0.4ms postprocess per image at shape (1, 3, 224, 224)\n",
      "\n",
      "0: 224x224 dermatofibroma 0.99, pigmented_benign_keratosis 0.01, vascular_lesion 0.00, nevus 0.00, melanoma 0.00, 16.2ms\n",
      "Speed: 0.0ms preprocess, 16.2ms inference, 0.4ms postprocess per image at shape (1, 3, 224, 224)\n"
     ]
    },
    {
     "name": "stderr",
     "output_type": "stream",
     "text": [
      "\r",
      " 40%|████████████████████████████████▎                                                | 47/118 [00:03<00:06, 10.70it/s]"
     ]
    },
    {
     "name": "stdout",
     "output_type": "stream",
     "text": [
      "\n",
      "0: 224x224 basal_cell_carcinoma 0.47, pigmented_benign_keratosis 0.23, squamous_cell_carcinoma 0.12, dermatofibroma 0.09, actinic_keratosis 0.05, 13.2ms\n",
      "Speed: 0.0ms preprocess, 13.2ms inference, 0.3ms postprocess per image at shape (1, 3, 224, 224)\n",
      "\n",
      "0: 224x224 nevus 0.86, pigmented_benign_keratosis 0.06, melanoma 0.05, dermatofibroma 0.03, squamous_cell_carcinoma 0.00, 13.4ms\n",
      "Speed: 0.1ms preprocess, 13.4ms inference, 0.3ms postprocess per image at shape (1, 3, 224, 224)\n",
      "\n",
      "0: 224x224 pigmented_benign_keratosis 0.63, nevus 0.16, basal_cell_carcinoma 0.07, melanoma 0.05, vascular_lesion 0.03, 12.7ms\n",
      "Speed: 0.0ms preprocess, 12.7ms inference, 0.3ms postprocess per image at shape (1, 3, 224, 224)\n",
      "\n",
      "0: 224x224 nevus 0.92, melanoma 0.05, seborrheic_keratosis 0.02, pigmented_benign_keratosis 0.01, squamous_cell_carcinoma 0.00, 12.9ms\n",
      "Speed: 0.1ms preprocess, 12.9ms inference, 0.3ms postprocess per image at shape (1, 3, 224, 224)\n",
      "\n",
      "0: 224x224 nevus 0.93, melanoma 0.05, pigmented_benign_keratosis 0.01, dermatofibroma 0.00, seborrheic_keratosis 0.00, 12.3ms\n",
      "Speed: 0.1ms preprocess, 12.3ms inference, 0.3ms postprocess per image at shape (1, 3, 224, 224)\n"
     ]
    },
    {
     "name": "stderr",
     "output_type": "stream",
     "text": [
      "\r",
      " 44%|███████████████████████████████████▋                                             | 52/118 [00:03<00:04, 14.47it/s]"
     ]
    },
    {
     "name": "stdout",
     "output_type": "stream",
     "text": [
      "\n",
      "0: 224x224 dermatofibroma 0.61, nevus 0.20, pigmented_benign_keratosis 0.09, melanoma 0.05, squamous_cell_carcinoma 0.03, 13.2ms\n",
      "Speed: 0.0ms preprocess, 13.2ms inference, 0.6ms postprocess per image at shape (1, 3, 224, 224)\n",
      "\n",
      "0: 224x224 nevus 0.99, melanoma 0.01, seborrheic_keratosis 0.00, pigmented_benign_keratosis 0.00, dermatofibroma 0.00, 12.1ms\n",
      "Speed: 0.0ms preprocess, 12.1ms inference, 0.3ms postprocess per image at shape (1, 3, 224, 224)\n",
      "\n",
      "0: 224x224 nevus 0.58, melanoma 0.22, pigmented_benign_keratosis 0.18, squamous_cell_carcinoma 0.01, actinic_keratosis 0.01, 12.7ms\n",
      "Speed: 0.0ms preprocess, 12.7ms inference, 0.3ms postprocess per image at shape (1, 3, 224, 224)\n",
      "\n",
      "0: 224x224 squamous_cell_carcinoma 0.37, melanoma 0.36, nevus 0.20, pigmented_benign_keratosis 0.05, actinic_keratosis 0.01, 13.5ms\n",
      "Speed: 0.0ms preprocess, 13.5ms inference, 0.3ms postprocess per image at shape (1, 3, 224, 224)\n"
     ]
    },
    {
     "name": "stderr",
     "output_type": "stream",
     "text": [
      "\r",
      " 47%|██████████████████████████████████████▍                                          | 56/118 [00:03<00:03, 17.06it/s]"
     ]
    },
    {
     "name": "stdout",
     "output_type": "stream",
     "text": [
      "\n",
      "0: 224x224 nevus 0.86, melanoma 0.09, pigmented_benign_keratosis 0.04, dermatofibroma 0.01, vascular_lesion 0.00, 12.8ms\n",
      "Speed: 0.1ms preprocess, 12.8ms inference, 0.3ms postprocess per image at shape (1, 3, 224, 224)\n",
      "\n",
      "0: 224x224 nevus 0.67, melanoma 0.18, pigmented_benign_keratosis 0.12, seborrheic_keratosis 0.01, dermatofibroma 0.01, 15.3ms\n",
      "Speed: 0.1ms preprocess, 15.3ms inference, 0.5ms postprocess per image at shape (1, 3, 224, 224)\n",
      "\n",
      "0: 224x224 nevus 0.58, pigmented_benign_keratosis 0.32, melanoma 0.04, dermatofibroma 0.03, vascular_lesion 0.02, 12.4ms\n",
      "Speed: 0.0ms preprocess, 12.4ms inference, 0.3ms postprocess per image at shape (1, 3, 224, 224)\n"
     ]
    },
    {
     "name": "stderr",
     "output_type": "stream",
     "text": [
      "\r",
      " 50%|████████████████████████████████████████▌                                        | 59/118 [00:03<00:03, 18.99it/s]"
     ]
    },
    {
     "name": "stdout",
     "output_type": "stream",
     "text": [
      "\n",
      "0: 224x224 nevus 0.65, melanoma 0.24, seborrheic_keratosis 0.09, pigmented_benign_keratosis 0.01, actinic_keratosis 0.00, 13.8ms\n",
      "Speed: 0.0ms preprocess, 13.8ms inference, 0.3ms postprocess per image at shape (1, 3, 224, 224)\n",
      "\n",
      "0: 224x224 nevus 0.48, pigmented_benign_keratosis 0.29, melanoma 0.18, dermatofibroma 0.03, squamous_cell_carcinoma 0.01, 12.5ms\n",
      "Speed: 0.0ms preprocess, 12.5ms inference, 0.3ms postprocess per image at shape (1, 3, 224, 224)\n",
      "\n",
      "0: 224x224 nevus 0.49, melanoma 0.34, pigmented_benign_keratosis 0.14, seborrheic_keratosis 0.01, squamous_cell_carcinoma 0.01, 12.6ms\n",
      "Speed: 0.0ms preprocess, 12.6ms inference, 0.3ms postprocess per image at shape (1, 3, 224, 224)\n"
     ]
    },
    {
     "name": "stderr",
     "output_type": "stream",
     "text": [
      "\r",
      " 53%|██████████████████████████████████████████▌                                      | 62/118 [00:03<00:02, 20.90it/s]"
     ]
    },
    {
     "name": "stdout",
     "output_type": "stream",
     "text": [
      "\n",
      "0: 224x224 nevus 0.92, melanoma 0.06, pigmented_benign_keratosis 0.01, dermatofibroma 0.01, seborrheic_keratosis 0.00, 12.8ms\n",
      "Speed: 0.0ms preprocess, 12.8ms inference, 0.3ms postprocess per image at shape (1, 3, 224, 224)\n",
      "\n",
      "0: 224x224 nevus 0.91, melanoma 0.07, pigmented_benign_keratosis 0.01, seborrheic_keratosis 0.00, dermatofibroma 0.00, 16.1ms\n",
      "Speed: 0.0ms preprocess, 16.1ms inference, 0.3ms postprocess per image at shape (1, 3, 224, 224)\n",
      "\n",
      "0: 224x224 nevus 0.88, pigmented_benign_keratosis 0.06, melanoma 0.05, dermatofibroma 0.00, seborrheic_keratosis 0.00, 14.8ms\n",
      "Speed: 0.0ms preprocess, 14.8ms inference, 0.4ms postprocess per image at shape (1, 3, 224, 224)\n",
      "\n",
      "0: 224x224 nevus 0.67, melanoma 0.14, pigmented_benign_keratosis 0.11, seborrheic_keratosis 0.04, dermatofibroma 0.01, 12.3ms\n",
      "Speed: 0.0ms preprocess, 12.3ms inference, 0.8ms postprocess per image at shape (1, 3, 224, 224)\n"
     ]
    },
    {
     "name": "stderr",
     "output_type": "stream",
     "text": [
      "\r",
      " 56%|█████████████████████████████████████████████▎                                   | 66/118 [00:03<00:02, 23.73it/s]"
     ]
    },
    {
     "name": "stdout",
     "output_type": "stream",
     "text": [
      "\n",
      "0: 224x224 nevus 0.97, melanoma 0.02, squamous_cell_carcinoma 0.01, pigmented_benign_keratosis 0.00, seborrheic_keratosis 0.00, 12.6ms\n",
      "Speed: 0.1ms preprocess, 12.6ms inference, 0.3ms postprocess per image at shape (1, 3, 224, 224)\n",
      "\n",
      "0: 224x224 nevus 0.95, melanoma 0.03, pigmented_benign_keratosis 0.02, seborrheic_keratosis 0.00, dermatofibroma 0.00, 11.6ms\n",
      "Speed: 0.0ms preprocess, 11.6ms inference, 0.4ms postprocess per image at shape (1, 3, 224, 224)\n",
      "\n",
      "0: 224x224 nevus 0.83, pigmented_benign_keratosis 0.14, melanoma 0.02, dermatofibroma 0.00, seborrheic_keratosis 0.00, 12.3ms\n",
      "Speed: 0.0ms preprocess, 12.3ms inference, 0.4ms postprocess per image at shape (1, 3, 224, 224)\n",
      "\n",
      "0: 224x224 nevus 0.90, pigmented_benign_keratosis 0.07, melanoma 0.03, dermatofibroma 0.00, seborrheic_keratosis 0.00, 11.9ms\n",
      "Speed: 0.0ms preprocess, 11.9ms inference, 0.3ms postprocess per image at shape (1, 3, 224, 224)\n",
      "\n",
      "0: 224x224 nevus 0.97, melanoma 0.01, pigmented_benign_keratosis 0.01, seborrheic_keratosis 0.00, dermatofibroma 0.00, 12.7ms\n",
      "Speed: 0.1ms preprocess, 12.7ms inference, 0.5ms postprocess per image at shape (1, 3, 224, 224)\n"
     ]
    },
    {
     "name": "stderr",
     "output_type": "stream",
     "text": [
      "\r",
      " 60%|████████████████████████████████████████████████▋                                | 71/118 [00:03<00:01, 28.24it/s]"
     ]
    },
    {
     "name": "stdout",
     "output_type": "stream",
     "text": [
      "\n",
      "0: 224x224 nevus 0.97, melanoma 0.02, pigmented_benign_keratosis 0.01, seborrheic_keratosis 0.00, dermatofibroma 0.00, 13.2ms\n",
      "Speed: 0.0ms preprocess, 13.2ms inference, 0.3ms postprocess per image at shape (1, 3, 224, 224)\n",
      "\n",
      "0: 224x224 nevus 0.77, pigmented_benign_keratosis 0.12, melanoma 0.09, seborrheic_keratosis 0.01, actinic_keratosis 0.00, 13.2ms\n",
      "Speed: 0.0ms preprocess, 13.2ms inference, 0.3ms postprocess per image at shape (1, 3, 224, 224)\n",
      "\n",
      "0: 224x224 nevus 0.96, melanoma 0.03, pigmented_benign_keratosis 0.00, seborrheic_keratosis 0.00, dermatofibroma 0.00, 13.8ms\n",
      "Speed: 0.0ms preprocess, 13.8ms inference, 0.4ms postprocess per image at shape (1, 3, 224, 224)\n",
      "\n",
      "0: 224x224 nevus 0.66, pigmented_benign_keratosis 0.31, melanoma 0.02, dermatofibroma 0.01, actinic_keratosis 0.00, 13.0ms\n",
      "Speed: 0.0ms preprocess, 13.0ms inference, 0.3ms postprocess per image at shape (1, 3, 224, 224)\n"
     ]
    },
    {
     "name": "stderr",
     "output_type": "stream",
     "text": [
      "\r",
      " 64%|███████████████████████████████████████████████████▍                             | 75/118 [00:04<00:01, 30.64it/s]"
     ]
    },
    {
     "name": "stdout",
     "output_type": "stream",
     "text": [
      "\n",
      "0: 224x224 nevus 0.90, melanoma 0.05, pigmented_benign_keratosis 0.04, dermatofibroma 0.01, seborrheic_keratosis 0.00, 13.0ms\n",
      "Speed: 0.0ms preprocess, 13.0ms inference, 0.3ms postprocess per image at shape (1, 3, 224, 224)\n",
      "\n",
      "0: 224x224 nevus 0.95, pigmented_benign_keratosis 0.03, melanoma 0.01, dermatofibroma 0.01, seborrheic_keratosis 0.00, 12.8ms\n",
      "Speed: 0.0ms preprocess, 12.8ms inference, 0.3ms postprocess per image at shape (1, 3, 224, 224)\n",
      "\n",
      "0: 224x224 nevus 0.89, pigmented_benign_keratosis 0.09, melanoma 0.02, seborrheic_keratosis 0.00, dermatofibroma 0.00, 13.1ms\n",
      "Speed: 0.0ms preprocess, 13.1ms inference, 0.3ms postprocess per image at shape (1, 3, 224, 224)\n",
      "\n",
      "0: 224x224 nevus 0.98, melanoma 0.02, pigmented_benign_keratosis 0.01, seborrheic_keratosis 0.00, dermatofibroma 0.00, 12.2ms\n",
      "Speed: 0.1ms preprocess, 12.2ms inference, 0.3ms postprocess per image at shape (1, 3, 224, 224)\n"
     ]
    },
    {
     "name": "stderr",
     "output_type": "stream",
     "text": [
      "\r",
      " 67%|██████████████████████████████████████████████████████▏                          | 79/118 [00:04<00:01, 32.43it/s]"
     ]
    },
    {
     "name": "stdout",
     "output_type": "stream",
     "text": [
      "\n",
      "0: 224x224 nevus 0.93, melanoma 0.06, pigmented_benign_keratosis 0.00, seborrheic_keratosis 0.00, basal_cell_carcinoma 0.00, 12.2ms\n",
      "Speed: 0.0ms preprocess, 12.2ms inference, 0.3ms postprocess per image at shape (1, 3, 224, 224)\n",
      "\n",
      "0: 224x224 pigmented_benign_keratosis 0.50, dermatofibroma 0.18, squamous_cell_carcinoma 0.13, actinic_keratosis 0.05, basal_cell_carcinoma 0.05, 13.4ms\n",
      "Speed: 0.0ms preprocess, 13.4ms inference, 0.4ms postprocess per image at shape (1, 3, 224, 224)\n",
      "\n",
      "0: 224x224 pigmented_benign_keratosis 0.99, nevus 0.01, actinic_keratosis 0.00, dermatofibroma 0.00, basal_cell_carcinoma 0.00, 14.9ms\n",
      "Speed: 0.0ms preprocess, 14.9ms inference, 0.3ms postprocess per image at shape (1, 3, 224, 224)\n",
      "\n",
      "0: 224x224 pigmented_benign_keratosis 0.93, dermatofibroma 0.03, nevus 0.02, squamous_cell_carcinoma 0.01, actinic_keratosis 0.01, 18.4ms\n",
      "Speed: 0.0ms preprocess, 18.4ms inference, 0.3ms postprocess per image at shape (1, 3, 224, 224)\n"
     ]
    },
    {
     "name": "stderr",
     "output_type": "stream",
     "text": [
      "\r",
      " 70%|████████████████████████████████████████████████████████▉                        | 83/118 [00:04<00:01, 33.47it/s]"
     ]
    },
    {
     "name": "stdout",
     "output_type": "stream",
     "text": [
      "\n",
      "0: 224x224 pigmented_benign_keratosis 0.51, nevus 0.38, dermatofibroma 0.08, melanoma 0.02, vascular_lesion 0.01, 13.8ms\n",
      "Speed: 0.0ms preprocess, 13.8ms inference, 0.3ms postprocess per image at shape (1, 3, 224, 224)\n",
      "\n",
      "0: 224x224 pigmented_benign_keratosis 0.40, melanoma 0.20, dermatofibroma 0.19, squamous_cell_carcinoma 0.07, nevus 0.06, 13.5ms\n",
      "Speed: 0.0ms preprocess, 13.5ms inference, 0.3ms postprocess per image at shape (1, 3, 224, 224)\n",
      "\n",
      "0: 224x224 pigmented_benign_keratosis 0.97, actinic_keratosis 0.01, squamous_cell_carcinoma 0.01, nevus 0.00, basal_cell_carcinoma 0.00, 13.1ms\n",
      "Speed: 0.0ms preprocess, 13.1ms inference, 0.3ms postprocess per image at shape (1, 3, 224, 224)\n",
      "\n",
      "0: 224x224 pigmented_benign_keratosis 0.38, melanoma 0.33, nevus 0.16, dermatofibroma 0.10, seborrheic_keratosis 0.01, 13.4ms\n",
      "Speed: 0.0ms preprocess, 13.4ms inference, 0.4ms postprocess per image at shape (1, 3, 224, 224)\n",
      "\n",
      "0: 224x224 pigmented_benign_keratosis 0.74, squamous_cell_carcinoma 0.17, melanoma 0.04, actinic_keratosis 0.02, nevus 0.01, 12.8ms\n",
      "Speed: 0.0ms preprocess, 12.8ms inference, 0.4ms postprocess per image at shape (1, 3, 224, 224)\n"
     ]
    },
    {
     "name": "stderr",
     "output_type": "stream",
     "text": [
      "\r",
      " 75%|████████████████████████████████████████████████████████████▍                    | 88/118 [00:04<00:00, 35.92it/s]"
     ]
    },
    {
     "name": "stdout",
     "output_type": "stream",
     "text": [
      "\n",
      "0: 224x224 pigmented_benign_keratosis 0.71, nevus 0.09, actinic_keratosis 0.08, squamous_cell_carcinoma 0.07, melanoma 0.05, 24.1ms\n",
      "Speed: 0.1ms preprocess, 24.1ms inference, 0.4ms postprocess per image at shape (1, 3, 224, 224)\n",
      "\n",
      "0: 224x224 pigmented_benign_keratosis 1.00, squamous_cell_carcinoma 0.00, nevus 0.00, melanoma 0.00, basal_cell_carcinoma 0.00, 12.9ms\n",
      "Speed: 0.0ms preprocess, 12.9ms inference, 0.3ms postprocess per image at shape (1, 3, 224, 224)\n",
      "\n",
      "0: 224x224 pigmented_benign_keratosis 0.96, nevus 0.02, dermatofibroma 0.01, basal_cell_carcinoma 0.01, melanoma 0.00, 13.7ms\n",
      "Speed: 0.0ms preprocess, 13.7ms inference, 0.3ms postprocess per image at shape (1, 3, 224, 224)\n",
      "\n",
      "0: 224x224 pigmented_benign_keratosis 0.97, nevus 0.02, melanoma 0.01, dermatofibroma 0.00, actinic_keratosis 0.00, 13.6ms\n",
      "Speed: 0.0ms preprocess, 13.6ms inference, 0.3ms postprocess per image at shape (1, 3, 224, 224)\n"
     ]
    },
    {
     "name": "stderr",
     "output_type": "stream",
     "text": [
      "\r",
      " 78%|███████████████████████████████████████████████████████████████▏                 | 92/118 [00:04<00:00, 35.87it/s]"
     ]
    },
    {
     "name": "stdout",
     "output_type": "stream",
     "text": [
      "\n",
      "0: 224x224 basal_cell_carcinoma 0.80, squamous_cell_carcinoma 0.11, dermatofibroma 0.08, nevus 0.00, pigmented_benign_keratosis 0.00, 13.2ms\n",
      "Speed: 0.0ms preprocess, 13.2ms inference, 0.8ms postprocess per image at shape (1, 3, 224, 224)\n",
      "\n",
      "0: 224x224 pigmented_benign_keratosis 0.74, actinic_keratosis 0.18, nevus 0.07, squamous_cell_carcinoma 0.01, melanoma 0.00, 15.7ms\n",
      "Speed: 0.0ms preprocess, 15.7ms inference, 0.3ms postprocess per image at shape (1, 3, 224, 224)\n",
      "\n",
      "0: 224x224 pigmented_benign_keratosis 0.51, squamous_cell_carcinoma 0.30, melanoma 0.06, actinic_keratosis 0.04, nevus 0.03, 12.9ms\n",
      "Speed: 0.0ms preprocess, 12.9ms inference, 0.3ms postprocess per image at shape (1, 3, 224, 224)\n",
      "\n",
      "0: 224x224 pigmented_benign_keratosis 0.32, melanoma 0.27, squamous_cell_carcinoma 0.16, nevus 0.13, basal_cell_carcinoma 0.08, 13.3ms\n",
      "Speed: 0.0ms preprocess, 13.3ms inference, 0.3ms postprocess per image at shape (1, 3, 224, 224)\n"
     ]
    },
    {
     "name": "stderr",
     "output_type": "stream",
     "text": [
      "\r",
      " 81%|█████████████████████████████████████████████████████████████████▉               | 96/118 [00:04<00:00, 36.86it/s]"
     ]
    },
    {
     "name": "stdout",
     "output_type": "stream",
     "text": [
      "\n",
      "0: 224x224 nevus 0.63, melanoma 0.34, seborrheic_keratosis 0.02, pigmented_benign_keratosis 0.01, dermatofibroma 0.00, 13.8ms\n",
      "Speed: 0.0ms preprocess, 13.8ms inference, 0.3ms postprocess per image at shape (1, 3, 224, 224)\n",
      "\n",
      "0: 224x224 melanoma 0.91, seborrheic_keratosis 0.08, nevus 0.01, pigmented_benign_keratosis 0.00, basal_cell_carcinoma 0.00, 14.0ms\n",
      "Speed: 0.1ms preprocess, 14.0ms inference, 0.3ms postprocess per image at shape (1, 3, 224, 224)\n",
      "\n",
      "0: 224x224 melanoma 0.80, seborrheic_keratosis 0.09, nevus 0.03, squamous_cell_carcinoma 0.03, actinic_keratosis 0.02, 13.0ms\n",
      "Speed: 0.0ms preprocess, 13.0ms inference, 0.3ms postprocess per image at shape (1, 3, 224, 224)\n",
      "\n",
      "0: 224x224 nevus 0.50, squamous_cell_carcinoma 0.29, melanoma 0.08, pigmented_benign_keratosis 0.07, actinic_keratosis 0.03, 15.1ms\n",
      "Speed: 0.0ms preprocess, 15.1ms inference, 0.3ms postprocess per image at shape (1, 3, 224, 224)\n"
     ]
    },
    {
     "name": "stderr",
     "output_type": "stream",
     "text": [
      "\r",
      " 85%|███████████████████████████████████████████████████████████████████▊            | 100/118 [00:05<00:01, 17.68it/s]"
     ]
    },
    {
     "name": "stdout",
     "output_type": "stream",
     "text": [
      "\n",
      "0: 224x224 pigmented_benign_keratosis 0.31, melanoma 0.22, squamous_cell_carcinoma 0.19, dermatofibroma 0.11, nevus 0.11, 15.4ms\n",
      "Speed: 0.1ms preprocess, 15.4ms inference, 0.3ms postprocess per image at shape (1, 3, 224, 224)\n",
      "\n",
      "0: 224x224 squamous_cell_carcinoma 0.46, actinic_keratosis 0.38, nevus 0.07, melanoma 0.04, pigmented_benign_keratosis 0.02, 17.3ms\n",
      "Speed: 0.0ms preprocess, 17.3ms inference, 0.3ms postprocess per image at shape (1, 3, 224, 224)\n",
      "\n",
      "0: 224x224 actinic_keratosis 0.40, squamous_cell_carcinoma 0.40, nevus 0.09, melanoma 0.05, pigmented_benign_keratosis 0.02, 14.3ms\n",
      "Speed: 0.1ms preprocess, 14.3ms inference, 0.3ms postprocess per image at shape (1, 3, 224, 224)\n"
     ]
    },
    {
     "name": "stderr",
     "output_type": "stream",
     "text": [
      "\r",
      " 87%|█████████████████████████████████████████████████████████████████████▊          | 103/118 [00:06<00:02,  7.46it/s]"
     ]
    },
    {
     "name": "stdout",
     "output_type": "stream",
     "text": [
      "\n",
      "0: 224x224 basal_cell_carcinoma 0.98, squamous_cell_carcinoma 0.01, pigmented_benign_keratosis 0.00, dermatofibroma 0.00, actinic_keratosis 0.00, 15.0ms\n",
      "Speed: 0.0ms preprocess, 15.0ms inference, 0.3ms postprocess per image at shape (1, 3, 224, 224)\n",
      "\n",
      "0: 224x224 basal_cell_carcinoma 0.69, squamous_cell_carcinoma 0.16, pigmented_benign_keratosis 0.06, melanoma 0.05, seborrheic_keratosis 0.01, 12.6ms\n",
      "Speed: 0.0ms preprocess, 12.6ms inference, 0.5ms postprocess per image at shape (1, 3, 224, 224)\n",
      "\n",
      "0: 224x224 squamous_cell_carcinoma 0.72, actinic_keratosis 0.11, pigmented_benign_keratosis 0.06, basal_cell_carcinoma 0.05, nevus 0.02, 14.9ms\n",
      "Speed: 0.0ms preprocess, 14.9ms inference, 0.7ms postprocess per image at shape (1, 3, 224, 224)\n"
     ]
    },
    {
     "name": "stderr",
     "output_type": "stream",
     "text": [
      "\r",
      " 90%|███████████████████████████████████████████████████████████████████████▊        | 106/118 [00:06<00:01,  7.43it/s]"
     ]
    },
    {
     "name": "stdout",
     "output_type": "stream",
     "text": [
      "\n",
      "0: 224x224 pigmented_benign_keratosis 0.45, squamous_cell_carcinoma 0.22, basal_cell_carcinoma 0.14, melanoma 0.10, seborrheic_keratosis 0.04, 13.6ms\n",
      "Speed: 0.1ms preprocess, 13.6ms inference, 0.3ms postprocess per image at shape (1, 3, 224, 224)\n",
      "\n",
      "0: 224x224 melanoma 0.35, squamous_cell_carcinoma 0.34, basal_cell_carcinoma 0.14, nevus 0.09, actinic_keratosis 0.03, 12.7ms\n",
      "Speed: 0.0ms preprocess, 12.7ms inference, 0.3ms postprocess per image at shape (1, 3, 224, 224)\n",
      "\n",
      "0: 224x224 squamous_cell_carcinoma 0.52, pigmented_benign_keratosis 0.19, dermatofibroma 0.15, actinic_keratosis 0.06, basal_cell_carcinoma 0.02, 12.6ms\n",
      "Speed: 0.0ms preprocess, 12.6ms inference, 0.5ms postprocess per image at shape (1, 3, 224, 224)\n",
      "\n",
      "0: 224x224 basal_cell_carcinoma 0.53, squamous_cell_carcinoma 0.23, melanoma 0.12, dermatofibroma 0.06, pigmented_benign_keratosis 0.03, 12.7ms\n",
      "Speed: 0.0ms preprocess, 12.7ms inference, 0.3ms postprocess per image at shape (1, 3, 224, 224)\n",
      "\n",
      "0: 224x224 basal_cell_carcinoma 0.50, squamous_cell_carcinoma 0.32, pigmented_benign_keratosis 0.06, dermatofibroma 0.06, melanoma 0.02, 13.0ms\n",
      "Speed: 0.0ms preprocess, 13.0ms inference, 0.3ms postprocess per image at shape (1, 3, 224, 224)\n"
     ]
    },
    {
     "name": "stderr",
     "output_type": "stream",
     "text": [
      "\r",
      " 94%|███████████████████████████████████████████████████████████████████████████▎    | 111/118 [00:06<00:00, 10.77it/s]"
     ]
    },
    {
     "name": "stdout",
     "output_type": "stream",
     "text": [
      "\n",
      "0: 224x224 pigmented_benign_keratosis 0.64, basal_cell_carcinoma 0.26, squamous_cell_carcinoma 0.09, actinic_keratosis 0.00, nevus 0.00, 12.7ms\n",
      "Speed: 0.0ms preprocess, 12.7ms inference, 0.3ms postprocess per image at shape (1, 3, 224, 224)\n",
      "\n",
      "0: 224x224 melanoma 0.31, squamous_cell_carcinoma 0.27, basal_cell_carcinoma 0.24, pigmented_benign_keratosis 0.08, dermatofibroma 0.05, 12.8ms\n",
      "Speed: 0.0ms preprocess, 12.8ms inference, 0.5ms postprocess per image at shape (1, 3, 224, 224)\n",
      "\n",
      "0: 224x224 dermatofibroma 0.53, actinic_keratosis 0.15, squamous_cell_carcinoma 0.13, pigmented_benign_keratosis 0.09, nevus 0.04, 11.8ms\n",
      "Speed: 0.0ms preprocess, 11.8ms inference, 0.3ms postprocess per image at shape (1, 3, 224, 224)\n",
      "\n",
      "0: 224x224 squamous_cell_carcinoma 0.55, basal_cell_carcinoma 0.27, melanoma 0.08, seborrheic_keratosis 0.03, pigmented_benign_keratosis 0.02, 16.7ms\n",
      "Speed: 0.0ms preprocess, 16.7ms inference, 0.4ms postprocess per image at shape (1, 3, 224, 224)\n",
      "\n",
      "0: 224x224 vascular_lesion 0.99, dermatofibroma 0.00, pigmented_benign_keratosis 0.00, basal_cell_carcinoma 0.00, squamous_cell_carcinoma 0.00, 15.3ms\n",
      "Speed: 0.0ms preprocess, 15.3ms inference, 0.3ms postprocess per image at shape (1, 3, 224, 224)\n"
     ]
    },
    {
     "name": "stderr",
     "output_type": "stream",
     "text": [
      "\r",
      " 98%|██████████████████████████████████████████████████████████████████████████████▋ | 116/118 [00:06<00:00, 14.44it/s]"
     ]
    },
    {
     "name": "stdout",
     "output_type": "stream",
     "text": [
      "\n",
      "0: 224x224 vascular_lesion 1.00, pigmented_benign_keratosis 0.00, dermatofibroma 0.00, basal_cell_carcinoma 0.00, nevus 0.00, 12.5ms\n",
      "Speed: 0.1ms preprocess, 12.5ms inference, 0.3ms postprocess per image at shape (1, 3, 224, 224)\n",
      "\n",
      "0: 224x224 vascular_lesion 1.00, dermatofibroma 0.00, pigmented_benign_keratosis 0.00, basal_cell_carcinoma 0.00, nevus 0.00, 11.3ms\n",
      "Speed: 0.0ms preprocess, 11.3ms inference, 0.3ms postprocess per image at shape (1, 3, 224, 224)\n"
     ]
    },
    {
     "name": "stderr",
     "output_type": "stream",
     "text": [
      "\r",
      "100%|████████████████████████████████████████████████████████████████████████████████| 118/118 [00:07<00:00, 16.83it/s]"
     ]
    },
    {
     "name": "stdout",
     "output_type": "stream",
     "text": [
      "Processing: yolov8m\n"
     ]
    },
    {
     "name": "stderr",
     "output_type": "stream",
     "text": [
      "\n",
      "  0%|                                                                                          | 0/118 [00:00<?, ?it/s]"
     ]
    },
    {
     "name": "stdout",
     "output_type": "stream",
     "text": [
      "\n",
      "0: 224x224 melanoma 0.58, seborrheic_keratosis 0.34, nevus 0.03, actinic_keratosis 0.02, squamous_cell_carcinoma 0.01, 33.9ms\n",
      "Speed: 0.1ms preprocess, 33.9ms inference, 0.3ms postprocess per image at shape (1, 3, 224, 224)\n"
     ]
    },
    {
     "name": "stderr",
     "output_type": "stream",
     "text": [
      "\r",
      "  1%|▋                                                                                 | 1/118 [00:00<00:23,  4.88it/s]"
     ]
    },
    {
     "name": "stdout",
     "output_type": "stream",
     "text": [
      "\n",
      "0: 224x224 nevus 0.98, melanoma 0.01, pigmented_benign_keratosis 0.00, seborrheic_keratosis 0.00, dermatofibroma 0.00, 26.6ms\n",
      "Speed: 0.0ms preprocess, 26.6ms inference, 0.3ms postprocess per image at shape (1, 3, 224, 224)\n",
      "\n",
      "0: 224x224 actinic_keratosis 0.73, nevus 0.20, squamous_cell_carcinoma 0.05, melanoma 0.01, basal_cell_carcinoma 0.00, 28.0ms\n",
      "Speed: 0.0ms preprocess, 28.0ms inference, 0.2ms postprocess per image at shape (1, 3, 224, 224)\n",
      "\n",
      "0: 224x224 pigmented_benign_keratosis 0.27, squamous_cell_carcinoma 0.27, actinic_keratosis 0.11, nevus 0.10, dermatofibroma 0.10, 29.1ms\n",
      "Speed: 0.0ms preprocess, 29.1ms inference, 0.4ms postprocess per image at shape (1, 3, 224, 224)\n"
     ]
    },
    {
     "name": "stderr",
     "output_type": "stream",
     "text": [
      "\r",
      "  3%|██▊                                                                               | 4/118 [00:00<00:08, 13.95it/s]"
     ]
    },
    {
     "name": "stdout",
     "output_type": "stream",
     "text": [
      "\n",
      "0: 224x224 nevus 0.41, pigmented_benign_keratosis 0.28, basal_cell_carcinoma 0.14, actinic_keratosis 0.11, squamous_cell_carcinoma 0.03, 28.8ms\n",
      "Speed: 0.0ms preprocess, 28.8ms inference, 0.3ms postprocess per image at shape (1, 3, 224, 224)\n",
      "\n",
      "0: 224x224 actinic_keratosis 0.69, nevus 0.27, pigmented_benign_keratosis 0.04, squamous_cell_carcinoma 0.00, melanoma 0.00, 27.7ms\n",
      "Speed: 0.0ms preprocess, 27.7ms inference, 0.4ms postprocess per image at shape (1, 3, 224, 224)\n",
      "\n",
      "0: 224x224 pigmented_benign_keratosis 0.34, vascular_lesion 0.20, melanoma 0.19, basal_cell_carcinoma 0.13, nevus 0.07, 32.4ms\n",
      "Speed: 0.0ms preprocess, 32.4ms inference, 0.3ms postprocess per image at shape (1, 3, 224, 224)\n"
     ]
    },
    {
     "name": "stderr",
     "output_type": "stream",
     "text": [
      "\r",
      "  6%|████▊                                                                             | 7/118 [00:00<00:06, 18.00it/s]"
     ]
    },
    {
     "name": "stdout",
     "output_type": "stream",
     "text": [
      "\n",
      "0: 224x224 pigmented_benign_keratosis 0.47, actinic_keratosis 0.30, nevus 0.17, squamous_cell_carcinoma 0.02, melanoma 0.02, 27.0ms\n",
      "Speed: 0.1ms preprocess, 27.0ms inference, 0.3ms postprocess per image at shape (1, 3, 224, 224)\n",
      "\n",
      "0: 224x224 actinic_keratosis 0.38, melanoma 0.31, seborrheic_keratosis 0.15, nevus 0.09, squamous_cell_carcinoma 0.03, 26.1ms\n",
      "Speed: 0.0ms preprocess, 26.1ms inference, 0.3ms postprocess per image at shape (1, 3, 224, 224)\n",
      "\n",
      "0: 224x224 actinic_keratosis 0.66, nevus 0.26, squamous_cell_carcinoma 0.06, basal_cell_carcinoma 0.02, pigmented_benign_keratosis 0.00, 27.1ms\n",
      "Speed: 0.0ms preprocess, 27.1ms inference, 0.3ms postprocess per image at shape (1, 3, 224, 224)\n"
     ]
    },
    {
     "name": "stderr",
     "output_type": "stream",
     "text": [
      "\r",
      "  8%|██████▊                                                                          | 10/118 [00:00<00:05, 20.85it/s]"
     ]
    },
    {
     "name": "stdout",
     "output_type": "stream",
     "text": [
      "\n",
      "0: 224x224 pigmented_benign_keratosis 0.68, nevus 0.28, actinic_keratosis 0.02, basal_cell_carcinoma 0.01, melanoma 0.01, 26.2ms\n",
      "Speed: 0.0ms preprocess, 26.2ms inference, 0.3ms postprocess per image at shape (1, 3, 224, 224)\n",
      "\n",
      "0: 224x224 basal_cell_carcinoma 0.60, pigmented_benign_keratosis 0.15, actinic_keratosis 0.13, nevus 0.07, squamous_cell_carcinoma 0.02, 31.6ms\n",
      "Speed: 0.0ms preprocess, 31.6ms inference, 0.3ms postprocess per image at shape (1, 3, 224, 224)\n",
      "\n",
      "0: 224x224 pigmented_benign_keratosis 0.97, actinic_keratosis 0.01, nevus 0.01, basal_cell_carcinoma 0.00, squamous_cell_carcinoma 0.00, 25.2ms\n",
      "Speed: 0.0ms preprocess, 25.2ms inference, 0.3ms postprocess per image at shape (1, 3, 224, 224)\n"
     ]
    },
    {
     "name": "stderr",
     "output_type": "stream",
     "text": [
      "\r",
      " 11%|████████▉                                                                        | 13/118 [00:00<00:04, 22.34it/s]"
     ]
    },
    {
     "name": "stdout",
     "output_type": "stream",
     "text": [
      "\n",
      "0: 224x224 actinic_keratosis 0.57, nevus 0.34, squamous_cell_carcinoma 0.05, pigmented_benign_keratosis 0.02, melanoma 0.01, 26.3ms\n",
      "Speed: 0.0ms preprocess, 26.3ms inference, 0.3ms postprocess per image at shape (1, 3, 224, 224)\n",
      "\n",
      "0: 224x224 melanoma 0.55, actinic_keratosis 0.20, nevus 0.10, squamous_cell_carcinoma 0.08, pigmented_benign_keratosis 0.06, 26.2ms\n",
      "Speed: 0.0ms preprocess, 26.2ms inference, 0.3ms postprocess per image at shape (1, 3, 224, 224)\n",
      "\n",
      "0: 224x224 pigmented_benign_keratosis 0.99, dermatofibroma 0.00, squamous_cell_carcinoma 0.00, basal_cell_carcinoma 0.00, actinic_keratosis 0.00, 26.9ms\n",
      "Speed: 0.0ms preprocess, 26.9ms inference, 0.3ms postprocess per image at shape (1, 3, 224, 224)\n"
     ]
    },
    {
     "name": "stderr",
     "output_type": "stream",
     "text": [
      "\r",
      " 14%|██████████▉                                                                      | 16/118 [00:00<00:04, 23.65it/s]"
     ]
    },
    {
     "name": "stdout",
     "output_type": "stream",
     "text": [
      "\n",
      "0: 224x224 basal_cell_carcinoma 1.00, pigmented_benign_keratosis 0.00, dermatofibroma 0.00, nevus 0.00, squamous_cell_carcinoma 0.00, 26.5ms\n",
      "Speed: 0.0ms preprocess, 26.5ms inference, 0.3ms postprocess per image at shape (1, 3, 224, 224)\n",
      "\n",
      "0: 224x224 basal_cell_carcinoma 0.97, squamous_cell_carcinoma 0.02, pigmented_benign_keratosis 0.01, nevus 0.00, melanoma 0.00, 26.9ms\n",
      "Speed: 0.0ms preprocess, 26.9ms inference, 0.3ms postprocess per image at shape (1, 3, 224, 224)\n",
      "\n",
      "0: 224x224 pigmented_benign_keratosis 0.43, basal_cell_carcinoma 0.31, squamous_cell_carcinoma 0.07, actinic_keratosis 0.06, dermatofibroma 0.05, 27.7ms\n",
      "Speed: 0.0ms preprocess, 27.7ms inference, 0.3ms postprocess per image at shape (1, 3, 224, 224)\n"
     ]
    },
    {
     "name": "stderr",
     "output_type": "stream",
     "text": [
      "\r",
      " 16%|█████████████                                                                    | 19/118 [00:00<00:04, 24.44it/s]"
     ]
    },
    {
     "name": "stdout",
     "output_type": "stream",
     "text": [
      "\n",
      "0: 224x224 pigmented_benign_keratosis 0.55, basal_cell_carcinoma 0.22, melanoma 0.15, nevus 0.04, dermatofibroma 0.02, 29.2ms\n",
      "Speed: 0.0ms preprocess, 29.2ms inference, 0.3ms postprocess per image at shape (1, 3, 224, 224)\n",
      "\n",
      "0: 224x224 pigmented_benign_keratosis 0.46, basal_cell_carcinoma 0.39, squamous_cell_carcinoma 0.09, dermatofibroma 0.04, melanoma 0.01, 26.7ms\n",
      "Speed: 0.0ms preprocess, 26.7ms inference, 0.3ms postprocess per image at shape (1, 3, 224, 224)\n",
      "\n",
      "0: 224x224 pigmented_benign_keratosis 0.63, basal_cell_carcinoma 0.13, melanoma 0.11, squamous_cell_carcinoma 0.04, actinic_keratosis 0.03, 27.1ms\n",
      "Speed: 0.1ms preprocess, 27.1ms inference, 0.3ms postprocess per image at shape (1, 3, 224, 224)\n"
     ]
    },
    {
     "name": "stderr",
     "output_type": "stream",
     "text": [
      "\r",
      " 19%|███████████████                                                                  | 22/118 [00:01<00:03, 24.59it/s]"
     ]
    },
    {
     "name": "stdout",
     "output_type": "stream",
     "text": [
      "\n",
      "0: 224x224 basal_cell_carcinoma 0.69, pigmented_benign_keratosis 0.23, nevus 0.07, melanoma 0.01, actinic_keratosis 0.00, 25.2ms\n",
      "Speed: 0.0ms preprocess, 25.2ms inference, 0.3ms postprocess per image at shape (1, 3, 224, 224)\n",
      "\n",
      "0: 224x224 melanoma 0.37, seborrheic_keratosis 0.24, basal_cell_carcinoma 0.12, nevus 0.11, pigmented_benign_keratosis 0.09, 27.6ms\n",
      "Speed: 0.0ms preprocess, 27.6ms inference, 0.3ms postprocess per image at shape (1, 3, 224, 224)\n",
      "\n",
      "0: 224x224 basal_cell_carcinoma 0.98, pigmented_benign_keratosis 0.02, nevus 0.00, dermatofibroma 0.00, vascular_lesion 0.00, 27.3ms\n",
      "Speed: 0.0ms preprocess, 27.3ms inference, 0.3ms postprocess per image at shape (1, 3, 224, 224)\n"
     ]
    },
    {
     "name": "stderr",
     "output_type": "stream",
     "text": [
      "\r",
      " 21%|█████████████████▏                                                               | 25/118 [00:01<00:03, 25.34it/s]"
     ]
    },
    {
     "name": "stdout",
     "output_type": "stream",
     "text": [
      "\n",
      "0: 224x224 basal_cell_carcinoma 1.00, vascular_lesion 0.00, pigmented_benign_keratosis 0.00, nevus 0.00, squamous_cell_carcinoma 0.00, 28.3ms\n",
      "Speed: 0.0ms preprocess, 28.3ms inference, 0.3ms postprocess per image at shape (1, 3, 224, 224)\n",
      "\n",
      "0: 224x224 basal_cell_carcinoma 1.00, pigmented_benign_keratosis 0.00, squamous_cell_carcinoma 0.00, nevus 0.00, actinic_keratosis 0.00, 25.8ms\n",
      "Speed: 0.0ms preprocess, 25.8ms inference, 0.3ms postprocess per image at shape (1, 3, 224, 224)\n",
      "\n",
      "0: 224x224 basal_cell_carcinoma 0.86, nevus 0.09, melanoma 0.02, seborrheic_keratosis 0.02, squamous_cell_carcinoma 0.01, 26.2ms\n",
      "Speed: 0.0ms preprocess, 26.2ms inference, 0.3ms postprocess per image at shape (1, 3, 224, 224)\n"
     ]
    },
    {
     "name": "stderr",
     "output_type": "stream",
     "text": [
      "\r",
      " 24%|███████████████████▏                                                             | 28/118 [00:01<00:03, 25.76it/s]"
     ]
    },
    {
     "name": "stdout",
     "output_type": "stream",
     "text": [
      "\n",
      "0: 224x224 basal_cell_carcinoma 1.00, pigmented_benign_keratosis 0.00, squamous_cell_carcinoma 0.00, melanoma 0.00, dermatofibroma 0.00, 26.2ms\n",
      "Speed: 0.0ms preprocess, 26.2ms inference, 0.3ms postprocess per image at shape (1, 3, 224, 224)\n",
      "\n",
      "0: 224x224 basal_cell_carcinoma 0.94, pigmented_benign_keratosis 0.02, melanoma 0.02, nevus 0.01, squamous_cell_carcinoma 0.00, 27.9ms\n",
      "Speed: 0.0ms preprocess, 27.9ms inference, 0.3ms postprocess per image at shape (1, 3, 224, 224)\n",
      "\n",
      "0: 224x224 basal_cell_carcinoma 1.00, squamous_cell_carcinoma 0.00, pigmented_benign_keratosis 0.00, vascular_lesion 0.00, dermatofibroma 0.00, 28.4ms\n",
      "Speed: 0.0ms preprocess, 28.4ms inference, 0.3ms postprocess per image at shape (1, 3, 224, 224)\n"
     ]
    },
    {
     "name": "stderr",
     "output_type": "stream",
     "text": [
      "\r",
      " 26%|█████████████████████▎                                                           | 31/118 [00:01<00:03, 25.85it/s]"
     ]
    },
    {
     "name": "stdout",
     "output_type": "stream",
     "text": [
      "\n",
      "0: 224x224 basal_cell_carcinoma 0.97, pigmented_benign_keratosis 0.03, squamous_cell_carcinoma 0.00, nevus 0.00, vascular_lesion 0.00, 27.2ms\n",
      "Speed: 0.0ms preprocess, 27.2ms inference, 0.3ms postprocess per image at shape (1, 3, 224, 224)\n",
      "\n",
      "0: 224x224 melanoma 0.57, seborrheic_keratosis 0.26, squamous_cell_carcinoma 0.12, nevus 0.02, basal_cell_carcinoma 0.01, 25.5ms\n",
      "Speed: 0.1ms preprocess, 25.5ms inference, 0.3ms postprocess per image at shape (1, 3, 224, 224)\n",
      "\n",
      "0: 224x224 nevus 0.84, melanoma 0.10, pigmented_benign_keratosis 0.03, seborrheic_keratosis 0.01, dermatofibroma 0.01, 29.9ms\n",
      "Speed: 0.1ms preprocess, 29.9ms inference, 0.4ms postprocess per image at shape (1, 3, 224, 224)\n"
     ]
    },
    {
     "name": "stderr",
     "output_type": "stream",
     "text": [
      "\r",
      " 29%|███████████████████████▎                                                         | 34/118 [00:01<00:04, 17.66it/s]"
     ]
    },
    {
     "name": "stdout",
     "output_type": "stream",
     "text": [
      "\n",
      "0: 224x224 dermatofibroma 0.45, basal_cell_carcinoma 0.44, pigmented_benign_keratosis 0.05, nevus 0.02, actinic_keratosis 0.02, 25.8ms\n",
      "Speed: 0.0ms preprocess, 25.8ms inference, 0.3ms postprocess per image at shape (1, 3, 224, 224)\n",
      "\n",
      "0: 224x224 dermatofibroma 0.97, basal_cell_carcinoma 0.01, pigmented_benign_keratosis 0.01, actinic_keratosis 0.01, melanoma 0.00, 32.0ms\n",
      "Speed: 0.0ms preprocess, 32.0ms inference, 0.8ms postprocess per image at shape (1, 3, 224, 224)\n",
      "\n",
      "0: 224x224 pigmented_benign_keratosis 0.54, dermatofibroma 0.33, nevus 0.08, basal_cell_carcinoma 0.03, vascular_lesion 0.01, 25.8ms\n",
      "Speed: 0.0ms preprocess, 25.8ms inference, 0.3ms postprocess per image at shape (1, 3, 224, 224)\n"
     ]
    },
    {
     "name": "stderr",
     "output_type": "stream",
     "text": [
      "\r",
      " 31%|█████████████████████████▍                                                       | 37/118 [00:02<00:12,  6.34it/s]"
     ]
    },
    {
     "name": "stdout",
     "output_type": "stream",
     "text": [
      "\n",
      "0: 224x224 melanoma 0.34, nevus 0.21, dermatofibroma 0.15, squamous_cell_carcinoma 0.09, seborrheic_keratosis 0.07, 27.8ms\n",
      "Speed: 0.0ms preprocess, 27.8ms inference, 0.4ms postprocess per image at shape (1, 3, 224, 224)\n",
      "\n",
      "0: 224x224 melanoma 0.77, nevus 0.18, seborrheic_keratosis 0.02, pigmented_benign_keratosis 0.02, squamous_cell_carcinoma 0.01, 25.5ms\n",
      "Speed: 0.0ms preprocess, 25.5ms inference, 0.3ms postprocess per image at shape (1, 3, 224, 224)\n"
     ]
    },
    {
     "name": "stderr",
     "output_type": "stream",
     "text": [
      "\r",
      " 33%|██████████████████████████▊                                                      | 39/118 [00:03<00:16,  4.79it/s]"
     ]
    },
    {
     "name": "stdout",
     "output_type": "stream",
     "text": [
      "\n",
      "0: 224x224 dermatofibroma 1.00, basal_cell_carcinoma 0.00, pigmented_benign_keratosis 0.00, vascular_lesion 0.00, actinic_keratosis 0.00, 26.6ms\n",
      "Speed: 0.0ms preprocess, 26.6ms inference, 0.3ms postprocess per image at shape (1, 3, 224, 224)\n",
      "\n",
      "0: 224x224 basal_cell_carcinoma 0.90, pigmented_benign_keratosis 0.08, dermatofibroma 0.01, nevus 0.01, actinic_keratosis 0.00, 26.0ms\n",
      "Speed: 0.0ms preprocess, 26.0ms inference, 0.3ms postprocess per image at shape (1, 3, 224, 224)\n",
      "\n",
      "0: 224x224 dermatofibroma 1.00, pigmented_benign_keratosis 0.00, vascular_lesion 0.00, actinic_keratosis 0.00, melanoma 0.00, 27.8ms\n",
      "Speed: 0.0ms preprocess, 27.8ms inference, 0.3ms postprocess per image at shape (1, 3, 224, 224)\n"
     ]
    },
    {
     "name": "stderr",
     "output_type": "stream",
     "text": [
      "\r",
      " 36%|████████████████████████████▊                                                    | 42/118 [00:03<00:11,  6.50it/s]"
     ]
    },
    {
     "name": "stdout",
     "output_type": "stream",
     "text": [
      "\n",
      "0: 224x224 dermatofibroma 0.92, vascular_lesion 0.07, basal_cell_carcinoma 0.00, nevus 0.00, pigmented_benign_keratosis 0.00, 26.0ms\n",
      "Speed: 0.0ms preprocess, 26.0ms inference, 0.3ms postprocess per image at shape (1, 3, 224, 224)\n",
      "\n",
      "0: 224x224 dermatofibroma 0.98, basal_cell_carcinoma 0.01, vascular_lesion 0.00, pigmented_benign_keratosis 0.00, actinic_keratosis 0.00, 26.8ms\n",
      "Speed: 0.1ms preprocess, 26.8ms inference, 0.3ms postprocess per image at shape (1, 3, 224, 224)\n",
      "\n",
      "0: 224x224 dermatofibroma 1.00, pigmented_benign_keratosis 0.00, actinic_keratosis 0.00, nevus 0.00, melanoma 0.00, 28.3ms\n",
      "Speed: 0.0ms preprocess, 28.3ms inference, 0.3ms postprocess per image at shape (1, 3, 224, 224)\n"
     ]
    },
    {
     "name": "stderr",
     "output_type": "stream",
     "text": [
      "\r",
      " 38%|██████████████████████████████▉                                                  | 45/118 [00:03<00:08,  8.48it/s]"
     ]
    },
    {
     "name": "stdout",
     "output_type": "stream",
     "text": [
      "\n",
      "0: 224x224 dermatofibroma 0.62, squamous_cell_carcinoma 0.13, melanoma 0.10, pigmented_benign_keratosis 0.06, basal_cell_carcinoma 0.06, 27.0ms\n",
      "Speed: 0.0ms preprocess, 27.0ms inference, 0.3ms postprocess per image at shape (1, 3, 224, 224)\n",
      "\n",
      "0: 224x224 dermatofibroma 1.00, pigmented_benign_keratosis 0.00, vascular_lesion 0.00, melanoma 0.00, nevus 0.00, 26.2ms\n",
      "Speed: 0.0ms preprocess, 26.2ms inference, 0.3ms postprocess per image at shape (1, 3, 224, 224)\n",
      "\n",
      "0: 224x224 pigmented_benign_keratosis 0.95, basal_cell_carcinoma 0.02, squamous_cell_carcinoma 0.01, nevus 0.01, actinic_keratosis 0.00, 26.8ms\n",
      "Speed: 0.0ms preprocess, 26.8ms inference, 0.3ms postprocess per image at shape (1, 3, 224, 224)\n"
     ]
    },
    {
     "name": "stderr",
     "output_type": "stream",
     "text": [
      "\r",
      " 41%|████████████████████████████████▉                                                | 48/118 [00:03<00:06, 10.73it/s]"
     ]
    },
    {
     "name": "stdout",
     "output_type": "stream",
     "text": [
      "\n",
      "0: 224x224 nevus 0.40, melanoma 0.29, pigmented_benign_keratosis 0.28, dermatofibroma 0.02, squamous_cell_carcinoma 0.01, 27.6ms\n",
      "Speed: 0.1ms preprocess, 27.6ms inference, 0.3ms postprocess per image at shape (1, 3, 224, 224)\n",
      "\n",
      "0: 224x224 pigmented_benign_keratosis 0.41, basal_cell_carcinoma 0.21, melanoma 0.21, nevus 0.13, vascular_lesion 0.02, 27.8ms\n",
      "Speed: 0.0ms preprocess, 27.8ms inference, 0.3ms postprocess per image at shape (1, 3, 224, 224)\n",
      "\n",
      "0: 224x224 nevus 0.82, melanoma 0.11, pigmented_benign_keratosis 0.05, vascular_lesion 0.01, seborrheic_keratosis 0.01, 24.6ms\n",
      "Speed: 0.0ms preprocess, 24.6ms inference, 0.3ms postprocess per image at shape (1, 3, 224, 224)\n"
     ]
    },
    {
     "name": "stderr",
     "output_type": "stream",
     "text": [
      "\r",
      " 43%|███████████████████████████████████                                              | 51/118 [00:04<00:05, 13.06it/s]"
     ]
    },
    {
     "name": "stdout",
     "output_type": "stream",
     "text": [
      "\n",
      "0: 224x224 nevus 0.96, pigmented_benign_keratosis 0.03, melanoma 0.00, dermatofibroma 0.00, seborrheic_keratosis 0.00, 25.5ms\n",
      "Speed: 0.0ms preprocess, 25.5ms inference, 0.3ms postprocess per image at shape (1, 3, 224, 224)\n",
      "\n",
      "0: 224x224 nevus 0.82, pigmented_benign_keratosis 0.14, melanoma 0.02, dermatofibroma 0.01, vascular_lesion 0.00, 24.5ms\n",
      "Speed: 0.1ms preprocess, 24.5ms inference, 0.3ms postprocess per image at shape (1, 3, 224, 224)\n",
      "\n",
      "0: 224x224 nevus 0.96, melanoma 0.04, pigmented_benign_keratosis 0.00, seborrheic_keratosis 0.00, vascular_lesion 0.00, 24.6ms\n",
      "Speed: 0.0ms preprocess, 24.6ms inference, 0.2ms postprocess per image at shape (1, 3, 224, 224)\n"
     ]
    },
    {
     "name": "stderr",
     "output_type": "stream",
     "text": [
      "\r",
      " 46%|█████████████████████████████████████                                            | 54/118 [00:04<00:04, 15.13it/s]"
     ]
    },
    {
     "name": "stdout",
     "output_type": "stream",
     "text": [
      "\n",
      "0: 224x224 melanoma 0.70, nevus 0.20, pigmented_benign_keratosis 0.04, seborrheic_keratosis 0.03, squamous_cell_carcinoma 0.01, 26.4ms\n",
      "Speed: 0.0ms preprocess, 26.4ms inference, 0.3ms postprocess per image at shape (1, 3, 224, 224)\n",
      "\n",
      "0: 224x224 melanoma 0.66, squamous_cell_carcinoma 0.23, pigmented_benign_keratosis 0.06, seborrheic_keratosis 0.03, nevus 0.02, 25.2ms\n",
      "Speed: 0.1ms preprocess, 25.2ms inference, 0.3ms postprocess per image at shape (1, 3, 224, 224)\n",
      "\n",
      "0: 224x224 nevus 0.78, pigmented_benign_keratosis 0.14, melanoma 0.05, vascular_lesion 0.01, dermatofibroma 0.01, 27.4ms\n",
      "Speed: 0.0ms preprocess, 27.4ms inference, 0.3ms postprocess per image at shape (1, 3, 224, 224)\n"
     ]
    },
    {
     "name": "stderr",
     "output_type": "stream",
     "text": [
      "\r",
      " 48%|███████████████████████████████████████▏                                         | 57/118 [00:04<00:03, 16.57it/s]"
     ]
    },
    {
     "name": "stdout",
     "output_type": "stream",
     "text": [
      "\n",
      "0: 224x224 melanoma 0.44, nevus 0.27, pigmented_benign_keratosis 0.25, seborrheic_keratosis 0.02, vascular_lesion 0.00, 26.0ms\n",
      "Speed: 0.0ms preprocess, 26.0ms inference, 0.3ms postprocess per image at shape (1, 3, 224, 224)\n",
      "\n",
      "0: 224x224 pigmented_benign_keratosis 0.76, nevus 0.12, dermatofibroma 0.06, melanoma 0.03, vascular_lesion 0.02, 25.6ms\n",
      "Speed: 0.0ms preprocess, 25.6ms inference, 0.3ms postprocess per image at shape (1, 3, 224, 224)\n",
      "\n",
      "0: 224x224 melanoma 0.80, nevus 0.18, seborrheic_keratosis 0.01, pigmented_benign_keratosis 0.01, basal_cell_carcinoma 0.00, 29.1ms\n",
      "Speed: 0.0ms preprocess, 29.1ms inference, 0.3ms postprocess per image at shape (1, 3, 224, 224)\n"
     ]
    },
    {
     "name": "stderr",
     "output_type": "stream",
     "text": [
      "\r",
      " 51%|█████████████████████████████████████████▏                                       | 60/118 [00:04<00:03, 17.82it/s]"
     ]
    },
    {
     "name": "stdout",
     "output_type": "stream",
     "text": [
      "\n",
      "0: 224x224 melanoma 0.46, nevus 0.39, pigmented_benign_keratosis 0.13, squamous_cell_carcinoma 0.01, seborrheic_keratosis 0.01, 25.1ms\n",
      "Speed: 0.0ms preprocess, 25.1ms inference, 0.2ms postprocess per image at shape (1, 3, 224, 224)\n",
      "\n",
      "0: 224x224 melanoma 0.86, nevus 0.10, seborrheic_keratosis 0.02, pigmented_benign_keratosis 0.01, squamous_cell_carcinoma 0.00, 25.9ms\n",
      "Speed: 0.0ms preprocess, 25.9ms inference, 0.3ms postprocess per image at shape (1, 3, 224, 224)\n",
      "\n",
      "0: 224x224 nevus 0.96, melanoma 0.03, seborrheic_keratosis 0.00, pigmented_benign_keratosis 0.00, dermatofibroma 0.00, 26.0ms\n",
      "Speed: 0.0ms preprocess, 26.0ms inference, 0.3ms postprocess per image at shape (1, 3, 224, 224)\n"
     ]
    },
    {
     "name": "stderr",
     "output_type": "stream",
     "text": [
      "\r",
      " 53%|███████████████████████████████████████████▏                                     | 63/118 [00:04<00:02, 18.64it/s]"
     ]
    },
    {
     "name": "stdout",
     "output_type": "stream",
     "text": [
      "\n",
      "0: 224x224 nevus 0.93, melanoma 0.05, pigmented_benign_keratosis 0.02, seborrheic_keratosis 0.00, squamous_cell_carcinoma 0.00, 25.8ms\n",
      "Speed: 0.1ms preprocess, 25.8ms inference, 0.3ms postprocess per image at shape (1, 3, 224, 224)\n",
      "\n",
      "0: 224x224 nevus 0.92, melanoma 0.04, pigmented_benign_keratosis 0.02, dermatofibroma 0.01, vascular_lesion 0.01, 27.8ms\n",
      "Speed: 0.0ms preprocess, 27.8ms inference, 0.3ms postprocess per image at shape (1, 3, 224, 224)\n",
      "\n",
      "0: 224x224 nevus 0.53, melanoma 0.34, seborrheic_keratosis 0.05, pigmented_benign_keratosis 0.04, squamous_cell_carcinoma 0.02, 28.4ms\n",
      "Speed: 0.0ms preprocess, 28.4ms inference, 0.3ms postprocess per image at shape (1, 3, 224, 224)\n"
     ]
    },
    {
     "name": "stderr",
     "output_type": "stream",
     "text": [
      "\r",
      " 56%|█████████████████████████████████████████████▎                                   | 66/118 [00:04<00:02, 19.94it/s]"
     ]
    },
    {
     "name": "stdout",
     "output_type": "stream",
     "text": [
      "\n",
      "0: 224x224 nevus 0.66, melanoma 0.29, pigmented_benign_keratosis 0.03, seborrheic_keratosis 0.01, dermatofibroma 0.01, 26.4ms\n",
      "Speed: 0.0ms preprocess, 26.4ms inference, 0.3ms postprocess per image at shape (1, 3, 224, 224)\n",
      "\n",
      "0: 224x224 nevus 0.92, pigmented_benign_keratosis 0.04, melanoma 0.04, seborrheic_keratosis 0.00, vascular_lesion 0.00, 26.4ms\n",
      "Speed: 0.0ms preprocess, 26.4ms inference, 0.3ms postprocess per image at shape (1, 3, 224, 224)\n",
      "\n",
      "0: 224x224 nevus 0.89, melanoma 0.09, pigmented_benign_keratosis 0.01, vascular_lesion 0.00, seborrheic_keratosis 0.00, 25.5ms\n",
      "Speed: 0.0ms preprocess, 25.5ms inference, 0.3ms postprocess per image at shape (1, 3, 224, 224)\n"
     ]
    },
    {
     "name": "stderr",
     "output_type": "stream",
     "text": [
      "\r",
      " 58%|███████████████████████████████████████████████▎                                 | 69/118 [00:04<00:02, 21.43it/s]"
     ]
    },
    {
     "name": "stdout",
     "output_type": "stream",
     "text": [
      "\n",
      "0: 224x224 nevus 0.80, melanoma 0.09, pigmented_benign_keratosis 0.07, vascular_lesion 0.02, dermatofibroma 0.01, 25.5ms\n",
      "Speed: 0.0ms preprocess, 25.5ms inference, 0.3ms postprocess per image at shape (1, 3, 224, 224)\n",
      "\n",
      "0: 224x224 nevus 0.97, melanoma 0.02, pigmented_benign_keratosis 0.01, seborrheic_keratosis 0.00, vascular_lesion 0.00, 26.6ms\n",
      "Speed: 0.0ms preprocess, 26.6ms inference, 0.3ms postprocess per image at shape (1, 3, 224, 224)\n",
      "\n",
      "0: 224x224 nevus 0.98, melanoma 0.01, pigmented_benign_keratosis 0.01, vascular_lesion 0.00, seborrheic_keratosis 0.00, 25.4ms\n",
      "Speed: 0.0ms preprocess, 25.4ms inference, 0.3ms postprocess per image at shape (1, 3, 224, 224)\n"
     ]
    },
    {
     "name": "stderr",
     "output_type": "stream",
     "text": [
      "\r",
      " 61%|█████████████████████████████████████████████████▍                               | 72/118 [00:04<00:02, 22.64it/s]"
     ]
    },
    {
     "name": "stdout",
     "output_type": "stream",
     "text": [
      "\n",
      "0: 224x224 nevus 0.78, melanoma 0.18, seborrheic_keratosis 0.02, pigmented_benign_keratosis 0.01, vascular_lesion 0.00, 25.8ms\n",
      "Speed: 0.0ms preprocess, 25.8ms inference, 0.3ms postprocess per image at shape (1, 3, 224, 224)\n",
      "\n",
      "0: 224x224 nevus 0.72, melanoma 0.21, pigmented_benign_keratosis 0.03, seborrheic_keratosis 0.03, squamous_cell_carcinoma 0.00, 27.7ms\n",
      "Speed: 0.0ms preprocess, 27.7ms inference, 0.3ms postprocess per image at shape (1, 3, 224, 224)\n",
      "\n",
      "0: 224x224 nevus 0.74, pigmented_benign_keratosis 0.15, melanoma 0.06, vascular_lesion 0.02, dermatofibroma 0.01, 26.0ms\n",
      "Speed: 0.0ms preprocess, 26.0ms inference, 0.3ms postprocess per image at shape (1, 3, 224, 224)\n"
     ]
    },
    {
     "name": "stderr",
     "output_type": "stream",
     "text": [
      "\r",
      " 64%|███████████████████████████████████████████████████▍                             | 75/118 [00:05<00:01, 23.37it/s]"
     ]
    },
    {
     "name": "stdout",
     "output_type": "stream",
     "text": [
      "\n",
      "0: 224x224 nevus 0.92, melanoma 0.05, pigmented_benign_keratosis 0.03, seborrheic_keratosis 0.00, squamous_cell_carcinoma 0.00, 26.0ms\n",
      "Speed: 0.0ms preprocess, 26.0ms inference, 0.3ms postprocess per image at shape (1, 3, 224, 224)\n",
      "\n",
      "0: 224x224 nevus 0.86, pigmented_benign_keratosis 0.10, melanoma 0.03, dermatofibroma 0.01, vascular_lesion 0.00, 25.1ms\n",
      "Speed: 0.0ms preprocess, 25.1ms inference, 0.3ms postprocess per image at shape (1, 3, 224, 224)\n",
      "\n",
      "0: 224x224 pigmented_benign_keratosis 0.53, nevus 0.26, melanoma 0.10, vascular_lesion 0.06, dermatofibroma 0.02, 26.4ms\n",
      "Speed: 0.0ms preprocess, 26.4ms inference, 0.3ms postprocess per image at shape (1, 3, 224, 224)\n"
     ]
    },
    {
     "name": "stderr",
     "output_type": "stream",
     "text": [
      "\r",
      " 66%|█████████████████████████████████████████████████████▌                           | 78/118 [00:05<00:01, 24.26it/s]"
     ]
    },
    {
     "name": "stdout",
     "output_type": "stream",
     "text": [
      "\n",
      "0: 224x224 nevus 0.94, pigmented_benign_keratosis 0.04, melanoma 0.02, seborrheic_keratosis 0.00, squamous_cell_carcinoma 0.00, 26.7ms\n",
      "Speed: 0.0ms preprocess, 26.7ms inference, 0.3ms postprocess per image at shape (1, 3, 224, 224)\n",
      "\n",
      "0: 224x224 nevus 0.69, melanoma 0.28, seborrheic_keratosis 0.02, pigmented_benign_keratosis 0.01, squamous_cell_carcinoma 0.00, 25.9ms\n",
      "Speed: 0.0ms preprocess, 25.9ms inference, 0.3ms postprocess per image at shape (1, 3, 224, 224)\n",
      "\n",
      "0: 224x224 pigmented_benign_keratosis 0.99, actinic_keratosis 0.00, nevus 0.00, squamous_cell_carcinoma 0.00, dermatofibroma 0.00, 26.1ms\n",
      "Speed: 0.0ms preprocess, 26.1ms inference, 0.3ms postprocess per image at shape (1, 3, 224, 224)\n"
     ]
    },
    {
     "name": "stderr",
     "output_type": "stream",
     "text": [
      "\r",
      " 69%|███████████████████████████████████████████████████████▌                         | 81/118 [00:05<00:01, 24.10it/s]"
     ]
    },
    {
     "name": "stdout",
     "output_type": "stream",
     "text": [
      "\n",
      "0: 224x224 pigmented_benign_keratosis 0.99, nevus 0.00, actinic_keratosis 0.00, basal_cell_carcinoma 0.00, dermatofibroma 0.00, 25.7ms\n",
      "Speed: 0.1ms preprocess, 25.7ms inference, 0.3ms postprocess per image at shape (1, 3, 224, 224)\n",
      "\n",
      "0: 224x224 pigmented_benign_keratosis 0.99, dermatofibroma 0.00, squamous_cell_carcinoma 0.00, nevus 0.00, basal_cell_carcinoma 0.00, 25.9ms\n",
      "Speed: 0.0ms preprocess, 25.9ms inference, 0.3ms postprocess per image at shape (1, 3, 224, 224)\n",
      "\n",
      "0: 224x224 pigmented_benign_keratosis 1.00, dermatofibroma 0.00, vascular_lesion 0.00, nevus 0.00, melanoma 0.00, 25.4ms\n",
      "Speed: 0.0ms preprocess, 25.4ms inference, 0.3ms postprocess per image at shape (1, 3, 224, 224)\n"
     ]
    },
    {
     "name": "stderr",
     "output_type": "stream",
     "text": [
      "\r",
      " 71%|█████████████████████████████████████████████████████████▋                       | 84/118 [00:05<00:01, 25.00it/s]"
     ]
    },
    {
     "name": "stdout",
     "output_type": "stream",
     "text": [
      "\n",
      "0: 224x224 pigmented_benign_keratosis 0.83, nevus 0.13, melanoma 0.03, basal_cell_carcinoma 0.00, actinic_keratosis 0.00, 26.4ms\n",
      "Speed: 0.0ms preprocess, 26.4ms inference, 0.3ms postprocess per image at shape (1, 3, 224, 224)\n",
      "\n",
      "0: 224x224 pigmented_benign_keratosis 0.99, squamous_cell_carcinoma 0.00, dermatofibroma 0.00, basal_cell_carcinoma 0.00, actinic_keratosis 0.00, 29.4ms\n",
      "Speed: 0.0ms preprocess, 29.4ms inference, 0.3ms postprocess per image at shape (1, 3, 224, 224)\n",
      "\n",
      "0: 224x224 pigmented_benign_keratosis 0.77, melanoma 0.13, nevus 0.09, seborrheic_keratosis 0.01, basal_cell_carcinoma 0.00, 29.8ms\n",
      "Speed: 0.0ms preprocess, 29.8ms inference, 0.3ms postprocess per image at shape (1, 3, 224, 224)\n"
     ]
    },
    {
     "name": "stderr",
     "output_type": "stream",
     "text": [
      "\r",
      " 74%|███████████████████████████████████████████████████████████▋                     | 87/118 [00:05<00:01, 24.76it/s]"
     ]
    },
    {
     "name": "stdout",
     "output_type": "stream",
     "text": [
      "\n",
      "0: 224x224 pigmented_benign_keratosis 0.92, melanoma 0.04, squamous_cell_carcinoma 0.04, seborrheic_keratosis 0.00, nevus 0.00, 27.6ms\n",
      "Speed: 0.0ms preprocess, 27.6ms inference, 0.3ms postprocess per image at shape (1, 3, 224, 224)\n",
      "\n",
      "0: 224x224 pigmented_benign_keratosis 0.98, actinic_keratosis 0.01, melanoma 0.01, nevus 0.00, squamous_cell_carcinoma 0.00, 26.0ms\n",
      "Speed: 0.0ms preprocess, 26.0ms inference, 0.3ms postprocess per image at shape (1, 3, 224, 224)\n",
      "\n",
      "0: 224x224 pigmented_benign_keratosis 1.00, squamous_cell_carcinoma 0.00, melanoma 0.00, nevus 0.00, basal_cell_carcinoma 0.00, 27.5ms\n",
      "Speed: 0.1ms preprocess, 27.5ms inference, 0.3ms postprocess per image at shape (1, 3, 224, 224)\n"
     ]
    },
    {
     "name": "stderr",
     "output_type": "stream",
     "text": [
      "\r",
      " 76%|█████████████████████████████████████████████████████████████▊                   | 90/118 [00:05<00:01, 25.12it/s]"
     ]
    },
    {
     "name": "stdout",
     "output_type": "stream",
     "text": [
      "\n",
      "0: 224x224 pigmented_benign_keratosis 0.99, basal_cell_carcinoma 0.00, melanoma 0.00, nevus 0.00, dermatofibroma 0.00, 26.0ms\n",
      "Speed: 0.0ms preprocess, 26.0ms inference, 0.5ms postprocess per image at shape (1, 3, 224, 224)\n",
      "\n",
      "0: 224x224 pigmented_benign_keratosis 0.96, nevus 0.03, basal_cell_carcinoma 0.00, dermatofibroma 0.00, melanoma 0.00, 26.9ms\n",
      "Speed: 0.0ms preprocess, 26.9ms inference, 0.5ms postprocess per image at shape (1, 3, 224, 224)\n",
      "\n",
      "0: 224x224 squamous_cell_carcinoma 0.97, basal_cell_carcinoma 0.02, nevus 0.00, melanoma 0.00, pigmented_benign_keratosis 0.00, 27.9ms\n",
      "Speed: 0.0ms preprocess, 27.9ms inference, 0.4ms postprocess per image at shape (1, 3, 224, 224)\n"
     ]
    },
    {
     "name": "stderr",
     "output_type": "stream",
     "text": [
      "\r",
      " 79%|███████████████████████████████████████████████████████████████▊                 | 93/118 [00:05<00:00, 25.41it/s]"
     ]
    },
    {
     "name": "stdout",
     "output_type": "stream",
     "text": [
      "\n",
      "0: 224x224 melanoma 0.82, seborrheic_keratosis 0.08, squamous_cell_carcinoma 0.08, pigmented_benign_keratosis 0.01, actinic_keratosis 0.00, 26.6ms\n",
      "Speed: 0.0ms preprocess, 26.6ms inference, 0.3ms postprocess per image at shape (1, 3, 224, 224)\n",
      "\n",
      "0: 224x224 pigmented_benign_keratosis 0.53, melanoma 0.13, squamous_cell_carcinoma 0.13, nevus 0.12, actinic_keratosis 0.06, 27.5ms\n",
      "Speed: 0.0ms preprocess, 27.5ms inference, 0.3ms postprocess per image at shape (1, 3, 224, 224)\n",
      "\n",
      "0: 224x224 pigmented_benign_keratosis 0.97, basal_cell_carcinoma 0.02, nevus 0.01, melanoma 0.00, squamous_cell_carcinoma 0.00, 27.4ms\n",
      "Speed: 0.1ms preprocess, 27.4ms inference, 0.4ms postprocess per image at shape (1, 3, 224, 224)\n"
     ]
    },
    {
     "name": "stderr",
     "output_type": "stream",
     "text": [
      "\r",
      " 81%|█████████████████████████████████████████████████████████████████▉               | 96/118 [00:05<00:00, 25.71it/s]"
     ]
    },
    {
     "name": "stdout",
     "output_type": "stream",
     "text": [
      "\n",
      "0: 224x224 nevus 0.65, melanoma 0.28, seborrheic_keratosis 0.05, dermatofibroma 0.00, pigmented_benign_keratosis 0.00, 28.2ms\n",
      "Speed: 0.0ms preprocess, 28.2ms inference, 0.3ms postprocess per image at shape (1, 3, 224, 224)\n",
      "\n",
      "0: 224x224 melanoma 0.87, seborrheic_keratosis 0.13, nevus 0.00, squamous_cell_carcinoma 0.00, pigmented_benign_keratosis 0.00, 26.6ms\n",
      "Speed: 0.0ms preprocess, 26.6ms inference, 0.3ms postprocess per image at shape (1, 3, 224, 224)\n",
      "\n",
      "0: 224x224 melanoma 0.60, nevus 0.11, seborrheic_keratosis 0.09, actinic_keratosis 0.08, squamous_cell_carcinoma 0.07, 27.0ms\n",
      "Speed: 0.0ms preprocess, 27.0ms inference, 0.3ms postprocess per image at shape (1, 3, 224, 224)\n"
     ]
    },
    {
     "name": "stderr",
     "output_type": "stream",
     "text": [
      "\r",
      " 84%|███████████████████████████████████████████████████████████████████▉             | 99/118 [00:06<00:00, 24.98it/s]"
     ]
    },
    {
     "name": "stdout",
     "output_type": "stream",
     "text": [
      "\n",
      "0: 224x224 nevus 0.72, melanoma 0.17, pigmented_benign_keratosis 0.07, squamous_cell_carcinoma 0.02, seborrheic_keratosis 0.01, 31.0ms\n",
      "Speed: 0.0ms preprocess, 31.0ms inference, 0.6ms postprocess per image at shape (1, 3, 224, 224)\n",
      "\n",
      "0: 224x224 melanoma 0.45, nevus 0.14, dermatofibroma 0.11, vascular_lesion 0.09, pigmented_benign_keratosis 0.08, 30.8ms\n",
      "Speed: 0.0ms preprocess, 30.8ms inference, 0.3ms postprocess per image at shape (1, 3, 224, 224)\n",
      "\n",
      "0: 224x224 squamous_cell_carcinoma 0.38, melanoma 0.37, basal_cell_carcinoma 0.10, nevus 0.05, actinic_keratosis 0.05, 36.3ms\n",
      "Speed: 0.0ms preprocess, 36.3ms inference, 0.3ms postprocess per image at shape (1, 3, 224, 224)\n"
     ]
    },
    {
     "name": "stderr",
     "output_type": "stream",
     "text": [
      "\r",
      " 86%|█████████████████████████████████████████████████████████████████████▏          | 102/118 [00:07<00:02,  6.18it/s]"
     ]
    },
    {
     "name": "stdout",
     "output_type": "stream",
     "text": [
      "\n",
      "0: 224x224 squamous_cell_carcinoma 0.60, melanoma 0.19, basal_cell_carcinoma 0.07, seborrheic_keratosis 0.03, nevus 0.03, 32.2ms\n",
      "Speed: 0.0ms preprocess, 32.2ms inference, 0.3ms postprocess per image at shape (1, 3, 224, 224)\n",
      "\n",
      "0: 224x224 basal_cell_carcinoma 0.47, pigmented_benign_keratosis 0.23, melanoma 0.11, squamous_cell_carcinoma 0.08, seborrheic_keratosis 0.05, 29.8ms\n",
      "Speed: 0.0ms preprocess, 29.8ms inference, 0.3ms postprocess per image at shape (1, 3, 224, 224)\n"
     ]
    },
    {
     "name": "stderr",
     "output_type": "stream",
     "text": [
      "\r",
      " 88%|██████████████████████████████████████████████████████████████████████▌         | 104/118 [00:08<00:03,  4.45it/s]"
     ]
    },
    {
     "name": "stdout",
     "output_type": "stream",
     "text": [
      "\n",
      "0: 224x224 squamous_cell_carcinoma 0.77, basal_cell_carcinoma 0.10, pigmented_benign_keratosis 0.05, melanoma 0.05, seborrheic_keratosis 0.01, 28.8ms\n",
      "Speed: 0.0ms preprocess, 28.8ms inference, 0.4ms postprocess per image at shape (1, 3, 224, 224)\n",
      "\n",
      "0: 224x224 squamous_cell_carcinoma 0.69, pigmented_benign_keratosis 0.22, actinic_keratosis 0.06, dermatofibroma 0.02, basal_cell_carcinoma 0.00, 29.7ms\n",
      "Speed: 0.0ms preprocess, 29.7ms inference, 0.3ms postprocess per image at shape (1, 3, 224, 224)\n",
      "\n",
      "0: 224x224 squamous_cell_carcinoma 0.48, pigmented_benign_keratosis 0.29, melanoma 0.15, nevus 0.03, seborrheic_keratosis 0.02, 26.3ms\n",
      "Speed: 0.0ms preprocess, 26.3ms inference, 0.4ms postprocess per image at shape (1, 3, 224, 224)\n"
     ]
    },
    {
     "name": "stderr",
     "output_type": "stream",
     "text": [
      "\r",
      " 91%|████████████████████████████████████████████████████████████████████████▌       | 107/118 [00:08<00:01,  6.06it/s]"
     ]
    },
    {
     "name": "stdout",
     "output_type": "stream",
     "text": [
      "\n",
      "0: 224x224 squamous_cell_carcinoma 0.51, melanoma 0.39, nevus 0.04, seborrheic_keratosis 0.04, pigmented_benign_keratosis 0.01, 27.6ms\n",
      "Speed: 0.0ms preprocess, 27.6ms inference, 0.3ms postprocess per image at shape (1, 3, 224, 224)\n",
      "\n",
      "0: 224x224 pigmented_benign_keratosis 0.62, squamous_cell_carcinoma 0.34, melanoma 0.02, dermatofibroma 0.01, actinic_keratosis 0.01, 26.6ms\n",
      "Speed: 0.0ms preprocess, 26.6ms inference, 0.3ms postprocess per image at shape (1, 3, 224, 224)\n",
      "\n",
      "0: 224x224 basal_cell_carcinoma 0.48, dermatofibroma 0.30, pigmented_benign_keratosis 0.10, squamous_cell_carcinoma 0.06, nevus 0.02, 27.3ms\n",
      "Speed: 0.0ms preprocess, 27.3ms inference, 0.3ms postprocess per image at shape (1, 3, 224, 224)\n"
     ]
    },
    {
     "name": "stderr",
     "output_type": "stream",
     "text": [
      "\r",
      " 93%|██████████████████████████████████████████████████████████████████████████▌     | 110/118 [00:08<00:01,  7.95it/s]"
     ]
    },
    {
     "name": "stdout",
     "output_type": "stream",
     "text": [
      "\n",
      "0: 224x224 pigmented_benign_keratosis 0.73, dermatofibroma 0.10, basal_cell_carcinoma 0.09, nevus 0.04, squamous_cell_carcinoma 0.03, 26.6ms\n",
      "Speed: 0.0ms preprocess, 26.6ms inference, 0.3ms postprocess per image at shape (1, 3, 224, 224)\n",
      "\n",
      "0: 224x224 basal_cell_carcinoma 0.64, pigmented_benign_keratosis 0.33, squamous_cell_carcinoma 0.03, actinic_keratosis 0.00, melanoma 0.00, 26.1ms\n",
      "Speed: 0.0ms preprocess, 26.1ms inference, 0.3ms postprocess per image at shape (1, 3, 224, 224)\n",
      "\n",
      "0: 224x224 pigmented_benign_keratosis 0.54, squamous_cell_carcinoma 0.14, melanoma 0.14, dermatofibroma 0.08, nevus 0.04, 26.3ms\n",
      "Speed: 0.0ms preprocess, 26.3ms inference, 0.4ms postprocess per image at shape (1, 3, 224, 224)\n"
     ]
    },
    {
     "name": "stderr",
     "output_type": "stream",
     "text": [
      "\r",
      " 96%|████████████████████████████████████████████████████████████████████████████▌   | 113/118 [00:08<00:00, 10.18it/s]"
     ]
    },
    {
     "name": "stdout",
     "output_type": "stream",
     "text": [
      "\n",
      "0: 224x224 squamous_cell_carcinoma 0.51, dermatofibroma 0.24, pigmented_benign_keratosis 0.14, basal_cell_carcinoma 0.04, actinic_keratosis 0.04, 30.2ms\n",
      "Speed: 0.0ms preprocess, 30.2ms inference, 0.3ms postprocess per image at shape (1, 3, 224, 224)\n",
      "\n",
      "0: 224x224 squamous_cell_carcinoma 0.92, melanoma 0.03, pigmented_benign_keratosis 0.02, dermatofibroma 0.02, actinic_keratosis 0.00, 30.0ms\n",
      "Speed: 0.0ms preprocess, 30.0ms inference, 0.3ms postprocess per image at shape (1, 3, 224, 224)\n",
      "\n",
      "0: 224x224 vascular_lesion 1.00, pigmented_benign_keratosis 0.00, basal_cell_carcinoma 0.00, nevus 0.00, melanoma 0.00, 26.6ms\n",
      "Speed: 0.0ms preprocess, 26.6ms inference, 0.3ms postprocess per image at shape (1, 3, 224, 224)\n"
     ]
    },
    {
     "name": "stderr",
     "output_type": "stream",
     "text": [
      "\r",
      " 98%|██████████████████████████████████████████████████████████████████████████████▋ | 116/118 [00:08<00:00, 12.38it/s]"
     ]
    },
    {
     "name": "stdout",
     "output_type": "stream",
     "text": [
      "\n",
      "0: 224x224 vascular_lesion 1.00, basal_cell_carcinoma 0.00, pigmented_benign_keratosis 0.00, dermatofibroma 0.00, melanoma 0.00, 26.4ms\n",
      "Speed: 0.0ms preprocess, 26.4ms inference, 0.3ms postprocess per image at shape (1, 3, 224, 224)\n",
      "\n",
      "0: 224x224 vascular_lesion 1.00, pigmented_benign_keratosis 0.00, basal_cell_carcinoma 0.00, dermatofibroma 0.00, nevus 0.00, 27.2ms\n",
      "Speed: 0.1ms preprocess, 27.2ms inference, 0.4ms postprocess per image at shape (1, 3, 224, 224)\n"
     ]
    },
    {
     "name": "stderr",
     "output_type": "stream",
     "text": [
      "\r",
      "100%|████████████████████████████████████████████████████████████████████████████████| 118/118 [00:08<00:00, 13.37it/s]"
     ]
    },
    {
     "name": "stdout",
     "output_type": "stream",
     "text": [
      "Processing: yolov8l\n"
     ]
    },
    {
     "name": "stderr",
     "output_type": "stream",
     "text": [
      "\n",
      "  0%|                                                                                          | 0/118 [00:00<?, ?it/s]"
     ]
    },
    {
     "name": "stdout",
     "output_type": "stream",
     "text": [
      "\n",
      "0: 224x224 melanoma 0.67, seborrheic_keratosis 0.22, actinic_keratosis 0.06, nevus 0.03, pigmented_benign_keratosis 0.01, 69.5ms\n",
      "Speed: 0.0ms preprocess, 69.5ms inference, 0.3ms postprocess per image at shape (1, 3, 224, 224)\n"
     ]
    },
    {
     "name": "stderr",
     "output_type": "stream",
     "text": [
      "\r",
      "  1%|▋                                                                                 | 1/118 [00:00<00:51,  2.28it/s]"
     ]
    },
    {
     "name": "stdout",
     "output_type": "stream",
     "text": [
      "\n",
      "0: 224x224 nevus 1.00, melanoma 0.00, pigmented_benign_keratosis 0.00, seborrheic_keratosis 0.00, actinic_keratosis 0.00, 60.2ms\n",
      "Speed: 0.1ms preprocess, 60.2ms inference, 0.3ms postprocess per image at shape (1, 3, 224, 224)\n",
      "\n",
      "0: 224x224 nevus 0.74, actinic_keratosis 0.26, basal_cell_carcinoma 0.00, squamous_cell_carcinoma 0.00, melanoma 0.00, 65.7ms\n",
      "Speed: 0.0ms preprocess, 65.7ms inference, 0.3ms postprocess per image at shape (1, 3, 224, 224)\n"
     ]
    },
    {
     "name": "stderr",
     "output_type": "stream",
     "text": [
      "\r",
      "  3%|██                                                                                | 3/118 [00:00<00:19,  5.88it/s]"
     ]
    },
    {
     "name": "stdout",
     "output_type": "stream",
     "text": [
      "\n",
      "0: 224x224 nevus 0.92, actinic_keratosis 0.06, basal_cell_carcinoma 0.01, pigmented_benign_keratosis 0.01, squamous_cell_carcinoma 0.00, 59.8ms\n",
      "Speed: 0.0ms preprocess, 59.8ms inference, 0.3ms postprocess per image at shape (1, 3, 224, 224)\n",
      "\n",
      "0: 224x224 nevus 0.44, pigmented_benign_keratosis 0.35, basal_cell_carcinoma 0.12, melanoma 0.03, actinic_keratosis 0.03, 65.7ms\n",
      "Speed: 0.1ms preprocess, 65.7ms inference, 0.3ms postprocess per image at shape (1, 3, 224, 224)\n"
     ]
    },
    {
     "name": "stderr",
     "output_type": "stream",
     "text": [
      "\r",
      "  4%|███▍                                                                              | 5/118 [00:00<00:13,  8.31it/s]"
     ]
    },
    {
     "name": "stdout",
     "output_type": "stream",
     "text": [
      "\n",
      "0: 224x224 nevus 0.69, actinic_keratosis 0.25, pigmented_benign_keratosis 0.04, squamous_cell_carcinoma 0.02, melanoma 0.01, 64.6ms\n",
      "Speed: 0.0ms preprocess, 64.6ms inference, 0.3ms postprocess per image at shape (1, 3, 224, 224)\n",
      "\n",
      "0: 224x224 pigmented_benign_keratosis 0.72, nevus 0.11, basal_cell_carcinoma 0.06, melanoma 0.05, actinic_keratosis 0.04, 61.9ms\n",
      "Speed: 0.0ms preprocess, 61.9ms inference, 0.3ms postprocess per image at shape (1, 3, 224, 224)\n"
     ]
    },
    {
     "name": "stderr",
     "output_type": "stream",
     "text": [
      "\r",
      "  6%|████▊                                                                             | 7/118 [00:00<00:11,  9.83it/s]"
     ]
    },
    {
     "name": "stdout",
     "output_type": "stream",
     "text": [
      "\n",
      "0: 224x224 nevus 0.64, actinic_keratosis 0.22, pigmented_benign_keratosis 0.06, melanoma 0.05, seborrheic_keratosis 0.02, 61.5ms\n",
      "Speed: 0.0ms preprocess, 61.5ms inference, 0.3ms postprocess per image at shape (1, 3, 224, 224)\n",
      "\n",
      "0: 224x224 actinic_keratosis 0.49, nevus 0.47, squamous_cell_carcinoma 0.02, melanoma 0.01, basal_cell_carcinoma 0.01, 61.6ms\n",
      "Speed: 0.0ms preprocess, 61.6ms inference, 0.3ms postprocess per image at shape (1, 3, 224, 224)\n"
     ]
    },
    {
     "name": "stderr",
     "output_type": "stream",
     "text": [
      "\r",
      "  8%|██████▎                                                                           | 9/118 [00:01<00:09, 10.91it/s]"
     ]
    },
    {
     "name": "stdout",
     "output_type": "stream",
     "text": [
      "\n",
      "0: 224x224 nevus 0.84, actinic_keratosis 0.16, squamous_cell_carcinoma 0.00, basal_cell_carcinoma 0.00, melanoma 0.00, 60.6ms\n",
      "Speed: 0.2ms preprocess, 60.6ms inference, 0.3ms postprocess per image at shape (1, 3, 224, 224)\n",
      "\n",
      "0: 224x224 nevus 0.85, pigmented_benign_keratosis 0.15, actinic_keratosis 0.00, basal_cell_carcinoma 0.00, squamous_cell_carcinoma 0.00, 61.6ms\n",
      "Speed: 0.1ms preprocess, 61.6ms inference, 0.3ms postprocess per image at shape (1, 3, 224, 224)\n"
     ]
    },
    {
     "name": "stderr",
     "output_type": "stream",
     "text": [
      "\r",
      "  9%|███████▌                                                                         | 11/118 [00:01<00:09, 11.75it/s]"
     ]
    },
    {
     "name": "stdout",
     "output_type": "stream",
     "text": [
      "\n",
      "0: 224x224 basal_cell_carcinoma 0.36, nevus 0.30, actinic_keratosis 0.18, pigmented_benign_keratosis 0.05, dermatofibroma 0.05, 58.4ms\n",
      "Speed: 0.0ms preprocess, 58.4ms inference, 0.3ms postprocess per image at shape (1, 3, 224, 224)\n",
      "\n",
      "0: 224x224 nevus 0.72, actinic_keratosis 0.16, pigmented_benign_keratosis 0.11, basal_cell_carcinoma 0.01, squamous_cell_carcinoma 0.00, 65.3ms\n",
      "Speed: 0.0ms preprocess, 65.3ms inference, 0.3ms postprocess per image at shape (1, 3, 224, 224)\n"
     ]
    },
    {
     "name": "stderr",
     "output_type": "stream",
     "text": [
      "\r",
      " 11%|████████▉                                                                        | 13/118 [00:01<00:08, 12.25it/s]"
     ]
    },
    {
     "name": "stdout",
     "output_type": "stream",
     "text": [
      "\n",
      "0: 224x224 nevus 0.84, actinic_keratosis 0.15, pigmented_benign_keratosis 0.00, squamous_cell_carcinoma 0.00, basal_cell_carcinoma 0.00, 58.9ms\n",
      "Speed: 0.0ms preprocess, 58.9ms inference, 0.3ms postprocess per image at shape (1, 3, 224, 224)\n",
      "\n",
      "0: 224x224 nevus 0.94, actinic_keratosis 0.05, vascular_lesion 0.00, basal_cell_carcinoma 0.00, pigmented_benign_keratosis 0.00, 58.9ms\n",
      "Speed: 0.1ms preprocess, 58.9ms inference, 0.3ms postprocess per image at shape (1, 3, 224, 224)\n"
     ]
    },
    {
     "name": "stderr",
     "output_type": "stream",
     "text": [
      "\r",
      " 13%|██████████▎                                                                      | 15/118 [00:01<00:08, 12.76it/s]"
     ]
    },
    {
     "name": "stdout",
     "output_type": "stream",
     "text": [
      "\n",
      "0: 224x224 nevus 0.80, actinic_keratosis 0.16, basal_cell_carcinoma 0.02, pigmented_benign_keratosis 0.01, squamous_cell_carcinoma 0.01, 58.2ms\n",
      "Speed: 0.0ms preprocess, 58.2ms inference, 0.3ms postprocess per image at shape (1, 3, 224, 224)\n",
      "\n",
      "0: 224x224 basal_cell_carcinoma 0.97, dermatofibroma 0.03, pigmented_benign_keratosis 0.00, nevus 0.00, squamous_cell_carcinoma 0.00, 59.9ms\n",
      "Speed: 0.0ms preprocess, 59.9ms inference, 0.3ms postprocess per image at shape (1, 3, 224, 224)\n"
     ]
    },
    {
     "name": "stderr",
     "output_type": "stream",
     "text": [
      "\r",
      " 14%|███████████▋                                                                     | 17/118 [00:01<00:07, 13.52it/s]"
     ]
    },
    {
     "name": "stdout",
     "output_type": "stream",
     "text": [
      "\n",
      "0: 224x224 basal_cell_carcinoma 0.98, pigmented_benign_keratosis 0.02, squamous_cell_carcinoma 0.00, dermatofibroma 0.00, nevus 0.00, 58.7ms\n",
      "Speed: 0.0ms preprocess, 58.7ms inference, 0.3ms postprocess per image at shape (1, 3, 224, 224)\n",
      "\n",
      "0: 224x224 basal_cell_carcinoma 0.96, squamous_cell_carcinoma 0.02, pigmented_benign_keratosis 0.01, dermatofibroma 0.00, nevus 0.00, 60.7ms\n",
      "Speed: 0.0ms preprocess, 60.7ms inference, 0.3ms postprocess per image at shape (1, 3, 224, 224)\n"
     ]
    },
    {
     "name": "stderr",
     "output_type": "stream",
     "text": [
      "\r",
      " 16%|█████████████                                                                    | 19/118 [00:01<00:07, 13.29it/s]"
     ]
    },
    {
     "name": "stdout",
     "output_type": "stream",
     "text": [
      "\n",
      "0: 224x224 basal_cell_carcinoma 0.83, pigmented_benign_keratosis 0.12, nevus 0.02, melanoma 0.01, seborrheic_keratosis 0.01, 61.9ms\n",
      "Speed: 0.0ms preprocess, 61.9ms inference, 0.3ms postprocess per image at shape (1, 3, 224, 224)\n",
      "\n",
      "0: 224x224 basal_cell_carcinoma 0.90, pigmented_benign_keratosis 0.06, squamous_cell_carcinoma 0.03, nevus 0.01, actinic_keratosis 0.00, 67.6ms\n",
      "Speed: 0.0ms preprocess, 67.6ms inference, 0.3ms postprocess per image at shape (1, 3, 224, 224)\n"
     ]
    },
    {
     "name": "stderr",
     "output_type": "stream",
     "text": [
      "\r",
      " 18%|██████████████▍                                                                  | 21/118 [00:01<00:07, 13.29it/s]"
     ]
    },
    {
     "name": "stdout",
     "output_type": "stream",
     "text": [
      "\n",
      "0: 224x224 basal_cell_carcinoma 0.97, pigmented_benign_keratosis 0.02, squamous_cell_carcinoma 0.00, melanoma 0.00, vascular_lesion 0.00, 68.5ms\n",
      "Speed: 0.0ms preprocess, 68.5ms inference, 0.4ms postprocess per image at shape (1, 3, 224, 224)\n",
      "\n",
      "0: 224x224 basal_cell_carcinoma 0.98, pigmented_benign_keratosis 0.01, nevus 0.00, melanoma 0.00, actinic_keratosis 0.00, 61.5ms\n",
      "Speed: 0.0ms preprocess, 61.5ms inference, 0.3ms postprocess per image at shape (1, 3, 224, 224)\n"
     ]
    },
    {
     "name": "stderr",
     "output_type": "stream",
     "text": [
      "\r",
      " 19%|███████████████▊                                                                 | 23/118 [00:02<00:07, 13.01it/s]"
     ]
    },
    {
     "name": "stdout",
     "output_type": "stream",
     "text": [
      "\n",
      "0: 224x224 pigmented_benign_keratosis 0.35, melanoma 0.31, basal_cell_carcinoma 0.16, seborrheic_keratosis 0.08, vascular_lesion 0.03, 59.2ms\n",
      "Speed: 0.0ms preprocess, 59.2ms inference, 0.3ms postprocess per image at shape (1, 3, 224, 224)\n",
      "\n",
      "0: 224x224 basal_cell_carcinoma 1.00, pigmented_benign_keratosis 0.00, dermatofibroma 0.00, vascular_lesion 0.00, squamous_cell_carcinoma 0.00, 61.1ms\n",
      "Speed: 0.0ms preprocess, 61.1ms inference, 0.3ms postprocess per image at shape (1, 3, 224, 224)\n"
     ]
    },
    {
     "name": "stderr",
     "output_type": "stream",
     "text": [
      "\r",
      " 21%|█████████████████▏                                                               | 25/118 [00:02<00:06, 13.31it/s]"
     ]
    },
    {
     "name": "stdout",
     "output_type": "stream",
     "text": [
      "\n",
      "0: 224x224 basal_cell_carcinoma 1.00, squamous_cell_carcinoma 0.00, vascular_lesion 0.00, pigmented_benign_keratosis 0.00, actinic_keratosis 0.00, 63.4ms\n",
      "Speed: 0.0ms preprocess, 63.4ms inference, 0.4ms postprocess per image at shape (1, 3, 224, 224)\n",
      "\n",
      "0: 224x224 basal_cell_carcinoma 1.00, squamous_cell_carcinoma 0.00, actinic_keratosis 0.00, nevus 0.00, pigmented_benign_keratosis 0.00, 61.6ms\n",
      "Speed: 0.0ms preprocess, 61.6ms inference, 0.3ms postprocess per image at shape (1, 3, 224, 224)\n"
     ]
    },
    {
     "name": "stderr",
     "output_type": "stream",
     "text": [
      "\r",
      " 23%|██████████████████▌                                                              | 27/118 [00:02<00:06, 13.30it/s]"
     ]
    },
    {
     "name": "stdout",
     "output_type": "stream",
     "text": [
      "\n",
      "0: 224x224 basal_cell_carcinoma 0.99, nevus 0.00, actinic_keratosis 0.00, pigmented_benign_keratosis 0.00, dermatofibroma 0.00, 65.6ms\n",
      "Speed: 0.0ms preprocess, 65.6ms inference, 0.3ms postprocess per image at shape (1, 3, 224, 224)\n",
      "\n",
      "0: 224x224 basal_cell_carcinoma 0.99, dermatofibroma 0.00, squamous_cell_carcinoma 0.00, vascular_lesion 0.00, pigmented_benign_keratosis 0.00, 58.1ms\n",
      "Speed: 0.0ms preprocess, 58.1ms inference, 0.3ms postprocess per image at shape (1, 3, 224, 224)\n"
     ]
    },
    {
     "name": "stderr",
     "output_type": "stream",
     "text": [
      "\r",
      " 25%|███████████████████▉                                                             | 29/118 [00:02<00:06, 13.38it/s]"
     ]
    },
    {
     "name": "stdout",
     "output_type": "stream",
     "text": [
      "\n",
      "0: 224x224 basal_cell_carcinoma 1.00, squamous_cell_carcinoma 0.00, actinic_keratosis 0.00, nevus 0.00, pigmented_benign_keratosis 0.00, 58.4ms\n",
      "Speed: 0.0ms preprocess, 58.4ms inference, 0.3ms postprocess per image at shape (1, 3, 224, 224)\n",
      "\n",
      "0: 224x224 basal_cell_carcinoma 1.00, dermatofibroma 0.00, squamous_cell_carcinoma 0.00, pigmented_benign_keratosis 0.00, vascular_lesion 0.00, 66.2ms\n",
      "Speed: 0.0ms preprocess, 66.2ms inference, 0.3ms postprocess per image at shape (1, 3, 224, 224)\n"
     ]
    },
    {
     "name": "stderr",
     "output_type": "stream",
     "text": [
      "\r",
      " 26%|█████████████████████▎                                                           | 31/118 [00:02<00:06, 13.38it/s]"
     ]
    },
    {
     "name": "stdout",
     "output_type": "stream",
     "text": [
      "\n",
      "0: 224x224 basal_cell_carcinoma 1.00, pigmented_benign_keratosis 0.00, vascular_lesion 0.00, squamous_cell_carcinoma 0.00, dermatofibroma 0.00, 61.6ms\n",
      "Speed: 0.0ms preprocess, 61.6ms inference, 0.4ms postprocess per image at shape (1, 3, 224, 224)\n",
      "\n",
      "0: 224x224 melanoma 0.87, seborrheic_keratosis 0.08, nevus 0.02, squamous_cell_carcinoma 0.02, dermatofibroma 0.00, 79.2ms\n",
      "Speed: 0.0ms preprocess, 79.2ms inference, 0.6ms postprocess per image at shape (1, 3, 224, 224)\n"
     ]
    },
    {
     "name": "stderr",
     "output_type": "stream",
     "text": [
      "\r",
      " 28%|██████████████████████▋                                                          | 33/118 [00:02<00:07, 11.41it/s]"
     ]
    },
    {
     "name": "stdout",
     "output_type": "stream",
     "text": [
      "\n",
      "0: 224x224 nevus 0.99, melanoma 0.01, seborrheic_keratosis 0.00, pigmented_benign_keratosis 0.00, actinic_keratosis 0.00, 61.2ms\n",
      "Speed: 0.0ms preprocess, 61.2ms inference, 0.3ms postprocess per image at shape (1, 3, 224, 224)\n",
      "\n",
      "0: 224x224 basal_cell_carcinoma 0.84, squamous_cell_carcinoma 0.08, dermatofibroma 0.08, pigmented_benign_keratosis 0.00, actinic_keratosis 0.00, 92.1ms\n",
      "Speed: 0.0ms preprocess, 92.1ms inference, 0.4ms postprocess per image at shape (1, 3, 224, 224)\n"
     ]
    },
    {
     "name": "stderr",
     "output_type": "stream",
     "text": [
      "\r",
      " 30%|████████████████████████                                                         | 35/118 [00:03<00:14,  5.81it/s]"
     ]
    },
    {
     "name": "stdout",
     "output_type": "stream",
     "text": [
      "\n",
      "0: 224x224 dermatofibroma 0.90, actinic_keratosis 0.05, nevus 0.02, squamous_cell_carcinoma 0.01, pigmented_benign_keratosis 0.01, 63.2ms\n",
      "Speed: 0.0ms preprocess, 63.2ms inference, 0.4ms postprocess per image at shape (1, 3, 224, 224)\n"
     ]
    },
    {
     "name": "stderr",
     "output_type": "stream",
     "text": [
      "\r",
      " 31%|████████████████████████▋                                                        | 36/118 [00:04<00:18,  4.45it/s]"
     ]
    },
    {
     "name": "stdout",
     "output_type": "stream",
     "text": [
      "\n",
      "0: 224x224 dermatofibroma 0.91, pigmented_benign_keratosis 0.09, nevus 0.01, basal_cell_carcinoma 0.00, actinic_keratosis 0.00, 60.6ms\n",
      "Speed: 0.0ms preprocess, 60.6ms inference, 0.4ms postprocess per image at shape (1, 3, 224, 224)\n"
     ]
    },
    {
     "name": "stderr",
     "output_type": "stream",
     "text": [
      "\r",
      " 31%|█████████████████████████▍                                                       | 37/118 [00:04<00:22,  3.68it/s]"
     ]
    },
    {
     "name": "stdout",
     "output_type": "stream",
     "text": [
      "\n",
      "0: 224x224 dermatofibroma 0.97, pigmented_benign_keratosis 0.03, basal_cell_carcinoma 0.00, melanoma 0.00, nevus 0.00, 53.2ms\n",
      "Speed: 0.0ms preprocess, 53.2ms inference, 0.2ms postprocess per image at shape (1, 3, 224, 224)\n"
     ]
    },
    {
     "name": "stderr",
     "output_type": "stream",
     "text": [
      "\r",
      " 32%|██████████████████████████                                                       | 38/118 [00:04<00:24,  3.30it/s]"
     ]
    },
    {
     "name": "stdout",
     "output_type": "stream",
     "text": [
      "\n",
      "0: 224x224 nevus 0.53, melanoma 0.42, pigmented_benign_keratosis 0.03, seborrheic_keratosis 0.01, dermatofibroma 0.00, 58.4ms\n",
      "Speed: 0.0ms preprocess, 58.4ms inference, 0.3ms postprocess per image at shape (1, 3, 224, 224)\n"
     ]
    },
    {
     "name": "stderr",
     "output_type": "stream",
     "text": [
      "\r",
      " 33%|██████████████████████████▊                                                      | 39/118 [00:05<00:26,  2.95it/s]"
     ]
    },
    {
     "name": "stdout",
     "output_type": "stream",
     "text": [
      "\n",
      "0: 224x224 dermatofibroma 1.00, basal_cell_carcinoma 0.00, vascular_lesion 0.00, melanoma 0.00, actinic_keratosis 0.00, 68.9ms\n",
      "Speed: 0.0ms preprocess, 68.9ms inference, 0.4ms postprocess per image at shape (1, 3, 224, 224)\n",
      "\n",
      "0: 224x224 basal_cell_carcinoma 0.67, pigmented_benign_keratosis 0.24, dermatofibroma 0.09, squamous_cell_carcinoma 0.00, nevus 0.00, 59.0ms\n",
      "Speed: 0.0ms preprocess, 59.0ms inference, 0.3ms postprocess per image at shape (1, 3, 224, 224)\n"
     ]
    },
    {
     "name": "stderr",
     "output_type": "stream",
     "text": [
      "\r",
      " 35%|████████████████████████████▏                                                    | 41/118 [00:05<00:17,  4.31it/s]"
     ]
    },
    {
     "name": "stdout",
     "output_type": "stream",
     "text": [
      "\n",
      "0: 224x224 dermatofibroma 1.00, pigmented_benign_keratosis 0.00, vascular_lesion 0.00, basal_cell_carcinoma 0.00, squamous_cell_carcinoma 0.00, 56.0ms\n",
      "Speed: 0.0ms preprocess, 56.0ms inference, 0.3ms postprocess per image at shape (1, 3, 224, 224)\n",
      "\n",
      "0: 224x224 dermatofibroma 0.96, nevus 0.02, pigmented_benign_keratosis 0.02, basal_cell_carcinoma 0.00, vascular_lesion 0.00, 55.6ms\n",
      "Speed: 0.1ms preprocess, 55.6ms inference, 0.2ms postprocess per image at shape (1, 3, 224, 224)\n"
     ]
    },
    {
     "name": "stderr",
     "output_type": "stream",
     "text": [
      "\r",
      " 36%|█████████████████████████████▌                                                   | 43/118 [00:05<00:12,  5.84it/s]"
     ]
    },
    {
     "name": "stdout",
     "output_type": "stream",
     "text": [
      "\n",
      "0: 224x224 dermatofibroma 0.99, squamous_cell_carcinoma 0.00, basal_cell_carcinoma 0.00, actinic_keratosis 0.00, vascular_lesion 0.00, 63.2ms\n",
      "Speed: 0.0ms preprocess, 63.2ms inference, 0.4ms postprocess per image at shape (1, 3, 224, 224)\n",
      "\n",
      "0: 224x224 dermatofibroma 0.98, pigmented_benign_keratosis 0.02, nevus 0.00, squamous_cell_carcinoma 0.00, basal_cell_carcinoma 0.00, 61.6ms\n",
      "Speed: 0.0ms preprocess, 61.6ms inference, 0.6ms postprocess per image at shape (1, 3, 224, 224)\n"
     ]
    },
    {
     "name": "stderr",
     "output_type": "stream",
     "text": [
      "\r",
      " 38%|██████████████████████████████▉                                                  | 45/118 [00:05<00:10,  7.27it/s]"
     ]
    },
    {
     "name": "stdout",
     "output_type": "stream",
     "text": [
      "\n",
      "0: 224x224 dermatofibroma 0.67, basal_cell_carcinoma 0.33, squamous_cell_carcinoma 0.00, pigmented_benign_keratosis 0.00, nevus 0.00, 62.1ms\n",
      "Speed: 0.0ms preprocess, 62.1ms inference, 0.3ms postprocess per image at shape (1, 3, 224, 224)\n",
      "\n",
      "0: 224x224 dermatofibroma 0.99, pigmented_benign_keratosis 0.00, vascular_lesion 0.00, basal_cell_carcinoma 0.00, melanoma 0.00, 56.0ms\n",
      "Speed: 0.1ms preprocess, 56.0ms inference, 0.3ms postprocess per image at shape (1, 3, 224, 224)\n"
     ]
    },
    {
     "name": "stderr",
     "output_type": "stream",
     "text": [
      "\r",
      " 40%|████████████████████████████████▎                                                | 47/118 [00:06<00:08,  8.66it/s]"
     ]
    },
    {
     "name": "stdout",
     "output_type": "stream",
     "text": [
      "\n",
      "0: 224x224 basal_cell_carcinoma 0.88, nevus 0.05, pigmented_benign_keratosis 0.04, actinic_keratosis 0.02, dermatofibroma 0.01, 59.8ms\n",
      "Speed: 0.0ms preprocess, 59.8ms inference, 0.3ms postprocess per image at shape (1, 3, 224, 224)\n",
      "\n",
      "0: 224x224 nevus 1.00, melanoma 0.00, pigmented_benign_keratosis 0.00, seborrheic_keratosis 0.00, dermatofibroma 0.00, 60.3ms\n",
      "Speed: 0.1ms preprocess, 60.3ms inference, 0.3ms postprocess per image at shape (1, 3, 224, 224)\n"
     ]
    },
    {
     "name": "stderr",
     "output_type": "stream",
     "text": [
      "\r",
      " 42%|█████████████████████████████████▋                                               | 49/118 [00:06<00:07,  9.86it/s]"
     ]
    },
    {
     "name": "stdout",
     "output_type": "stream",
     "text": [
      "\n",
      "0: 224x224 melanoma 0.49, pigmented_benign_keratosis 0.42, nevus 0.08, vascular_lesion 0.01, basal_cell_carcinoma 0.01, 57.7ms\n",
      "Speed: 0.0ms preprocess, 57.7ms inference, 0.3ms postprocess per image at shape (1, 3, 224, 224)\n",
      "\n",
      "0: 224x224 nevus 1.00, melanoma 0.00, pigmented_benign_keratosis 0.00, seborrheic_keratosis 0.00, squamous_cell_carcinoma 0.00, 96.4ms\n",
      "Speed: 0.0ms preprocess, 96.4ms inference, 0.7ms postprocess per image at shape (1, 3, 224, 224)\n"
     ]
    },
    {
     "name": "stderr",
     "output_type": "stream",
     "text": [
      "\r",
      " 43%|███████████████████████████████████                                              | 51/118 [00:06<00:06, 10.18it/s]"
     ]
    },
    {
     "name": "stdout",
     "output_type": "stream",
     "text": [
      "\n",
      "0: 224x224 nevus 0.99, melanoma 0.01, pigmented_benign_keratosis 0.00, actinic_keratosis 0.00, seborrheic_keratosis 0.00, 73.6ms\n",
      "Speed: 0.0ms preprocess, 73.6ms inference, 0.3ms postprocess per image at shape (1, 3, 224, 224)\n",
      "\n",
      "0: 224x224 nevus 0.91, melanoma 0.07, pigmented_benign_keratosis 0.01, dermatofibroma 0.01, squamous_cell_carcinoma 0.00, 60.5ms\n",
      "Speed: 0.0ms preprocess, 60.5ms inference, 0.3ms postprocess per image at shape (1, 3, 224, 224)\n"
     ]
    },
    {
     "name": "stderr",
     "output_type": "stream",
     "text": [
      "\r",
      " 45%|████████████████████████████████████▍                                            | 53/118 [00:06<00:06, 10.45it/s]"
     ]
    },
    {
     "name": "stdout",
     "output_type": "stream",
     "text": [
      "\n",
      "0: 224x224 nevus 0.97, melanoma 0.03, seborrheic_keratosis 0.00, pigmented_benign_keratosis 0.00, squamous_cell_carcinoma 0.00, 67.5ms\n",
      "Speed: 0.0ms preprocess, 67.5ms inference, 0.3ms postprocess per image at shape (1, 3, 224, 224)\n",
      "\n",
      "0: 224x224 melanoma 0.49, basal_cell_carcinoma 0.46, nevus 0.02, pigmented_benign_keratosis 0.02, seborrheic_keratosis 0.00, 59.5ms\n",
      "Speed: 0.1ms preprocess, 59.5ms inference, 0.3ms postprocess per image at shape (1, 3, 224, 224)\n"
     ]
    },
    {
     "name": "stderr",
     "output_type": "stream",
     "text": [
      "\r",
      " 47%|█████████████████████████████████████▊                                           | 55/118 [00:06<00:05, 10.79it/s]"
     ]
    },
    {
     "name": "stdout",
     "output_type": "stream",
     "text": [
      "\n",
      "0: 224x224 melanoma 0.92, seborrheic_keratosis 0.04, squamous_cell_carcinoma 0.03, nevus 0.00, basal_cell_carcinoma 0.00, 59.4ms\n",
      "Speed: 0.0ms preprocess, 59.4ms inference, 0.3ms postprocess per image at shape (1, 3, 224, 224)\n",
      "\n",
      "0: 224x224 nevus 0.99, pigmented_benign_keratosis 0.01, melanoma 0.00, dermatofibroma 0.00, basal_cell_carcinoma 0.00, 60.9ms\n",
      "Speed: 0.0ms preprocess, 60.9ms inference, 0.3ms postprocess per image at shape (1, 3, 224, 224)\n"
     ]
    },
    {
     "name": "stderr",
     "output_type": "stream",
     "text": [
      "\r",
      " 48%|███████████████████████████████████████▏                                         | 57/118 [00:06<00:05, 11.20it/s]"
     ]
    },
    {
     "name": "stdout",
     "output_type": "stream",
     "text": [
      "\n",
      "0: 224x224 nevus 0.71, melanoma 0.24, pigmented_benign_keratosis 0.05, seborrheic_keratosis 0.00, basal_cell_carcinoma 0.00, 60.6ms\n",
      "Speed: 0.0ms preprocess, 60.6ms inference, 0.3ms postprocess per image at shape (1, 3, 224, 224)\n",
      "\n",
      "0: 224x224 nevus 0.99, dermatofibroma 0.01, pigmented_benign_keratosis 0.00, melanoma 0.00, basal_cell_carcinoma 0.00, 60.4ms\n",
      "Speed: 0.0ms preprocess, 60.4ms inference, 0.3ms postprocess per image at shape (1, 3, 224, 224)\n"
     ]
    },
    {
     "name": "stderr",
     "output_type": "stream",
     "text": [
      "\r",
      " 50%|████████████████████████████████████████▌                                        | 59/118 [00:07<00:05, 11.57it/s]"
     ]
    },
    {
     "name": "stdout",
     "output_type": "stream",
     "text": [
      "\n",
      "0: 224x224 melanoma 0.58, nevus 0.22, pigmented_benign_keratosis 0.20, seborrheic_keratosis 0.00, basal_cell_carcinoma 0.00, 58.1ms\n",
      "Speed: 0.0ms preprocess, 58.1ms inference, 0.3ms postprocess per image at shape (1, 3, 224, 224)\n",
      "\n",
      "0: 224x224 nevus 0.95, melanoma 0.04, pigmented_benign_keratosis 0.01, seborrheic_keratosis 0.00, squamous_cell_carcinoma 0.00, 63.2ms\n",
      "Speed: 0.0ms preprocess, 63.2ms inference, 0.4ms postprocess per image at shape (1, 3, 224, 224)\n"
     ]
    },
    {
     "name": "stderr",
     "output_type": "stream",
     "text": [
      "\r",
      " 52%|█████████████████████████████████████████▊                                       | 61/118 [00:07<00:04, 11.60it/s]"
     ]
    },
    {
     "name": "stdout",
     "output_type": "stream",
     "text": [
      "\n",
      "0: 224x224 melanoma 0.92, nevus 0.07, seborrheic_keratosis 0.01, pigmented_benign_keratosis 0.00, actinic_keratosis 0.00, 56.8ms\n",
      "Speed: 0.0ms preprocess, 56.8ms inference, 0.3ms postprocess per image at shape (1, 3, 224, 224)\n",
      "\n",
      "0: 224x224 nevus 0.98, melanoma 0.02, seborrheic_keratosis 0.00, pigmented_benign_keratosis 0.00, dermatofibroma 0.00, 60.1ms\n",
      "Speed: 0.0ms preprocess, 60.1ms inference, 0.3ms postprocess per image at shape (1, 3, 224, 224)\n"
     ]
    },
    {
     "name": "stderr",
     "output_type": "stream",
     "text": [
      "\r",
      " 53%|███████████████████████████████████████████▏                                     | 63/118 [00:07<00:04, 11.89it/s]"
     ]
    },
    {
     "name": "stdout",
     "output_type": "stream",
     "text": [
      "\n",
      "0: 224x224 nevus 0.88, melanoma 0.12, pigmented_benign_keratosis 0.00, seborrheic_keratosis 0.00, actinic_keratosis 0.00, 56.3ms\n",
      "Speed: 0.0ms preprocess, 56.3ms inference, 0.3ms postprocess per image at shape (1, 3, 224, 224)\n",
      "\n",
      "0: 224x224 nevus 0.99, melanoma 0.01, seborrheic_keratosis 0.00, pigmented_benign_keratosis 0.00, dermatofibroma 0.00, 58.9ms\n",
      "Speed: 0.0ms preprocess, 58.9ms inference, 0.3ms postprocess per image at shape (1, 3, 224, 224)\n"
     ]
    },
    {
     "name": "stderr",
     "output_type": "stream",
     "text": [
      "\r",
      " 55%|████████████████████████████████████████████▌                                    | 65/118 [00:07<00:04, 12.35it/s]"
     ]
    },
    {
     "name": "stdout",
     "output_type": "stream",
     "text": [
      "\n",
      "0: 224x224 nevus 0.93, melanoma 0.06, seborrheic_keratosis 0.01, pigmented_benign_keratosis 0.00, dermatofibroma 0.00, 57.7ms\n",
      "Speed: 0.0ms preprocess, 57.7ms inference, 0.3ms postprocess per image at shape (1, 3, 224, 224)\n",
      "\n",
      "0: 224x224 nevus 1.00, melanoma 0.00, seborrheic_keratosis 0.00, pigmented_benign_keratosis 0.00, squamous_cell_carcinoma 0.00, 65.6ms\n",
      "Speed: 0.0ms preprocess, 65.6ms inference, 0.4ms postprocess per image at shape (1, 3, 224, 224)\n"
     ]
    },
    {
     "name": "stderr",
     "output_type": "stream",
     "text": [
      "\r",
      " 57%|█████████████████████████████████████████████▉                                   | 67/118 [00:07<00:04, 12.59it/s]"
     ]
    },
    {
     "name": "stdout",
     "output_type": "stream",
     "text": [
      "\n",
      "0: 224x224 nevus 0.96, pigmented_benign_keratosis 0.04, melanoma 0.00, basal_cell_carcinoma 0.00, actinic_keratosis 0.00, 59.2ms\n",
      "Speed: 0.0ms preprocess, 59.2ms inference, 0.3ms postprocess per image at shape (1, 3, 224, 224)\n",
      "\n",
      "0: 224x224 nevus 1.00, melanoma 0.00, pigmented_benign_keratosis 0.00, seborrheic_keratosis 0.00, dermatofibroma 0.00, 60.0ms\n",
      "Speed: 0.0ms preprocess, 60.0ms inference, 0.4ms postprocess per image at shape (1, 3, 224, 224)\n"
     ]
    },
    {
     "name": "stderr",
     "output_type": "stream",
     "text": [
      "\r",
      " 58%|███████████████████████████████████████████████▎                                 | 69/118 [00:07<00:03, 12.93it/s]"
     ]
    },
    {
     "name": "stdout",
     "output_type": "stream",
     "text": [
      "\n",
      "0: 224x224 nevus 1.00, melanoma 0.00, pigmented_benign_keratosis 0.00, seborrheic_keratosis 0.00, vascular_lesion 0.00, 67.4ms\n",
      "Speed: 0.0ms preprocess, 67.4ms inference, 0.4ms postprocess per image at shape (1, 3, 224, 224)\n",
      "\n",
      "0: 224x224 nevus 0.97, melanoma 0.02, seborrheic_keratosis 0.00, pigmented_benign_keratosis 0.00, squamous_cell_carcinoma 0.00, 62.4ms\n",
      "Speed: 0.0ms preprocess, 62.4ms inference, 0.3ms postprocess per image at shape (1, 3, 224, 224)\n"
     ]
    },
    {
     "name": "stderr",
     "output_type": "stream",
     "text": [
      "\r",
      " 60%|████████████████████████████████████████████████▋                                | 71/118 [00:07<00:03, 12.71it/s]"
     ]
    },
    {
     "name": "stdout",
     "output_type": "stream",
     "text": [
      "\n",
      "0: 224x224 nevus 1.00, melanoma 0.00, pigmented_benign_keratosis 0.00, seborrheic_keratosis 0.00, actinic_keratosis 0.00, 59.4ms\n",
      "Speed: 0.0ms preprocess, 59.4ms inference, 0.3ms postprocess per image at shape (1, 3, 224, 224)\n",
      "\n",
      "0: 224x224 nevus 0.95, melanoma 0.04, seborrheic_keratosis 0.00, pigmented_benign_keratosis 0.00, actinic_keratosis 0.00, 59.2ms\n",
      "Speed: 0.0ms preprocess, 59.2ms inference, 0.3ms postprocess per image at shape (1, 3, 224, 224)\n"
     ]
    },
    {
     "name": "stderr",
     "output_type": "stream",
     "text": [
      "\r",
      " 62%|██████████████████████████████████████████████████                               | 73/118 [00:08<00:03, 13.04it/s]"
     ]
    },
    {
     "name": "stdout",
     "output_type": "stream",
     "text": [
      "\n",
      "0: 224x224 nevus 1.00, melanoma 0.00, seborrheic_keratosis 0.00, pigmented_benign_keratosis 0.00, squamous_cell_carcinoma 0.00, 57.2ms\n",
      "Speed: 0.0ms preprocess, 57.2ms inference, 0.3ms postprocess per image at shape (1, 3, 224, 224)\n",
      "\n",
      "0: 224x224 nevus 0.99, melanoma 0.01, pigmented_benign_keratosis 0.00, seborrheic_keratosis 0.00, basal_cell_carcinoma 0.00, 66.7ms\n",
      "Speed: 0.0ms preprocess, 66.7ms inference, 0.3ms postprocess per image at shape (1, 3, 224, 224)\n"
     ]
    },
    {
     "name": "stderr",
     "output_type": "stream",
     "text": [
      "\r",
      " 64%|███████████████████████████████████████████████████▍                             | 75/118 [00:08<00:03, 13.04it/s]"
     ]
    },
    {
     "name": "stdout",
     "output_type": "stream",
     "text": [
      "\n",
      "0: 224x224 nevus 0.99, melanoma 0.00, pigmented_benign_keratosis 0.00, seborrheic_keratosis 0.00, dermatofibroma 0.00, 56.3ms\n",
      "Speed: 0.1ms preprocess, 56.3ms inference, 0.3ms postprocess per image at shape (1, 3, 224, 224)\n",
      "\n",
      "0: 224x224 nevus 1.00, melanoma 0.00, pigmented_benign_keratosis 0.00, dermatofibroma 0.00, squamous_cell_carcinoma 0.00, 58.5ms\n",
      "Speed: 0.0ms preprocess, 58.5ms inference, 0.3ms postprocess per image at shape (1, 3, 224, 224)\n"
     ]
    },
    {
     "name": "stderr",
     "output_type": "stream",
     "text": [
      "\r",
      " 65%|████████████████████████████████████████████████████▊                            | 77/118 [00:08<00:03, 13.28it/s]"
     ]
    },
    {
     "name": "stdout",
     "output_type": "stream",
     "text": [
      "\n",
      "0: 224x224 nevus 1.00, melanoma 0.00, pigmented_benign_keratosis 0.00, seborrheic_keratosis 0.00, squamous_cell_carcinoma 0.00, 61.5ms\n",
      "Speed: 0.0ms preprocess, 61.5ms inference, 0.3ms postprocess per image at shape (1, 3, 224, 224)\n",
      "\n",
      "0: 224x224 nevus 1.00, melanoma 0.00, pigmented_benign_keratosis 0.00, seborrheic_keratosis 0.00, actinic_keratosis 0.00, 58.2ms\n",
      "Speed: 0.1ms preprocess, 58.2ms inference, 0.3ms postprocess per image at shape (1, 3, 224, 224)\n"
     ]
    },
    {
     "name": "stderr",
     "output_type": "stream",
     "text": [
      "\r",
      " 67%|██████████████████████████████████████████████████████▏                          | 79/118 [00:08<00:02, 13.26it/s]"
     ]
    },
    {
     "name": "stdout",
     "output_type": "stream",
     "text": [
      "\n",
      "0: 224x224 nevus 0.62, melanoma 0.37, seborrheic_keratosis 0.00, pigmented_benign_keratosis 0.00, basal_cell_carcinoma 0.00, 56.7ms\n",
      "Speed: 0.0ms preprocess, 56.7ms inference, 0.3ms postprocess per image at shape (1, 3, 224, 224)\n",
      "\n",
      "0: 224x224 pigmented_benign_keratosis 1.00, basal_cell_carcinoma 0.00, squamous_cell_carcinoma 0.00, nevus 0.00, melanoma 0.00, 65.5ms\n",
      "Speed: 0.0ms preprocess, 65.5ms inference, 0.3ms postprocess per image at shape (1, 3, 224, 224)\n"
     ]
    },
    {
     "name": "stderr",
     "output_type": "stream",
     "text": [
      "\r",
      " 69%|███████████████████████████████████████████████████████▌                         | 81/118 [00:08<00:02, 13.16it/s]"
     ]
    },
    {
     "name": "stdout",
     "output_type": "stream",
     "text": [
      "\n",
      "0: 224x224 pigmented_benign_keratosis 0.98, nevus 0.02, actinic_keratosis 0.00, basal_cell_carcinoma 0.00, melanoma 0.00, 59.3ms\n",
      "Speed: 0.1ms preprocess, 59.3ms inference, 0.4ms postprocess per image at shape (1, 3, 224, 224)\n",
      "\n",
      "0: 224x224 pigmented_benign_keratosis 1.00, nevus 0.00, squamous_cell_carcinoma 0.00, basal_cell_carcinoma 0.00, actinic_keratosis 0.00, 109.2ms\n",
      "Speed: 0.0ms preprocess, 109.2ms inference, 0.3ms postprocess per image at shape (1, 3, 224, 224)\n"
     ]
    },
    {
     "name": "stderr",
     "output_type": "stream",
     "text": [
      "\r",
      " 70%|████████████████████████████████████████████████████████▉                        | 83/118 [00:08<00:02, 12.05it/s]"
     ]
    },
    {
     "name": "stdout",
     "output_type": "stream",
     "text": [
      "\n",
      "0: 224x224 pigmented_benign_keratosis 1.00, vascular_lesion 0.00, dermatofibroma 0.00, basal_cell_carcinoma 0.00, nevus 0.00, 71.7ms\n",
      "Speed: 0.0ms preprocess, 71.7ms inference, 0.4ms postprocess per image at shape (1, 3, 224, 224)\n",
      "\n",
      "0: 224x224 pigmented_benign_keratosis 0.88, nevus 0.08, actinic_keratosis 0.02, squamous_cell_carcinoma 0.01, melanoma 0.00, 60.0ms\n",
      "Speed: 0.0ms preprocess, 60.0ms inference, 0.3ms postprocess per image at shape (1, 3, 224, 224)\n"
     ]
    },
    {
     "name": "stderr",
     "output_type": "stream",
     "text": [
      "\r",
      " 72%|██████████████████████████████████████████████████████████▎                      | 85/118 [00:09<00:02, 12.28it/s]"
     ]
    },
    {
     "name": "stdout",
     "output_type": "stream",
     "text": [
      "\n",
      "0: 224x224 pigmented_benign_keratosis 0.99, squamous_cell_carcinoma 0.00, nevus 0.00, melanoma 0.00, actinic_keratosis 0.00, 62.1ms\n",
      "Speed: 0.0ms preprocess, 62.1ms inference, 0.3ms postprocess per image at shape (1, 3, 224, 224)\n",
      "\n",
      "0: 224x224 pigmented_benign_keratosis 1.00, melanoma 0.00, nevus 0.00, dermatofibroma 0.00, squamous_cell_carcinoma 0.00, 58.4ms\n",
      "Speed: 0.0ms preprocess, 58.4ms inference, 0.3ms postprocess per image at shape (1, 3, 224, 224)\n"
     ]
    },
    {
     "name": "stderr",
     "output_type": "stream",
     "text": [
      "\r",
      " 74%|███████████████████████████████████████████████████████████▋                     | 87/118 [00:09<00:02, 12.68it/s]"
     ]
    },
    {
     "name": "stdout",
     "output_type": "stream",
     "text": [
      "\n",
      "0: 224x224 pigmented_benign_keratosis 0.72, melanoma 0.21, squamous_cell_carcinoma 0.06, seborrheic_keratosis 0.01, nevus 0.00, 68.1ms\n",
      "Speed: 0.1ms preprocess, 68.1ms inference, 0.3ms postprocess per image at shape (1, 3, 224, 224)\n",
      "\n",
      "0: 224x224 pigmented_benign_keratosis 1.00, nevus 0.00, actinic_keratosis 0.00, squamous_cell_carcinoma 0.00, melanoma 0.00, 64.4ms\n",
      "Speed: 0.0ms preprocess, 64.4ms inference, 0.3ms postprocess per image at shape (1, 3, 224, 224)\n"
     ]
    },
    {
     "name": "stderr",
     "output_type": "stream",
     "text": [
      "\r",
      " 75%|█████████████████████████████████████████████████████████████                    | 89/118 [00:09<00:02, 12.68it/s]"
     ]
    },
    {
     "name": "stdout",
     "output_type": "stream",
     "text": [
      "\n",
      "0: 224x224 pigmented_benign_keratosis 1.00, melanoma 0.00, vascular_lesion 0.00, squamous_cell_carcinoma 0.00, dermatofibroma 0.00, 61.1ms\n",
      "Speed: 0.0ms preprocess, 61.1ms inference, 0.3ms postprocess per image at shape (1, 3, 224, 224)\n",
      "\n",
      "0: 224x224 pigmented_benign_keratosis 1.00, nevus 0.00, actinic_keratosis 0.00, melanoma 0.00, basal_cell_carcinoma 0.00, 58.2ms\n",
      "Speed: 0.0ms preprocess, 58.2ms inference, 0.3ms postprocess per image at shape (1, 3, 224, 224)\n"
     ]
    },
    {
     "name": "stderr",
     "output_type": "stream",
     "text": [
      "\r",
      " 77%|██████████████████████████████████████████████████████████████▍                  | 91/118 [00:09<00:02, 13.03it/s]"
     ]
    },
    {
     "name": "stdout",
     "output_type": "stream",
     "text": [
      "\n",
      "0: 224x224 pigmented_benign_keratosis 1.00, nevus 0.00, actinic_keratosis 0.00, basal_cell_carcinoma 0.00, melanoma 0.00, 62.4ms\n",
      "Speed: 0.0ms preprocess, 62.4ms inference, 0.3ms postprocess per image at shape (1, 3, 224, 224)\n",
      "\n",
      "0: 224x224 squamous_cell_carcinoma 0.93, basal_cell_carcinoma 0.04, nevus 0.01, actinic_keratosis 0.01, pigmented_benign_keratosis 0.01, 64.8ms\n",
      "Speed: 0.0ms preprocess, 64.8ms inference, 0.4ms postprocess per image at shape (1, 3, 224, 224)\n"
     ]
    },
    {
     "name": "stderr",
     "output_type": "stream",
     "text": [
      "\r",
      " 79%|███████████████████████████████████████████████████████████████▊                 | 93/118 [00:09<00:01, 13.12it/s]"
     ]
    },
    {
     "name": "stdout",
     "output_type": "stream",
     "text": [
      "\n",
      "0: 224x224 pigmented_benign_keratosis 0.96, nevus 0.02, basal_cell_carcinoma 0.02, actinic_keratosis 0.01, melanoma 0.00, 67.7ms\n",
      "Speed: 0.0ms preprocess, 67.7ms inference, 0.3ms postprocess per image at shape (1, 3, 224, 224)\n",
      "\n",
      "0: 224x224 pigmented_benign_keratosis 0.69, squamous_cell_carcinoma 0.18, basal_cell_carcinoma 0.07, actinic_keratosis 0.03, nevus 0.01, 61.8ms\n",
      "Speed: 0.0ms preprocess, 61.8ms inference, 0.3ms postprocess per image at shape (1, 3, 224, 224)\n"
     ]
    },
    {
     "name": "stderr",
     "output_type": "stream",
     "text": [
      "\r",
      " 81%|█████████████████████████████████████████████████████████████████▏               | 95/118 [00:09<00:01, 13.10it/s]"
     ]
    },
    {
     "name": "stdout",
     "output_type": "stream",
     "text": [
      "\n",
      "0: 224x224 pigmented_benign_keratosis 0.90, basal_cell_carcinoma 0.06, squamous_cell_carcinoma 0.02, melanoma 0.01, actinic_keratosis 0.00, 64.4ms\n",
      "Speed: 0.0ms preprocess, 64.4ms inference, 0.6ms postprocess per image at shape (1, 3, 224, 224)\n",
      "\n",
      "0: 224x224 melanoma 0.74, nevus 0.17, seborrheic_keratosis 0.08, pigmented_benign_keratosis 0.01, actinic_keratosis 0.00, 67.3ms\n",
      "Speed: 0.0ms preprocess, 67.3ms inference, 0.5ms postprocess per image at shape (1, 3, 224, 224)\n"
     ]
    },
    {
     "name": "stderr",
     "output_type": "stream",
     "text": [
      "\r",
      " 82%|██████████████████████████████████████████████████████████████████▌              | 97/118 [00:09<00:01, 12.87it/s]"
     ]
    },
    {
     "name": "stdout",
     "output_type": "stream",
     "text": [
      "\n",
      "0: 224x224 melanoma 0.96, seborrheic_keratosis 0.04, nevus 0.00, pigmented_benign_keratosis 0.00, basal_cell_carcinoma 0.00, 59.9ms\n",
      "Speed: 0.0ms preprocess, 59.9ms inference, 0.3ms postprocess per image at shape (1, 3, 224, 224)\n",
      "\n",
      "0: 224x224 melanoma 0.96, seborrheic_keratosis 0.02, basal_cell_carcinoma 0.02, pigmented_benign_keratosis 0.00, nevus 0.00, 58.1ms\n",
      "Speed: 0.0ms preprocess, 58.1ms inference, 0.3ms postprocess per image at shape (1, 3, 224, 224)\n"
     ]
    },
    {
     "name": "stderr",
     "output_type": "stream",
     "text": [
      "\r",
      " 84%|███████████████████████████████████████████████████████████████████▉             | 99/118 [00:10<00:01, 13.10it/s]"
     ]
    },
    {
     "name": "stdout",
     "output_type": "stream",
     "text": [
      "\n",
      "0: 224x224 squamous_cell_carcinoma 0.83, melanoma 0.08, nevus 0.08, pigmented_benign_keratosis 0.00, seborrheic_keratosis 0.00, 59.4ms\n",
      "Speed: 0.0ms preprocess, 59.4ms inference, 0.4ms postprocess per image at shape (1, 3, 224, 224)\n",
      "\n",
      "0: 224x224 melanoma 0.89, dermatofibroma 0.05, pigmented_benign_keratosis 0.02, squamous_cell_carcinoma 0.02, nevus 0.02, 59.5ms\n",
      "Speed: 0.0ms preprocess, 59.5ms inference, 0.3ms postprocess per image at shape (1, 3, 224, 224)\n"
     ]
    },
    {
     "name": "stderr",
     "output_type": "stream",
     "text": [
      "\r",
      " 86%|████████████████████████████████████████████████████████████████████▍           | 101/118 [00:11<00:03,  5.13it/s]"
     ]
    },
    {
     "name": "stdout",
     "output_type": "stream",
     "text": [
      "\n",
      "0: 224x224 squamous_cell_carcinoma 0.59, actinic_keratosis 0.15, dermatofibroma 0.14, basal_cell_carcinoma 0.06, nevus 0.05, 59.3ms\n",
      "Speed: 0.0ms preprocess, 59.3ms inference, 0.3ms postprocess per image at shape (1, 3, 224, 224)\n"
     ]
    },
    {
     "name": "stderr",
     "output_type": "stream",
     "text": [
      "\r",
      " 86%|█████████████████████████████████████████████████████████████████████▏          | 102/118 [00:11<00:03,  4.17it/s]"
     ]
    },
    {
     "name": "stdout",
     "output_type": "stream",
     "text": [
      "\n",
      "0: 224x224 squamous_cell_carcinoma 0.98, actinic_keratosis 0.01, nevus 0.01, melanoma 0.00, basal_cell_carcinoma 0.00, 63.1ms\n",
      "Speed: 0.0ms preprocess, 63.1ms inference, 0.3ms postprocess per image at shape (1, 3, 224, 224)\n"
     ]
    },
    {
     "name": "stderr",
     "output_type": "stream",
     "text": [
      "\r",
      " 87%|█████████████████████████████████████████████████████████████████████▊          | 103/118 [00:11<00:04,  3.60it/s]"
     ]
    },
    {
     "name": "stdout",
     "output_type": "stream",
     "text": [
      "\n",
      "0: 224x224 basal_cell_carcinoma 0.98, squamous_cell_carcinoma 0.02, pigmented_benign_keratosis 0.00, dermatofibroma 0.00, melanoma 0.00, 54.7ms\n",
      "Speed: 0.0ms preprocess, 54.7ms inference, 0.3ms postprocess per image at shape (1, 3, 224, 224)\n"
     ]
    },
    {
     "name": "stderr",
     "output_type": "stream",
     "text": [
      "\r",
      " 88%|██████████████████████████████████████████████████████████████████████▌         | 104/118 [00:12<00:04,  3.25it/s]"
     ]
    },
    {
     "name": "stdout",
     "output_type": "stream",
     "text": [
      "\n",
      "0: 224x224 squamous_cell_carcinoma 0.70, basal_cell_carcinoma 0.24, pigmented_benign_keratosis 0.03, melanoma 0.01, actinic_keratosis 0.01, 58.4ms\n",
      "Speed: 0.0ms preprocess, 58.4ms inference, 0.3ms postprocess per image at shape (1, 3, 224, 224)\n",
      "\n",
      "0: 224x224 squamous_cell_carcinoma 0.93, pigmented_benign_keratosis 0.06, dermatofibroma 0.00, actinic_keratosis 0.00, nevus 0.00, 63.5ms\n",
      "Speed: 0.0ms preprocess, 63.5ms inference, 0.3ms postprocess per image at shape (1, 3, 224, 224)\n"
     ]
    },
    {
     "name": "stderr",
     "output_type": "stream",
     "text": [
      "\r",
      " 90%|███████████████████████████████████████████████████████████████████████▊        | 106/118 [00:12<00:02,  4.64it/s]"
     ]
    },
    {
     "name": "stdout",
     "output_type": "stream",
     "text": [
      "\n",
      "0: 224x224 squamous_cell_carcinoma 0.60, pigmented_benign_keratosis 0.39, basal_cell_carcinoma 0.00, nevus 0.00, melanoma 0.00, 62.0ms\n",
      "Speed: 0.0ms preprocess, 62.0ms inference, 0.3ms postprocess per image at shape (1, 3, 224, 224)\n",
      "\n",
      "0: 224x224 squamous_cell_carcinoma 0.99, basal_cell_carcinoma 0.01, actinic_keratosis 0.00, nevus 0.00, pigmented_benign_keratosis 0.00, 66.4ms\n",
      "Speed: 0.0ms preprocess, 66.4ms inference, 0.3ms postprocess per image at shape (1, 3, 224, 224)\n"
     ]
    },
    {
     "name": "stderr",
     "output_type": "stream",
     "text": [
      "\r",
      " 92%|█████████████████████████████████████████████████████████████████████████▏      | 108/118 [00:12<00:01,  6.02it/s]"
     ]
    },
    {
     "name": "stdout",
     "output_type": "stream",
     "text": [
      "\n",
      "0: 224x224 squamous_cell_carcinoma 0.96, basal_cell_carcinoma 0.04, pigmented_benign_keratosis 0.00, melanoma 0.00, actinic_keratosis 0.00, 64.7ms\n",
      "Speed: 0.0ms preprocess, 64.7ms inference, 0.3ms postprocess per image at shape (1, 3, 224, 224)\n",
      "\n",
      "0: 224x224 squamous_cell_carcinoma 0.85, basal_cell_carcinoma 0.13, pigmented_benign_keratosis 0.01, melanoma 0.00, nevus 0.00, 58.2ms\n",
      "Speed: 0.1ms preprocess, 58.2ms inference, 0.3ms postprocess per image at shape (1, 3, 224, 224)\n"
     ]
    },
    {
     "name": "stderr",
     "output_type": "stream",
     "text": [
      "\r",
      " 93%|██████████████████████████████████████████████████████████████████████████▌     | 110/118 [00:12<00:01,  7.43it/s]"
     ]
    },
    {
     "name": "stdout",
     "output_type": "stream",
     "text": [
      "\n",
      "0: 224x224 squamous_cell_carcinoma 0.63, basal_cell_carcinoma 0.33, pigmented_benign_keratosis 0.02, dermatofibroma 0.01, nevus 0.01, 60.4ms\n",
      "Speed: 0.0ms preprocess, 60.4ms inference, 0.3ms postprocess per image at shape (1, 3, 224, 224)\n",
      "\n",
      "0: 224x224 pigmented_benign_keratosis 1.00, basal_cell_carcinoma 0.00, squamous_cell_carcinoma 0.00, melanoma 0.00, vascular_lesion 0.00, 65.7ms\n",
      "Speed: 0.0ms preprocess, 65.7ms inference, 0.3ms postprocess per image at shape (1, 3, 224, 224)\n"
     ]
    },
    {
     "name": "stderr",
     "output_type": "stream",
     "text": [
      "\r",
      " 95%|███████████████████████████████████████████████████████████████████████████▉    | 112/118 [00:12<00:00,  8.56it/s]"
     ]
    },
    {
     "name": "stdout",
     "output_type": "stream",
     "text": [
      "\n",
      "0: 224x224 basal_cell_carcinoma 0.74, pigmented_benign_keratosis 0.19, nevus 0.03, squamous_cell_carcinoma 0.02, dermatofibroma 0.01, 58.7ms\n",
      "Speed: 0.0ms preprocess, 58.7ms inference, 0.3ms postprocess per image at shape (1, 3, 224, 224)\n",
      "\n",
      "0: 224x224 squamous_cell_carcinoma 0.98, pigmented_benign_keratosis 0.01, basal_cell_carcinoma 0.01, actinic_keratosis 0.00, melanoma 0.00, 61.1ms\n",
      "Speed: 0.0ms preprocess, 61.1ms inference, 0.3ms postprocess per image at shape (1, 3, 224, 224)\n"
     ]
    },
    {
     "name": "stderr",
     "output_type": "stream",
     "text": [
      "\r",
      " 97%|█████████████████████████████████████████████████████████████████████████████▎  | 114/118 [00:13<00:00,  9.68it/s]"
     ]
    },
    {
     "name": "stdout",
     "output_type": "stream",
     "text": [
      "\n",
      "0: 224x224 squamous_cell_carcinoma 0.99, basal_cell_carcinoma 0.01, pigmented_benign_keratosis 0.00, melanoma 0.00, actinic_keratosis 0.00, 58.9ms\n",
      "Speed: 0.0ms preprocess, 58.9ms inference, 0.3ms postprocess per image at shape (1, 3, 224, 224)\n",
      "\n",
      "0: 224x224 vascular_lesion 1.00, pigmented_benign_keratosis 0.00, basal_cell_carcinoma 0.00, melanoma 0.00, dermatofibroma 0.00, 57.7ms\n",
      "Speed: 0.0ms preprocess, 57.7ms inference, 0.4ms postprocess per image at shape (1, 3, 224, 224)\n"
     ]
    },
    {
     "name": "stderr",
     "output_type": "stream",
     "text": [
      "\r",
      " 98%|██████████████████████████████████████████████████████████████████████████████▋ | 116/118 [00:13<00:00, 10.79it/s]"
     ]
    },
    {
     "name": "stdout",
     "output_type": "stream",
     "text": [
      "\n",
      "0: 224x224 vascular_lesion 1.00, pigmented_benign_keratosis 0.00, dermatofibroma 0.00, basal_cell_carcinoma 0.00, melanoma 0.00, 57.7ms\n",
      "Speed: 0.0ms preprocess, 57.7ms inference, 0.3ms postprocess per image at shape (1, 3, 224, 224)\n",
      "\n",
      "0: 224x224 vascular_lesion 1.00, pigmented_benign_keratosis 0.00, dermatofibroma 0.00, nevus 0.00, basal_cell_carcinoma 0.00, 55.5ms\n",
      "Speed: 0.0ms preprocess, 55.5ms inference, 0.3ms postprocess per image at shape (1, 3, 224, 224)\n"
     ]
    },
    {
     "name": "stderr",
     "output_type": "stream",
     "text": [
      "100%|████████████████████████████████████████████████████████████████████████████████| 118/118 [00:13<00:00,  8.84it/s]\n"
     ]
    },
    {
     "name": "stdout",
     "output_type": "stream",
     "text": [
      "Processing: yolov11n\n"
     ]
    },
    {
     "name": "stderr",
     "output_type": "stream",
     "text": [
      "\r",
      "  0%|                                                                                          | 0/118 [00:00<?, ?it/s]"
     ]
    },
    {
     "name": "stdout",
     "output_type": "stream",
     "text": [
      "\n",
      "0: 224x224 melanoma 0.48, seborrheic_keratosis 0.27, pigmented_benign_keratosis 0.10, nevus 0.10, actinic_keratosis 0.03, 12.1ms\n",
      "Speed: 0.0ms preprocess, 12.1ms inference, 0.2ms postprocess per image at shape (1, 3, 224, 224)\n",
      "\n",
      "0: 224x224 nevus 0.86, melanoma 0.13, seborrheic_keratosis 0.01, pigmented_benign_keratosis 0.00, squamous_cell_carcinoma 0.00, 7.6ms\n",
      "Speed: 0.0ms preprocess, 7.6ms inference, 0.3ms postprocess per image at shape (1, 3, 224, 224)\n",
      "\n",
      "0: 224x224 actinic_keratosis 0.55, squamous_cell_carcinoma 0.25, nevus 0.16, basal_cell_carcinoma 0.03, pigmented_benign_keratosis 0.00, 12.5ms\n",
      "Speed: 0.0ms preprocess, 12.5ms inference, 0.3ms postprocess per image at shape (1, 3, 224, 224)\n"
     ]
    },
    {
     "name": "stderr",
     "output_type": "stream",
     "text": [
      "\r",
      "  3%|██                                                                                | 3/118 [00:00<00:03, 28.81it/s]"
     ]
    },
    {
     "name": "stdout",
     "output_type": "stream",
     "text": [
      "\n",
      "0: 224x224 squamous_cell_carcinoma 0.73, dermatofibroma 0.10, actinic_keratosis 0.07, basal_cell_carcinoma 0.04, pigmented_benign_keratosis 0.03, 8.3ms\n",
      "Speed: 0.0ms preprocess, 8.3ms inference, 0.4ms postprocess per image at shape (1, 3, 224, 224)\n",
      "\n",
      "0: 224x224 basal_cell_carcinoma 0.41, nevus 0.24, pigmented_benign_keratosis 0.24, squamous_cell_carcinoma 0.04, melanoma 0.03, 12.5ms\n",
      "Speed: 0.0ms preprocess, 12.5ms inference, 0.4ms postprocess per image at shape (1, 3, 224, 224)\n",
      "\n",
      "0: 224x224 actinic_keratosis 0.49, nevus 0.21, pigmented_benign_keratosis 0.18, squamous_cell_carcinoma 0.05, melanoma 0.04, 7.6ms\n",
      "Speed: 0.0ms preprocess, 7.6ms inference, 0.3ms postprocess per image at shape (1, 3, 224, 224)\n",
      "\n",
      "0: 224x224 pigmented_benign_keratosis 0.47, dermatofibroma 0.18, basal_cell_carcinoma 0.13, melanoma 0.12, nevus 0.08, 7.7ms\n",
      "Speed: 0.0ms preprocess, 7.7ms inference, 0.3ms postprocess per image at shape (1, 3, 224, 224)\n",
      "\n",
      "0: 224x224 pigmented_benign_keratosis 0.44, seborrheic_keratosis 0.18, melanoma 0.16, actinic_keratosis 0.11, nevus 0.06, 7.6ms\n",
      "Speed: 0.0ms preprocess, 7.6ms inference, 0.3ms postprocess per image at shape (1, 3, 224, 224)\n",
      "\n",
      "0: 224x224 actinic_keratosis 0.38, melanoma 0.33, seborrheic_keratosis 0.11, nevus 0.09, squamous_cell_carcinoma 0.07, 7.2ms\n",
      "Speed: 0.0ms preprocess, 7.2ms inference, 0.3ms postprocess per image at shape (1, 3, 224, 224)\n"
     ]
    },
    {
     "name": "stderr",
     "output_type": "stream",
     "text": [
      "\r",
      "  8%|██████▎                                                                           | 9/118 [00:00<00:02, 42.87it/s]"
     ]
    },
    {
     "name": "stdout",
     "output_type": "stream",
     "text": [
      "\n",
      "0: 224x224 actinic_keratosis 0.49, nevus 0.26, squamous_cell_carcinoma 0.15, basal_cell_carcinoma 0.08, pigmented_benign_keratosis 0.02, 7.9ms\n",
      "Speed: 0.0ms preprocess, 7.9ms inference, 0.3ms postprocess per image at shape (1, 3, 224, 224)\n",
      "\n",
      "0: 224x224 nevus 0.62, pigmented_benign_keratosis 0.16, squamous_cell_carcinoma 0.10, basal_cell_carcinoma 0.09, actinic_keratosis 0.02, 7.4ms\n",
      "Speed: 0.0ms preprocess, 7.4ms inference, 0.3ms postprocess per image at shape (1, 3, 224, 224)\n",
      "\n",
      "0: 224x224 basal_cell_carcinoma 0.75, squamous_cell_carcinoma 0.10, actinic_keratosis 0.07, nevus 0.04, pigmented_benign_keratosis 0.03, 6.6ms\n",
      "Speed: 0.0ms preprocess, 6.6ms inference, 0.2ms postprocess per image at shape (1, 3, 224, 224)\n",
      "\n",
      "0: 224x224 actinic_keratosis 0.31, squamous_cell_carcinoma 0.23, pigmented_benign_keratosis 0.23, nevus 0.21, basal_cell_carcinoma 0.01, 8.7ms\n",
      "Speed: 0.2ms preprocess, 8.7ms inference, 0.3ms postprocess per image at shape (1, 3, 224, 224)\n",
      "\n",
      "0: 224x224 squamous_cell_carcinoma 0.28, nevus 0.26, actinic_keratosis 0.23, pigmented_benign_keratosis 0.12, basal_cell_carcinoma 0.09, 6.9ms\n",
      "Speed: 0.1ms preprocess, 6.9ms inference, 0.3ms postprocess per image at shape (1, 3, 224, 224)\n",
      "\n",
      "0: 224x224 actinic_keratosis 0.50, squamous_cell_carcinoma 0.29, nevus 0.18, pigmented_benign_keratosis 0.02, basal_cell_carcinoma 0.00, 7.9ms\n",
      "Speed: 0.1ms preprocess, 7.9ms inference, 0.3ms postprocess per image at shape (1, 3, 224, 224)\n"
     ]
    },
    {
     "name": "stderr",
     "output_type": "stream",
     "text": [
      "\r",
      " 13%|██████████▎                                                                      | 15/118 [00:00<00:02, 47.43it/s]"
     ]
    },
    {
     "name": "stdout",
     "output_type": "stream",
     "text": [
      "\n",
      "0: 224x224 pigmented_benign_keratosis 0.72, squamous_cell_carcinoma 0.19, actinic_keratosis 0.04, nevus 0.03, basal_cell_carcinoma 0.01, 8.0ms\n",
      "Speed: 0.0ms preprocess, 8.0ms inference, 0.3ms postprocess per image at shape (1, 3, 224, 224)\n",
      "\n",
      "0: 224x224 basal_cell_carcinoma 1.00, squamous_cell_carcinoma 0.00, nevus 0.00, pigmented_benign_keratosis 0.00, vascular_lesion 0.00, 7.5ms\n",
      "Speed: 0.0ms preprocess, 7.5ms inference, 0.4ms postprocess per image at shape (1, 3, 224, 224)\n",
      "\n",
      "0: 224x224 basal_cell_carcinoma 0.94, squamous_cell_carcinoma 0.06, pigmented_benign_keratosis 0.00, dermatofibroma 0.00, actinic_keratosis 0.00, 8.1ms\n",
      "Speed: 0.1ms preprocess, 8.1ms inference, 0.3ms postprocess per image at shape (1, 3, 224, 224)\n",
      "\n",
      "0: 224x224 basal_cell_carcinoma 0.74, squamous_cell_carcinoma 0.21, pigmented_benign_keratosis 0.01, melanoma 0.01, actinic_keratosis 0.01, 7.5ms\n",
      "Speed: 0.0ms preprocess, 7.5ms inference, 0.3ms postprocess per image at shape (1, 3, 224, 224)\n",
      "\n",
      "0: 224x224 basal_cell_carcinoma 0.63, pigmented_benign_keratosis 0.36, nevus 0.01, squamous_cell_carcinoma 0.00, vascular_lesion 0.00, 8.1ms\n",
      "Speed: 0.0ms preprocess, 8.1ms inference, 0.3ms postprocess per image at shape (1, 3, 224, 224)\n",
      "\n",
      "0: 224x224 basal_cell_carcinoma 0.91, squamous_cell_carcinoma 0.08, pigmented_benign_keratosis 0.01, nevus 0.00, melanoma 0.00, 7.5ms\n",
      "Speed: 0.2ms preprocess, 7.5ms inference, 0.3ms postprocess per image at shape (1, 3, 224, 224)\n"
     ]
    },
    {
     "name": "stderr",
     "output_type": "stream",
     "text": [
      "\r",
      " 18%|██████████████▍                                                                  | 21/118 [00:00<00:01, 49.05it/s]"
     ]
    },
    {
     "name": "stdout",
     "output_type": "stream",
     "text": [
      "\n",
      "0: 224x224 pigmented_benign_keratosis 0.76, actinic_keratosis 0.10, basal_cell_carcinoma 0.07, nevus 0.05, squamous_cell_carcinoma 0.02, 7.1ms\n",
      "Speed: 0.1ms preprocess, 7.1ms inference, 0.3ms postprocess per image at shape (1, 3, 224, 224)\n",
      "\n",
      "0: 224x224 pigmented_benign_keratosis 0.53, nevus 0.22, basal_cell_carcinoma 0.15, melanoma 0.06, actinic_keratosis 0.02, 7.7ms\n",
      "Speed: 0.1ms preprocess, 7.7ms inference, 0.3ms postprocess per image at shape (1, 3, 224, 224)\n",
      "\n",
      "0: 224x224 melanoma 0.50, seborrheic_keratosis 0.16, pigmented_benign_keratosis 0.11, nevus 0.10, squamous_cell_carcinoma 0.07, 8.5ms\n",
      "Speed: 0.1ms preprocess, 8.5ms inference, 0.3ms postprocess per image at shape (1, 3, 224, 224)\n",
      "\n",
      "0: 224x224 basal_cell_carcinoma 0.96, squamous_cell_carcinoma 0.02, nevus 0.00, vascular_lesion 0.00, melanoma 0.00, 8.7ms\n",
      "Speed: 0.0ms preprocess, 8.7ms inference, 0.3ms postprocess per image at shape (1, 3, 224, 224)\n",
      "\n",
      "0: 224x224 basal_cell_carcinoma 0.97, vascular_lesion 0.03, squamous_cell_carcinoma 0.00, nevus 0.00, pigmented_benign_keratosis 0.00, 11.7ms\n",
      "Speed: 0.0ms preprocess, 11.7ms inference, 0.3ms postprocess per image at shape (1, 3, 224, 224)\n",
      "\n",
      "0: 224x224 basal_cell_carcinoma 0.99, squamous_cell_carcinoma 0.01, pigmented_benign_keratosis 0.00, nevus 0.00, melanoma 0.00, 12.4ms\n",
      "Speed: 0.0ms preprocess, 12.4ms inference, 0.4ms postprocess per image at shape (1, 3, 224, 224)\n"
     ]
    },
    {
     "name": "stderr",
     "output_type": "stream",
     "text": [
      "\r",
      " 23%|██████████████████▌                                                              | 27/118 [00:00<00:01, 49.15it/s]"
     ]
    },
    {
     "name": "stdout",
     "output_type": "stream",
     "text": [
      "\n",
      "0: 224x224 basal_cell_carcinoma 0.58, nevus 0.31, melanoma 0.10, seborrheic_keratosis 0.02, vascular_lesion 0.00, 7.8ms\n",
      "Speed: 0.0ms preprocess, 7.8ms inference, 0.3ms postprocess per image at shape (1, 3, 224, 224)\n",
      "\n",
      "0: 224x224 basal_cell_carcinoma 0.96, squamous_cell_carcinoma 0.03, dermatofibroma 0.00, pigmented_benign_keratosis 0.00, melanoma 0.00, 7.3ms\n",
      "Speed: 0.0ms preprocess, 7.3ms inference, 0.3ms postprocess per image at shape (1, 3, 224, 224)\n",
      "\n",
      "0: 224x224 basal_cell_carcinoma 0.99, squamous_cell_carcinoma 0.01, pigmented_benign_keratosis 0.00, melanoma 0.00, actinic_keratosis 0.00, 7.5ms\n",
      "Speed: 0.0ms preprocess, 7.5ms inference, 0.2ms postprocess per image at shape (1, 3, 224, 224)\n",
      "\n",
      "0: 224x224 basal_cell_carcinoma 0.99, squamous_cell_carcinoma 0.01, pigmented_benign_keratosis 0.00, nevus 0.00, melanoma 0.00, 7.2ms\n",
      "Speed: 0.0ms preprocess, 7.2ms inference, 0.4ms postprocess per image at shape (1, 3, 224, 224)\n",
      "\n",
      "0: 224x224 basal_cell_carcinoma 1.00, vascular_lesion 0.00, pigmented_benign_keratosis 0.00, squamous_cell_carcinoma 0.00, nevus 0.00, 7.4ms\n",
      "Speed: 0.1ms preprocess, 7.4ms inference, 0.3ms postprocess per image at shape (1, 3, 224, 224)\n",
      "\n",
      "0: 224x224 melanoma 0.57, seborrheic_keratosis 0.20, nevus 0.11, basal_cell_carcinoma 0.06, pigmented_benign_keratosis 0.03, 8.2ms\n",
      "Speed: 0.0ms preprocess, 8.2ms inference, 0.4ms postprocess per image at shape (1, 3, 224, 224)\n"
     ]
    },
    {
     "name": "stderr",
     "output_type": "stream",
     "text": [
      "\r",
      " 28%|██████████████████████▋                                                          | 33/118 [00:00<00:01, 43.22it/s]"
     ]
    },
    {
     "name": "stdout",
     "output_type": "stream",
     "text": [
      "\n",
      "0: 224x224 nevus 0.61, melanoma 0.21, dermatofibroma 0.14, seborrheic_keratosis 0.03, pigmented_benign_keratosis 0.01, 7.1ms\n",
      "Speed: 0.0ms preprocess, 7.1ms inference, 0.2ms postprocess per image at shape (1, 3, 224, 224)\n",
      "\n",
      "0: 224x224 basal_cell_carcinoma 0.97, squamous_cell_carcinoma 0.01, dermatofibroma 0.00, pigmented_benign_keratosis 0.00, nevus 0.00, 7.4ms\n",
      "Speed: 0.0ms preprocess, 7.4ms inference, 0.3ms postprocess per image at shape (1, 3, 224, 224)\n",
      "\n",
      "0: 224x224 dermatofibroma 0.46, pigmented_benign_keratosis 0.25, squamous_cell_carcinoma 0.15, actinic_keratosis 0.07, nevus 0.04, 9.6ms\n",
      "Speed: 0.0ms preprocess, 9.6ms inference, 0.3ms postprocess per image at shape (1, 3, 224, 224)\n",
      "\n",
      "0: 224x224 squamous_cell_carcinoma 0.67, pigmented_benign_keratosis 0.15, dermatofibroma 0.11, nevus 0.06, actinic_keratosis 0.00, 7.7ms\n",
      "Speed: 0.0ms preprocess, 7.7ms inference, 0.3ms postprocess per image at shape (1, 3, 224, 224)\n",
      "\n",
      "0: 224x224 dermatofibroma 0.51, squamous_cell_carcinoma 0.26, pigmented_benign_keratosis 0.16, melanoma 0.03, basal_cell_carcinoma 0.02, 6.8ms\n",
      "Speed: 0.0ms preprocess, 6.8ms inference, 0.3ms postprocess per image at shape (1, 3, 224, 224)\n"
     ]
    },
    {
     "name": "stderr",
     "output_type": "stream",
     "text": [
      "\r",
      " 32%|██████████████████████████                                                       | 38/118 [00:02<00:08,  9.47it/s]"
     ]
    },
    {
     "name": "stdout",
     "output_type": "stream",
     "text": [
      "\n",
      "0: 224x224 pigmented_benign_keratosis 0.34, nevus 0.33, melanoma 0.17, squamous_cell_carcinoma 0.10, basal_cell_carcinoma 0.04, 9.3ms\n",
      "Speed: 0.0ms preprocess, 9.3ms inference, 0.4ms postprocess per image at shape (1, 3, 224, 224)\n",
      "\n",
      "0: 224x224 dermatofibroma 1.00, pigmented_benign_keratosis 0.00, vascular_lesion 0.00, basal_cell_carcinoma 0.00, melanoma 0.00, 8.0ms\n",
      "Speed: 0.0ms preprocess, 8.0ms inference, 0.3ms postprocess per image at shape (1, 3, 224, 224)\n",
      "\n",
      "0: 224x224 basal_cell_carcinoma 0.91, dermatofibroma 0.06, squamous_cell_carcinoma 0.01, nevus 0.01, pigmented_benign_keratosis 0.01, 9.2ms\n",
      "Speed: 0.1ms preprocess, 9.2ms inference, 0.3ms postprocess per image at shape (1, 3, 224, 224)\n",
      "\n",
      "0: 224x224 dermatofibroma 1.00, pigmented_benign_keratosis 0.00, vascular_lesion 0.00, basal_cell_carcinoma 0.00, nevus 0.00, 7.5ms\n",
      "Speed: 0.0ms preprocess, 7.5ms inference, 0.2ms postprocess per image at shape (1, 3, 224, 224)\n"
     ]
    },
    {
     "name": "stderr",
     "output_type": "stream",
     "text": [
      "\r",
      " 36%|████████████████████████████▊                                                    | 42/118 [00:02<00:08,  9.44it/s]"
     ]
    },
    {
     "name": "stdout",
     "output_type": "stream",
     "text": [
      "\n",
      "0: 224x224 dermatofibroma 0.94, pigmented_benign_keratosis 0.03, vascular_lesion 0.02, basal_cell_carcinoma 0.00, actinic_keratosis 0.00, 8.8ms\n",
      "Speed: 0.0ms preprocess, 8.8ms inference, 0.3ms postprocess per image at shape (1, 3, 224, 224)\n",
      "\n",
      "0: 224x224 dermatofibroma 0.90, vascular_lesion 0.05, basal_cell_carcinoma 0.03, pigmented_benign_keratosis 0.01, squamous_cell_carcinoma 0.00, 7.7ms\n",
      "Speed: 0.0ms preprocess, 7.7ms inference, 0.3ms postprocess per image at shape (1, 3, 224, 224)\n",
      "\n",
      "0: 224x224 dermatofibroma 0.99, pigmented_benign_keratosis 0.01, nevus 0.00, vascular_lesion 0.00, melanoma 0.00, 8.0ms\n",
      "Speed: 0.0ms preprocess, 8.0ms inference, 0.3ms postprocess per image at shape (1, 3, 224, 224)\n",
      "\n",
      "0: 224x224 dermatofibroma 0.86, pigmented_benign_keratosis 0.07, squamous_cell_carcinoma 0.05, basal_cell_carcinoma 0.01, actinic_keratosis 0.00, 7.6ms\n",
      "Speed: 0.0ms preprocess, 7.6ms inference, 0.3ms postprocess per image at shape (1, 3, 224, 224)\n",
      "\n",
      "0: 224x224 dermatofibroma 1.00, pigmented_benign_keratosis 0.00, vascular_lesion 0.00, basal_cell_carcinoma 0.00, melanoma 0.00, 7.5ms\n",
      "Speed: 0.0ms preprocess, 7.5ms inference, 0.3ms postprocess per image at shape (1, 3, 224, 224)\n",
      "\n",
      "0: 224x224 basal_cell_carcinoma 0.79, squamous_cell_carcinoma 0.15, pigmented_benign_keratosis 0.03, nevus 0.01, actinic_keratosis 0.01, 7.3ms\n",
      "Speed: 0.0ms preprocess, 7.3ms inference, 0.3ms postprocess per image at shape (1, 3, 224, 224)\n"
     ]
    },
    {
     "name": "stderr",
     "output_type": "stream",
     "text": [
      "\r",
      " 41%|████████████████████████████████▉                                                | 48/118 [00:02<00:05, 13.20it/s]"
     ]
    },
    {
     "name": "stdout",
     "output_type": "stream",
     "text": [
      "\n",
      "0: 224x224 melanoma 0.48, nevus 0.40, pigmented_benign_keratosis 0.07, dermatofibroma 0.03, seborrheic_keratosis 0.02, 8.5ms\n",
      "Speed: 0.0ms preprocess, 8.5ms inference, 0.3ms postprocess per image at shape (1, 3, 224, 224)\n",
      "\n",
      "0: 224x224 nevus 0.33, melanoma 0.25, pigmented_benign_keratosis 0.17, basal_cell_carcinoma 0.11, squamous_cell_carcinoma 0.05, 7.0ms\n",
      "Speed: 0.1ms preprocess, 7.0ms inference, 0.2ms postprocess per image at shape (1, 3, 224, 224)\n",
      "\n",
      "0: 224x224 melanoma 0.66, nevus 0.29, seborrheic_keratosis 0.04, squamous_cell_carcinoma 0.00, pigmented_benign_keratosis 0.00, 7.6ms\n",
      "Speed: 0.0ms preprocess, 7.6ms inference, 0.3ms postprocess per image at shape (1, 3, 224, 224)\n",
      "\n",
      "0: 224x224 nevus 0.99, melanoma 0.01, pigmented_benign_keratosis 0.00, seborrheic_keratosis 0.00, squamous_cell_carcinoma 0.00, 6.7ms\n",
      "Speed: 0.0ms preprocess, 6.7ms inference, 0.3ms postprocess per image at shape (1, 3, 224, 224)\n",
      "\n",
      "0: 224x224 nevus 0.71, melanoma 0.24, dermatofibroma 0.03, pigmented_benign_keratosis 0.01, basal_cell_carcinoma 0.00, 7.3ms\n",
      "Speed: 0.0ms preprocess, 7.3ms inference, 0.3ms postprocess per image at shape (1, 3, 224, 224)\n"
     ]
    },
    {
     "name": "stderr",
     "output_type": "stream",
     "text": [
      "\r",
      " 45%|████████████████████████████████████▍                                            | 53/118 [00:02<00:03, 16.65it/s]"
     ]
    },
    {
     "name": "stdout",
     "output_type": "stream",
     "text": [
      "\n",
      "0: 224x224 nevus 0.73, melanoma 0.26, seborrheic_keratosis 0.01, pigmented_benign_keratosis 0.00, dermatofibroma 0.00, 8.0ms\n",
      "Speed: 0.0ms preprocess, 8.0ms inference, 0.3ms postprocess per image at shape (1, 3, 224, 224)\n",
      "\n",
      "0: 224x224 nevus 0.77, melanoma 0.20, pigmented_benign_keratosis 0.01, squamous_cell_carcinoma 0.01, dermatofibroma 0.00, 7.9ms\n",
      "Speed: 0.0ms preprocess, 7.9ms inference, 0.3ms postprocess per image at shape (1, 3, 224, 224)\n",
      "\n",
      "0: 224x224 melanoma 0.53, squamous_cell_carcinoma 0.40, seborrheic_keratosis 0.04, nevus 0.02, pigmented_benign_keratosis 0.01, 8.2ms\n",
      "Speed: 0.1ms preprocess, 8.2ms inference, 0.3ms postprocess per image at shape (1, 3, 224, 224)\n",
      "\n",
      "0: 224x224 nevus 0.89, melanoma 0.07, pigmented_benign_keratosis 0.02, dermatofibroma 0.02, squamous_cell_carcinoma 0.00, 8.0ms\n",
      "Speed: 0.0ms preprocess, 8.0ms inference, 0.3ms postprocess per image at shape (1, 3, 224, 224)\n"
     ]
    },
    {
     "name": "stderr",
     "output_type": "stream",
     "text": [
      "\r",
      " 48%|███████████████████████████████████████▏                                         | 57/118 [00:03<00:03, 19.07it/s]"
     ]
    },
    {
     "name": "stdout",
     "output_type": "stream",
     "text": [
      "\n",
      "0: 224x224 pigmented_benign_keratosis 0.86, melanoma 0.08, nevus 0.04, seborrheic_keratosis 0.01, dermatofibroma 0.00, 8.2ms\n",
      "Speed: 0.1ms preprocess, 8.2ms inference, 0.3ms postprocess per image at shape (1, 3, 224, 224)\n",
      "\n",
      "0: 224x224 nevus 0.69, pigmented_benign_keratosis 0.13, dermatofibroma 0.09, melanoma 0.07, basal_cell_carcinoma 0.01, 7.0ms\n",
      "Speed: 0.0ms preprocess, 7.0ms inference, 0.3ms postprocess per image at shape (1, 3, 224, 224)\n",
      "\n",
      "0: 224x224 nevus 0.62, melanoma 0.33, seborrheic_keratosis 0.03, pigmented_benign_keratosis 0.01, squamous_cell_carcinoma 0.01, 8.8ms\n",
      "Speed: 0.0ms preprocess, 8.8ms inference, 0.3ms postprocess per image at shape (1, 3, 224, 224)\n",
      "\n",
      "0: 224x224 nevus 0.72, melanoma 0.17, pigmented_benign_keratosis 0.10, seborrheic_keratosis 0.01, squamous_cell_carcinoma 0.00, 7.7ms\n",
      "Speed: 0.0ms preprocess, 7.7ms inference, 0.2ms postprocess per image at shape (1, 3, 224, 224)\n"
     ]
    },
    {
     "name": "stderr",
     "output_type": "stream",
     "text": [
      "\r",
      " 52%|█████████████████████████████████████████▊                                       | 61/118 [00:03<00:02, 21.71it/s]"
     ]
    },
    {
     "name": "stdout",
     "output_type": "stream",
     "text": [
      "\n",
      "0: 224x224 nevus 0.51, melanoma 0.45, pigmented_benign_keratosis 0.04, squamous_cell_carcinoma 0.00, seborrheic_keratosis 0.00, 6.9ms\n",
      "Speed: 0.0ms preprocess, 6.9ms inference, 0.3ms postprocess per image at shape (1, 3, 224, 224)\n",
      "\n",
      "0: 224x224 nevus 0.72, melanoma 0.26, seborrheic_keratosis 0.02, pigmented_benign_keratosis 0.00, dermatofibroma 0.00, 8.0ms\n",
      "Speed: 0.1ms preprocess, 8.0ms inference, 0.3ms postprocess per image at shape (1, 3, 224, 224)\n",
      "\n",
      "0: 224x224 nevus 0.96, melanoma 0.04, pigmented_benign_keratosis 0.00, seborrheic_keratosis 0.00, squamous_cell_carcinoma 0.00, 6.8ms\n",
      "Speed: 0.0ms preprocess, 6.8ms inference, 0.3ms postprocess per image at shape (1, 3, 224, 224)\n",
      "\n",
      "0: 224x224 nevus 0.97, melanoma 0.03, pigmented_benign_keratosis 0.00, seborrheic_keratosis 0.00, dermatofibroma 0.00, 8.9ms\n",
      "Speed: 0.0ms preprocess, 8.9ms inference, 0.4ms postprocess per image at shape (1, 3, 224, 224)\n"
     ]
    },
    {
     "name": "stderr",
     "output_type": "stream",
     "text": [
      "\r",
      " 55%|████████████████████████████████████████████▌                                    | 65/118 [00:03<00:02, 24.68it/s]"
     ]
    },
    {
     "name": "stdout",
     "output_type": "stream",
     "text": [
      "\n",
      "0: 224x224 melanoma 0.64, nevus 0.30, seborrheic_keratosis 0.03, pigmented_benign_keratosis 0.02, squamous_cell_carcinoma 0.00, 8.4ms\n",
      "Speed: 0.0ms preprocess, 8.4ms inference, 0.3ms postprocess per image at shape (1, 3, 224, 224)\n",
      "\n",
      "0: 224x224 nevus 0.76, melanoma 0.23, seborrheic_keratosis 0.00, pigmented_benign_keratosis 0.00, dermatofibroma 0.00, 7.8ms\n",
      "Speed: 0.1ms preprocess, 7.8ms inference, 0.3ms postprocess per image at shape (1, 3, 224, 224)\n",
      "\n",
      "0: 224x224 nevus 0.99, pigmented_benign_keratosis 0.01, melanoma 0.00, squamous_cell_carcinoma 0.00, dermatofibroma 0.00, 8.3ms\n",
      "Speed: 0.0ms preprocess, 8.3ms inference, 0.3ms postprocess per image at shape (1, 3, 224, 224)\n",
      "\n",
      "0: 224x224 nevus 0.79, melanoma 0.17, pigmented_benign_keratosis 0.02, seborrheic_keratosis 0.01, dermatofibroma 0.00, 7.1ms\n",
      "Speed: 0.0ms preprocess, 7.1ms inference, 0.3ms postprocess per image at shape (1, 3, 224, 224)\n",
      "\n",
      "0: 224x224 nevus 0.71, pigmented_benign_keratosis 0.19, melanoma 0.07, dermatofibroma 0.01, seborrheic_keratosis 0.01, 7.7ms\n",
      "Speed: 0.0ms preprocess, 7.7ms inference, 0.3ms postprocess per image at shape (1, 3, 224, 224)\n"
     ]
    },
    {
     "name": "stderr",
     "output_type": "stream",
     "text": [
      "\r",
      " 59%|████████████████████████████████████████████████                                 | 70/118 [00:03<00:01, 29.52it/s]"
     ]
    },
    {
     "name": "stdout",
     "output_type": "stream",
     "text": [
      "\n",
      "0: 224x224 nevus 0.99, melanoma 0.01, seborrheic_keratosis 0.00, pigmented_benign_keratosis 0.00, squamous_cell_carcinoma 0.00, 7.4ms\n",
      "Speed: 0.1ms preprocess, 7.4ms inference, 0.3ms postprocess per image at shape (1, 3, 224, 224)\n",
      "\n",
      "0: 224x224 nevus 0.98, melanoma 0.02, seborrheic_keratosis 0.00, pigmented_benign_keratosis 0.00, dermatofibroma 0.00, 6.9ms\n",
      "Speed: 0.0ms preprocess, 6.9ms inference, 0.3ms postprocess per image at shape (1, 3, 224, 224)\n",
      "\n",
      "0: 224x224 nevus 0.59, melanoma 0.36, seborrheic_keratosis 0.03, pigmented_benign_keratosis 0.01, squamous_cell_carcinoma 0.00, 6.8ms\n",
      "Speed: 0.0ms preprocess, 6.8ms inference, 0.3ms postprocess per image at shape (1, 3, 224, 224)\n",
      "\n",
      "0: 224x224 nevus 0.96, melanoma 0.04, seborrheic_keratosis 0.00, pigmented_benign_keratosis 0.00, dermatofibroma 0.00, 6.7ms\n",
      "Speed: 0.0ms preprocess, 6.7ms inference, 0.3ms postprocess per image at shape (1, 3, 224, 224)\n",
      "\n",
      "0: 224x224 nevus 0.51, melanoma 0.25, pigmented_benign_keratosis 0.11, seborrheic_keratosis 0.06, dermatofibroma 0.03, 7.2ms\n",
      "Speed: 0.0ms preprocess, 7.2ms inference, 0.3ms postprocess per image at shape (1, 3, 224, 224)\n",
      "\n",
      "0: 224x224 nevus 0.59, melanoma 0.35, pigmented_benign_keratosis 0.05, seborrheic_keratosis 0.01, dermatofibroma 0.00, 7.3ms\n",
      "Speed: 0.1ms preprocess, 7.3ms inference, 0.3ms postprocess per image at shape (1, 3, 224, 224)\n"
     ]
    },
    {
     "name": "stderr",
     "output_type": "stream",
     "text": [
      "\r",
      " 64%|████████████████████████████████████████████████████▏                            | 76/118 [00:03<00:01, 34.88it/s]"
     ]
    },
    {
     "name": "stdout",
     "output_type": "stream",
     "text": [
      "\n",
      "0: 224x224 nevus 0.90, melanoma 0.10, seborrheic_keratosis 0.00, pigmented_benign_keratosis 0.00, dermatofibroma 0.00, 7.6ms\n",
      "Speed: 0.0ms preprocess, 7.6ms inference, 0.2ms postprocess per image at shape (1, 3, 224, 224)\n",
      "\n",
      "0: 224x224 nevus 0.89, melanoma 0.11, seborrheic_keratosis 0.00, pigmented_benign_keratosis 0.00, dermatofibroma 0.00, 7.8ms\n",
      "Speed: 0.1ms preprocess, 7.8ms inference, 0.3ms postprocess per image at shape (1, 3, 224, 224)\n",
      "\n",
      "0: 224x224 nevus 0.96, melanoma 0.03, pigmented_benign_keratosis 0.00, seborrheic_keratosis 0.00, squamous_cell_carcinoma 0.00, 7.5ms\n",
      "Speed: 0.1ms preprocess, 7.5ms inference, 0.3ms postprocess per image at shape (1, 3, 224, 224)\n",
      "\n",
      "0: 224x224 nevus 0.59, melanoma 0.40, seborrheic_keratosis 0.02, squamous_cell_carcinoma 0.00, pigmented_benign_keratosis 0.00, 8.1ms\n",
      "Speed: 0.1ms preprocess, 8.1ms inference, 0.4ms postprocess per image at shape (1, 3, 224, 224)\n",
      "\n",
      "0: 224x224 pigmented_benign_keratosis 0.32, dermatofibroma 0.28, basal_cell_carcinoma 0.22, squamous_cell_carcinoma 0.15, nevus 0.02, 7.6ms\n",
      "Speed: 0.1ms preprocess, 7.6ms inference, 0.3ms postprocess per image at shape (1, 3, 224, 224)\n"
     ]
    },
    {
     "name": "stderr",
     "output_type": "stream",
     "text": [
      "\r",
      " 69%|███████████████████████████████████████████████████████▌                         | 81/118 [00:03<00:00, 37.33it/s]"
     ]
    },
    {
     "name": "stdout",
     "output_type": "stream",
     "text": [
      "\n",
      "0: 224x224 pigmented_benign_keratosis 0.78, nevus 0.15, basal_cell_carcinoma 0.05, actinic_keratosis 0.01, squamous_cell_carcinoma 0.01, 7.6ms\n",
      "Speed: 0.2ms preprocess, 7.6ms inference, 0.3ms postprocess per image at shape (1, 3, 224, 224)\n",
      "\n",
      "0: 224x224 pigmented_benign_keratosis 0.74, squamous_cell_carcinoma 0.15, nevus 0.07, basal_cell_carcinoma 0.02, melanoma 0.01, 7.1ms\n",
      "Speed: 0.0ms preprocess, 7.1ms inference, 0.3ms postprocess per image at shape (1, 3, 224, 224)\n",
      "\n",
      "0: 224x224 pigmented_benign_keratosis 0.81, nevus 0.11, dermatofibroma 0.06, melanoma 0.02, vascular_lesion 0.00, 9.1ms\n",
      "Speed: 0.0ms preprocess, 9.1ms inference, 0.4ms postprocess per image at shape (1, 3, 224, 224)\n",
      "\n",
      "0: 224x224 melanoma 0.33, pigmented_benign_keratosis 0.26, dermatofibroma 0.17, nevus 0.14, seborrheic_keratosis 0.04, 7.4ms\n",
      "Speed: 0.0ms preprocess, 7.4ms inference, 0.3ms postprocess per image at shape (1, 3, 224, 224)\n",
      "\n",
      "0: 224x224 pigmented_benign_keratosis 0.93, squamous_cell_carcinoma 0.04, actinic_keratosis 0.01, nevus 0.01, melanoma 0.01, 7.6ms\n",
      "Speed: 0.0ms preprocess, 7.6ms inference, 0.3ms postprocess per image at shape (1, 3, 224, 224)\n"
     ]
    },
    {
     "name": "stderr",
     "output_type": "stream",
     "text": [
      "\r",
      " 73%|███████████████████████████████████████████████████████████                      | 86/118 [00:03<00:00, 40.14it/s]"
     ]
    },
    {
     "name": "stdout",
     "output_type": "stream",
     "text": [
      "\n",
      "0: 224x224 pigmented_benign_keratosis 0.58, nevus 0.36, melanoma 0.03, squamous_cell_carcinoma 0.02, basal_cell_carcinoma 0.00, 7.5ms\n",
      "Speed: 0.0ms preprocess, 7.5ms inference, 0.3ms postprocess per image at shape (1, 3, 224, 224)\n",
      "\n",
      "0: 224x224 squamous_cell_carcinoma 0.95, pigmented_benign_keratosis 0.04, basal_cell_carcinoma 0.00, dermatofibroma 0.00, actinic_keratosis 0.00, 7.7ms\n",
      "Speed: 0.0ms preprocess, 7.7ms inference, 0.4ms postprocess per image at shape (1, 3, 224, 224)\n",
      "\n",
      "0: 224x224 pigmented_benign_keratosis 0.94, actinic_keratosis 0.02, nevus 0.01, melanoma 0.01, squamous_cell_carcinoma 0.01, 7.0ms\n",
      "Speed: 0.0ms preprocess, 7.0ms inference, 0.3ms postprocess per image at shape (1, 3, 224, 224)\n",
      "\n",
      "0: 224x224 pigmented_benign_keratosis 1.00, dermatofibroma 0.00, melanoma 0.00, basal_cell_carcinoma 0.00, nevus 0.00, 7.2ms\n",
      "Speed: 0.0ms preprocess, 7.2ms inference, 0.3ms postprocess per image at shape (1, 3, 224, 224)\n",
      "\n",
      "0: 224x224 pigmented_benign_keratosis 0.99, nevus 0.01, basal_cell_carcinoma 0.01, actinic_keratosis 0.00, dermatofibroma 0.00, 7.8ms\n",
      "Speed: 0.1ms preprocess, 7.8ms inference, 0.5ms postprocess per image at shape (1, 3, 224, 224)\n",
      "\n",
      "0: 224x224 pigmented_benign_keratosis 0.89, nevus 0.07, actinic_keratosis 0.01, melanoma 0.01, dermatofibroma 0.01, 8.2ms\n",
      "Speed: 0.0ms preprocess, 8.2ms inference, 0.3ms postprocess per image at shape (1, 3, 224, 224)\n"
     ]
    },
    {
     "name": "stderr",
     "output_type": "stream",
     "text": [
      "\r",
      " 78%|███████████████████████████████████████████████████████████████▏                 | 92/118 [00:03<00:00, 43.73it/s]"
     ]
    },
    {
     "name": "stdout",
     "output_type": "stream",
     "text": [
      "\n",
      "0: 224x224 basal_cell_carcinoma 0.85, squamous_cell_carcinoma 0.14, nevus 0.00, pigmented_benign_keratosis 0.00, actinic_keratosis 0.00, 7.7ms\n",
      "Speed: 0.0ms preprocess, 7.7ms inference, 0.3ms postprocess per image at shape (1, 3, 224, 224)\n",
      "\n",
      "0: 224x224 pigmented_benign_keratosis 0.65, actinic_keratosis 0.14, squamous_cell_carcinoma 0.13, nevus 0.05, basal_cell_carcinoma 0.03, 8.2ms\n",
      "Speed: 0.0ms preprocess, 8.2ms inference, 0.3ms postprocess per image at shape (1, 3, 224, 224)\n",
      "\n",
      "0: 224x224 melanoma 0.34, pigmented_benign_keratosis 0.25, squamous_cell_carcinoma 0.23, actinic_keratosis 0.08, nevus 0.05, 7.0ms\n",
      "Speed: 0.2ms preprocess, 7.0ms inference, 0.2ms postprocess per image at shape (1, 3, 224, 224)\n",
      "\n",
      "0: 224x224 basal_cell_carcinoma 0.79, melanoma 0.10, squamous_cell_carcinoma 0.05, nevus 0.03, pigmented_benign_keratosis 0.02, 7.5ms\n",
      "Speed: 0.0ms preprocess, 7.5ms inference, 0.3ms postprocess per image at shape (1, 3, 224, 224)\n",
      "\n",
      "0: 224x224 nevus 0.65, melanoma 0.32, seborrheic_keratosis 0.03, pigmented_benign_keratosis 0.00, squamous_cell_carcinoma 0.00, 7.4ms\n",
      "Speed: 0.0ms preprocess, 7.4ms inference, 0.4ms postprocess per image at shape (1, 3, 224, 224)\n",
      "\n",
      "0: 224x224 melanoma 0.89, seborrheic_keratosis 0.07, nevus 0.04, basal_cell_carcinoma 0.00, squamous_cell_carcinoma 0.00, 7.2ms\n",
      "Speed: 0.0ms preprocess, 7.2ms inference, 0.3ms postprocess per image at shape (1, 3, 224, 224)\n"
     ]
    },
    {
     "name": "stderr",
     "output_type": "stream",
     "text": [
      "\r",
      " 83%|███████████████████████████████████████████████████████████████████▎             | 98/118 [00:03<00:00, 46.11it/s]"
     ]
    },
    {
     "name": "stdout",
     "output_type": "stream",
     "text": [
      "\n",
      "0: 224x224 melanoma 0.67, seborrheic_keratosis 0.28, nevus 0.02, actinic_keratosis 0.01, squamous_cell_carcinoma 0.01, 7.5ms\n",
      "Speed: 0.0ms preprocess, 7.5ms inference, 0.3ms postprocess per image at shape (1, 3, 224, 224)\n",
      "\n",
      "0: 224x224 nevus 0.41, squamous_cell_carcinoma 0.34, melanoma 0.22, pigmented_benign_keratosis 0.01, seborrheic_keratosis 0.01, 9.3ms\n",
      "Speed: 0.0ms preprocess, 9.3ms inference, 0.4ms postprocess per image at shape (1, 3, 224, 224)\n",
      "\n",
      "0: 224x224 dermatofibroma 0.96, basal_cell_carcinoma 0.01, pigmented_benign_keratosis 0.01, vascular_lesion 0.01, melanoma 0.01, 9.2ms\n",
      "Speed: 0.0ms preprocess, 9.2ms inference, 0.3ms postprocess per image at shape (1, 3, 224, 224)\n",
      "\n",
      "0: 224x224 squamous_cell_carcinoma 0.68, actinic_keratosis 0.12, basal_cell_carcinoma 0.08, pigmented_benign_keratosis 0.05, nevus 0.05, 8.9ms\n",
      "Speed: 0.0ms preprocess, 8.9ms inference, 0.4ms postprocess per image at shape (1, 3, 224, 224)\n",
      "\n",
      "0: 224x224 squamous_cell_carcinoma 0.67, basal_cell_carcinoma 0.20, melanoma 0.05, actinic_keratosis 0.03, pigmented_benign_keratosis 0.02, 9.0ms\n",
      "Speed: 0.0ms preprocess, 9.0ms inference, 0.5ms postprocess per image at shape (1, 3, 224, 224)\n"
     ]
    },
    {
     "name": "stderr",
     "output_type": "stream",
     "text": [
      "\r",
      " 87%|█████████████████████████████████████████████████████████████████████▊          | 103/118 [00:05<00:01,  9.85it/s]"
     ]
    },
    {
     "name": "stdout",
     "output_type": "stream",
     "text": [
      "\n",
      "0: 224x224 basal_cell_carcinoma 0.96, melanoma 0.01, nevus 0.01, squamous_cell_carcinoma 0.01, pigmented_benign_keratosis 0.01, 8.4ms\n",
      "Speed: 0.0ms preprocess, 8.4ms inference, 0.4ms postprocess per image at shape (1, 3, 224, 224)\n",
      "\n",
      "0: 224x224 squamous_cell_carcinoma 0.51, basal_cell_carcinoma 0.38, pigmented_benign_keratosis 0.06, melanoma 0.03, nevus 0.01, 7.5ms\n",
      "Speed: 0.0ms preprocess, 7.5ms inference, 0.6ms postprocess per image at shape (1, 3, 224, 224)\n",
      "\n",
      "0: 224x224 pigmented_benign_keratosis 0.65, squamous_cell_carcinoma 0.27, actinic_keratosis 0.04, dermatofibroma 0.03, nevus 0.01, 8.9ms\n",
      "Speed: 0.0ms preprocess, 8.9ms inference, 0.3ms postprocess per image at shape (1, 3, 224, 224)\n",
      "\n",
      "0: 224x224 squamous_cell_carcinoma 0.29, melanoma 0.25, pigmented_benign_keratosis 0.19, basal_cell_carcinoma 0.11, seborrheic_keratosis 0.08, 7.4ms\n",
      "Speed: 0.0ms preprocess, 7.4ms inference, 0.3ms postprocess per image at shape (1, 3, 224, 224)\n"
     ]
    },
    {
     "name": "stderr",
     "output_type": "stream",
     "text": [
      "\r",
      " 91%|████████████████████████████████████████████████████████████████████████▌       | 107/118 [00:05<00:01,  9.68it/s]"
     ]
    },
    {
     "name": "stdout",
     "output_type": "stream",
     "text": [
      "\n",
      "0: 224x224 squamous_cell_carcinoma 0.41, melanoma 0.25, basal_cell_carcinoma 0.21, nevus 0.06, seborrheic_keratosis 0.02, 7.4ms\n",
      "Speed: 0.1ms preprocess, 7.4ms inference, 0.4ms postprocess per image at shape (1, 3, 224, 224)\n",
      "\n",
      "0: 224x224 squamous_cell_carcinoma 0.61, pigmented_benign_keratosis 0.14, actinic_keratosis 0.08, basal_cell_carcinoma 0.05, dermatofibroma 0.04, 7.4ms\n",
      "Speed: 0.0ms preprocess, 7.4ms inference, 0.4ms postprocess per image at shape (1, 3, 224, 224)\n",
      "\n",
      "0: 224x224 basal_cell_carcinoma 0.87, squamous_cell_carcinoma 0.05, melanoma 0.04, nevus 0.03, seborrheic_keratosis 0.01, 7.5ms\n",
      "Speed: 0.0ms preprocess, 7.5ms inference, 0.3ms postprocess per image at shape (1, 3, 224, 224)\n",
      "\n",
      "0: 224x224 basal_cell_carcinoma 0.90, squamous_cell_carcinoma 0.04, pigmented_benign_keratosis 0.03, nevus 0.01, dermatofibroma 0.01, 7.7ms\n",
      "Speed: 0.1ms preprocess, 7.7ms inference, 0.3ms postprocess per image at shape (1, 3, 224, 224)\n",
      "\n",
      "0: 224x224 pigmented_benign_keratosis 0.94, basal_cell_carcinoma 0.05, squamous_cell_carcinoma 0.01, actinic_keratosis 0.00, melanoma 0.00, 6.8ms\n",
      "Speed: 0.0ms preprocess, 6.8ms inference, 0.3ms postprocess per image at shape (1, 3, 224, 224)\n",
      "\n",
      "0: 224x224 squamous_cell_carcinoma 0.56, basal_cell_carcinoma 0.31, pigmented_benign_keratosis 0.06, dermatofibroma 0.04, nevus 0.01, 7.2ms\n",
      "Speed: 0.0ms preprocess, 7.2ms inference, 0.3ms postprocess per image at shape (1, 3, 224, 224)\n"
     ]
    },
    {
     "name": "stderr",
     "output_type": "stream",
     "text": [
      "\r",
      " 96%|████████████████████████████████████████████████████████████████████████████▌   | 113/118 [00:05<00:00, 13.50it/s]"
     ]
    },
    {
     "name": "stdout",
     "output_type": "stream",
     "text": [
      "\n",
      "0: 224x224 pigmented_benign_keratosis 0.43, squamous_cell_carcinoma 0.34, actinic_keratosis 0.08, nevus 0.08, basal_cell_carcinoma 0.03, 7.4ms\n",
      "Speed: 0.0ms preprocess, 7.4ms inference, 0.3ms postprocess per image at shape (1, 3, 224, 224)\n",
      "\n",
      "0: 224x224 squamous_cell_carcinoma 0.64, melanoma 0.20, pigmented_benign_keratosis 0.06, actinic_keratosis 0.02, nevus 0.02, 7.0ms\n",
      "Speed: 0.1ms preprocess, 7.0ms inference, 0.3ms postprocess per image at shape (1, 3, 224, 224)\n",
      "\n",
      "0: 224x224 vascular_lesion 1.00, basal_cell_carcinoma 0.00, pigmented_benign_keratosis 0.00, melanoma 0.00, nevus 0.00, 7.7ms\n",
      "Speed: 0.0ms preprocess, 7.7ms inference, 0.3ms postprocess per image at shape (1, 3, 224, 224)\n",
      "\n",
      "0: 224x224 vascular_lesion 1.00, basal_cell_carcinoma 0.00, pigmented_benign_keratosis 0.00, dermatofibroma 0.00, nevus 0.00, 6.9ms\n",
      "Speed: 0.0ms preprocess, 6.9ms inference, 0.3ms postprocess per image at shape (1, 3, 224, 224)\n",
      "\n",
      "0: 224x224 vascular_lesion 1.00, pigmented_benign_keratosis 0.00, dermatofibroma 0.00, melanoma 0.00, basal_cell_carcinoma 0.00, 7.3ms\n",
      "Speed: 0.1ms preprocess, 7.3ms inference, 0.4ms postprocess per image at shape (1, 3, 224, 224)\n"
     ]
    },
    {
     "name": "stderr",
     "output_type": "stream",
     "text": [
      "\r",
      "100%|████████████████████████████████████████████████████████████████████████████████| 118/118 [00:06<00:00, 19.40it/s]"
     ]
    },
    {
     "name": "stdout",
     "output_type": "stream",
     "text": [
      "Processing: yolov11s\n"
     ]
    },
    {
     "name": "stderr",
     "output_type": "stream",
     "text": [
      "\n",
      "  0%|                                                                                          | 0/118 [00:00<?, ?it/s]"
     ]
    },
    {
     "name": "stdout",
     "output_type": "stream",
     "text": [
      "\n",
      "0: 224x224 melanoma 0.46, nevus 0.20, actinic_keratosis 0.14, seborrheic_keratosis 0.12, pigmented_benign_keratosis 0.06, 18.5ms\n",
      "Speed: 0.1ms preprocess, 18.5ms inference, 0.3ms postprocess per image at shape (1, 3, 224, 224)\n",
      "\n",
      "0: 224x224 nevus 0.90, melanoma 0.09, seborrheic_keratosis 0.01, pigmented_benign_keratosis 0.00, squamous_cell_carcinoma 0.00, 15.7ms\n",
      "Speed: 0.0ms preprocess, 15.7ms inference, 0.3ms postprocess per image at shape (1, 3, 224, 224)\n"
     ]
    },
    {
     "name": "stderr",
     "output_type": "stream",
     "text": [
      "\r",
      "  2%|█▍                                                                                | 2/118 [00:00<00:07, 15.95it/s]"
     ]
    },
    {
     "name": "stdout",
     "output_type": "stream",
     "text": [
      "\n",
      "0: 224x224 nevus 0.81, actinic_keratosis 0.18, squamous_cell_carcinoma 0.00, melanoma 0.00, basal_cell_carcinoma 0.00, 15.2ms\n",
      "Speed: 0.0ms preprocess, 15.2ms inference, 0.3ms postprocess per image at shape (1, 3, 224, 224)\n",
      "\n",
      "0: 224x224 squamous_cell_carcinoma 0.44, pigmented_benign_keratosis 0.24, dermatofibroma 0.18, basal_cell_carcinoma 0.06, nevus 0.05, 14.9ms\n",
      "Speed: 0.0ms preprocess, 14.9ms inference, 0.3ms postprocess per image at shape (1, 3, 224, 224)\n",
      "\n",
      "0: 224x224 nevus 0.45, actinic_keratosis 0.39, pigmented_benign_keratosis 0.16, squamous_cell_carcinoma 0.00, basal_cell_carcinoma 0.00, 14.0ms\n",
      "Speed: 0.1ms preprocess, 14.0ms inference, 0.3ms postprocess per image at shape (1, 3, 224, 224)\n",
      "\n",
      "0: 224x224 actinic_keratosis 0.60, nevus 0.35, pigmented_benign_keratosis 0.05, melanoma 0.00, squamous_cell_carcinoma 0.00, 14.2ms\n",
      "Speed: 0.0ms preprocess, 14.2ms inference, 0.3ms postprocess per image at shape (1, 3, 224, 224)\n"
     ]
    },
    {
     "name": "stderr",
     "output_type": "stream",
     "text": [
      "\r",
      "  5%|████▏                                                                             | 6/118 [00:00<00:03, 28.45it/s]"
     ]
    },
    {
     "name": "stdout",
     "output_type": "stream",
     "text": [
      "\n",
      "0: 224x224 pigmented_benign_keratosis 0.94, basal_cell_carcinoma 0.03, vascular_lesion 0.02, nevus 0.00, squamous_cell_carcinoma 0.00, 14.5ms\n",
      "Speed: 0.0ms preprocess, 14.5ms inference, 0.3ms postprocess per image at shape (1, 3, 224, 224)\n",
      "\n",
      "0: 224x224 actinic_keratosis 0.43, nevus 0.36, pigmented_benign_keratosis 0.17, squamous_cell_carcinoma 0.03, melanoma 0.01, 17.1ms\n",
      "Speed: 0.0ms preprocess, 17.1ms inference, 0.3ms postprocess per image at shape (1, 3, 224, 224)\n",
      "\n",
      "0: 224x224 nevus 0.43, actinic_keratosis 0.33, squamous_cell_carcinoma 0.17, melanoma 0.06, seborrheic_keratosis 0.00, 19.1ms\n",
      "Speed: 0.0ms preprocess, 19.1ms inference, 0.3ms postprocess per image at shape (1, 3, 224, 224)\n",
      "\n",
      "0: 224x224 nevus 0.76, actinic_keratosis 0.24, melanoma 0.00, squamous_cell_carcinoma 0.00, pigmented_benign_keratosis 0.00, 15.4ms\n",
      "Speed: 0.1ms preprocess, 15.4ms inference, 0.3ms postprocess per image at shape (1, 3, 224, 224)\n"
     ]
    },
    {
     "name": "stderr",
     "output_type": "stream",
     "text": [
      "\r",
      "  8%|██████▊                                                                          | 10/118 [00:00<00:03, 31.81it/s]"
     ]
    },
    {
     "name": "stdout",
     "output_type": "stream",
     "text": [
      "\n",
      "0: 224x224 nevus 1.00, pigmented_benign_keratosis 0.00, actinic_keratosis 0.00, basal_cell_carcinoma 0.00, melanoma 0.00, 14.9ms\n",
      "Speed: 0.0ms preprocess, 14.9ms inference, 0.3ms postprocess per image at shape (1, 3, 224, 224)\n",
      "\n",
      "0: 224x224 nevus 0.78, actinic_keratosis 0.16, pigmented_benign_keratosis 0.04, basal_cell_carcinoma 0.01, dermatofibroma 0.00, 14.6ms\n",
      "Speed: 0.1ms preprocess, 14.6ms inference, 0.3ms postprocess per image at shape (1, 3, 224, 224)\n",
      "\n",
      "0: 224x224 pigmented_benign_keratosis 0.98, nevus 0.01, actinic_keratosis 0.01, squamous_cell_carcinoma 0.00, dermatofibroma 0.00, 15.3ms\n",
      "Speed: 0.0ms preprocess, 15.3ms inference, 0.4ms postprocess per image at shape (1, 3, 224, 224)\n",
      "\n",
      "0: 224x224 nevus 0.81, actinic_keratosis 0.17, squamous_cell_carcinoma 0.01, pigmented_benign_keratosis 0.01, dermatofibroma 0.00, 18.3ms\n",
      "Speed: 0.0ms preprocess, 18.3ms inference, 0.4ms postprocess per image at shape (1, 3, 224, 224)\n"
     ]
    },
    {
     "name": "stderr",
     "output_type": "stream",
     "text": [
      "\r",
      " 12%|█████████▌                                                                       | 14/118 [00:00<00:03, 33.85it/s]"
     ]
    },
    {
     "name": "stdout",
     "output_type": "stream",
     "text": [
      "\n",
      "0: 224x224 nevus 0.80, actinic_keratosis 0.20, pigmented_benign_keratosis 0.00, basal_cell_carcinoma 0.00, squamous_cell_carcinoma 0.00, 23.1ms\n",
      "Speed: 0.0ms preprocess, 23.1ms inference, 0.3ms postprocess per image at shape (1, 3, 224, 224)\n",
      "\n",
      "0: 224x224 pigmented_benign_keratosis 0.87, nevus 0.09, actinic_keratosis 0.02, squamous_cell_carcinoma 0.02, dermatofibroma 0.01, 20.4ms\n",
      "Speed: 0.0ms preprocess, 20.4ms inference, 0.3ms postprocess per image at shape (1, 3, 224, 224)\n",
      "\n",
      "0: 224x224 basal_cell_carcinoma 1.00, dermatofibroma 0.00, nevus 0.00, pigmented_benign_keratosis 0.00, squamous_cell_carcinoma 0.00, 16.2ms\n",
      "Speed: 0.0ms preprocess, 16.2ms inference, 0.4ms postprocess per image at shape (1, 3, 224, 224)\n",
      "\n",
      "0: 224x224 basal_cell_carcinoma 0.85, nevus 0.10, squamous_cell_carcinoma 0.03, melanoma 0.02, pigmented_benign_keratosis 0.00, 16.6ms\n",
      "Speed: 0.0ms preprocess, 16.6ms inference, 0.3ms postprocess per image at shape (1, 3, 224, 224)\n"
     ]
    },
    {
     "name": "stderr",
     "output_type": "stream",
     "text": [
      "\r",
      " 15%|████████████▎                                                                    | 18/118 [00:00<00:03, 32.38it/s]"
     ]
    },
    {
     "name": "stdout",
     "output_type": "stream",
     "text": [
      "\n",
      "0: 224x224 basal_cell_carcinoma 1.00, nevus 0.00, pigmented_benign_keratosis 0.00, squamous_cell_carcinoma 0.00, dermatofibroma 0.00, 16.2ms\n",
      "Speed: 0.0ms preprocess, 16.2ms inference, 0.3ms postprocess per image at shape (1, 3, 224, 224)\n",
      "\n",
      "0: 224x224 pigmented_benign_keratosis 0.68, basal_cell_carcinoma 0.32, vascular_lesion 0.00, nevus 0.00, dermatofibroma 0.00, 16.2ms\n",
      "Speed: 0.0ms preprocess, 16.2ms inference, 0.3ms postprocess per image at shape (1, 3, 224, 224)\n",
      "\n",
      "0: 224x224 basal_cell_carcinoma 0.92, squamous_cell_carcinoma 0.07, pigmented_benign_keratosis 0.01, dermatofibroma 0.00, nevus 0.00, 18.7ms\n",
      "Speed: 0.0ms preprocess, 18.7ms inference, 0.3ms postprocess per image at shape (1, 3, 224, 224)\n",
      "\n",
      "0: 224x224 pigmented_benign_keratosis 0.99, basal_cell_carcinoma 0.01, melanoma 0.00, seborrheic_keratosis 0.00, actinic_keratosis 0.00, 18.0ms\n",
      "Speed: 0.0ms preprocess, 18.0ms inference, 0.3ms postprocess per image at shape (1, 3, 224, 224)\n"
     ]
    },
    {
     "name": "stderr",
     "output_type": "stream",
     "text": [
      "\r",
      " 19%|███████████████                                                                  | 22/118 [00:00<00:02, 32.80it/s]"
     ]
    },
    {
     "name": "stdout",
     "output_type": "stream",
     "text": [
      "\n",
      "0: 224x224 pigmented_benign_keratosis 0.88, melanoma 0.10, nevus 0.01, actinic_keratosis 0.00, basal_cell_carcinoma 0.00, 17.0ms\n",
      "Speed: 0.0ms preprocess, 17.0ms inference, 0.3ms postprocess per image at shape (1, 3, 224, 224)\n",
      "\n",
      "0: 224x224 melanoma 0.83, seborrheic_keratosis 0.10, nevus 0.04, pigmented_benign_keratosis 0.03, actinic_keratosis 0.01, 16.2ms\n",
      "Speed: 0.0ms preprocess, 16.2ms inference, 0.3ms postprocess per image at shape (1, 3, 224, 224)\n",
      "\n",
      "0: 224x224 basal_cell_carcinoma 1.00, nevus 0.00, squamous_cell_carcinoma 0.00, vascular_lesion 0.00, pigmented_benign_keratosis 0.00, 17.2ms\n",
      "Speed: 0.0ms preprocess, 17.2ms inference, 0.3ms postprocess per image at shape (1, 3, 224, 224)\n",
      "\n",
      "0: 224x224 basal_cell_carcinoma 1.00, vascular_lesion 0.00, squamous_cell_carcinoma 0.00, pigmented_benign_keratosis 0.00, seborrheic_keratosis 0.00, 13.8ms\n",
      "Speed: 0.0ms preprocess, 13.8ms inference, 0.3ms postprocess per image at shape (1, 3, 224, 224)\n"
     ]
    },
    {
     "name": "stderr",
     "output_type": "stream",
     "text": [
      "\r",
      " 22%|█████████████████▊                                                               | 26/118 [00:00<00:02, 33.83it/s]"
     ]
    },
    {
     "name": "stdout",
     "output_type": "stream",
     "text": [
      "\n",
      "0: 224x224 basal_cell_carcinoma 1.00, squamous_cell_carcinoma 0.00, actinic_keratosis 0.00, nevus 0.00, pigmented_benign_keratosis 0.00, 14.1ms\n",
      "Speed: 0.0ms preprocess, 14.1ms inference, 0.3ms postprocess per image at shape (1, 3, 224, 224)\n",
      "\n",
      "0: 224x224 basal_cell_carcinoma 0.96, nevus 0.04, melanoma 0.01, seborrheic_keratosis 0.00, vascular_lesion 0.00, 14.6ms\n",
      "Speed: 0.0ms preprocess, 14.6ms inference, 0.3ms postprocess per image at shape (1, 3, 224, 224)\n",
      "\n",
      "0: 224x224 basal_cell_carcinoma 0.99, squamous_cell_carcinoma 0.01, melanoma 0.00, seborrheic_keratosis 0.00, pigmented_benign_keratosis 0.00, 15.0ms\n",
      "Speed: 0.0ms preprocess, 15.0ms inference, 0.4ms postprocess per image at shape (1, 3, 224, 224)\n",
      "\n",
      "0: 224x224 basal_cell_carcinoma 1.00, pigmented_benign_keratosis 0.00, melanoma 0.00, squamous_cell_carcinoma 0.00, nevus 0.00, 15.0ms\n",
      "Speed: 0.0ms preprocess, 15.0ms inference, 0.3ms postprocess per image at shape (1, 3, 224, 224)\n"
     ]
    },
    {
     "name": "stderr",
     "output_type": "stream",
     "text": [
      "\r",
      " 25%|████████████████████▌                                                            | 30/118 [00:00<00:02, 35.45it/s]"
     ]
    },
    {
     "name": "stdout",
     "output_type": "stream",
     "text": [
      "\n",
      "0: 224x224 basal_cell_carcinoma 1.00, squamous_cell_carcinoma 0.00, pigmented_benign_keratosis 0.00, nevus 0.00, vascular_lesion 0.00, 14.6ms\n",
      "Speed: 0.0ms preprocess, 14.6ms inference, 0.3ms postprocess per image at shape (1, 3, 224, 224)\n",
      "\n",
      "0: 224x224 basal_cell_carcinoma 1.00, nevus 0.00, pigmented_benign_keratosis 0.00, melanoma 0.00, squamous_cell_carcinoma 0.00, 15.7ms\n",
      "Speed: 0.0ms preprocess, 15.7ms inference, 0.3ms postprocess per image at shape (1, 3, 224, 224)\n",
      "\n",
      "0: 224x224 melanoma 0.92, seborrheic_keratosis 0.07, nevus 0.00, dermatofibroma 0.00, basal_cell_carcinoma 0.00, 14.2ms\n",
      "Speed: 0.0ms preprocess, 14.2ms inference, 0.3ms postprocess per image at shape (1, 3, 224, 224)\n",
      "\n",
      "0: 224x224 nevus 0.98, melanoma 0.02, pigmented_benign_keratosis 0.00, seborrheic_keratosis 0.00, dermatofibroma 0.00, 15.9ms\n",
      "Speed: 0.0ms preprocess, 15.9ms inference, 0.3ms postprocess per image at shape (1, 3, 224, 224)\n"
     ]
    },
    {
     "name": "stderr",
     "output_type": "stream",
     "text": [
      "\r",
      " 29%|███████████████████████▎                                                         | 34/118 [00:01<00:03, 24.36it/s]"
     ]
    },
    {
     "name": "stdout",
     "output_type": "stream",
     "text": [
      "\n",
      "0: 224x224 basal_cell_carcinoma 0.84, dermatofibroma 0.11, pigmented_benign_keratosis 0.02, squamous_cell_carcinoma 0.01, melanoma 0.00, 15.5ms\n",
      "Speed: 0.0ms preprocess, 15.5ms inference, 0.3ms postprocess per image at shape (1, 3, 224, 224)\n",
      "\n",
      "0: 224x224 melanoma 0.26, basal_cell_carcinoma 0.19, squamous_cell_carcinoma 0.16, nevus 0.14, dermatofibroma 0.11, 14.7ms\n",
      "Speed: 0.3ms preprocess, 14.7ms inference, 0.3ms postprocess per image at shape (1, 3, 224, 224)\n",
      "\n",
      "0: 224x224 dermatofibroma 0.89, pigmented_benign_keratosis 0.10, basal_cell_carcinoma 0.01, squamous_cell_carcinoma 0.00, melanoma 0.00, 15.5ms\n",
      "Speed: 0.0ms preprocess, 15.5ms inference, 0.3ms postprocess per image at shape (1, 3, 224, 224)\n"
     ]
    },
    {
     "name": "stderr",
     "output_type": "stream",
     "text": [
      "\r",
      " 31%|█████████████████████████▍                                                       | 37/118 [00:02<00:10,  7.97it/s]"
     ]
    },
    {
     "name": "stdout",
     "output_type": "stream",
     "text": [
      "\n",
      "0: 224x224 dermatofibroma 0.63, melanoma 0.26, nevus 0.04, pigmented_benign_keratosis 0.03, basal_cell_carcinoma 0.03, 24.3ms\n",
      "Speed: 0.0ms preprocess, 24.3ms inference, 0.3ms postprocess per image at shape (1, 3, 224, 224)\n",
      "\n",
      "0: 224x224 nevus 0.93, melanoma 0.07, basal_cell_carcinoma 0.00, seborrheic_keratosis 0.00, squamous_cell_carcinoma 0.00, 16.3ms\n",
      "Speed: 0.0ms preprocess, 16.3ms inference, 0.4ms postprocess per image at shape (1, 3, 224, 224)\n",
      "\n",
      "0: 224x224 dermatofibroma 1.00, vascular_lesion 0.00, basal_cell_carcinoma 0.00, melanoma 0.00, nevus 0.00, 16.1ms\n",
      "Speed: 0.0ms preprocess, 16.1ms inference, 0.3ms postprocess per image at shape (1, 3, 224, 224)\n"
     ]
    },
    {
     "name": "stderr",
     "output_type": "stream",
     "text": [
      "\r",
      " 34%|███████████████████████████▍                                                     | 40/118 [00:03<00:12,  6.10it/s]"
     ]
    },
    {
     "name": "stdout",
     "output_type": "stream",
     "text": [
      "\n",
      "0: 224x224 pigmented_benign_keratosis 0.55, basal_cell_carcinoma 0.44, dermatofibroma 0.01, squamous_cell_carcinoma 0.00, nevus 0.00, 16.9ms\n",
      "Speed: 0.0ms preprocess, 16.9ms inference, 0.3ms postprocess per image at shape (1, 3, 224, 224)\n",
      "\n",
      "0: 224x224 dermatofibroma 1.00, vascular_lesion 0.00, pigmented_benign_keratosis 0.00, basal_cell_carcinoma 0.00, melanoma 0.00, 17.7ms\n",
      "Speed: 0.0ms preprocess, 17.7ms inference, 0.3ms postprocess per image at shape (1, 3, 224, 224)\n",
      "\n",
      "0: 224x224 dermatofibroma 0.79, vascular_lesion 0.18, basal_cell_carcinoma 0.02, pigmented_benign_keratosis 0.00, nevus 0.00, 15.5ms\n",
      "Speed: 0.0ms preprocess, 15.5ms inference, 0.3ms postprocess per image at shape (1, 3, 224, 224)\n",
      "\n",
      "0: 224x224 dermatofibroma 0.99, basal_cell_carcinoma 0.01, vascular_lesion 0.00, melanoma 0.00, pigmented_benign_keratosis 0.00, 15.1ms\n",
      "Speed: 0.1ms preprocess, 15.1ms inference, 0.3ms postprocess per image at shape (1, 3, 224, 224)\n"
     ]
    },
    {
     "name": "stderr",
     "output_type": "stream",
     "text": [
      "\r",
      " 37%|██████████████████████████████▏                                                  | 44/118 [00:03<00:08,  8.45it/s]"
     ]
    },
    {
     "name": "stdout",
     "output_type": "stream",
     "text": [
      "\n",
      "0: 224x224 dermatofibroma 0.99, nevus 0.01, melanoma 0.00, pigmented_benign_keratosis 0.00, basal_cell_carcinoma 0.00, 15.3ms\n",
      "Speed: 0.1ms preprocess, 15.3ms inference, 0.2ms postprocess per image at shape (1, 3, 224, 224)\n",
      "\n",
      "0: 224x224 dermatofibroma 0.99, basal_cell_carcinoma 0.01, melanoma 0.00, pigmented_benign_keratosis 0.00, nevus 0.00, 15.6ms\n",
      "Speed: 0.0ms preprocess, 15.6ms inference, 0.4ms postprocess per image at shape (1, 3, 224, 224)\n",
      "\n",
      "0: 224x224 dermatofibroma 1.00, pigmented_benign_keratosis 0.00, vascular_lesion 0.00, basal_cell_carcinoma 0.00, melanoma 0.00, 16.2ms\n",
      "Speed: 0.0ms preprocess, 16.2ms inference, 0.3ms postprocess per image at shape (1, 3, 224, 224)\n",
      "\n",
      "0: 224x224 basal_cell_carcinoma 0.90, pigmented_benign_keratosis 0.07, dermatofibroma 0.02, squamous_cell_carcinoma 0.00, nevus 0.00, 16.1ms\n",
      "Speed: 0.0ms preprocess, 16.1ms inference, 0.3ms postprocess per image at shape (1, 3, 224, 224)\n"
     ]
    },
    {
     "name": "stderr",
     "output_type": "stream",
     "text": [
      "\r",
      " 41%|████████████████████████████████▉                                                | 48/118 [00:03<00:06, 11.26it/s]"
     ]
    },
    {
     "name": "stdout",
     "output_type": "stream",
     "text": [
      "\n",
      "0: 224x224 nevus 0.76, pigmented_benign_keratosis 0.20, melanoma 0.03, actinic_keratosis 0.00, dermatofibroma 0.00, 16.7ms\n",
      "Speed: 0.0ms preprocess, 16.7ms inference, 0.3ms postprocess per image at shape (1, 3, 224, 224)\n",
      "\n",
      "0: 224x224 nevus 0.68, melanoma 0.24, pigmented_benign_keratosis 0.05, vascular_lesion 0.01, basal_cell_carcinoma 0.01, 18.4ms\n",
      "Speed: 0.0ms preprocess, 18.4ms inference, 0.3ms postprocess per image at shape (1, 3, 224, 224)\n",
      "\n",
      "0: 224x224 nevus 0.93, melanoma 0.04, pigmented_benign_keratosis 0.02, squamous_cell_carcinoma 0.00, seborrheic_keratosis 0.00, 18.1ms\n",
      "Speed: 0.0ms preprocess, 18.1ms inference, 0.3ms postprocess per image at shape (1, 3, 224, 224)\n",
      "\n",
      "0: 224x224 nevus 0.98, melanoma 0.01, pigmented_benign_keratosis 0.00, seborrheic_keratosis 0.00, dermatofibroma 0.00, 17.5ms\n",
      "Speed: 0.0ms preprocess, 17.5ms inference, 0.3ms postprocess per image at shape (1, 3, 224, 224)\n"
     ]
    },
    {
     "name": "stderr",
     "output_type": "stream",
     "text": [
      "\r",
      " 44%|███████████████████████████████████▋                                             | 52/118 [00:03<00:04, 14.07it/s]"
     ]
    },
    {
     "name": "stdout",
     "output_type": "stream",
     "text": [
      "\n",
      "0: 224x224 nevus 1.00, melanoma 0.00, pigmented_benign_keratosis 0.00, dermatofibroma 0.00, seborrheic_keratosis 0.00, 15.5ms\n",
      "Speed: 0.0ms preprocess, 15.5ms inference, 0.3ms postprocess per image at shape (1, 3, 224, 224)\n",
      "\n",
      "0: 224x224 nevus 0.59, melanoma 0.40, seborrheic_keratosis 0.00, pigmented_benign_keratosis 0.00, squamous_cell_carcinoma 0.00, 15.2ms\n",
      "Speed: 0.0ms preprocess, 15.2ms inference, 0.3ms postprocess per image at shape (1, 3, 224, 224)\n",
      "\n",
      "0: 224x224 melanoma 0.86, pigmented_benign_keratosis 0.06, nevus 0.05, seborrheic_keratosis 0.02, squamous_cell_carcinoma 0.02, 15.7ms\n",
      "Speed: 0.0ms preprocess, 15.7ms inference, 0.3ms postprocess per image at shape (1, 3, 224, 224)\n"
     ]
    },
    {
     "name": "stderr",
     "output_type": "stream",
     "text": [
      "\r",
      " 47%|█████████████████████████████████████▊                                           | 55/118 [00:03<00:03, 16.13it/s]"
     ]
    },
    {
     "name": "stdout",
     "output_type": "stream",
     "text": [
      "\n",
      "0: 224x224 pigmented_benign_keratosis 0.95, melanoma 0.03, dermatofibroma 0.01, nevus 0.00, actinic_keratosis 0.00, 15.9ms\n",
      "Speed: 0.1ms preprocess, 15.9ms inference, 0.3ms postprocess per image at shape (1, 3, 224, 224)\n",
      "\n",
      "0: 224x224 nevus 0.89, melanoma 0.10, dermatofibroma 0.00, pigmented_benign_keratosis 0.00, vascular_lesion 0.00, 15.4ms\n",
      "Speed: 0.0ms preprocess, 15.4ms inference, 0.3ms postprocess per image at shape (1, 3, 224, 224)\n",
      "\n",
      "0: 224x224 nevus 0.46, pigmented_benign_keratosis 0.30, melanoma 0.21, seborrheic_keratosis 0.02, vascular_lesion 0.00, 15.2ms\n",
      "Speed: 0.0ms preprocess, 15.2ms inference, 0.3ms postprocess per image at shape (1, 3, 224, 224)\n"
     ]
    },
    {
     "name": "stderr",
     "output_type": "stream",
     "text": [
      "\r",
      " 49%|███████████████████████████████████████▊                                         | 58/118 [00:03<00:03, 18.19it/s]"
     ]
    },
    {
     "name": "stdout",
     "output_type": "stream",
     "text": [
      "\n",
      "0: 224x224 nevus 0.94, pigmented_benign_keratosis 0.03, dermatofibroma 0.02, melanoma 0.01, vascular_lesion 0.00, 14.9ms\n",
      "Speed: 0.0ms preprocess, 14.9ms inference, 0.3ms postprocess per image at shape (1, 3, 224, 224)\n",
      "\n",
      "0: 224x224 melanoma 0.52, nevus 0.42, seborrheic_keratosis 0.06, pigmented_benign_keratosis 0.00, squamous_cell_carcinoma 0.00, 14.3ms\n",
      "Speed: 0.0ms preprocess, 14.3ms inference, 0.3ms postprocess per image at shape (1, 3, 224, 224)\n",
      "\n",
      "0: 224x224 nevus 0.94, melanoma 0.04, pigmented_benign_keratosis 0.02, seborrheic_keratosis 0.00, squamous_cell_carcinoma 0.00, 15.0ms\n",
      "Speed: 0.0ms preprocess, 15.0ms inference, 0.3ms postprocess per image at shape (1, 3, 224, 224)\n"
     ]
    },
    {
     "name": "stderr",
     "output_type": "stream",
     "text": [
      "\r",
      " 52%|█████████████████████████████████████████▊                                       | 61/118 [00:03<00:02, 20.20it/s]"
     ]
    },
    {
     "name": "stdout",
     "output_type": "stream",
     "text": [
      "\n",
      "0: 224x224 melanoma 0.79, nevus 0.20, pigmented_benign_keratosis 0.00, seborrheic_keratosis 0.00, squamous_cell_carcinoma 0.00, 16.2ms\n",
      "Speed: 0.0ms preprocess, 16.2ms inference, 0.3ms postprocess per image at shape (1, 3, 224, 224)\n",
      "\n",
      "0: 224x224 nevus 0.96, melanoma 0.04, seborrheic_keratosis 0.00, dermatofibroma 0.00, pigmented_benign_keratosis 0.00, 16.3ms\n",
      "Speed: 0.0ms preprocess, 16.3ms inference, 0.3ms postprocess per image at shape (1, 3, 224, 224)\n",
      "\n",
      "0: 224x224 melanoma 0.81, nevus 0.18, pigmented_benign_keratosis 0.01, seborrheic_keratosis 0.00, dermatofibroma 0.00, 14.4ms\n",
      "Speed: 0.1ms preprocess, 14.4ms inference, 0.3ms postprocess per image at shape (1, 3, 224, 224)\n"
     ]
    },
    {
     "name": "stderr",
     "output_type": "stream",
     "text": [
      "\r",
      " 54%|███████████████████████████████████████████▉                                     | 64/118 [00:03<00:02, 21.76it/s]"
     ]
    },
    {
     "name": "stdout",
     "output_type": "stream",
     "text": [
      "\n",
      "0: 224x224 nevus 1.00, melanoma 0.00, vascular_lesion 0.00, pigmented_benign_keratosis 0.00, basal_cell_carcinoma 0.00, 15.3ms\n",
      "Speed: 0.0ms preprocess, 15.3ms inference, 0.4ms postprocess per image at shape (1, 3, 224, 224)\n",
      "\n",
      "0: 224x224 nevus 0.63, melanoma 0.35, seborrheic_keratosis 0.01, dermatofibroma 0.00, pigmented_benign_keratosis 0.00, 14.8ms\n",
      "Speed: 0.0ms preprocess, 14.8ms inference, 0.3ms postprocess per image at shape (1, 3, 224, 224)\n",
      "\n",
      "0: 224x224 nevus 0.88, melanoma 0.11, seborrheic_keratosis 0.01, pigmented_benign_keratosis 0.00, squamous_cell_carcinoma 0.00, 14.6ms\n",
      "Speed: 0.0ms preprocess, 14.6ms inference, 0.3ms postprocess per image at shape (1, 3, 224, 224)\n",
      "\n",
      "0: 224x224 nevus 0.92, pigmented_benign_keratosis 0.08, melanoma 0.00, actinic_keratosis 0.00, squamous_cell_carcinoma 0.00, 15.3ms\n",
      "Speed: 0.1ms preprocess, 15.3ms inference, 0.4ms postprocess per image at shape (1, 3, 224, 224)\n"
     ]
    },
    {
     "name": "stderr",
     "output_type": "stream",
     "text": [
      "\r",
      " 58%|██████████████████████████████████████████████▋                                  | 68/118 [00:04<00:01, 25.31it/s]"
     ]
    },
    {
     "name": "stdout",
     "output_type": "stream",
     "text": [
      "\n",
      "0: 224x224 pigmented_benign_keratosis 0.57, nevus 0.41, dermatofibroma 0.01, melanoma 0.01, actinic_keratosis 0.00, 15.7ms\n",
      "Speed: 0.0ms preprocess, 15.7ms inference, 0.3ms postprocess per image at shape (1, 3, 224, 224)\n",
      "\n",
      "0: 224x224 nevus 0.99, pigmented_benign_keratosis 0.01, melanoma 0.00, squamous_cell_carcinoma 0.00, dermatofibroma 0.00, 14.7ms\n",
      "Speed: 0.1ms preprocess, 14.7ms inference, 0.3ms postprocess per image at shape (1, 3, 224, 224)\n",
      "\n",
      "0: 224x224 nevus 1.00, melanoma 0.00, seborrheic_keratosis 0.00, pigmented_benign_keratosis 0.00, squamous_cell_carcinoma 0.00, 14.2ms\n",
      "Speed: 0.0ms preprocess, 14.2ms inference, 0.3ms postprocess per image at shape (1, 3, 224, 224)\n",
      "\n",
      "0: 224x224 nevus 1.00, melanoma 0.00, pigmented_benign_keratosis 0.00, squamous_cell_carcinoma 0.00, seborrheic_keratosis 0.00, 15.2ms\n",
      "Speed: 0.0ms preprocess, 15.2ms inference, 0.3ms postprocess per image at shape (1, 3, 224, 224)\n"
     ]
    },
    {
     "name": "stderr",
     "output_type": "stream",
     "text": [
      "\r",
      " 61%|█████████████████████████████████████████████████▍                               | 72/118 [00:04<00:01, 28.27it/s]"
     ]
    },
    {
     "name": "stdout",
     "output_type": "stream",
     "text": [
      "\n",
      "0: 224x224 melanoma 0.34, nevus 0.30, basal_cell_carcinoma 0.17, pigmented_benign_keratosis 0.17, seborrheic_keratosis 0.03, 15.1ms\n",
      "Speed: 0.0ms preprocess, 15.1ms inference, 0.3ms postprocess per image at shape (1, 3, 224, 224)\n",
      "\n",
      "0: 224x224 nevus 1.00, melanoma 0.00, pigmented_benign_keratosis 0.00, actinic_keratosis 0.00, dermatofibroma 0.00, 14.6ms\n",
      "Speed: 0.0ms preprocess, 14.6ms inference, 0.3ms postprocess per image at shape (1, 3, 224, 224)\n",
      "\n",
      "0: 224x224 pigmented_benign_keratosis 0.66, nevus 0.33, melanoma 0.00, dermatofibroma 0.00, actinic_keratosis 0.00, 14.6ms\n",
      "Speed: 0.0ms preprocess, 14.6ms inference, 0.3ms postprocess per image at shape (1, 3, 224, 224)\n",
      "\n",
      "0: 224x224 nevus 0.69, pigmented_benign_keratosis 0.17, melanoma 0.11, squamous_cell_carcinoma 0.01, dermatofibroma 0.01, 14.7ms\n",
      "Speed: 0.0ms preprocess, 14.7ms inference, 0.3ms postprocess per image at shape (1, 3, 224, 224)\n"
     ]
    },
    {
     "name": "stderr",
     "output_type": "stream",
     "text": [
      "\r",
      " 64%|████████████████████████████████████████████████████▏                            | 76/118 [00:04<00:01, 30.59it/s]"
     ]
    },
    {
     "name": "stdout",
     "output_type": "stream",
     "text": [
      "\n",
      "0: 224x224 nevus 1.00, pigmented_benign_keratosis 0.00, melanoma 0.00, seborrheic_keratosis 0.00, actinic_keratosis 0.00, 15.4ms\n",
      "Speed: 0.0ms preprocess, 15.4ms inference, 0.3ms postprocess per image at shape (1, 3, 224, 224)\n",
      "\n",
      "0: 224x224 nevus 0.98, pigmented_benign_keratosis 0.02, melanoma 0.00, vascular_lesion 0.00, seborrheic_keratosis 0.00, 14.3ms\n",
      "Speed: 0.0ms preprocess, 14.3ms inference, 0.3ms postprocess per image at shape (1, 3, 224, 224)\n",
      "\n",
      "0: 224x224 nevus 1.00, pigmented_benign_keratosis 0.00, melanoma 0.00, seborrheic_keratosis 0.00, squamous_cell_carcinoma 0.00, 14.3ms\n",
      "Speed: 0.0ms preprocess, 14.3ms inference, 0.3ms postprocess per image at shape (1, 3, 224, 224)\n",
      "\n",
      "0: 224x224 nevus 0.91, melanoma 0.08, seborrheic_keratosis 0.00, basal_cell_carcinoma 0.00, pigmented_benign_keratosis 0.00, 14.6ms\n",
      "Speed: 0.0ms preprocess, 14.6ms inference, 0.3ms postprocess per image at shape (1, 3, 224, 224)\n"
     ]
    },
    {
     "name": "stderr",
     "output_type": "stream",
     "text": [
      "\r",
      " 68%|██████████████████████████████████████████████████████▉                          | 80/118 [00:04<00:01, 31.20it/s]"
     ]
    },
    {
     "name": "stdout",
     "output_type": "stream",
     "text": [
      "\n",
      "0: 224x224 pigmented_benign_keratosis 0.99, nevus 0.00, actinic_keratosis 0.00, squamous_cell_carcinoma 0.00, basal_cell_carcinoma 0.00, 15.7ms\n",
      "Speed: 0.0ms preprocess, 15.7ms inference, 0.4ms postprocess per image at shape (1, 3, 224, 224)\n",
      "\n",
      "0: 224x224 pigmented_benign_keratosis 0.93, nevus 0.06, basal_cell_carcinoma 0.01, actinic_keratosis 0.00, squamous_cell_carcinoma 0.00, 15.5ms\n",
      "Speed: 0.0ms preprocess, 15.5ms inference, 0.4ms postprocess per image at shape (1, 3, 224, 224)\n",
      "\n",
      "0: 224x224 pigmented_benign_keratosis 1.00, squamous_cell_carcinoma 0.00, nevus 0.00, basal_cell_carcinoma 0.00, dermatofibroma 0.00, 15.0ms\n",
      "Speed: 0.0ms preprocess, 15.0ms inference, 0.4ms postprocess per image at shape (1, 3, 224, 224)\n",
      "\n",
      "0: 224x224 pigmented_benign_keratosis 1.00, nevus 0.00, vascular_lesion 0.00, dermatofibroma 0.00, melanoma 0.00, 15.2ms\n",
      "Speed: 0.0ms preprocess, 15.2ms inference, 0.3ms postprocess per image at shape (1, 3, 224, 224)\n"
     ]
    },
    {
     "name": "stderr",
     "output_type": "stream",
     "text": [
      "\r",
      " 71%|█████████████████████████████████████████████████████████▋                       | 84/118 [00:04<00:01, 32.89it/s]"
     ]
    },
    {
     "name": "stdout",
     "output_type": "stream",
     "text": [
      "\n",
      "0: 224x224 pigmented_benign_keratosis 0.94, squamous_cell_carcinoma 0.04, nevus 0.01, dermatofibroma 0.01, melanoma 0.01, 22.0ms\n",
      "Speed: 0.0ms preprocess, 22.0ms inference, 0.3ms postprocess per image at shape (1, 3, 224, 224)\n",
      "\n",
      "0: 224x224 pigmented_benign_keratosis 1.00, actinic_keratosis 0.00, nevus 0.00, squamous_cell_carcinoma 0.00, melanoma 0.00, 15.9ms\n",
      "Speed: 0.0ms preprocess, 15.9ms inference, 0.7ms postprocess per image at shape (1, 3, 224, 224)\n",
      "\n",
      "0: 224x224 pigmented_benign_keratosis 0.73, dermatofibroma 0.20, melanoma 0.05, nevus 0.02, seborrheic_keratosis 0.00, 15.2ms\n",
      "Speed: 0.0ms preprocess, 15.2ms inference, 0.3ms postprocess per image at shape (1, 3, 224, 224)\n",
      "\n",
      "0: 224x224 pigmented_benign_keratosis 0.99, squamous_cell_carcinoma 0.01, melanoma 0.00, nevus 0.00, actinic_keratosis 0.00, 14.4ms\n",
      "Speed: 0.0ms preprocess, 14.4ms inference, 0.3ms postprocess per image at shape (1, 3, 224, 224)\n"
     ]
    },
    {
     "name": "stderr",
     "output_type": "stream",
     "text": [
      "\r",
      " 75%|████████████████████████████████████████████████████████████▍                    | 88/118 [00:04<00:00, 33.37it/s]"
     ]
    },
    {
     "name": "stdout",
     "output_type": "stream",
     "text": [
      "\n",
      "0: 224x224 pigmented_benign_keratosis 1.00, actinic_keratosis 0.00, squamous_cell_carcinoma 0.00, nevus 0.00, melanoma 0.00, 19.2ms\n",
      "Speed: 0.0ms preprocess, 19.2ms inference, 0.3ms postprocess per image at shape (1, 3, 224, 224)\n",
      "\n",
      "0: 224x224 pigmented_benign_keratosis 1.00, vascular_lesion 0.00, basal_cell_carcinoma 0.00, seborrheic_keratosis 0.00, dermatofibroma 0.00, 15.8ms\n",
      "Speed: 0.0ms preprocess, 15.8ms inference, 0.3ms postprocess per image at shape (1, 3, 224, 224)\n",
      "\n",
      "0: 224x224 pigmented_benign_keratosis 1.00, nevus 0.00, actinic_keratosis 0.00, basal_cell_carcinoma 0.00, squamous_cell_carcinoma 0.00, 14.5ms\n",
      "Speed: 0.0ms preprocess, 14.5ms inference, 0.3ms postprocess per image at shape (1, 3, 224, 224)\n",
      "\n",
      "0: 224x224 pigmented_benign_keratosis 1.00, nevus 0.00, actinic_keratosis 0.00, dermatofibroma 0.00, squamous_cell_carcinoma 0.00, 14.8ms\n",
      "Speed: 0.0ms preprocess, 14.8ms inference, 0.3ms postprocess per image at shape (1, 3, 224, 224)\n"
     ]
    },
    {
     "name": "stderr",
     "output_type": "stream",
     "text": [
      "\r",
      " 78%|███████████████████████████████████████████████████████████████▏                 | 92/118 [00:04<00:00, 33.70it/s]"
     ]
    },
    {
     "name": "stdout",
     "output_type": "stream",
     "text": [
      "\n",
      "0: 224x224 basal_cell_carcinoma 0.84, squamous_cell_carcinoma 0.10, dermatofibroma 0.06, vascular_lesion 0.00, nevus 0.00, 14.5ms\n",
      "Speed: 0.0ms preprocess, 14.5ms inference, 0.3ms postprocess per image at shape (1, 3, 224, 224)\n",
      "\n",
      "0: 224x224 nevus 0.45, actinic_keratosis 0.41, melanoma 0.10, pigmented_benign_keratosis 0.03, squamous_cell_carcinoma 0.01, 14.4ms\n",
      "Speed: 0.0ms preprocess, 14.4ms inference, 0.3ms postprocess per image at shape (1, 3, 224, 224)\n",
      "\n",
      "0: 224x224 pigmented_benign_keratosis 0.89, melanoma 0.06, nevus 0.03, actinic_keratosis 0.01, seborrheic_keratosis 0.00, 14.4ms\n",
      "Speed: 0.0ms preprocess, 14.4ms inference, 0.3ms postprocess per image at shape (1, 3, 224, 224)\n",
      "\n",
      "0: 224x224 pigmented_benign_keratosis 0.82, squamous_cell_carcinoma 0.14, nevus 0.01, melanoma 0.01, actinic_keratosis 0.01, 14.5ms\n",
      "Speed: 0.1ms preprocess, 14.5ms inference, 0.3ms postprocess per image at shape (1, 3, 224, 224)\n"
     ]
    },
    {
     "name": "stderr",
     "output_type": "stream",
     "text": [
      "\r",
      " 81%|█████████████████████████████████████████████████████████████████▉               | 96/118 [00:04<00:00, 35.39it/s]"
     ]
    },
    {
     "name": "stdout",
     "output_type": "stream",
     "text": [
      "\n",
      "0: 224x224 melanoma 0.94, seborrheic_keratosis 0.03, nevus 0.03, pigmented_benign_keratosis 0.00, actinic_keratosis 0.00, 14.6ms\n",
      "Speed: 0.0ms preprocess, 14.6ms inference, 0.3ms postprocess per image at shape (1, 3, 224, 224)\n",
      "\n",
      "0: 224x224 melanoma 0.88, seborrheic_keratosis 0.12, nevus 0.00, pigmented_benign_keratosis 0.00, basal_cell_carcinoma 0.00, 14.3ms\n",
      "Speed: 0.0ms preprocess, 14.3ms inference, 0.3ms postprocess per image at shape (1, 3, 224, 224)\n",
      "\n",
      "0: 224x224 melanoma 0.94, seborrheic_keratosis 0.06, basal_cell_carcinoma 0.00, pigmented_benign_keratosis 0.00, actinic_keratosis 0.00, 16.6ms\n",
      "Speed: 0.1ms preprocess, 16.6ms inference, 0.2ms postprocess per image at shape (1, 3, 224, 224)\n",
      "\n",
      "0: 224x224 squamous_cell_carcinoma 1.00, melanoma 0.00, seborrheic_keratosis 0.00, pigmented_benign_keratosis 0.00, nevus 0.00, 15.5ms\n",
      "Speed: 0.0ms preprocess, 15.5ms inference, 0.3ms postprocess per image at shape (1, 3, 224, 224)\n"
     ]
    },
    {
     "name": "stderr",
     "output_type": "stream",
     "text": [
      "\r",
      " 85%|███████████████████████████████████████████████████████████████████▊            | 100/118 [00:05<00:01, 17.09it/s]"
     ]
    },
    {
     "name": "stdout",
     "output_type": "stream",
     "text": [
      "\n",
      "0: 224x224 melanoma 0.66, pigmented_benign_keratosis 0.19, dermatofibroma 0.12, squamous_cell_carcinoma 0.02, basal_cell_carcinoma 0.01, 16.8ms\n",
      "Speed: 0.0ms preprocess, 16.8ms inference, 0.3ms postprocess per image at shape (1, 3, 224, 224)\n",
      "\n",
      "0: 224x224 squamous_cell_carcinoma 0.91, melanoma 0.07, seborrheic_keratosis 0.01, nevus 0.00, basal_cell_carcinoma 0.00, 15.2ms\n",
      "Speed: 0.0ms preprocess, 15.2ms inference, 0.3ms postprocess per image at shape (1, 3, 224, 224)\n",
      "\n",
      "0: 224x224 squamous_cell_carcinoma 0.94, melanoma 0.03, basal_cell_carcinoma 0.02, seborrheic_keratosis 0.00, pigmented_benign_keratosis 0.00, 17.0ms\n",
      "Speed: 0.0ms preprocess, 17.0ms inference, 0.3ms postprocess per image at shape (1, 3, 224, 224)\n"
     ]
    },
    {
     "name": "stderr",
     "output_type": "stream",
     "text": [
      "\r",
      " 87%|█████████████████████████████████████████████████████████████████████▊          | 103/118 [00:06<00:02,  7.33it/s]"
     ]
    },
    {
     "name": "stdout",
     "output_type": "stream",
     "text": [
      "\n",
      "0: 224x224 basal_cell_carcinoma 0.89, nevus 0.10, melanoma 0.01, pigmented_benign_keratosis 0.00, dermatofibroma 0.00, 15.9ms\n",
      "Speed: 0.0ms preprocess, 15.9ms inference, 0.3ms postprocess per image at shape (1, 3, 224, 224)\n",
      "\n",
      "0: 224x224 squamous_cell_carcinoma 0.90, basal_cell_carcinoma 0.10, melanoma 0.00, pigmented_benign_keratosis 0.00, dermatofibroma 0.00, 16.8ms\n",
      "Speed: 0.1ms preprocess, 16.8ms inference, 0.3ms postprocess per image at shape (1, 3, 224, 224)\n",
      "\n",
      "0: 224x224 pigmented_benign_keratosis 0.58, squamous_cell_carcinoma 0.39, nevus 0.01, dermatofibroma 0.01, actinic_keratosis 0.01, 16.8ms\n",
      "Speed: 0.0ms preprocess, 16.8ms inference, 0.3ms postprocess per image at shape (1, 3, 224, 224)\n"
     ]
    },
    {
     "name": "stderr",
     "output_type": "stream",
     "text": [
      "\r",
      " 90%|███████████████████████████████████████████████████████████████████████▊        | 106/118 [00:06<00:01,  7.20it/s]"
     ]
    },
    {
     "name": "stdout",
     "output_type": "stream",
     "text": [
      "\n",
      "0: 224x224 pigmented_benign_keratosis 0.30, melanoma 0.25, squamous_cell_carcinoma 0.20, nevus 0.15, basal_cell_carcinoma 0.07, 15.5ms\n",
      "Speed: 0.0ms preprocess, 15.5ms inference, 0.3ms postprocess per image at shape (1, 3, 224, 224)\n",
      "\n",
      "0: 224x224 squamous_cell_carcinoma 1.00, melanoma 0.00, nevus 0.00, basal_cell_carcinoma 0.00, actinic_keratosis 0.00, 15.3ms\n",
      "Speed: 0.0ms preprocess, 15.3ms inference, 0.3ms postprocess per image at shape (1, 3, 224, 224)\n",
      "\n",
      "0: 224x224 pigmented_benign_keratosis 0.50, squamous_cell_carcinoma 0.45, nevus 0.02, actinic_keratosis 0.02, dermatofibroma 0.01, 15.3ms\n",
      "Speed: 0.0ms preprocess, 15.3ms inference, 0.3ms postprocess per image at shape (1, 3, 224, 224)\n",
      "\n",
      "0: 224x224 basal_cell_carcinoma 0.95, nevus 0.04, pigmented_benign_keratosis 0.01, dermatofibroma 0.00, squamous_cell_carcinoma 0.00, 15.8ms\n",
      "Speed: 0.0ms preprocess, 15.8ms inference, 0.3ms postprocess per image at shape (1, 3, 224, 224)\n"
     ]
    },
    {
     "name": "stderr",
     "output_type": "stream",
     "text": [
      "\r",
      " 93%|██████████████████████████████████████████████████████████████████████████▌     | 110/118 [00:06<00:00,  9.81it/s]"
     ]
    },
    {
     "name": "stdout",
     "output_type": "stream",
     "text": [
      "\n",
      "0: 224x224 pigmented_benign_keratosis 0.41, squamous_cell_carcinoma 0.38, basal_cell_carcinoma 0.15, dermatofibroma 0.03, nevus 0.02, 19.1ms\n",
      "Speed: 0.0ms preprocess, 19.1ms inference, 0.3ms postprocess per image at shape (1, 3, 224, 224)\n",
      "\n",
      "0: 224x224 pigmented_benign_keratosis 0.98, basal_cell_carcinoma 0.02, vascular_lesion 0.00, squamous_cell_carcinoma 0.00, actinic_keratosis 0.00, 16.5ms\n",
      "Speed: 0.0ms preprocess, 16.5ms inference, 0.3ms postprocess per image at shape (1, 3, 224, 224)\n",
      "\n",
      "0: 224x224 pigmented_benign_keratosis 0.88, squamous_cell_carcinoma 0.06, nevus 0.03, basal_cell_carcinoma 0.02, dermatofibroma 0.01, 15.2ms\n",
      "Speed: 0.2ms preprocess, 15.2ms inference, 0.3ms postprocess per image at shape (1, 3, 224, 224)\n",
      "\n",
      "0: 224x224 pigmented_benign_keratosis 0.74, squamous_cell_carcinoma 0.25, basal_cell_carcinoma 0.00, dermatofibroma 0.00, nevus 0.00, 15.2ms\n",
      "Speed: 0.0ms preprocess, 15.2ms inference, 0.4ms postprocess per image at shape (1, 3, 224, 224)\n"
     ]
    },
    {
     "name": "stderr",
     "output_type": "stream",
     "text": [
      "\r",
      " 97%|█████████████████████████████████████████████████████████████████████████████▎  | 114/118 [00:07<00:00, 12.72it/s]"
     ]
    },
    {
     "name": "stdout",
     "output_type": "stream",
     "text": [
      "\n",
      "0: 224x224 pigmented_benign_keratosis 0.55, squamous_cell_carcinoma 0.37, melanoma 0.06, nevus 0.01, basal_cell_carcinoma 0.01, 15.7ms\n",
      "Speed: 0.0ms preprocess, 15.7ms inference, 0.3ms postprocess per image at shape (1, 3, 224, 224)\n",
      "\n",
      "0: 224x224 vascular_lesion 1.00, nevus 0.00, pigmented_benign_keratosis 0.00, melanoma 0.00, basal_cell_carcinoma 0.00, 15.7ms\n",
      "Speed: 0.1ms preprocess, 15.7ms inference, 0.3ms postprocess per image at shape (1, 3, 224, 224)\n",
      "\n",
      "0: 224x224 vascular_lesion 1.00, basal_cell_carcinoma 0.00, nevus 0.00, pigmented_benign_keratosis 0.00, dermatofibroma 0.00, 14.2ms\n",
      "Speed: 0.1ms preprocess, 14.2ms inference, 0.3ms postprocess per image at shape (1, 3, 224, 224)\n",
      "\n",
      "0: 224x224 vascular_lesion 1.00, nevus 0.00, melanoma 0.00, basal_cell_carcinoma 0.00, pigmented_benign_keratosis 0.00, 14.3ms\n",
      "Speed: 0.0ms preprocess, 14.3ms inference, 0.3ms postprocess per image at shape (1, 3, 224, 224)\n"
     ]
    },
    {
     "name": "stderr",
     "output_type": "stream",
     "text": [
      "100%|████████████████████████████████████████████████████████████████████████████████| 118/118 [00:07<00:00, 16.38it/s]\n"
     ]
    },
    {
     "name": "stdout",
     "output_type": "stream",
     "text": [
      "Processing: yolov11m\n"
     ]
    },
    {
     "name": "stderr",
     "output_type": "stream",
     "text": [
      "\r",
      "  0%|                                                                                          | 0/118 [00:00<?, ?it/s]"
     ]
    },
    {
     "name": "stdout",
     "output_type": "stream",
     "text": [
      "\n",
      "0: 224x224 melanoma 0.74, pigmented_benign_keratosis 0.13, seborrheic_keratosis 0.09, actinic_keratosis 0.02, nevus 0.01, 30.0ms\n",
      "Speed: 0.0ms preprocess, 30.0ms inference, 0.3ms postprocess per image at shape (1, 3, 224, 224)\n"
     ]
    },
    {
     "name": "stderr",
     "output_type": "stream",
     "text": [
      "\r",
      "  1%|▋                                                                                 | 1/118 [00:00<00:18,  6.17it/s]"
     ]
    },
    {
     "name": "stdout",
     "output_type": "stream",
     "text": [
      "\n",
      "0: 224x224 nevus 0.64, melanoma 0.26, seborrheic_keratosis 0.09, pigmented_benign_keratosis 0.00, squamous_cell_carcinoma 0.00, 29.0ms\n",
      "Speed: 0.0ms preprocess, 29.0ms inference, 0.3ms postprocess per image at shape (1, 3, 224, 224)\n",
      "\n",
      "0: 224x224 actinic_keratosis 0.56, nevus 0.38, basal_cell_carcinoma 0.03, squamous_cell_carcinoma 0.02, melanoma 0.00, 30.1ms\n",
      "Speed: 0.0ms preprocess, 30.1ms inference, 0.3ms postprocess per image at shape (1, 3, 224, 224)\n",
      "\n",
      "0: 224x224 dermatofibroma 0.58, squamous_cell_carcinoma 0.15, pigmented_benign_keratosis 0.10, basal_cell_carcinoma 0.07, actinic_keratosis 0.06, 32.5ms\n",
      "Speed: 0.0ms preprocess, 32.5ms inference, 0.3ms postprocess per image at shape (1, 3, 224, 224)\n"
     ]
    },
    {
     "name": "stderr",
     "output_type": "stream",
     "text": [
      "\r",
      "  3%|██▊                                                                               | 4/118 [00:00<00:07, 15.33it/s]"
     ]
    },
    {
     "name": "stdout",
     "output_type": "stream",
     "text": [
      "\n",
      "0: 224x224 nevus 0.65, basal_cell_carcinoma 0.23, actinic_keratosis 0.06, squamous_cell_carcinoma 0.04, pigmented_benign_keratosis 0.02, 30.7ms\n",
      "Speed: 0.0ms preprocess, 30.7ms inference, 0.3ms postprocess per image at shape (1, 3, 224, 224)\n",
      "\n",
      "0: 224x224 nevus 0.53, actinic_keratosis 0.36, pigmented_benign_keratosis 0.11, squamous_cell_carcinoma 0.00, melanoma 0.00, 29.4ms\n",
      "Speed: 0.0ms preprocess, 29.4ms inference, 0.3ms postprocess per image at shape (1, 3, 224, 224)\n",
      "\n",
      "0: 224x224 vascular_lesion 0.84, pigmented_benign_keratosis 0.15, basal_cell_carcinoma 0.01, nevus 0.00, melanoma 0.00, 35.9ms\n",
      "Speed: 0.0ms preprocess, 35.9ms inference, 0.4ms postprocess per image at shape (1, 3, 224, 224)\n"
     ]
    },
    {
     "name": "stderr",
     "output_type": "stream",
     "text": [
      "\r",
      "  6%|████▊                                                                             | 7/118 [00:00<00:06, 18.33it/s]"
     ]
    },
    {
     "name": "stdout",
     "output_type": "stream",
     "text": [
      "\n",
      "0: 224x224 pigmented_benign_keratosis 0.87, nevus 0.07, actinic_keratosis 0.06, basal_cell_carcinoma 0.00, squamous_cell_carcinoma 0.00, 30.6ms\n",
      "Speed: 0.0ms preprocess, 30.6ms inference, 0.3ms postprocess per image at shape (1, 3, 224, 224)\n",
      "\n",
      "0: 224x224 actinic_keratosis 0.52, nevus 0.32, squamous_cell_carcinoma 0.12, pigmented_benign_keratosis 0.02, melanoma 0.01, 31.2ms\n",
      "Speed: 0.0ms preprocess, 31.2ms inference, 0.3ms postprocess per image at shape (1, 3, 224, 224)\n",
      "\n",
      "0: 224x224 actinic_keratosis 0.61, nevus 0.37, squamous_cell_carcinoma 0.02, melanoma 0.00, pigmented_benign_keratosis 0.00, 33.5ms\n",
      "Speed: 0.0ms preprocess, 33.5ms inference, 0.3ms postprocess per image at shape (1, 3, 224, 224)\n"
     ]
    },
    {
     "name": "stderr",
     "output_type": "stream",
     "text": [
      "\r",
      "  8%|██████▊                                                                          | 10/118 [00:00<00:05, 19.91it/s]"
     ]
    },
    {
     "name": "stdout",
     "output_type": "stream",
     "text": [
      "\n",
      "0: 224x224 nevus 0.90, pigmented_benign_keratosis 0.07, basal_cell_carcinoma 0.03, dermatofibroma 0.00, actinic_keratosis 0.00, 34.7ms\n",
      "Speed: 0.0ms preprocess, 34.7ms inference, 0.4ms postprocess per image at shape (1, 3, 224, 224)\n",
      "\n",
      "0: 224x224 basal_cell_carcinoma 0.85, actinic_keratosis 0.05, nevus 0.04, pigmented_benign_keratosis 0.04, squamous_cell_carcinoma 0.01, 35.5ms\n",
      "Speed: 0.0ms preprocess, 35.5ms inference, 0.4ms postprocess per image at shape (1, 3, 224, 224)\n",
      "\n",
      "0: 224x224 pigmented_benign_keratosis 0.72, actinic_keratosis 0.14, nevus 0.13, basal_cell_carcinoma 0.00, dermatofibroma 0.00, 33.1ms\n",
      "Speed: 0.0ms preprocess, 33.1ms inference, 0.3ms postprocess per image at shape (1, 3, 224, 224)\n"
     ]
    },
    {
     "name": "stderr",
     "output_type": "stream",
     "text": [
      "\r",
      " 11%|████████▉                                                                        | 13/118 [00:00<00:05, 20.17it/s]"
     ]
    },
    {
     "name": "stdout",
     "output_type": "stream",
     "text": [
      "\n",
      "0: 224x224 nevus 0.44, actinic_keratosis 0.36, squamous_cell_carcinoma 0.15, pigmented_benign_keratosis 0.03, dermatofibroma 0.01, 44.5ms\n",
      "Speed: 0.0ms preprocess, 44.5ms inference, 0.4ms postprocess per image at shape (1, 3, 224, 224)\n",
      "\n",
      "0: 224x224 actinic_keratosis 0.70, nevus 0.24, squamous_cell_carcinoma 0.04, pigmented_benign_keratosis 0.01, basal_cell_carcinoma 0.01, 41.3ms\n",
      "Speed: 0.0ms preprocess, 41.3ms inference, 0.3ms postprocess per image at shape (1, 3, 224, 224)\n",
      "\n",
      "0: 224x224 pigmented_benign_keratosis 0.91, actinic_keratosis 0.05, nevus 0.02, squamous_cell_carcinoma 0.02, basal_cell_carcinoma 0.00, 33.8ms\n",
      "Speed: 0.0ms preprocess, 33.8ms inference, 0.3ms postprocess per image at shape (1, 3, 224, 224)\n"
     ]
    },
    {
     "name": "stderr",
     "output_type": "stream",
     "text": [
      "\r",
      " 14%|██████████▉                                                                      | 16/118 [00:00<00:05, 19.50it/s]"
     ]
    },
    {
     "name": "stdout",
     "output_type": "stream",
     "text": [
      "\n",
      "0: 224x224 basal_cell_carcinoma 1.00, nevus 0.00, melanoma 0.00, pigmented_benign_keratosis 0.00, actinic_keratosis 0.00, 33.9ms\n",
      "Speed: 0.0ms preprocess, 33.9ms inference, 0.3ms postprocess per image at shape (1, 3, 224, 224)\n",
      "\n",
      "0: 224x224 basal_cell_carcinoma 0.99, squamous_cell_carcinoma 0.00, pigmented_benign_keratosis 0.00, nevus 0.00, dermatofibroma 0.00, 32.7ms\n",
      "Speed: 0.0ms preprocess, 32.7ms inference, 0.3ms postprocess per image at shape (1, 3, 224, 224)\n",
      "\n",
      "0: 224x224 dermatofibroma 0.81, basal_cell_carcinoma 0.19, squamous_cell_carcinoma 0.00, pigmented_benign_keratosis 0.00, actinic_keratosis 0.00, 35.7ms\n",
      "Speed: 0.0ms preprocess, 35.7ms inference, 0.3ms postprocess per image at shape (1, 3, 224, 224)\n"
     ]
    },
    {
     "name": "stderr",
     "output_type": "stream",
     "text": [
      "\r",
      " 16%|█████████████                                                                    | 19/118 [00:01<00:04, 20.30it/s]"
     ]
    },
    {
     "name": "stdout",
     "output_type": "stream",
     "text": [
      "\n",
      "0: 224x224 basal_cell_carcinoma 0.98, pigmented_benign_keratosis 0.01, nevus 0.00, vascular_lesion 0.00, melanoma 0.00, 31.3ms\n",
      "Speed: 0.0ms preprocess, 31.3ms inference, 0.4ms postprocess per image at shape (1, 3, 224, 224)\n",
      "\n",
      "0: 224x224 basal_cell_carcinoma 1.00, pigmented_benign_keratosis 0.00, squamous_cell_carcinoma 0.00, nevus 0.00, actinic_keratosis 0.00, 32.8ms\n",
      "Speed: 0.0ms preprocess, 32.8ms inference, 0.3ms postprocess per image at shape (1, 3, 224, 224)\n",
      "\n",
      "0: 224x224 basal_cell_carcinoma 0.60, pigmented_benign_keratosis 0.39, actinic_keratosis 0.00, squamous_cell_carcinoma 0.00, nevus 0.00, 30.6ms\n",
      "Speed: 0.0ms preprocess, 30.6ms inference, 0.3ms postprocess per image at shape (1, 3, 224, 224)\n"
     ]
    },
    {
     "name": "stderr",
     "output_type": "stream",
     "text": [
      "\r",
      " 19%|███████████████                                                                  | 22/118 [00:01<00:04, 20.85it/s]"
     ]
    },
    {
     "name": "stdout",
     "output_type": "stream",
     "text": [
      "\n",
      "0: 224x224 basal_cell_carcinoma 0.80, nevus 0.14, melanoma 0.02, squamous_cell_carcinoma 0.01, pigmented_benign_keratosis 0.01, 28.2ms\n",
      "Speed: 0.0ms preprocess, 28.2ms inference, 0.3ms postprocess per image at shape (1, 3, 224, 224)\n",
      "\n",
      "0: 224x224 pigmented_benign_keratosis 0.44, nevus 0.25, basal_cell_carcinoma 0.22, seborrheic_keratosis 0.03, melanoma 0.02, 30.3ms\n",
      "Speed: 0.0ms preprocess, 30.3ms inference, 0.3ms postprocess per image at shape (1, 3, 224, 224)\n",
      "\n",
      "0: 224x224 basal_cell_carcinoma 1.00, nevus 0.00, pigmented_benign_keratosis 0.00, squamous_cell_carcinoma 0.00, vascular_lesion 0.00, 30.6ms\n",
      "Speed: 0.0ms preprocess, 30.6ms inference, 0.3ms postprocess per image at shape (1, 3, 224, 224)\n"
     ]
    },
    {
     "name": "stderr",
     "output_type": "stream",
     "text": [
      "\r",
      " 21%|█████████████████▏                                                               | 25/118 [00:01<00:04, 21.96it/s]"
     ]
    },
    {
     "name": "stdout",
     "output_type": "stream",
     "text": [
      "\n",
      "0: 224x224 basal_cell_carcinoma 1.00, vascular_lesion 0.00, squamous_cell_carcinoma 0.00, pigmented_benign_keratosis 0.00, dermatofibroma 0.00, 30.2ms\n",
      "Speed: 0.0ms preprocess, 30.2ms inference, 0.3ms postprocess per image at shape (1, 3, 224, 224)\n",
      "\n",
      "0: 224x224 basal_cell_carcinoma 1.00, squamous_cell_carcinoma 0.00, dermatofibroma 0.00, nevus 0.00, pigmented_benign_keratosis 0.00, 28.6ms\n",
      "Speed: 0.0ms preprocess, 28.6ms inference, 0.3ms postprocess per image at shape (1, 3, 224, 224)\n",
      "\n",
      "0: 224x224 basal_cell_carcinoma 0.99, nevus 0.01, melanoma 0.00, pigmented_benign_keratosis 0.00, squamous_cell_carcinoma 0.00, 29.4ms\n",
      "Speed: 0.0ms preprocess, 29.4ms inference, 0.3ms postprocess per image at shape (1, 3, 224, 224)\n"
     ]
    },
    {
     "name": "stderr",
     "output_type": "stream",
     "text": [
      "\r",
      " 24%|███████████████████▏                                                             | 28/118 [00:01<00:03, 22.92it/s]"
     ]
    },
    {
     "name": "stdout",
     "output_type": "stream",
     "text": [
      "\n",
      "0: 224x224 basal_cell_carcinoma 0.99, vascular_lesion 0.00, dermatofibroma 0.00, pigmented_benign_keratosis 0.00, melanoma 0.00, 32.6ms\n",
      "Speed: 0.0ms preprocess, 32.6ms inference, 0.2ms postprocess per image at shape (1, 3, 224, 224)\n",
      "\n",
      "0: 224x224 basal_cell_carcinoma 1.00, pigmented_benign_keratosis 0.00, squamous_cell_carcinoma 0.00, nevus 0.00, actinic_keratosis 0.00, 30.6ms\n",
      "Speed: 0.0ms preprocess, 30.6ms inference, 0.3ms postprocess per image at shape (1, 3, 224, 224)\n",
      "\n",
      "0: 224x224 basal_cell_carcinoma 1.00, squamous_cell_carcinoma 0.00, pigmented_benign_keratosis 0.00, dermatofibroma 0.00, nevus 0.00, 29.1ms\n",
      "Speed: 0.0ms preprocess, 29.1ms inference, 0.3ms postprocess per image at shape (1, 3, 224, 224)\n"
     ]
    },
    {
     "name": "stderr",
     "output_type": "stream",
     "text": [
      "\r",
      " 26%|█████████████████████▎                                                           | 31/118 [00:01<00:03, 22.94it/s]"
     ]
    },
    {
     "name": "stdout",
     "output_type": "stream",
     "text": [
      "\n",
      "0: 224x224 basal_cell_carcinoma 1.00, pigmented_benign_keratosis 0.00, nevus 0.00, vascular_lesion 0.00, actinic_keratosis 0.00, 28.4ms\n",
      "Speed: 0.0ms preprocess, 28.4ms inference, 0.2ms postprocess per image at shape (1, 3, 224, 224)\n",
      "\n",
      "0: 224x224 melanoma 0.88, seborrheic_keratosis 0.12, basal_cell_carcinoma 0.00, nevus 0.00, squamous_cell_carcinoma 0.00, 29.5ms\n",
      "Speed: 0.0ms preprocess, 29.5ms inference, 0.3ms postprocess per image at shape (1, 3, 224, 224)\n",
      "\n",
      "0: 224x224 nevus 0.99, melanoma 0.00, pigmented_benign_keratosis 0.00, dermatofibroma 0.00, seborrheic_keratosis 0.00, 29.6ms\n",
      "Speed: 0.2ms preprocess, 29.6ms inference, 0.3ms postprocess per image at shape (1, 3, 224, 224)\n"
     ]
    },
    {
     "name": "stderr",
     "output_type": "stream",
     "text": [
      "\r",
      " 29%|███████████████████████▎                                                         | 34/118 [00:01<00:05, 16.58it/s]"
     ]
    },
    {
     "name": "stdout",
     "output_type": "stream",
     "text": [
      "\n",
      "0: 224x224 dermatofibroma 0.51, basal_cell_carcinoma 0.47, pigmented_benign_keratosis 0.02, nevus 0.00, vascular_lesion 0.00, 33.7ms\n",
      "Speed: 0.0ms preprocess, 33.7ms inference, 0.3ms postprocess per image at shape (1, 3, 224, 224)\n",
      "\n",
      "0: 224x224 dermatofibroma 0.74, squamous_cell_carcinoma 0.09, melanoma 0.07, pigmented_benign_keratosis 0.06, basal_cell_carcinoma 0.02, 34.2ms\n",
      "Speed: 0.0ms preprocess, 34.2ms inference, 0.3ms postprocess per image at shape (1, 3, 224, 224)\n"
     ]
    },
    {
     "name": "stderr",
     "output_type": "stream",
     "text": [
      "\r",
      " 31%|████████████████████████▋                                                        | 36/118 [00:02<00:11,  7.39it/s]"
     ]
    },
    {
     "name": "stdout",
     "output_type": "stream",
     "text": [
      "\n",
      "0: 224x224 dermatofibroma 0.99, nevus 0.01, pigmented_benign_keratosis 0.00, actinic_keratosis 0.00, melanoma 0.00, 60.7ms\n",
      "Speed: 0.0ms preprocess, 60.7ms inference, 1.3ms postprocess per image at shape (1, 3, 224, 224)\n",
      "\n",
      "0: 224x224 dermatofibroma 0.56, melanoma 0.19, pigmented_benign_keratosis 0.14, nevus 0.07, squamous_cell_carcinoma 0.02, 29.2ms\n",
      "Speed: 0.1ms preprocess, 29.2ms inference, 0.3ms postprocess per image at shape (1, 3, 224, 224)\n"
     ]
    },
    {
     "name": "stderr",
     "output_type": "stream",
     "text": [
      "\r",
      " 32%|██████████████████████████                                                       | 38/118 [00:03<00:16,  4.94it/s]"
     ]
    },
    {
     "name": "stdout",
     "output_type": "stream",
     "text": [
      "\n",
      "0: 224x224 nevus 0.97, melanoma 0.03, seborrheic_keratosis 0.00, pigmented_benign_keratosis 0.00, basal_cell_carcinoma 0.00, 29.3ms\n",
      "Speed: 0.0ms preprocess, 29.3ms inference, 0.3ms postprocess per image at shape (1, 3, 224, 224)\n",
      "\n",
      "0: 224x224 dermatofibroma 1.00, basal_cell_carcinoma 0.00, nevus 0.00, vascular_lesion 0.00, melanoma 0.00, 30.7ms\n",
      "Speed: 0.0ms preprocess, 30.7ms inference, 0.3ms postprocess per image at shape (1, 3, 224, 224)\n"
     ]
    },
    {
     "name": "stderr",
     "output_type": "stream",
     "text": [
      "\r",
      " 34%|███████████████████████████▍                                                     | 40/118 [00:03<00:16,  4.82it/s]"
     ]
    },
    {
     "name": "stdout",
     "output_type": "stream",
     "text": [
      "\n",
      "0: 224x224 basal_cell_carcinoma 0.95, dermatofibroma 0.05, pigmented_benign_keratosis 0.00, actinic_keratosis 0.00, squamous_cell_carcinoma 0.00, 30.3ms\n",
      "Speed: 0.0ms preprocess, 30.3ms inference, 0.3ms postprocess per image at shape (1, 3, 224, 224)\n",
      "\n",
      "0: 224x224 dermatofibroma 1.00, vascular_lesion 0.00, basal_cell_carcinoma 0.00, pigmented_benign_keratosis 0.00, melanoma 0.00, 28.4ms\n",
      "Speed: 0.0ms preprocess, 28.4ms inference, 0.2ms postprocess per image at shape (1, 3, 224, 224)\n",
      "\n",
      "0: 224x224 dermatofibroma 0.99, basal_cell_carcinoma 0.01, vascular_lesion 0.00, pigmented_benign_keratosis 0.00, nevus 0.00, 30.9ms\n",
      "Speed: 0.0ms preprocess, 30.9ms inference, 0.3ms postprocess per image at shape (1, 3, 224, 224)\n"
     ]
    },
    {
     "name": "stderr",
     "output_type": "stream",
     "text": [
      "\r",
      " 36%|█████████████████████████████▌                                                   | 43/118 [00:03<00:11,  6.74it/s]"
     ]
    },
    {
     "name": "stdout",
     "output_type": "stream",
     "text": [
      "\n",
      "0: 224x224 dermatofibroma 1.00, basal_cell_carcinoma 0.00, vascular_lesion 0.00, pigmented_benign_keratosis 0.00, melanoma 0.00, 29.1ms\n",
      "Speed: 0.0ms preprocess, 29.1ms inference, 0.3ms postprocess per image at shape (1, 3, 224, 224)\n",
      "\n",
      "0: 224x224 dermatofibroma 1.00, basal_cell_carcinoma 0.00, nevus 0.00, pigmented_benign_keratosis 0.00, actinic_keratosis 0.00, 34.4ms\n",
      "Speed: 0.0ms preprocess, 34.4ms inference, 0.3ms postprocess per image at shape (1, 3, 224, 224)\n",
      "\n",
      "0: 224x224 dermatofibroma 0.90, basal_cell_carcinoma 0.09, pigmented_benign_keratosis 0.01, squamous_cell_carcinoma 0.00, melanoma 0.00, 32.5ms\n",
      "Speed: 0.0ms preprocess, 32.5ms inference, 0.3ms postprocess per image at shape (1, 3, 224, 224)\n"
     ]
    },
    {
     "name": "stderr",
     "output_type": "stream",
     "text": [
      "\r",
      " 39%|███████████████████████████████▌                                                 | 46/118 [00:04<00:08,  8.81it/s]"
     ]
    },
    {
     "name": "stdout",
     "output_type": "stream",
     "text": [
      "\n",
      "0: 224x224 dermatofibroma 0.94, pigmented_benign_keratosis 0.06, vascular_lesion 0.00, melanoma 0.00, nevus 0.00, 31.2ms\n",
      "Speed: 0.0ms preprocess, 31.2ms inference, 0.3ms postprocess per image at shape (1, 3, 224, 224)\n",
      "\n",
      "0: 224x224 basal_cell_carcinoma 0.74, pigmented_benign_keratosis 0.22, dermatofibroma 0.03, squamous_cell_carcinoma 0.01, nevus 0.01, 29.6ms\n",
      "Speed: 0.0ms preprocess, 29.6ms inference, 0.3ms postprocess per image at shape (1, 3, 224, 224)\n",
      "\n",
      "0: 224x224 nevus 0.80, melanoma 0.15, pigmented_benign_keratosis 0.03, squamous_cell_carcinoma 0.01, seborrheic_keratosis 0.01, 30.0ms\n",
      "Speed: 0.0ms preprocess, 30.0ms inference, 0.3ms postprocess per image at shape (1, 3, 224, 224)\n"
     ]
    },
    {
     "name": "stderr",
     "output_type": "stream",
     "text": [
      "\r",
      " 42%|█████████████████████████████████▋                                               | 49/118 [00:04<00:06, 11.05it/s]"
     ]
    },
    {
     "name": "stdout",
     "output_type": "stream",
     "text": [
      "\n",
      "0: 224x224 nevus 0.78, pigmented_benign_keratosis 0.12, basal_cell_carcinoma 0.05, vascular_lesion 0.02, melanoma 0.02, 36.7ms\n",
      "Speed: 0.0ms preprocess, 36.7ms inference, 0.3ms postprocess per image at shape (1, 3, 224, 224)\n",
      "\n",
      "0: 224x224 nevus 0.88, melanoma 0.12, seborrheic_keratosis 0.00, pigmented_benign_keratosis 0.00, squamous_cell_carcinoma 0.00, 32.4ms\n",
      "Speed: 0.0ms preprocess, 32.4ms inference, 0.3ms postprocess per image at shape (1, 3, 224, 224)\n",
      "\n",
      "0: 224x224 nevus 0.97, melanoma 0.02, pigmented_benign_keratosis 0.01, seborrheic_keratosis 0.00, dermatofibroma 0.00, 29.2ms\n",
      "Speed: 0.0ms preprocess, 29.2ms inference, 0.3ms postprocess per image at shape (1, 3, 224, 224)\n"
     ]
    },
    {
     "name": "stderr",
     "output_type": "stream",
     "text": [
      "\r",
      " 44%|███████████████████████████████████▋                                             | 52/118 [00:04<00:05, 12.91it/s]"
     ]
    },
    {
     "name": "stdout",
     "output_type": "stream",
     "text": [
      "\n",
      "0: 224x224 nevus 0.88, dermatofibroma 0.08, pigmented_benign_keratosis 0.02, squamous_cell_carcinoma 0.01, melanoma 0.01, 28.7ms\n",
      "Speed: 0.1ms preprocess, 28.7ms inference, 0.3ms postprocess per image at shape (1, 3, 224, 224)\n",
      "\n",
      "0: 224x224 nevus 0.96, melanoma 0.04, seborrheic_keratosis 0.00, pigmented_benign_keratosis 0.00, vascular_lesion 0.00, 30.2ms\n",
      "Speed: 0.0ms preprocess, 30.2ms inference, 0.3ms postprocess per image at shape (1, 3, 224, 224)\n"
     ]
    },
    {
     "name": "stderr",
     "output_type": "stream",
     "text": [
      "\r",
      " 46%|█████████████████████████████████████                                            | 54/118 [00:04<00:04, 13.99it/s]"
     ]
    },
    {
     "name": "stdout",
     "output_type": "stream",
     "text": [
      "\n",
      "0: 224x224 melanoma 0.56, squamous_cell_carcinoma 0.17, nevus 0.12, seborrheic_keratosis 0.06, basal_cell_carcinoma 0.05, 30.0ms\n",
      "Speed: 0.0ms preprocess, 30.0ms inference, 0.3ms postprocess per image at shape (1, 3, 224, 224)\n",
      "\n",
      "0: 224x224 melanoma 0.93, seborrheic_keratosis 0.06, pigmented_benign_keratosis 0.01, squamous_cell_carcinoma 0.01, nevus 0.00, 33.5ms\n",
      "Speed: 0.0ms preprocess, 33.5ms inference, 0.3ms postprocess per image at shape (1, 3, 224, 224)\n"
     ]
    },
    {
     "name": "stderr",
     "output_type": "stream",
     "text": [
      "\r",
      " 47%|██████████████████████████████████████▍                                          | 56/118 [00:04<00:04, 14.80it/s]"
     ]
    },
    {
     "name": "stdout",
     "output_type": "stream",
     "text": [
      "\n",
      "0: 224x224 nevus 0.83, pigmented_benign_keratosis 0.10, melanoma 0.06, squamous_cell_carcinoma 0.00, vascular_lesion 0.00, 30.0ms\n",
      "Speed: 0.0ms preprocess, 30.0ms inference, 0.3ms postprocess per image at shape (1, 3, 224, 224)\n",
      "\n",
      "0: 224x224 nevus 0.84, melanoma 0.09, pigmented_benign_keratosis 0.06, seborrheic_keratosis 0.01, vascular_lesion 0.00, 29.7ms\n",
      "Speed: 0.0ms preprocess, 29.7ms inference, 0.3ms postprocess per image at shape (1, 3, 224, 224)\n"
     ]
    },
    {
     "name": "stderr",
     "output_type": "stream",
     "text": [
      "\r",
      " 49%|███████████████████████████████████████▊                                         | 58/118 [00:04<00:03, 15.64it/s]"
     ]
    },
    {
     "name": "stdout",
     "output_type": "stream",
     "text": [
      "\n",
      "0: 224x224 nevus 0.79, melanoma 0.07, dermatofibroma 0.05, pigmented_benign_keratosis 0.04, basal_cell_carcinoma 0.02, 29.3ms\n",
      "Speed: 0.0ms preprocess, 29.3ms inference, 0.3ms postprocess per image at shape (1, 3, 224, 224)\n",
      "\n",
      "0: 224x224 nevus 0.61, melanoma 0.39, seborrheic_keratosis 0.00, pigmented_benign_keratosis 0.00, basal_cell_carcinoma 0.00, 28.8ms\n",
      "Speed: 0.0ms preprocess, 28.8ms inference, 0.3ms postprocess per image at shape (1, 3, 224, 224)\n",
      "\n",
      "0: 224x224 melanoma 0.37, pigmented_benign_keratosis 0.32, nevus 0.31, seborrheic_keratosis 0.01, squamous_cell_carcinoma 0.00, 28.7ms\n",
      "Speed: 0.0ms preprocess, 28.7ms inference, 0.3ms postprocess per image at shape (1, 3, 224, 224)\n"
     ]
    },
    {
     "name": "stderr",
     "output_type": "stream",
     "text": [
      "\r",
      " 52%|█████████████████████████████████████████▊                                       | 61/118 [00:04<00:03, 17.00it/s]"
     ]
    },
    {
     "name": "stdout",
     "output_type": "stream",
     "text": [
      "\n",
      "0: 224x224 nevus 0.75, melanoma 0.17, pigmented_benign_keratosis 0.07, squamous_cell_carcinoma 0.01, seborrheic_keratosis 0.00, 28.3ms\n",
      "Speed: 0.0ms preprocess, 28.3ms inference, 0.3ms postprocess per image at shape (1, 3, 224, 224)\n",
      "\n",
      "0: 224x224 nevus 0.99, melanoma 0.01, pigmented_benign_keratosis 0.00, seborrheic_keratosis 0.00, squamous_cell_carcinoma 0.00, 29.2ms\n",
      "Speed: 0.0ms preprocess, 29.2ms inference, 0.3ms postprocess per image at shape (1, 3, 224, 224)\n",
      "\n",
      "0: 224x224 melanoma 0.57, nevus 0.42, seborrheic_keratosis 0.01, pigmented_benign_keratosis 0.00, squamous_cell_carcinoma 0.00, 30.3ms\n",
      "Speed: 0.0ms preprocess, 30.3ms inference, 0.3ms postprocess per image at shape (1, 3, 224, 224)\n"
     ]
    },
    {
     "name": "stderr",
     "output_type": "stream",
     "text": [
      "\r",
      " 54%|███████████████████████████████████████████▉                                     | 64/118 [00:05<00:02, 18.04it/s]"
     ]
    },
    {
     "name": "stdout",
     "output_type": "stream",
     "text": [
      "\n",
      "0: 224x224 nevus 0.99, melanoma 0.01, pigmented_benign_keratosis 0.00, vascular_lesion 0.00, seborrheic_keratosis 0.00, 28.6ms\n",
      "Speed: 0.0ms preprocess, 28.6ms inference, 0.3ms postprocess per image at shape (1, 3, 224, 224)\n",
      "\n",
      "0: 224x224 nevus 0.89, melanoma 0.11, seborrheic_keratosis 0.00, basal_cell_carcinoma 0.00, pigmented_benign_keratosis 0.00, 28.5ms\n",
      "Speed: 0.0ms preprocess, 28.5ms inference, 0.3ms postprocess per image at shape (1, 3, 224, 224)\n",
      "\n",
      "0: 224x224 nevus 0.58, melanoma 0.41, seborrheic_keratosis 0.00, pigmented_benign_keratosis 0.00, squamous_cell_carcinoma 0.00, 32.7ms\n",
      "Speed: 0.0ms preprocess, 32.7ms inference, 0.3ms postprocess per image at shape (1, 3, 224, 224)\n"
     ]
    },
    {
     "name": "stderr",
     "output_type": "stream",
     "text": [
      "\r",
      " 57%|█████████████████████████████████████████████▉                                   | 67/118 [00:05<00:02, 19.27it/s]"
     ]
    },
    {
     "name": "stdout",
     "output_type": "stream",
     "text": [
      "\n",
      "0: 224x224 nevus 0.90, pigmented_benign_keratosis 0.10, basal_cell_carcinoma 0.00, melanoma 0.00, squamous_cell_carcinoma 0.00, 31.8ms\n",
      "Speed: 0.0ms preprocess, 31.8ms inference, 0.3ms postprocess per image at shape (1, 3, 224, 224)\n",
      "\n",
      "0: 224x224 nevus 0.99, pigmented_benign_keratosis 0.00, melanoma 0.00, dermatofibroma 0.00, actinic_keratosis 0.00, 29.9ms\n",
      "Speed: 0.0ms preprocess, 29.9ms inference, 0.3ms postprocess per image at shape (1, 3, 224, 224)\n",
      "\n",
      "0: 224x224 nevus 0.99, pigmented_benign_keratosis 0.01, melanoma 0.00, vascular_lesion 0.00, dermatofibroma 0.00, 28.4ms\n",
      "Speed: 0.0ms preprocess, 28.4ms inference, 0.3ms postprocess per image at shape (1, 3, 224, 224)\n"
     ]
    },
    {
     "name": "stderr",
     "output_type": "stream",
     "text": [
      "\r",
      " 59%|████████████████████████████████████████████████                                 | 70/118 [00:05<00:02, 20.23it/s]"
     ]
    },
    {
     "name": "stdout",
     "output_type": "stream",
     "text": [
      "\n",
      "0: 224x224 nevus 0.94, melanoma 0.06, seborrheic_keratosis 0.00, pigmented_benign_keratosis 0.00, squamous_cell_carcinoma 0.00, 32.5ms\n",
      "Speed: 0.0ms preprocess, 32.5ms inference, 0.3ms postprocess per image at shape (1, 3, 224, 224)\n",
      "\n",
      "0: 224x224 nevus 1.00, melanoma 0.00, pigmented_benign_keratosis 0.00, seborrheic_keratosis 0.00, squamous_cell_carcinoma 0.00, 30.1ms\n",
      "Speed: 0.0ms preprocess, 30.1ms inference, 0.3ms postprocess per image at shape (1, 3, 224, 224)\n",
      "\n",
      "0: 224x224 nevus 0.95, melanoma 0.03, pigmented_benign_keratosis 0.01, seborrheic_keratosis 0.00, basal_cell_carcinoma 0.00, 30.3ms\n",
      "Speed: 0.0ms preprocess, 30.3ms inference, 0.3ms postprocess per image at shape (1, 3, 224, 224)\n"
     ]
    },
    {
     "name": "stderr",
     "output_type": "stream",
     "text": [
      "\r",
      " 62%|██████████████████████████████████████████████████                               | 73/118 [00:05<00:02, 20.63it/s]"
     ]
    },
    {
     "name": "stdout",
     "output_type": "stream",
     "text": [
      "\n",
      "0: 224x224 nevus 0.98, melanoma 0.02, seborrheic_keratosis 0.00, squamous_cell_carcinoma 0.00, pigmented_benign_keratosis 0.00, 30.3ms\n",
      "Speed: 0.0ms preprocess, 30.3ms inference, 0.2ms postprocess per image at shape (1, 3, 224, 224)\n",
      "\n",
      "0: 224x224 nevus 0.86, pigmented_benign_keratosis 0.14, basal_cell_carcinoma 0.00, melanoma 0.00, actinic_keratosis 0.00, 35.0ms\n",
      "Speed: 0.0ms preprocess, 35.0ms inference, 0.3ms postprocess per image at shape (1, 3, 224, 224)\n",
      "\n",
      "0: 224x224 nevus 0.96, melanoma 0.03, pigmented_benign_keratosis 0.01, squamous_cell_carcinoma 0.00, seborrheic_keratosis 0.00, 31.0ms\n",
      "Speed: 0.0ms preprocess, 31.0ms inference, 0.3ms postprocess per image at shape (1, 3, 224, 224)\n"
     ]
    },
    {
     "name": "stderr",
     "output_type": "stream",
     "text": [
      "\r",
      " 64%|████████████████████████████████████████████████████▏                            | 76/118 [00:05<00:01, 21.10it/s]"
     ]
    },
    {
     "name": "stdout",
     "output_type": "stream",
     "text": [
      "\n",
      "0: 224x224 nevus 1.00, melanoma 0.00, pigmented_benign_keratosis 0.00, seborrheic_keratosis 0.00, squamous_cell_carcinoma 0.00, 28.5ms\n",
      "Speed: 0.1ms preprocess, 28.5ms inference, 0.3ms postprocess per image at shape (1, 3, 224, 224)\n",
      "\n",
      "0: 224x224 nevus 0.97, melanoma 0.02, pigmented_benign_keratosis 0.01, seborrheic_keratosis 0.00, vascular_lesion 0.00, 34.0ms\n",
      "Speed: 0.0ms preprocess, 34.0ms inference, 0.3ms postprocess per image at shape (1, 3, 224, 224)\n",
      "\n",
      "0: 224x224 nevus 0.98, pigmented_benign_keratosis 0.02, melanoma 0.00, squamous_cell_carcinoma 0.00, seborrheic_keratosis 0.00, 31.3ms\n",
      "Speed: 0.0ms preprocess, 31.3ms inference, 0.3ms postprocess per image at shape (1, 3, 224, 224)\n"
     ]
    },
    {
     "name": "stderr",
     "output_type": "stream",
     "text": [
      "\r",
      " 67%|██████████████████████████████████████████████████████▏                          | 79/118 [00:05<00:01, 21.11it/s]"
     ]
    },
    {
     "name": "stdout",
     "output_type": "stream",
     "text": [
      "\n",
      "0: 224x224 nevus 0.54, melanoma 0.43, seborrheic_keratosis 0.02, pigmented_benign_keratosis 0.00, squamous_cell_carcinoma 0.00, 28.5ms\n",
      "Speed: 0.0ms preprocess, 28.5ms inference, 0.3ms postprocess per image at shape (1, 3, 224, 224)\n",
      "\n",
      "0: 224x224 pigmented_benign_keratosis 0.99, squamous_cell_carcinoma 0.00, basal_cell_carcinoma 0.00, melanoma 0.00, nevus 0.00, 28.9ms\n",
      "Speed: 0.0ms preprocess, 28.9ms inference, 0.3ms postprocess per image at shape (1, 3, 224, 224)\n",
      "\n",
      "0: 224x224 pigmented_benign_keratosis 0.99, nevus 0.01, actinic_keratosis 0.00, basal_cell_carcinoma 0.00, dermatofibroma 0.00, 29.0ms\n",
      "Speed: 0.0ms preprocess, 29.0ms inference, 0.3ms postprocess per image at shape (1, 3, 224, 224)\n"
     ]
    },
    {
     "name": "stderr",
     "output_type": "stream",
     "text": [
      "\r",
      " 69%|████████████████████████████████████████████████████████▎                        | 82/118 [00:05<00:01, 21.48it/s]"
     ]
    },
    {
     "name": "stdout",
     "output_type": "stream",
     "text": [
      "\n",
      "0: 224x224 pigmented_benign_keratosis 1.00, dermatofibroma 0.00, squamous_cell_carcinoma 0.00, nevus 0.00, basal_cell_carcinoma 0.00, 30.7ms\n",
      "Speed: 0.0ms preprocess, 30.7ms inference, 0.3ms postprocess per image at shape (1, 3, 224, 224)\n",
      "\n",
      "0: 224x224 pigmented_benign_keratosis 0.99, dermatofibroma 0.01, vascular_lesion 0.00, nevus 0.00, melanoma 0.00, 29.3ms\n",
      "Speed: 0.0ms preprocess, 29.3ms inference, 0.3ms postprocess per image at shape (1, 3, 224, 224)\n",
      "\n",
      "0: 224x224 pigmented_benign_keratosis 0.76, dermatofibroma 0.09, squamous_cell_carcinoma 0.06, basal_cell_carcinoma 0.04, melanoma 0.02, 29.6ms\n",
      "Speed: 0.0ms preprocess, 29.6ms inference, 0.3ms postprocess per image at shape (1, 3, 224, 224)\n"
     ]
    },
    {
     "name": "stderr",
     "output_type": "stream",
     "text": [
      "\r",
      " 72%|██████████████████████████████████████████████████████████▎                      | 85/118 [00:05<00:01, 22.25it/s]"
     ]
    },
    {
     "name": "stdout",
     "output_type": "stream",
     "text": [
      "\n",
      "0: 224x224 pigmented_benign_keratosis 1.00, actinic_keratosis 0.00, squamous_cell_carcinoma 0.00, nevus 0.00, melanoma 0.00, 29.0ms\n",
      "Speed: 0.1ms preprocess, 29.0ms inference, 0.6ms postprocess per image at shape (1, 3, 224, 224)\n",
      "\n",
      "0: 224x224 nevus 0.67, pigmented_benign_keratosis 0.26, melanoma 0.03, dermatofibroma 0.02, basal_cell_carcinoma 0.01, 30.5ms\n",
      "Speed: 0.0ms preprocess, 30.5ms inference, 0.3ms postprocess per image at shape (1, 3, 224, 224)\n",
      "\n",
      "0: 224x224 pigmented_benign_keratosis 0.69, squamous_cell_carcinoma 0.30, melanoma 0.00, seborrheic_keratosis 0.00, basal_cell_carcinoma 0.00, 29.4ms\n",
      "Speed: 0.0ms preprocess, 29.4ms inference, 0.4ms postprocess per image at shape (1, 3, 224, 224)\n"
     ]
    },
    {
     "name": "stderr",
     "output_type": "stream",
     "text": [
      "\r",
      " 75%|████████████████████████████████████████████████████████████▍                    | 88/118 [00:06<00:01, 22.59it/s]"
     ]
    },
    {
     "name": "stdout",
     "output_type": "stream",
     "text": [
      "\n",
      "0: 224x224 pigmented_benign_keratosis 1.00, melanoma 0.00, actinic_keratosis 0.00, nevus 0.00, seborrheic_keratosis 0.00, 30.1ms\n",
      "Speed: 0.0ms preprocess, 30.1ms inference, 0.3ms postprocess per image at shape (1, 3, 224, 224)\n",
      "\n",
      "0: 224x224 pigmented_benign_keratosis 1.00, squamous_cell_carcinoma 0.00, melanoma 0.00, basal_cell_carcinoma 0.00, nevus 0.00, 33.1ms\n",
      "Speed: 0.0ms preprocess, 33.1ms inference, 0.3ms postprocess per image at shape (1, 3, 224, 224)\n",
      "\n",
      "0: 224x224 pigmented_benign_keratosis 1.00, basal_cell_carcinoma 0.00, nevus 0.00, actinic_keratosis 0.00, squamous_cell_carcinoma 0.00, 34.0ms\n",
      "Speed: 0.0ms preprocess, 34.0ms inference, 0.4ms postprocess per image at shape (1, 3, 224, 224)\n"
     ]
    },
    {
     "name": "stderr",
     "output_type": "stream",
     "text": [
      "\r",
      " 77%|██████████████████████████████████████████████████████████████▍                  | 91/118 [00:06<00:01, 22.10it/s]"
     ]
    },
    {
     "name": "stdout",
     "output_type": "stream",
     "text": [
      "\n",
      "0: 224x224 pigmented_benign_keratosis 0.98, nevus 0.02, basal_cell_carcinoma 0.00, actinic_keratosis 0.00, melanoma 0.00, 32.8ms\n",
      "Speed: 0.0ms preprocess, 32.8ms inference, 0.3ms postprocess per image at shape (1, 3, 224, 224)\n",
      "\n",
      "0: 224x224 basal_cell_carcinoma 0.89, squamous_cell_carcinoma 0.06, dermatofibroma 0.04, vascular_lesion 0.00, actinic_keratosis 0.00, 34.4ms\n",
      "Speed: 0.0ms preprocess, 34.4ms inference, 0.4ms postprocess per image at shape (1, 3, 224, 224)\n",
      "\n",
      "0: 224x224 squamous_cell_carcinoma 0.65, pigmented_benign_keratosis 0.13, actinic_keratosis 0.10, melanoma 0.06, nevus 0.05, 34.2ms\n",
      "Speed: 0.0ms preprocess, 34.2ms inference, 0.3ms postprocess per image at shape (1, 3, 224, 224)\n"
     ]
    },
    {
     "name": "stderr",
     "output_type": "stream",
     "text": [
      "\r",
      " 80%|████████████████████████████████████████████████████████████████▌                | 94/118 [00:06<00:01, 21.66it/s]"
     ]
    },
    {
     "name": "stdout",
     "output_type": "stream",
     "text": [
      "\n",
      "0: 224x224 squamous_cell_carcinoma 0.38, pigmented_benign_keratosis 0.29, basal_cell_carcinoma 0.18, nevus 0.07, actinic_keratosis 0.04, 33.5ms\n",
      "Speed: 0.0ms preprocess, 33.5ms inference, 0.3ms postprocess per image at shape (1, 3, 224, 224)\n",
      "\n",
      "0: 224x224 pigmented_benign_keratosis 0.41, basal_cell_carcinoma 0.39, squamous_cell_carcinoma 0.10, nevus 0.07, actinic_keratosis 0.03, 33.5ms\n",
      "Speed: 0.0ms preprocess, 33.5ms inference, 0.3ms postprocess per image at shape (1, 3, 224, 224)\n",
      "\n",
      "0: 224x224 melanoma 0.83, seborrheic_keratosis 0.14, nevus 0.03, pigmented_benign_keratosis 0.00, actinic_keratosis 0.00, 31.1ms\n",
      "Speed: 0.0ms preprocess, 31.1ms inference, 0.3ms postprocess per image at shape (1, 3, 224, 224)\n"
     ]
    },
    {
     "name": "stderr",
     "output_type": "stream",
     "text": [
      "\r",
      " 82%|██████████████████████████████████████████████████████████████████▌              | 97/118 [00:06<00:00, 21.57it/s]"
     ]
    },
    {
     "name": "stdout",
     "output_type": "stream",
     "text": [
      "\n",
      "0: 224x224 melanoma 0.85, seborrheic_keratosis 0.15, nevus 0.00, squamous_cell_carcinoma 0.00, basal_cell_carcinoma 0.00, 29.4ms\n",
      "Speed: 0.0ms preprocess, 29.4ms inference, 0.3ms postprocess per image at shape (1, 3, 224, 224)\n",
      "\n",
      "0: 224x224 melanoma 0.99, seborrheic_keratosis 0.01, nevus 0.00, basal_cell_carcinoma 0.00, pigmented_benign_keratosis 0.00, 28.5ms\n",
      "Speed: 0.0ms preprocess, 28.5ms inference, 0.3ms postprocess per image at shape (1, 3, 224, 224)\n",
      "\n",
      "0: 224x224 squamous_cell_carcinoma 0.95, melanoma 0.04, nevus 0.00, seborrheic_keratosis 0.00, pigmented_benign_keratosis 0.00, 42.7ms\n",
      "Speed: 0.0ms preprocess, 42.7ms inference, 0.4ms postprocess per image at shape (1, 3, 224, 224)\n"
     ]
    },
    {
     "name": "stderr",
     "output_type": "stream",
     "text": [
      "\r",
      " 85%|███████████████████████████████████████████████████████████████████▊            | 100/118 [00:07<00:01, 11.41it/s]"
     ]
    },
    {
     "name": "stdout",
     "output_type": "stream",
     "text": [
      "\n",
      "0: 224x224 melanoma 0.41, pigmented_benign_keratosis 0.29, squamous_cell_carcinoma 0.10, nevus 0.07, vascular_lesion 0.05, 43.6ms\n",
      "Speed: 0.0ms preprocess, 43.6ms inference, 0.4ms postprocess per image at shape (1, 3, 224, 224)\n",
      "\n",
      "0: 224x224 squamous_cell_carcinoma 0.77, melanoma 0.18, nevus 0.03, basal_cell_carcinoma 0.00, seborrheic_keratosis 0.00, 29.3ms\n",
      "Speed: 0.0ms preprocess, 29.3ms inference, 0.3ms postprocess per image at shape (1, 3, 224, 224)\n"
     ]
    },
    {
     "name": "stderr",
     "output_type": "stream",
     "text": [
      "\r",
      " 86%|█████████████████████████████████████████████████████████████████████▏          | 102/118 [00:07<00:02,  5.92it/s]"
     ]
    },
    {
     "name": "stdout",
     "output_type": "stream",
     "text": [
      "\n",
      "0: 224x224 squamous_cell_carcinoma 0.50, dermatofibroma 0.37, basal_cell_carcinoma 0.10, nevus 0.02, melanoma 0.00, 69.6ms\n",
      "Speed: 0.0ms preprocess, 69.6ms inference, 0.3ms postprocess per image at shape (1, 3, 224, 224)\n",
      "\n",
      "0: 224x224 basal_cell_carcinoma 0.69, pigmented_benign_keratosis 0.26, nevus 0.03, vascular_lesion 0.01, melanoma 0.01, 30.9ms\n",
      "Speed: 0.0ms preprocess, 30.9ms inference, 0.3ms postprocess per image at shape (1, 3, 224, 224)\n"
     ]
    },
    {
     "name": "stderr",
     "output_type": "stream",
     "text": [
      "\r",
      " 88%|██████████████████████████████████████████████████████████████████████▌         | 104/118 [00:08<00:03,  4.25it/s]"
     ]
    },
    {
     "name": "stdout",
     "output_type": "stream",
     "text": [
      "\n",
      "0: 224x224 squamous_cell_carcinoma 0.98, basal_cell_carcinoma 0.02, melanoma 0.00, actinic_keratosis 0.00, seborrheic_keratosis 0.00, 33.2ms\n",
      "Speed: 0.0ms preprocess, 33.2ms inference, 0.3ms postprocess per image at shape (1, 3, 224, 224)\n",
      "\n",
      "0: 224x224 squamous_cell_carcinoma 0.93, actinic_keratosis 0.05, pigmented_benign_keratosis 0.02, nevus 0.00, dermatofibroma 0.00, 33.8ms\n",
      "Speed: 0.1ms preprocess, 33.8ms inference, 0.3ms postprocess per image at shape (1, 3, 224, 224)\n",
      "\n",
      "0: 224x224 squamous_cell_carcinoma 0.64, pigmented_benign_keratosis 0.32, basal_cell_carcinoma 0.03, melanoma 0.01, nevus 0.00, 31.7ms\n",
      "Speed: 0.0ms preprocess, 31.7ms inference, 0.3ms postprocess per image at shape (1, 3, 224, 224)\n"
     ]
    },
    {
     "name": "stderr",
     "output_type": "stream",
     "text": [
      "\r",
      " 91%|████████████████████████████████████████████████████████████████████████▌       | 107/118 [00:08<00:01,  5.87it/s]"
     ]
    },
    {
     "name": "stdout",
     "output_type": "stream",
     "text": [
      "\n",
      "0: 224x224 squamous_cell_carcinoma 1.00, melanoma 0.00, basal_cell_carcinoma 0.00, actinic_keratosis 0.00, nevus 0.00, 30.1ms\n",
      "Speed: 0.0ms preprocess, 30.1ms inference, 0.3ms postprocess per image at shape (1, 3, 224, 224)\n",
      "\n",
      "0: 224x224 squamous_cell_carcinoma 0.85, pigmented_benign_keratosis 0.10, dermatofibroma 0.03, actinic_keratosis 0.01, basal_cell_carcinoma 0.00, 34.0ms\n",
      "Speed: 0.1ms preprocess, 34.0ms inference, 0.3ms postprocess per image at shape (1, 3, 224, 224)\n",
      "\n",
      "0: 224x224 basal_cell_carcinoma 0.98, nevus 0.01, squamous_cell_carcinoma 0.00, pigmented_benign_keratosis 0.00, dermatofibroma 0.00, 31.5ms\n",
      "Speed: 0.0ms preprocess, 31.5ms inference, 0.3ms postprocess per image at shape (1, 3, 224, 224)\n"
     ]
    },
    {
     "name": "stderr",
     "output_type": "stream",
     "text": [
      "\r",
      " 93%|██████████████████████████████████████████████████████████████████████████▌     | 110/118 [00:09<00:01,  7.71it/s]"
     ]
    },
    {
     "name": "stdout",
     "output_type": "stream",
     "text": [
      "\n",
      "0: 224x224 basal_cell_carcinoma 0.75, squamous_cell_carcinoma 0.19, dermatofibroma 0.03, pigmented_benign_keratosis 0.02, nevus 0.00, 30.7ms\n",
      "Speed: 0.0ms preprocess, 30.7ms inference, 0.3ms postprocess per image at shape (1, 3, 224, 224)\n",
      "\n",
      "0: 224x224 basal_cell_carcinoma 0.76, pigmented_benign_keratosis 0.12, squamous_cell_carcinoma 0.11, actinic_keratosis 0.01, nevus 0.00, 30.6ms\n",
      "Speed: 0.0ms preprocess, 30.6ms inference, 0.3ms postprocess per image at shape (1, 3, 224, 224)\n",
      "\n",
      "0: 224x224 basal_cell_carcinoma 0.45, pigmented_benign_keratosis 0.26, dermatofibroma 0.16, squamous_cell_carcinoma 0.09, nevus 0.03, 34.1ms\n",
      "Speed: 0.0ms preprocess, 34.1ms inference, 0.3ms postprocess per image at shape (1, 3, 224, 224)\n"
     ]
    },
    {
     "name": "stderr",
     "output_type": "stream",
     "text": [
      "\r",
      " 96%|████████████████████████████████████████████████████████████████████████████▌   | 113/118 [00:09<00:00,  9.74it/s]"
     ]
    },
    {
     "name": "stdout",
     "output_type": "stream",
     "text": [
      "\n",
      "0: 224x224 squamous_cell_carcinoma 0.90, pigmented_benign_keratosis 0.06, basal_cell_carcinoma 0.02, melanoma 0.01, actinic_keratosis 0.00, 32.7ms\n",
      "Speed: 0.0ms preprocess, 32.7ms inference, 0.3ms postprocess per image at shape (1, 3, 224, 224)\n",
      "\n",
      "0: 224x224 squamous_cell_carcinoma 0.69, melanoma 0.22, seborrheic_keratosis 0.04, pigmented_benign_keratosis 0.03, basal_cell_carcinoma 0.00, 38.6ms\n",
      "Speed: 0.0ms preprocess, 38.6ms inference, 0.3ms postprocess per image at shape (1, 3, 224, 224)\n"
     ]
    },
    {
     "name": "stderr",
     "output_type": "stream",
     "text": [
      "\r",
      " 97%|█████████████████████████████████████████████████████████████████████████████▉  | 115/118 [00:09<00:00, 11.06it/s]"
     ]
    },
    {
     "name": "stdout",
     "output_type": "stream",
     "text": [
      "\n",
      "0: 224x224 vascular_lesion 1.00, pigmented_benign_keratosis 0.00, nevus 0.00, melanoma 0.00, basal_cell_carcinoma 0.00, 42.4ms\n",
      "Speed: 0.0ms preprocess, 42.4ms inference, 0.4ms postprocess per image at shape (1, 3, 224, 224)\n",
      "\n",
      "0: 224x224 vascular_lesion 1.00, basal_cell_carcinoma 0.00, pigmented_benign_keratosis 0.00, dermatofibroma 0.00, melanoma 0.00, 32.2ms\n",
      "Speed: 0.0ms preprocess, 32.2ms inference, 0.3ms postprocess per image at shape (1, 3, 224, 224)\n"
     ]
    },
    {
     "name": "stderr",
     "output_type": "stream",
     "text": [
      "\r",
      " 99%|███████████████████████████████████████████████████████████████████████████████▎| 117/118 [00:09<00:00, 12.39it/s]"
     ]
    },
    {
     "name": "stdout",
     "output_type": "stream",
     "text": [
      "\n",
      "0: 224x224 vascular_lesion 1.00, pigmented_benign_keratosis 0.00, basal_cell_carcinoma 0.00, nevus 0.00, dermatofibroma 0.00, 31.2ms\n",
      "Speed: 0.0ms preprocess, 31.2ms inference, 0.3ms postprocess per image at shape (1, 3, 224, 224)\n"
     ]
    },
    {
     "name": "stderr",
     "output_type": "stream",
     "text": [
      "\r",
      "100%|████████████████████████████████████████████████████████████████████████████████| 118/118 [00:09<00:00, 12.41it/s]"
     ]
    },
    {
     "name": "stdout",
     "output_type": "stream",
     "text": [
      "Processing: yolov11l\n"
     ]
    },
    {
     "name": "stderr",
     "output_type": "stream",
     "text": [
      "\n",
      "  0%|                                                                                          | 0/118 [00:00<?, ?it/s]"
     ]
    },
    {
     "name": "stdout",
     "output_type": "stream",
     "text": [
      "\n",
      "0: 224x224 melanoma 0.73, seborrheic_keratosis 0.25, pigmented_benign_keratosis 0.01, nevus 0.00, actinic_keratosis 0.00, 49.8ms\n",
      "Speed: 0.0ms preprocess, 49.8ms inference, 0.4ms postprocess per image at shape (1, 3, 224, 224)\n"
     ]
    },
    {
     "name": "stderr",
     "output_type": "stream",
     "text": [
      "\r",
      "  1%|▋                                                                                 | 1/118 [00:00<00:26,  4.47it/s]"
     ]
    },
    {
     "name": "stdout",
     "output_type": "stream",
     "text": [
      "\n",
      "0: 224x224 nevus 0.98, melanoma 0.02, seborrheic_keratosis 0.00, pigmented_benign_keratosis 0.00, vascular_lesion 0.00, 42.2ms\n",
      "Speed: 0.0ms preprocess, 42.2ms inference, 0.3ms postprocess per image at shape (1, 3, 224, 224)\n",
      "\n",
      "0: 224x224 nevus 0.80, actinic_keratosis 0.18, squamous_cell_carcinoma 0.02, melanoma 0.00, basal_cell_carcinoma 0.00, 44.2ms\n",
      "Speed: 0.0ms preprocess, 44.2ms inference, 0.3ms postprocess per image at shape (1, 3, 224, 224)\n"
     ]
    },
    {
     "name": "stderr",
     "output_type": "stream",
     "text": [
      "\r",
      "  3%|██                                                                                | 3/118 [00:00<00:11, 10.05it/s]"
     ]
    },
    {
     "name": "stdout",
     "output_type": "stream",
     "text": [
      "\n",
      "0: 224x224 pigmented_benign_keratosis 0.75, squamous_cell_carcinoma 0.06, melanoma 0.06, nevus 0.05, basal_cell_carcinoma 0.04, 37.0ms\n",
      "Speed: 0.1ms preprocess, 37.0ms inference, 0.3ms postprocess per image at shape (1, 3, 224, 224)\n",
      "\n",
      "0: 224x224 nevus 0.77, pigmented_benign_keratosis 0.13, actinic_keratosis 0.06, basal_cell_carcinoma 0.03, melanoma 0.01, 38.6ms\n",
      "Speed: 0.0ms preprocess, 38.6ms inference, 0.3ms postprocess per image at shape (1, 3, 224, 224)\n"
     ]
    },
    {
     "name": "stderr",
     "output_type": "stream",
     "text": [
      "\r",
      "  4%|███▍                                                                              | 5/118 [00:00<00:08, 13.45it/s]"
     ]
    },
    {
     "name": "stdout",
     "output_type": "stream",
     "text": [
      "\n",
      "0: 224x224 nevus 0.86, actinic_keratosis 0.14, squamous_cell_carcinoma 0.00, pigmented_benign_keratosis 0.00, basal_cell_carcinoma 0.00, 35.9ms\n",
      "Speed: 0.0ms preprocess, 35.9ms inference, 0.3ms postprocess per image at shape (1, 3, 224, 224)\n",
      "\n",
      "0: 224x224 pigmented_benign_keratosis 0.57, nevus 0.36, melanoma 0.02, basal_cell_carcinoma 0.01, actinic_keratosis 0.01, 37.7ms\n",
      "Speed: 0.0ms preprocess, 37.7ms inference, 0.3ms postprocess per image at shape (1, 3, 224, 224)\n",
      "\n",
      "0: 224x224 nevus 0.46, pigmented_benign_keratosis 0.31, actinic_keratosis 0.18, squamous_cell_carcinoma 0.02, basal_cell_carcinoma 0.02, 37.8ms\n",
      "Speed: 0.0ms preprocess, 37.8ms inference, 0.4ms postprocess per image at shape (1, 3, 224, 224)\n"
     ]
    },
    {
     "name": "stderr",
     "output_type": "stream",
     "text": [
      "\r",
      "  7%|█████▌                                                                            | 8/118 [00:00<00:06, 16.47it/s]"
     ]
    },
    {
     "name": "stdout",
     "output_type": "stream",
     "text": [
      "\n",
      "0: 224x224 actinic_keratosis 0.58, nevus 0.26, squamous_cell_carcinoma 0.07, melanoma 0.06, pigmented_benign_keratosis 0.02, 38.8ms\n",
      "Speed: 0.0ms preprocess, 38.8ms inference, 0.3ms postprocess per image at shape (1, 3, 224, 224)\n",
      "\n",
      "0: 224x224 nevus 0.60, actinic_keratosis 0.33, squamous_cell_carcinoma 0.05, melanoma 0.01, basal_cell_carcinoma 0.01, 39.2ms\n",
      "Speed: 0.0ms preprocess, 39.2ms inference, 0.3ms postprocess per image at shape (1, 3, 224, 224)\n",
      "\n",
      "0: 224x224 nevus 0.81, pigmented_benign_keratosis 0.12, actinic_keratosis 0.07, squamous_cell_carcinoma 0.00, melanoma 0.00, 40.1ms\n",
      "Speed: 0.0ms preprocess, 40.1ms inference, 0.3ms postprocess per image at shape (1, 3, 224, 224)\n"
     ]
    },
    {
     "name": "stderr",
     "output_type": "stream",
     "text": [
      "\r",
      "  9%|███████▌                                                                         | 11/118 [00:00<00:06, 17.83it/s]"
     ]
    },
    {
     "name": "stdout",
     "output_type": "stream",
     "text": [
      "\n",
      "0: 224x224 dermatofibroma 0.26, nevus 0.24, actinic_keratosis 0.23, squamous_cell_carcinoma 0.19, pigmented_benign_keratosis 0.07, 39.7ms\n",
      "Speed: 0.0ms preprocess, 39.7ms inference, 0.3ms postprocess per image at shape (1, 3, 224, 224)\n",
      "\n",
      "0: 224x224 pigmented_benign_keratosis 0.73, actinic_keratosis 0.14, nevus 0.13, squamous_cell_carcinoma 0.00, basal_cell_carcinoma 0.00, 39.7ms\n",
      "Speed: 0.0ms preprocess, 39.7ms inference, 0.3ms postprocess per image at shape (1, 3, 224, 224)\n",
      "\n",
      "0: 224x224 nevus 0.87, actinic_keratosis 0.10, squamous_cell_carcinoma 0.03, pigmented_benign_keratosis 0.01, basal_cell_carcinoma 0.00, 43.5ms\n",
      "Speed: 0.1ms preprocess, 43.5ms inference, 0.8ms postprocess per image at shape (1, 3, 224, 224)\n"
     ]
    },
    {
     "name": "stderr",
     "output_type": "stream",
     "text": [
      "\r",
      " 12%|█████████▌                                                                       | 14/118 [00:00<00:05, 17.91it/s]"
     ]
    },
    {
     "name": "stdout",
     "output_type": "stream",
     "text": [
      "\n",
      "0: 224x224 nevus 0.61, squamous_cell_carcinoma 0.19, actinic_keratosis 0.15, basal_cell_carcinoma 0.03, pigmented_benign_keratosis 0.02, 39.7ms\n",
      "Speed: 0.1ms preprocess, 39.7ms inference, 0.3ms postprocess per image at shape (1, 3, 224, 224)\n",
      "\n",
      "0: 224x224 pigmented_benign_keratosis 0.95, nevus 0.04, squamous_cell_carcinoma 0.01, actinic_keratosis 0.01, dermatofibroma 0.00, 43.9ms\n",
      "Speed: 0.0ms preprocess, 43.9ms inference, 0.3ms postprocess per image at shape (1, 3, 224, 224)\n"
     ]
    },
    {
     "name": "stderr",
     "output_type": "stream",
     "text": [
      "\r",
      " 14%|██████████▉                                                                      | 16/118 [00:01<00:05, 18.12it/s]"
     ]
    },
    {
     "name": "stdout",
     "output_type": "stream",
     "text": [
      "\n",
      "0: 224x224 basal_cell_carcinoma 1.00, pigmented_benign_keratosis 0.00, squamous_cell_carcinoma 0.00, nevus 0.00, dermatofibroma 0.00, 38.8ms\n",
      "Speed: 0.0ms preprocess, 38.8ms inference, 0.3ms postprocess per image at shape (1, 3, 224, 224)\n",
      "\n",
      "0: 224x224 basal_cell_carcinoma 0.92, pigmented_benign_keratosis 0.04, squamous_cell_carcinoma 0.04, dermatofibroma 0.00, nevus 0.00, 36.3ms\n",
      "Speed: 0.0ms preprocess, 36.3ms inference, 0.3ms postprocess per image at shape (1, 3, 224, 224)\n",
      "\n",
      "0: 224x224 dermatofibroma 0.61, basal_cell_carcinoma 0.33, pigmented_benign_keratosis 0.04, squamous_cell_carcinoma 0.01, nevus 0.01, 37.0ms\n",
      "Speed: 0.0ms preprocess, 37.0ms inference, 0.3ms postprocess per image at shape (1, 3, 224, 224)\n"
     ]
    },
    {
     "name": "stderr",
     "output_type": "stream",
     "text": [
      "\r",
      " 16%|█████████████                                                                    | 19/118 [00:01<00:05, 18.87it/s]"
     ]
    },
    {
     "name": "stdout",
     "output_type": "stream",
     "text": [
      "\n",
      "0: 224x224 basal_cell_carcinoma 0.56, pigmented_benign_keratosis 0.33, nevus 0.09, melanoma 0.01, vascular_lesion 0.01, 38.3ms\n",
      "Speed: 0.0ms preprocess, 38.3ms inference, 0.3ms postprocess per image at shape (1, 3, 224, 224)\n",
      "\n",
      "0: 224x224 basal_cell_carcinoma 0.99, pigmented_benign_keratosis 0.01, squamous_cell_carcinoma 0.00, nevus 0.00, actinic_keratosis 0.00, 41.4ms\n",
      "Speed: 0.0ms preprocess, 41.4ms inference, 0.4ms postprocess per image at shape (1, 3, 224, 224)\n"
     ]
    },
    {
     "name": "stderr",
     "output_type": "stream",
     "text": [
      "\r",
      " 18%|██████████████▍                                                                  | 21/118 [00:01<00:05, 18.97it/s]"
     ]
    },
    {
     "name": "stdout",
     "output_type": "stream",
     "text": [
      "\n",
      "0: 224x224 basal_cell_carcinoma 0.65, pigmented_benign_keratosis 0.25, actinic_keratosis 0.04, nevus 0.04, squamous_cell_carcinoma 0.01, 36.8ms\n",
      "Speed: 0.0ms preprocess, 36.8ms inference, 0.3ms postprocess per image at shape (1, 3, 224, 224)\n",
      "\n",
      "0: 224x224 basal_cell_carcinoma 0.45, nevus 0.35, pigmented_benign_keratosis 0.13, melanoma 0.06, actinic_keratosis 0.01, 39.9ms\n",
      "Speed: 0.0ms preprocess, 39.9ms inference, 0.3ms postprocess per image at shape (1, 3, 224, 224)\n",
      "\n",
      "0: 224x224 pigmented_benign_keratosis 0.84, melanoma 0.08, nevus 0.06, basal_cell_carcinoma 0.01, seborrheic_keratosis 0.01, 37.1ms\n",
      "Speed: 0.0ms preprocess, 37.1ms inference, 0.3ms postprocess per image at shape (1, 3, 224, 224)\n"
     ]
    },
    {
     "name": "stderr",
     "output_type": "stream",
     "text": [
      "\r",
      " 20%|████████████████▍                                                                | 24/118 [00:01<00:04, 19.54it/s]"
     ]
    },
    {
     "name": "stdout",
     "output_type": "stream",
     "text": [
      "\n",
      "0: 224x224 basal_cell_carcinoma 1.00, pigmented_benign_keratosis 0.00, dermatofibroma 0.00, nevus 0.00, vascular_lesion 0.00, 37.1ms\n",
      "Speed: 0.0ms preprocess, 37.1ms inference, 0.3ms postprocess per image at shape (1, 3, 224, 224)\n",
      "\n",
      "0: 224x224 basal_cell_carcinoma 1.00, squamous_cell_carcinoma 0.00, vascular_lesion 0.00, pigmented_benign_keratosis 0.00, nevus 0.00, 38.4ms\n",
      "Speed: 0.0ms preprocess, 38.4ms inference, 0.4ms postprocess per image at shape (1, 3, 224, 224)\n",
      "\n",
      "0: 224x224 basal_cell_carcinoma 1.00, squamous_cell_carcinoma 0.00, pigmented_benign_keratosis 0.00, nevus 0.00, dermatofibroma 0.00, 38.6ms\n",
      "Speed: 0.0ms preprocess, 38.6ms inference, 0.3ms postprocess per image at shape (1, 3, 224, 224)\n"
     ]
    },
    {
     "name": "stderr",
     "output_type": "stream",
     "text": [
      "\r",
      " 23%|██████████████████▌                                                              | 27/118 [00:01<00:04, 19.92it/s]"
     ]
    },
    {
     "name": "stdout",
     "output_type": "stream",
     "text": [
      "\n",
      "0: 224x224 basal_cell_carcinoma 1.00, nevus 0.00, dermatofibroma 0.00, pigmented_benign_keratosis 0.00, vascular_lesion 0.00, 37.5ms\n",
      "Speed: 0.0ms preprocess, 37.5ms inference, 0.6ms postprocess per image at shape (1, 3, 224, 224)\n",
      "\n",
      "0: 224x224 basal_cell_carcinoma 1.00, squamous_cell_carcinoma 0.00, pigmented_benign_keratosis 0.00, dermatofibroma 0.00, nevus 0.00, 35.5ms\n",
      "Speed: 0.0ms preprocess, 35.5ms inference, 0.3ms postprocess per image at shape (1, 3, 224, 224)\n",
      "\n",
      "0: 224x224 basal_cell_carcinoma 0.89, pigmented_benign_keratosis 0.04, nevus 0.03, squamous_cell_carcinoma 0.02, actinic_keratosis 0.01, 36.9ms\n",
      "Speed: 0.0ms preprocess, 36.9ms inference, 0.3ms postprocess per image at shape (1, 3, 224, 224)\n"
     ]
    },
    {
     "name": "stderr",
     "output_type": "stream",
     "text": [
      "\r",
      " 25%|████████████████████▌                                                            | 30/118 [00:01<00:04, 20.31it/s]"
     ]
    },
    {
     "name": "stdout",
     "output_type": "stream",
     "text": [
      "\n",
      "0: 224x224 basal_cell_carcinoma 1.00, squamous_cell_carcinoma 0.00, dermatofibroma 0.00, pigmented_benign_keratosis 0.00, nevus 0.00, 38.3ms\n",
      "Speed: 0.0ms preprocess, 38.3ms inference, 0.3ms postprocess per image at shape (1, 3, 224, 224)\n",
      "\n",
      "0: 224x224 basal_cell_carcinoma 1.00, pigmented_benign_keratosis 0.00, squamous_cell_carcinoma 0.00, nevus 0.00, dermatofibroma 0.00, 39.5ms\n",
      "Speed: 0.0ms preprocess, 39.5ms inference, 0.4ms postprocess per image at shape (1, 3, 224, 224)\n",
      "\n",
      "0: 224x224 melanoma 0.60, nevus 0.30, seborrheic_keratosis 0.06, basal_cell_carcinoma 0.03, dermatofibroma 0.01, 40.5ms\n",
      "Speed: 0.1ms preprocess, 40.5ms inference, 0.3ms postprocess per image at shape (1, 3, 224, 224)\n"
     ]
    },
    {
     "name": "stderr",
     "output_type": "stream",
     "text": [
      "\r",
      " 28%|██████████████████████▋                                                          | 33/118 [00:01<00:04, 17.96it/s]"
     ]
    },
    {
     "name": "stdout",
     "output_type": "stream",
     "text": [
      "\n",
      "0: 224x224 nevus 0.98, melanoma 0.01, dermatofibroma 0.00, pigmented_benign_keratosis 0.00, seborrheic_keratosis 0.00, 39.8ms\n",
      "Speed: 0.0ms preprocess, 39.8ms inference, 0.3ms postprocess per image at shape (1, 3, 224, 224)\n",
      "\n",
      "0: 224x224 dermatofibroma 0.97, squamous_cell_carcinoma 0.01, pigmented_benign_keratosis 0.01, basal_cell_carcinoma 0.00, nevus 0.00, 36.8ms\n",
      "Speed: 0.0ms preprocess, 36.8ms inference, 0.3ms postprocess per image at shape (1, 3, 224, 224)\n"
     ]
    },
    {
     "name": "stderr",
     "output_type": "stream",
     "text": [
      "\r",
      " 30%|████████████████████████                                                         | 35/118 [00:02<00:09,  8.89it/s]"
     ]
    },
    {
     "name": "stdout",
     "output_type": "stream",
     "text": [
      "\n",
      "0: 224x224 dermatofibroma 0.38, squamous_cell_carcinoma 0.35, pigmented_benign_keratosis 0.13, melanoma 0.06, nevus 0.05, 38.3ms\n",
      "Speed: 0.0ms preprocess, 38.3ms inference, 0.3ms postprocess per image at shape (1, 3, 224, 224)\n",
      "\n",
      "0: 224x224 pigmented_benign_keratosis 0.75, squamous_cell_carcinoma 0.12, nevus 0.07, dermatofibroma 0.03, actinic_keratosis 0.02, 38.2ms\n",
      "Speed: 0.3ms preprocess, 38.2ms inference, 0.3ms postprocess per image at shape (1, 3, 224, 224)\n"
     ]
    },
    {
     "name": "stderr",
     "output_type": "stream",
     "text": [
      "\r",
      " 31%|█████████████████████████▍                                                       | 37/118 [00:03<00:14,  5.58it/s]"
     ]
    },
    {
     "name": "stdout",
     "output_type": "stream",
     "text": [
      "\n",
      "0: 224x224 pigmented_benign_keratosis 0.51, dermatofibroma 0.32, squamous_cell_carcinoma 0.12, melanoma 0.03, nevus 0.01, 39.2ms\n",
      "Speed: 0.0ms preprocess, 39.2ms inference, 0.3ms postprocess per image at shape (1, 3, 224, 224)\n",
      "\n",
      "0: 224x224 nevus 0.75, melanoma 0.13, pigmented_benign_keratosis 0.11, dermatofibroma 0.00, actinic_keratosis 0.00, 48.3ms\n",
      "Speed: 0.0ms preprocess, 48.3ms inference, 0.3ms postprocess per image at shape (1, 3, 224, 224)\n"
     ]
    },
    {
     "name": "stderr",
     "output_type": "stream",
     "text": [
      "\r",
      " 33%|██████████████████████████▊                                                      | 39/118 [00:04<00:18,  4.27it/s]"
     ]
    },
    {
     "name": "stdout",
     "output_type": "stream",
     "text": [
      "\n",
      "0: 224x224 dermatofibroma 1.00, vascular_lesion 0.00, basal_cell_carcinoma 0.00, pigmented_benign_keratosis 0.00, nevus 0.00, 45.7ms\n",
      "Speed: 0.0ms preprocess, 45.7ms inference, 0.3ms postprocess per image at shape (1, 3, 224, 224)\n",
      "\n",
      "0: 224x224 dermatofibroma 1.00, basal_cell_carcinoma 0.00, pigmented_benign_keratosis 0.00, squamous_cell_carcinoma 0.00, vascular_lesion 0.00, 43.0ms\n",
      "Speed: 0.0ms preprocess, 43.0ms inference, 0.3ms postprocess per image at shape (1, 3, 224, 224)\n"
     ]
    },
    {
     "name": "stderr",
     "output_type": "stream",
     "text": [
      "\r",
      " 35%|████████████████████████████▏                                                    | 41/118 [00:04<00:14,  5.35it/s]"
     ]
    },
    {
     "name": "stdout",
     "output_type": "stream",
     "text": [
      "\n",
      "0: 224x224 dermatofibroma 1.00, pigmented_benign_keratosis 0.00, vascular_lesion 0.00, basal_cell_carcinoma 0.00, melanoma 0.00, 76.7ms\n",
      "Speed: 0.0ms preprocess, 76.7ms inference, 0.5ms postprocess per image at shape (1, 3, 224, 224)\n",
      "\n",
      "0: 224x224 dermatofibroma 1.00, vascular_lesion 0.00, basal_cell_carcinoma 0.00, pigmented_benign_keratosis 0.00, melanoma 0.00, 49.4ms\n",
      "Speed: 0.0ms preprocess, 49.4ms inference, 0.5ms postprocess per image at shape (1, 3, 224, 224)\n"
     ]
    },
    {
     "name": "stderr",
     "output_type": "stream",
     "text": [
      "\r",
      " 36%|█████████████████████████████▌                                                   | 43/118 [00:04<00:11,  6.40it/s]"
     ]
    },
    {
     "name": "stdout",
     "output_type": "stream",
     "text": [
      "\n",
      "0: 224x224 dermatofibroma 0.99, pigmented_benign_keratosis 0.01, basal_cell_carcinoma 0.00, vascular_lesion 0.00, melanoma 0.00, 50.0ms\n",
      "Speed: 0.1ms preprocess, 50.0ms inference, 0.5ms postprocess per image at shape (1, 3, 224, 224)\n",
      "\n",
      "0: 224x224 dermatofibroma 1.00, pigmented_benign_keratosis 0.00, squamous_cell_carcinoma 0.00, basal_cell_carcinoma 0.00, vascular_lesion 0.00, 57.5ms\n",
      "Speed: 0.0ms preprocess, 57.5ms inference, 0.3ms postprocess per image at shape (1, 3, 224, 224)\n"
     ]
    },
    {
     "name": "stderr",
     "output_type": "stream",
     "text": [
      "\r",
      " 38%|██████████████████████████████▉                                                  | 45/118 [00:04<00:09,  7.67it/s]"
     ]
    },
    {
     "name": "stdout",
     "output_type": "stream",
     "text": [
      "\n",
      "0: 224x224 pigmented_benign_keratosis 0.45, dermatofibroma 0.36, squamous_cell_carcinoma 0.15, basal_cell_carcinoma 0.04, melanoma 0.00, 44.8ms\n",
      "Speed: 0.0ms preprocess, 44.8ms inference, 0.3ms postprocess per image at shape (1, 3, 224, 224)\n",
      "\n",
      "0: 224x224 dermatofibroma 0.98, pigmented_benign_keratosis 0.02, vascular_lesion 0.00, melanoma 0.00, basal_cell_carcinoma 0.00, 44.9ms\n",
      "Speed: 0.1ms preprocess, 44.9ms inference, 0.3ms postprocess per image at shape (1, 3, 224, 224)\n"
     ]
    },
    {
     "name": "stderr",
     "output_type": "stream",
     "text": [
      "\r",
      " 40%|████████████████████████████████▎                                                | 47/118 [00:04<00:07,  9.08it/s]"
     ]
    },
    {
     "name": "stdout",
     "output_type": "stream",
     "text": [
      "\n",
      "0: 224x224 basal_cell_carcinoma 0.57, pigmented_benign_keratosis 0.35, dermatofibroma 0.06, squamous_cell_carcinoma 0.01, nevus 0.01, 47.9ms\n",
      "Speed: 0.1ms preprocess, 47.9ms inference, 0.4ms postprocess per image at shape (1, 3, 224, 224)\n",
      "\n",
      "0: 224x224 nevus 0.98, melanoma 0.02, pigmented_benign_keratosis 0.00, dermatofibroma 0.00, seborrheic_keratosis 0.00, 38.5ms\n",
      "Speed: 0.1ms preprocess, 38.5ms inference, 0.3ms postprocess per image at shape (1, 3, 224, 224)\n"
     ]
    },
    {
     "name": "stderr",
     "output_type": "stream",
     "text": [
      "\r",
      " 42%|█████████████████████████████████▋                                               | 49/118 [00:04<00:06, 10.59it/s]"
     ]
    },
    {
     "name": "stdout",
     "output_type": "stream",
     "text": [
      "\n",
      "0: 224x224 nevus 0.44, melanoma 0.19, basal_cell_carcinoma 0.18, pigmented_benign_keratosis 0.17, vascular_lesion 0.01, 37.4ms\n",
      "Speed: 0.1ms preprocess, 37.4ms inference, 0.3ms postprocess per image at shape (1, 3, 224, 224)\n",
      "\n",
      "0: 224x224 nevus 0.99, melanoma 0.00, pigmented_benign_keratosis 0.00, vascular_lesion 0.00, seborrheic_keratosis 0.00, 36.6ms\n",
      "Speed: 0.0ms preprocess, 36.6ms inference, 0.3ms postprocess per image at shape (1, 3, 224, 224)\n",
      "\n",
      "0: 224x224 nevus 0.99, pigmented_benign_keratosis 0.01, melanoma 0.01, seborrheic_keratosis 0.00, actinic_keratosis 0.00, 38.3ms\n",
      "Speed: 0.0ms preprocess, 38.3ms inference, 0.3ms postprocess per image at shape (1, 3, 224, 224)\n"
     ]
    },
    {
     "name": "stderr",
     "output_type": "stream",
     "text": [
      "\r",
      " 44%|███████████████████████████████████▋                                             | 52/118 [00:04<00:05, 12.71it/s]"
     ]
    },
    {
     "name": "stdout",
     "output_type": "stream",
     "text": [
      "\n",
      "0: 224x224 nevus 0.65, pigmented_benign_keratosis 0.14, squamous_cell_carcinoma 0.08, dermatofibroma 0.08, melanoma 0.03, 35.8ms\n",
      "Speed: 0.0ms preprocess, 35.8ms inference, 0.3ms postprocess per image at shape (1, 3, 224, 224)\n",
      "\n",
      "0: 224x224 nevus 0.74, melanoma 0.26, seborrheic_keratosis 0.00, dermatofibroma 0.00, pigmented_benign_keratosis 0.00, 38.6ms\n",
      "Speed: 0.0ms preprocess, 38.6ms inference, 0.3ms postprocess per image at shape (1, 3, 224, 224)\n"
     ]
    },
    {
     "name": "stderr",
     "output_type": "stream",
     "text": [
      "\r",
      " 46%|█████████████████████████████████████                                            | 54/118 [00:04<00:04, 13.70it/s]"
     ]
    },
    {
     "name": "stdout",
     "output_type": "stream",
     "text": [
      "\n",
      "0: 224x224 melanoma 0.52, nevus 0.44, dermatofibroma 0.01, basal_cell_carcinoma 0.01, pigmented_benign_keratosis 0.01, 40.4ms\n",
      "Speed: 0.0ms preprocess, 40.4ms inference, 0.9ms postprocess per image at shape (1, 3, 224, 224)\n",
      "\n",
      "0: 224x224 melanoma 0.95, squamous_cell_carcinoma 0.01, seborrheic_keratosis 0.01, pigmented_benign_keratosis 0.01, nevus 0.01, 40.0ms\n",
      "Speed: 0.0ms preprocess, 40.0ms inference, 0.3ms postprocess per image at shape (1, 3, 224, 224)\n"
     ]
    },
    {
     "name": "stderr",
     "output_type": "stream",
     "text": [
      "\r",
      " 47%|██████████████████████████████████████▍                                          | 56/118 [00:05<00:04, 13.99it/s]"
     ]
    },
    {
     "name": "stdout",
     "output_type": "stream",
     "text": [
      "\n",
      "0: 224x224 nevus 0.97, pigmented_benign_keratosis 0.02, dermatofibroma 0.01, melanoma 0.00, vascular_lesion 0.00, 41.6ms\n",
      "Speed: 0.0ms preprocess, 41.6ms inference, 0.2ms postprocess per image at shape (1, 3, 224, 224)\n",
      "\n",
      "0: 224x224 nevus 0.90, melanoma 0.09, pigmented_benign_keratosis 0.00, seborrheic_keratosis 0.00, vascular_lesion 0.00, 36.0ms\n",
      "Speed: 0.0ms preprocess, 36.0ms inference, 0.3ms postprocess per image at shape (1, 3, 224, 224)\n"
     ]
    },
    {
     "name": "stderr",
     "output_type": "stream",
     "text": [
      "\r",
      " 49%|███████████████████████████████████████▊                                         | 58/118 [00:05<00:04, 14.90it/s]"
     ]
    },
    {
     "name": "stdout",
     "output_type": "stream",
     "text": [
      "\n",
      "0: 224x224 pigmented_benign_keratosis 0.40, nevus 0.27, vascular_lesion 0.16, dermatofibroma 0.09, basal_cell_carcinoma 0.06, 39.3ms\n",
      "Speed: 0.0ms preprocess, 39.3ms inference, 0.3ms postprocess per image at shape (1, 3, 224, 224)\n",
      "\n",
      "0: 224x224 melanoma 0.38, nevus 0.31, pigmented_benign_keratosis 0.30, seborrheic_keratosis 0.01, vascular_lesion 0.00, 37.2ms\n",
      "Speed: 0.0ms preprocess, 37.2ms inference, 0.3ms postprocess per image at shape (1, 3, 224, 224)\n"
     ]
    },
    {
     "name": "stderr",
     "output_type": "stream",
     "text": [
      "\r",
      " 51%|█████████████████████████████████████████▏                                       | 60/118 [00:05<00:03, 15.24it/s]"
     ]
    },
    {
     "name": "stdout",
     "output_type": "stream",
     "text": [
      "\n",
      "0: 224x224 nevus 0.97, pigmented_benign_keratosis 0.03, melanoma 0.01, seborrheic_keratosis 0.00, squamous_cell_carcinoma 0.00, 38.2ms\n",
      "Speed: 0.1ms preprocess, 38.2ms inference, 0.3ms postprocess per image at shape (1, 3, 224, 224)\n",
      "\n",
      "0: 224x224 nevus 0.56, melanoma 0.42, pigmented_benign_keratosis 0.01, seborrheic_keratosis 0.00, squamous_cell_carcinoma 0.00, 36.9ms\n",
      "Speed: 0.1ms preprocess, 36.9ms inference, 0.3ms postprocess per image at shape (1, 3, 224, 224)\n"
     ]
    },
    {
     "name": "stderr",
     "output_type": "stream",
     "text": [
      "\r",
      " 53%|██████████████████████████████████████████▌                                      | 62/118 [00:05<00:03, 15.76it/s]"
     ]
    },
    {
     "name": "stdout",
     "output_type": "stream",
     "text": [
      "\n",
      "0: 224x224 nevus 0.94, melanoma 0.05, pigmented_benign_keratosis 0.00, dermatofibroma 0.00, seborrheic_keratosis 0.00, 36.4ms\n",
      "Speed: 0.0ms preprocess, 36.4ms inference, 0.3ms postprocess per image at shape (1, 3, 224, 224)\n",
      "\n",
      "0: 224x224 nevus 0.92, melanoma 0.07, pigmented_benign_keratosis 0.00, seborrheic_keratosis 0.00, squamous_cell_carcinoma 0.00, 36.7ms\n",
      "Speed: 0.0ms preprocess, 36.7ms inference, 0.3ms postprocess per image at shape (1, 3, 224, 224)\n"
     ]
    },
    {
     "name": "stderr",
     "output_type": "stream",
     "text": [
      "\r",
      " 54%|███████████████████████████████████████████▉                                     | 64/118 [00:05<00:03, 16.40it/s]"
     ]
    },
    {
     "name": "stdout",
     "output_type": "stream",
     "text": [
      "\n",
      "0: 224x224 nevus 0.99, melanoma 0.01, pigmented_benign_keratosis 0.00, vascular_lesion 0.00, dermatofibroma 0.00, 37.7ms\n",
      "Speed: 0.0ms preprocess, 37.7ms inference, 0.3ms postprocess per image at shape (1, 3, 224, 224)\n",
      "\n",
      "0: 224x224 nevus 0.95, melanoma 0.03, dermatofibroma 0.01, pigmented_benign_keratosis 0.01, seborrheic_keratosis 0.00, 39.4ms\n",
      "Speed: 0.0ms preprocess, 39.4ms inference, 0.4ms postprocess per image at shape (1, 3, 224, 224)\n"
     ]
    },
    {
     "name": "stderr",
     "output_type": "stream",
     "text": [
      "\r",
      " 56%|█████████████████████████████████████████████▎                                   | 66/118 [00:05<00:03, 16.96it/s]"
     ]
    },
    {
     "name": "stdout",
     "output_type": "stream",
     "text": [
      "\n",
      "0: 224x224 nevus 0.94, melanoma 0.06, pigmented_benign_keratosis 0.00, seborrheic_keratosis 0.00, vascular_lesion 0.00, 37.6ms\n",
      "Speed: 0.0ms preprocess, 37.6ms inference, 0.3ms postprocess per image at shape (1, 3, 224, 224)\n",
      "\n",
      "0: 224x224 nevus 0.94, pigmented_benign_keratosis 0.05, melanoma 0.00, actinic_keratosis 0.00, seborrheic_keratosis 0.00, 36.8ms\n",
      "Speed: 0.1ms preprocess, 36.8ms inference, 0.3ms postprocess per image at shape (1, 3, 224, 224)\n",
      "\n",
      "0: 224x224 nevus 0.99, melanoma 0.01, pigmented_benign_keratosis 0.00, dermatofibroma 0.00, vascular_lesion 0.00, 36.5ms\n",
      "Speed: 0.0ms preprocess, 36.5ms inference, 0.3ms postprocess per image at shape (1, 3, 224, 224)\n"
     ]
    },
    {
     "name": "stderr",
     "output_type": "stream",
     "text": [
      "\r",
      " 58%|███████████████████████████████████████████████▎                                 | 69/118 [00:05<00:02, 18.06it/s]"
     ]
    },
    {
     "name": "stdout",
     "output_type": "stream",
     "text": [
      "\n",
      "0: 224x224 nevus 0.99, pigmented_benign_keratosis 0.00, melanoma 0.00, vascular_lesion 0.00, dermatofibroma 0.00, 37.7ms\n",
      "Speed: 0.0ms preprocess, 37.7ms inference, 0.3ms postprocess per image at shape (1, 3, 224, 224)\n",
      "\n",
      "0: 224x224 nevus 0.99, melanoma 0.00, pigmented_benign_keratosis 0.00, dermatofibroma 0.00, seborrheic_keratosis 0.00, 35.1ms\n",
      "Speed: 0.0ms preprocess, 35.1ms inference, 0.3ms postprocess per image at shape (1, 3, 224, 224)\n"
     ]
    },
    {
     "name": "stderr",
     "output_type": "stream",
     "text": [
      "\r",
      " 60%|████████████████████████████████████████████████▋                                | 71/118 [00:05<00:02, 18.48it/s]"
     ]
    },
    {
     "name": "stdout",
     "output_type": "stream",
     "text": [
      "\n",
      "0: 224x224 nevus 1.00, melanoma 0.00, pigmented_benign_keratosis 0.00, seborrheic_keratosis 0.00, dermatofibroma 0.00, 36.9ms\n",
      "Speed: 0.0ms preprocess, 36.9ms inference, 0.3ms postprocess per image at shape (1, 3, 224, 224)\n",
      "\n",
      "0: 224x224 nevus 0.93, pigmented_benign_keratosis 0.06, melanoma 0.00, basal_cell_carcinoma 0.00, vascular_lesion 0.00, 38.3ms\n",
      "Speed: 0.1ms preprocess, 38.3ms inference, 0.3ms postprocess per image at shape (1, 3, 224, 224)\n"
     ]
    },
    {
     "name": "stderr",
     "output_type": "stream",
     "text": [
      "\r",
      " 62%|██████████████████████████████████████████████████                               | 73/118 [00:06<00:02, 18.85it/s]"
     ]
    },
    {
     "name": "stdout",
     "output_type": "stream",
     "text": [
      "\n",
      "0: 224x224 nevus 0.98, melanoma 0.02, pigmented_benign_keratosis 0.00, dermatofibroma 0.00, vascular_lesion 0.00, 46.0ms\n",
      "Speed: 0.1ms preprocess, 46.0ms inference, 0.4ms postprocess per image at shape (1, 3, 224, 224)\n",
      "\n",
      "0: 224x224 nevus 0.97, pigmented_benign_keratosis 0.02, melanoma 0.01, dermatofibroma 0.00, actinic_keratosis 0.00, 39.1ms\n",
      "Speed: 0.0ms preprocess, 39.1ms inference, 0.3ms postprocess per image at shape (1, 3, 224, 224)\n"
     ]
    },
    {
     "name": "stderr",
     "output_type": "stream",
     "text": [
      "\r",
      " 64%|███████████████████████████████████████████████████▍                             | 75/118 [00:06<00:02, 18.80it/s]"
     ]
    },
    {
     "name": "stdout",
     "output_type": "stream",
     "text": [
      "\n",
      "0: 224x224 nevus 0.98, pigmented_benign_keratosis 0.01, melanoma 0.01, dermatofibroma 0.00, actinic_keratosis 0.00, 45.3ms\n",
      "Speed: 0.0ms preprocess, 45.3ms inference, 0.3ms postprocess per image at shape (1, 3, 224, 224)\n",
      "\n",
      "0: 224x224 nevus 0.97, pigmented_benign_keratosis 0.02, melanoma 0.01, dermatofibroma 0.00, seborrheic_keratosis 0.00, 43.3ms\n",
      "Speed: 0.0ms preprocess, 43.3ms inference, 0.3ms postprocess per image at shape (1, 3, 224, 224)\n"
     ]
    },
    {
     "name": "stderr",
     "output_type": "stream",
     "text": [
      "\r",
      " 65%|████████████████████████████████████████████████████▊                            | 77/118 [00:06<00:02, 17.93it/s]"
     ]
    },
    {
     "name": "stdout",
     "output_type": "stream",
     "text": [
      "\n",
      "0: 224x224 nevus 0.96, pigmented_benign_keratosis 0.03, melanoma 0.01, vascular_lesion 0.00, seborrheic_keratosis 0.00, 63.4ms\n",
      "Speed: 0.0ms preprocess, 63.4ms inference, 0.5ms postprocess per image at shape (1, 3, 224, 224)\n",
      "\n",
      "0: 224x224 nevus 1.00, melanoma 0.00, pigmented_benign_keratosis 0.00, seborrheic_keratosis 0.00, actinic_keratosis 0.00, 45.6ms\n",
      "Speed: 0.0ms preprocess, 45.6ms inference, 0.3ms postprocess per image at shape (1, 3, 224, 224)\n"
     ]
    },
    {
     "name": "stderr",
     "output_type": "stream",
     "text": [
      "\r",
      " 67%|██████████████████████████████████████████████████████▏                          | 79/118 [00:06<00:02, 16.32it/s]"
     ]
    },
    {
     "name": "stdout",
     "output_type": "stream",
     "text": [
      "\n",
      "0: 224x224 nevus 0.86, melanoma 0.13, seborrheic_keratosis 0.00, pigmented_benign_keratosis 0.00, dermatofibroma 0.00, 46.8ms\n",
      "Speed: 0.0ms preprocess, 46.8ms inference, 0.3ms postprocess per image at shape (1, 3, 224, 224)\n",
      "\n",
      "0: 224x224 pigmented_benign_keratosis 0.97, squamous_cell_carcinoma 0.01, nevus 0.00, basal_cell_carcinoma 0.00, actinic_keratosis 0.00, 40.7ms\n",
      "Speed: 0.0ms preprocess, 40.7ms inference, 0.3ms postprocess per image at shape (1, 3, 224, 224)\n"
     ]
    },
    {
     "name": "stderr",
     "output_type": "stream",
     "text": [
      "\r",
      " 69%|███████████████████████████████████████████████████████▌                         | 81/118 [00:06<00:02, 16.24it/s]"
     ]
    },
    {
     "name": "stdout",
     "output_type": "stream",
     "text": [
      "\n",
      "0: 224x224 pigmented_benign_keratosis 0.94, nevus 0.04, actinic_keratosis 0.01, basal_cell_carcinoma 0.01, dermatofibroma 0.00, 43.1ms\n",
      "Speed: 0.0ms preprocess, 43.1ms inference, 0.4ms postprocess per image at shape (1, 3, 224, 224)\n",
      "\n",
      "0: 224x224 pigmented_benign_keratosis 1.00, nevus 0.00, melanoma 0.00, actinic_keratosis 0.00, squamous_cell_carcinoma 0.00, 38.9ms\n",
      "Speed: 0.0ms preprocess, 38.9ms inference, 0.3ms postprocess per image at shape (1, 3, 224, 224)\n"
     ]
    },
    {
     "name": "stderr",
     "output_type": "stream",
     "text": [
      "\r",
      " 70%|████████████████████████████████████████████████████████▉                        | 83/118 [00:06<00:02, 16.89it/s]"
     ]
    },
    {
     "name": "stdout",
     "output_type": "stream",
     "text": [
      "\n",
      "0: 224x224 pigmented_benign_keratosis 1.00, dermatofibroma 0.00, vascular_lesion 0.00, nevus 0.00, melanoma 0.00, 40.1ms\n",
      "Speed: 0.0ms preprocess, 40.1ms inference, 0.3ms postprocess per image at shape (1, 3, 224, 224)\n",
      "\n",
      "0: 224x224 pigmented_benign_keratosis 0.98, nevus 0.01, melanoma 0.01, actinic_keratosis 0.00, squamous_cell_carcinoma 0.00, 37.0ms\n",
      "Speed: 0.0ms preprocess, 37.0ms inference, 0.3ms postprocess per image at shape (1, 3, 224, 224)\n",
      "\n",
      "0: 224x224 pigmented_benign_keratosis 1.00, nevus 0.00, actinic_keratosis 0.00, squamous_cell_carcinoma 0.00, melanoma 0.00, 37.2ms\n",
      "Speed: 0.0ms preprocess, 37.2ms inference, 0.3ms postprocess per image at shape (1, 3, 224, 224)\n"
     ]
    },
    {
     "name": "stderr",
     "output_type": "stream",
     "text": [
      "\r",
      " 73%|███████████████████████████████████████████████████████████                      | 86/118 [00:06<00:01, 18.02it/s]"
     ]
    },
    {
     "name": "stdout",
     "output_type": "stream",
     "text": [
      "\n",
      "0: 224x224 pigmented_benign_keratosis 0.98, nevus 0.01, melanoma 0.00, dermatofibroma 0.00, squamous_cell_carcinoma 0.00, 39.5ms\n",
      "Speed: 0.0ms preprocess, 39.5ms inference, 0.3ms postprocess per image at shape (1, 3, 224, 224)\n",
      "\n",
      "0: 224x224 pigmented_benign_keratosis 0.91, melanoma 0.07, squamous_cell_carcinoma 0.01, seborrheic_keratosis 0.01, nevus 0.00, 39.5ms\n",
      "Speed: 0.0ms preprocess, 39.5ms inference, 0.4ms postprocess per image at shape (1, 3, 224, 224)\n"
     ]
    },
    {
     "name": "stderr",
     "output_type": "stream",
     "text": [
      "\r",
      " 75%|████████████████████████████████████████████████████████████▍                    | 88/118 [00:06<00:01, 18.25it/s]"
     ]
    },
    {
     "name": "stdout",
     "output_type": "stream",
     "text": [
      "\n",
      "0: 224x224 pigmented_benign_keratosis 0.83, nevus 0.09, actinic_keratosis 0.04, melanoma 0.03, squamous_cell_carcinoma 0.01, 39.5ms\n",
      "Speed: 0.0ms preprocess, 39.5ms inference, 0.3ms postprocess per image at shape (1, 3, 224, 224)\n",
      "\n",
      "0: 224x224 pigmented_benign_keratosis 1.00, melanoma 0.00, vascular_lesion 0.00, squamous_cell_carcinoma 0.00, nevus 0.00, 37.8ms\n",
      "Speed: 0.0ms preprocess, 37.8ms inference, 0.3ms postprocess per image at shape (1, 3, 224, 224)\n",
      "\n",
      "0: 224x224 pigmented_benign_keratosis 1.00, nevus 0.00, melanoma 0.00, dermatofibroma 0.00, basal_cell_carcinoma 0.00, 35.4ms\n",
      "Speed: 0.0ms preprocess, 35.4ms inference, 0.3ms postprocess per image at shape (1, 3, 224, 224)\n"
     ]
    },
    {
     "name": "stderr",
     "output_type": "stream",
     "text": [
      "\r",
      " 77%|██████████████████████████████████████████████████████████████▍                  | 91/118 [00:07<00:01, 19.30it/s]"
     ]
    },
    {
     "name": "stdout",
     "output_type": "stream",
     "text": [
      "\n",
      "0: 224x224 pigmented_benign_keratosis 1.00, dermatofibroma 0.00, basal_cell_carcinoma 0.00, nevus 0.00, vascular_lesion 0.00, 39.1ms\n",
      "Speed: 0.0ms preprocess, 39.1ms inference, 0.3ms postprocess per image at shape (1, 3, 224, 224)\n",
      "\n",
      "0: 224x224 basal_cell_carcinoma 0.54, dermatofibroma 0.29, squamous_cell_carcinoma 0.08, pigmented_benign_keratosis 0.07, nevus 0.02, 39.3ms\n",
      "Speed: 0.0ms preprocess, 39.3ms inference, 0.3ms postprocess per image at shape (1, 3, 224, 224)\n"
     ]
    },
    {
     "name": "stderr",
     "output_type": "stream",
     "text": [
      "\r",
      " 79%|███████████████████████████████████████████████████████████████▊                 | 93/118 [00:07<00:01, 19.06it/s]"
     ]
    },
    {
     "name": "stdout",
     "output_type": "stream",
     "text": [
      "\n",
      "0: 224x224 pigmented_benign_keratosis 0.98, nevus 0.01, squamous_cell_carcinoma 0.01, actinic_keratosis 0.00, basal_cell_carcinoma 0.00, 36.3ms\n",
      "Speed: 0.0ms preprocess, 36.3ms inference, 0.3ms postprocess per image at shape (1, 3, 224, 224)\n",
      "\n",
      "0: 224x224 pigmented_benign_keratosis 0.70, actinic_keratosis 0.17, nevus 0.08, squamous_cell_carcinoma 0.03, melanoma 0.01, 44.3ms\n",
      "Speed: 0.0ms preprocess, 44.3ms inference, 0.3ms postprocess per image at shape (1, 3, 224, 224)\n"
     ]
    },
    {
     "name": "stderr",
     "output_type": "stream",
     "text": [
      "\r",
      " 81%|█████████████████████████████████████████████████████████████████▏               | 95/118 [00:07<00:01, 19.08it/s]"
     ]
    },
    {
     "name": "stdout",
     "output_type": "stream",
     "text": [
      "\n",
      "0: 224x224 pigmented_benign_keratosis 0.90, nevus 0.06, basal_cell_carcinoma 0.02, actinic_keratosis 0.02, squamous_cell_carcinoma 0.01, 43.4ms\n",
      "Speed: 0.0ms preprocess, 43.4ms inference, 0.3ms postprocess per image at shape (1, 3, 224, 224)\n",
      "\n",
      "0: 224x224 nevus 0.79, melanoma 0.19, seborrheic_keratosis 0.02, pigmented_benign_keratosis 0.00, actinic_keratosis 0.00, 39.9ms\n",
      "Speed: 0.0ms preprocess, 39.9ms inference, 0.3ms postprocess per image at shape (1, 3, 224, 224)\n"
     ]
    },
    {
     "name": "stderr",
     "output_type": "stream",
     "text": [
      "\r",
      " 82%|██████████████████████████████████████████████████████████████████▌              | 97/118 [00:07<00:01, 18.77it/s]"
     ]
    },
    {
     "name": "stdout",
     "output_type": "stream",
     "text": [
      "\n",
      "0: 224x224 melanoma 0.89, seborrheic_keratosis 0.11, nevus 0.00, pigmented_benign_keratosis 0.00, basal_cell_carcinoma 0.00, 41.0ms\n",
      "Speed: 0.0ms preprocess, 41.0ms inference, 0.3ms postprocess per image at shape (1, 3, 224, 224)\n",
      "\n",
      "0: 224x224 melanoma 0.94, seborrheic_keratosis 0.05, nevus 0.00, squamous_cell_carcinoma 0.00, pigmented_benign_keratosis 0.00, 73.8ms\n",
      "Speed: 0.0ms preprocess, 73.8ms inference, 0.4ms postprocess per image at shape (1, 3, 224, 224)\n"
     ]
    },
    {
     "name": "stderr",
     "output_type": "stream",
     "text": [
      "\r",
      " 84%|███████████████████████████████████████████████████████████████████▉             | 99/118 [00:07<00:01, 16.94it/s]"
     ]
    },
    {
     "name": "stdout",
     "output_type": "stream",
     "text": [
      "\n",
      "0: 224x224 squamous_cell_carcinoma 0.85, melanoma 0.11, pigmented_benign_keratosis 0.03, nevus 0.01, actinic_keratosis 0.00, 36.6ms\n",
      "Speed: 0.0ms preprocess, 36.6ms inference, 0.3ms postprocess per image at shape (1, 3, 224, 224)\n",
      "\n",
      "0: 224x224 melanoma 0.93, dermatofibroma 0.02, pigmented_benign_keratosis 0.02, nevus 0.01, basal_cell_carcinoma 0.00, 37.6ms\n",
      "Speed: 0.0ms preprocess, 37.6ms inference, 0.3ms postprocess per image at shape (1, 3, 224, 224)\n"
     ]
    },
    {
     "name": "stderr",
     "output_type": "stream",
     "text": [
      "\r",
      " 86%|████████████████████████████████████████████████████████████████████▍           | 101/118 [00:08<00:02,  5.99it/s]"
     ]
    },
    {
     "name": "stdout",
     "output_type": "stream",
     "text": [
      "\n",
      "0: 224x224 squamous_cell_carcinoma 0.76, nevus 0.12, actinic_keratosis 0.11, basal_cell_carcinoma 0.00, melanoma 0.00, 36.5ms\n",
      "Speed: 0.0ms preprocess, 36.5ms inference, 0.2ms postprocess per image at shape (1, 3, 224, 224)\n",
      "\n",
      "0: 224x224 squamous_cell_carcinoma 0.83, actinic_keratosis 0.10, nevus 0.07, basal_cell_carcinoma 0.00, melanoma 0.00, 38.0ms\n",
      "Speed: 0.1ms preprocess, 38.0ms inference, 0.3ms postprocess per image at shape (1, 3, 224, 224)\n"
     ]
    },
    {
     "name": "stderr",
     "output_type": "stream",
     "text": [
      "\r",
      " 87%|█████████████████████████████████████████████████████████████████████▊          | 103/118 [00:09<00:03,  4.27it/s]"
     ]
    },
    {
     "name": "stdout",
     "output_type": "stream",
     "text": [
      "\n",
      "0: 224x224 basal_cell_carcinoma 0.87, squamous_cell_carcinoma 0.10, pigmented_benign_keratosis 0.02, melanoma 0.00, nevus 0.00, 48.6ms\n",
      "Speed: 0.0ms preprocess, 48.6ms inference, 0.3ms postprocess per image at shape (1, 3, 224, 224)\n"
     ]
    },
    {
     "name": "stderr",
     "output_type": "stream",
     "text": [
      "\r",
      " 88%|██████████████████████████████████████████████████████████████████████▌         | 104/118 [00:09<00:03,  3.79it/s]"
     ]
    },
    {
     "name": "stdout",
     "output_type": "stream",
     "text": [
      "\n",
      "0: 224x224 squamous_cell_carcinoma 0.93, pigmented_benign_keratosis 0.05, basal_cell_carcinoma 0.02, actinic_keratosis 0.00, nevus 0.00, 56.5ms\n",
      "Speed: 0.0ms preprocess, 56.5ms inference, 0.3ms postprocess per image at shape (1, 3, 224, 224)\n",
      "\n",
      "0: 224x224 pigmented_benign_keratosis 0.57, squamous_cell_carcinoma 0.39, dermatofibroma 0.02, actinic_keratosis 0.01, nevus 0.01, 58.1ms\n",
      "Speed: 0.0ms preprocess, 58.1ms inference, 0.3ms postprocess per image at shape (1, 3, 224, 224)\n"
     ]
    },
    {
     "name": "stderr",
     "output_type": "stream",
     "text": [
      "\r",
      " 90%|███████████████████████████████████████████████████████████████████████▊        | 106/118 [00:09<00:02,  5.00it/s]"
     ]
    },
    {
     "name": "stdout",
     "output_type": "stream",
     "text": [
      "\n",
      "0: 224x224 pigmented_benign_keratosis 0.63, squamous_cell_carcinoma 0.18, dermatofibroma 0.10, nevus 0.07, basal_cell_carcinoma 0.01, 41.8ms\n",
      "Speed: 0.0ms preprocess, 41.8ms inference, 0.3ms postprocess per image at shape (1, 3, 224, 224)\n",
      "\n",
      "0: 224x224 squamous_cell_carcinoma 0.96, pigmented_benign_keratosis 0.02, melanoma 0.01, nevus 0.00, actinic_keratosis 0.00, 43.3ms\n",
      "Speed: 0.0ms preprocess, 43.3ms inference, 0.4ms postprocess per image at shape (1, 3, 224, 224)\n"
     ]
    },
    {
     "name": "stderr",
     "output_type": "stream",
     "text": [
      "\r",
      " 92%|█████████████████████████████████████████████████████████████████████████▏      | 108/118 [00:09<00:01,  6.51it/s]"
     ]
    },
    {
     "name": "stdout",
     "output_type": "stream",
     "text": [
      "\n",
      "0: 224x224 squamous_cell_carcinoma 0.61, nevus 0.15, pigmented_benign_keratosis 0.10, melanoma 0.05, actinic_keratosis 0.05, 42.7ms\n",
      "Speed: 0.0ms preprocess, 42.7ms inference, 0.3ms postprocess per image at shape (1, 3, 224, 224)\n",
      "\n",
      "0: 224x224 squamous_cell_carcinoma 0.47, pigmented_benign_keratosis 0.27, basal_cell_carcinoma 0.23, nevus 0.02, dermatofibroma 0.01, 45.8ms\n",
      "Speed: 0.0ms preprocess, 45.8ms inference, 0.3ms postprocess per image at shape (1, 3, 224, 224)\n"
     ]
    },
    {
     "name": "stderr",
     "output_type": "stream",
     "text": [
      "\r",
      " 93%|██████████████████████████████████████████████████████████████████████████▌     | 110/118 [00:09<00:00,  8.10it/s]"
     ]
    },
    {
     "name": "stdout",
     "output_type": "stream",
     "text": [
      "\n",
      "0: 224x224 dermatofibroma 0.37, squamous_cell_carcinoma 0.35, pigmented_benign_keratosis 0.19, basal_cell_carcinoma 0.08, nevus 0.01, 38.9ms\n",
      "Speed: 0.0ms preprocess, 38.9ms inference, 0.3ms postprocess per image at shape (1, 3, 224, 224)\n",
      "\n",
      "0: 224x224 pigmented_benign_keratosis 0.85, basal_cell_carcinoma 0.11, actinic_keratosis 0.02, squamous_cell_carcinoma 0.02, nevus 0.01, 37.7ms\n",
      "Speed: 0.0ms preprocess, 37.7ms inference, 0.3ms postprocess per image at shape (1, 3, 224, 224)\n",
      "\n",
      "0: 224x224 pigmented_benign_keratosis 0.48, squamous_cell_carcinoma 0.46, basal_cell_carcinoma 0.04, dermatofibroma 0.01, nevus 0.00, 39.0ms\n",
      "Speed: 0.0ms preprocess, 39.0ms inference, 0.3ms postprocess per image at shape (1, 3, 224, 224)\n"
     ]
    },
    {
     "name": "stderr",
     "output_type": "stream",
     "text": [
      "\r",
      " 96%|████████████████████████████████████████████████████████████████████████████▌   | 113/118 [00:10<00:00, 10.63it/s]"
     ]
    },
    {
     "name": "stdout",
     "output_type": "stream",
     "text": [
      "\n",
      "0: 224x224 squamous_cell_carcinoma 0.63, pigmented_benign_keratosis 0.35, nevus 0.01, basal_cell_carcinoma 0.00, actinic_keratosis 0.00, 42.8ms\n",
      "Speed: 0.0ms preprocess, 42.8ms inference, 0.3ms postprocess per image at shape (1, 3, 224, 224)\n",
      "\n",
      "0: 224x224 pigmented_benign_keratosis 0.62, dermatofibroma 0.16, squamous_cell_carcinoma 0.13, nevus 0.04, melanoma 0.03, 38.6ms\n",
      "Speed: 0.0ms preprocess, 38.6ms inference, 0.3ms postprocess per image at shape (1, 3, 224, 224)\n"
     ]
    },
    {
     "name": "stderr",
     "output_type": "stream",
     "text": [
      "\r",
      " 97%|█████████████████████████████████████████████████████████████████████████████▉  | 115/118 [00:10<00:00, 12.20it/s]"
     ]
    },
    {
     "name": "stdout",
     "output_type": "stream",
     "text": [
      "\n",
      "0: 224x224 vascular_lesion 1.00, pigmented_benign_keratosis 0.00, basal_cell_carcinoma 0.00, nevus 0.00, squamous_cell_carcinoma 0.00, 35.9ms\n",
      "Speed: 0.0ms preprocess, 35.9ms inference, 0.3ms postprocess per image at shape (1, 3, 224, 224)\n",
      "\n",
      "0: 224x224 vascular_lesion 1.00, basal_cell_carcinoma 0.00, pigmented_benign_keratosis 0.00, dermatofibroma 0.00, nevus 0.00, 38.5ms\n",
      "Speed: 0.0ms preprocess, 38.5ms inference, 0.3ms postprocess per image at shape (1, 3, 224, 224)\n"
     ]
    },
    {
     "name": "stderr",
     "output_type": "stream",
     "text": [
      "\r",
      " 99%|███████████████████████████████████████████████████████████████████████████████▎| 117/118 [00:10<00:00, 13.63it/s]"
     ]
    },
    {
     "name": "stdout",
     "output_type": "stream",
     "text": [
      "\n",
      "0: 224x224 vascular_lesion 1.00, basal_cell_carcinoma 0.00, pigmented_benign_keratosis 0.00, nevus 0.00, squamous_cell_carcinoma 0.00, 41.7ms\n",
      "Speed: 0.0ms preprocess, 41.7ms inference, 0.3ms postprocess per image at shape (1, 3, 224, 224)\n"
     ]
    },
    {
     "name": "stderr",
     "output_type": "stream",
     "text": [
      "\r",
      "100%|████████████████████████████████████████████████████████████████████████████████| 118/118 [00:10<00:00, 11.42it/s]"
     ]
    },
    {
     "name": "stdout",
     "output_type": "stream",
     "text": [
      "预测数据保存完毕 \n"
     ]
    },
    {
     "name": "stderr",
     "output_type": "stream",
     "text": [
      "\n"
     ]
    }
   ],
   "source": [
    "import os\n",
    "import torch\n",
    "from torchvision import datasets, transforms\n",
    "from torch.utils.data import DataLoader\n",
    "from ultralytics import YOLO\n",
    "import numpy as np\n",
    "import pickle\n",
    "from tqdm import tqdm\n",
    "\n",
    "test_root = './datasets/Test/'\n",
    "model_root = './skin_cls_yolo/yolo_finetune/'\n",
    "model_names = [\n",
    "    'yolov8n', 'yolov8s', 'yolov8m', 'yolov8l',\n",
    "    'yolov11n', 'yolov11s', 'yolov11m', 'yolov11l'\n",
    "]\n",
    "\n",
    "# Pre-process\n",
    "transform = transforms.Compose([\n",
    "    transforms.Resize((224, 224)),\n",
    "    transforms.ToTensor()\n",
    "])\n",
    "\n",
    "# Loading\n",
    "dataset = datasets.ImageFolder(root=test_root, transform=transform)\n",
    "loader = DataLoader(dataset, batch_size=1, shuffle=False)\n",
    "class_names = dataset.classes\n",
    "num_classes = len(class_names)\n",
    "\n",
    "all_model_outputs = {}\n",
    "\n",
    "for model_name in model_names:\n",
    "    print(f\"Processing: {model_name}\")\n",
    "    model_path = os.path.join(model_root, model_name+'_cls_exp', \"weights/best.pt\")\n",
    "    model = YOLO(model_path)\n",
    "\n",
    "    y_true, y_prob = [], []\n",
    "\n",
    "    for images, labels in tqdm(loader):\n",
    "        preds = model(images)\n",
    "\n",
    "        # If no valid output is generated, skip it\n",
    "        if preds[0].probs is None:\n",
    "            continue\n",
    "\n",
    "        probs_tensor = preds[0].probs.data  # shape: [num_classes]\n",
    "        y_prob.append(probs_tensor.cpu().numpy())\n",
    "        y_true.append(labels.item())\n",
    "\n",
    "    y_true = np.array(y_true)\n",
    "    y_prob = np.stack(y_prob)\n",
    "\n",
    "    all_model_outputs[model_name] = {\n",
    "        'y_true': y_true,\n",
    "        'y_prob': y_prob\n",
    "    }\n",
    "\n",
    "# Save as a pickle file for later use\n",
    "with open(\"all_yolo_model_outputs.pkl\", \"wb\") as f:\n",
    "    pickle.dump(all_model_outputs, f)\n",
    "\n",
    "print(\"Success!\")\n"
   ]
  },
  {
   "cell_type": "code",
   "execution_count": 3,
   "id": "c6969eb6",
   "metadata": {},
   "outputs": [
    {
     "data": {
      "image/png": "[encoded data removed]",
      "text/plain": [
       "<Figure size 1000x800 with 1 Axes>"
      ]
     },
     "metadata": {},
     "output_type": "display_data"
    }
   ],
   "source": [
    "import matplotlib.pyplot as plt\n",
    "from sklearn.metrics import roc_curve, auc\n",
    "from sklearn.preprocessing import label_binarize\n",
    "import numpy as np\n",
    "import pickle\n",
    "\n",
    "# Loading Outputs\n",
    "with open(\"all_yolo_model_outputs.pkl\", \"rb\") as f:\n",
    "    model_results = pickle.load(f)\n",
    "\n",
    "num_classes = 9  \n",
    "\n",
    "model_names = list(model_results.keys())\n",
    "colors = [\n",
    "    \"#1f77b4\", \"#5fa2d0\", \"#a0cbe8\", \"#cfe8f3\",  # YOLOv8 Blue\n",
    "    \"#d62728\", \"#e67171\", \"#f4a09c\", \"#f9c6c4\"   # YOLOv11 Red\n",
    "]\n",
    "\n",
    "# Draw the ROC\n",
    "plt.figure(figsize=(10, 8))\n",
    "for name, color in zip(model_names, colors):\n",
    "    y_true = model_results[name]['y_true']\n",
    "    y_prob = model_results[name]['y_prob']\n",
    "\n",
    "    # one-hot\n",
    "    y_true_bin = label_binarize(y_true, classes=np.arange(num_classes))\n",
    "\n",
    "    # micro-average ROC\n",
    "    fpr, tpr, _ = roc_curve(y_true_bin.ravel(), y_prob.ravel())\n",
    "    roc_auc = auc(fpr, tpr)\n",
    "\n",
    "    plt.plot(fpr, tpr, color=color, lw=2, label=f'{name} (AUC = {roc_auc:.3f})')\n",
    "\n",
    "# Details\n",
    "plt.plot([0, 1], [0, 1], 'k--', lw=1)\n",
    "plt.xlabel('False Positive Rate')\n",
    "plt.ylabel('True Positive Rate')\n",
    "plt.title('ROC Curve for YOLO Models')\n",
    "plt.legend(loc='lower right')\n",
    "plt.grid(True)\n",
    "plt.tight_layout()\n",
    "plt.savefig(\"ROC_Comparison_YOLO_Models.png\", dpi=300)\n",
    "plt.show()\n"
   ]
  },
  {
   "cell_type": "code",
   "execution_count": 8,
   "id": "b0f2957d",
   "metadata": {},
   "outputs": [
    {
     "data": {
      "image/png": "[encoded data removed]",
      "text/plain": [
       "<Figure size 800x600 with 1 Axes>"
      ]
     },
     "metadata": {},
     "output_type": "display_data"
    },
    {
     "data": {
      "image/png": "[encoded data removed]",
      "text/plain": [
       "<Figure size 800x600 with 1 Axes>"
      ]
     },
     "metadata": {},
     "output_type": "display_data"
    },
    {
     "data": {
      "image/png": "[encoded data removed]",
      "text/plain": [
       "<Figure size 800x600 with 1 Axes>"
      ]
     },
     "metadata": {},
     "output_type": "display_data"
    }
   ],
   "source": [
    "import matplotlib.pyplot as plt\n",
    "from sklearn.metrics import roc_curve, auc\n",
    "from sklearn.preprocessing import label_binarize\n",
    "import numpy as np\n",
    "import pickle\n",
    "\n",
    "with open(\"all_yolo_model_outputs.pkl\", \"rb\") as f:\n",
    "    model_results = pickle.load(f)\n",
    "\n",
    "num_classes = 9  \n",
    "\n",
    "# All models are grouped\n",
    "v8_models = ['yolov8l', 'yolov8m', 'yolov8s', 'yolov8n']\n",
    "v11_models = ['yolov11l', 'yolov11m', 'yolov11s', 'yolov11n']\n",
    "compare_models = ['yolov8l', 'yolov8m', 'yolov11l', 'yolov11m']\n",
    "\n",
    "# Color definitions\n",
    "v8_colors = ['#1f77b4', '#5fa2d0', '#a0cbe8', '#cfe8f3']   \n",
    "v11_colors = ['#d62728', '#e67171', '#f4a09c', '#f9c6c4']  \n",
    "compare_colors = ['#1f77b4', '#5fa2d0', '#d62728', '#e67171']  \n",
    "\n",
    "\n",
    "def plot_roc(models, colors, title, save_path):\n",
    "    plt.figure(figsize=(8, 6))\n",
    "    for name, color in zip(models, colors):\n",
    "        y_true = model_results[name]['y_true']\n",
    "        y_prob = model_results[name]['y_prob']\n",
    "\n",
    "        # one-hot \n",
    "        y_true_bin = label_binarize(y_true, classes=np.arange(num_classes))\n",
    "\n",
    "        # micro-average ROC\n",
    "        fpr, tpr, _ = roc_curve(y_true_bin.ravel(), y_prob.ravel())\n",
    "        roc_auc = auc(fpr, tpr)\n",
    "\n",
    "        plt.plot(fpr, tpr, color=color, lw=2, label=f'{name} (AUC = {roc_auc:.3f})')\n",
    "\n",
    "    plt.plot([0, 1], [0, 1], 'k--', lw=1)\n",
    "    plt.xlabel('False Positive Rate')\n",
    "    plt.ylabel('True Positive Rate')\n",
    "    plt.title(title)\n",
    "    plt.legend(loc='lower right')\n",
    "    plt.grid(True)\n",
    "    plt.tight_layout()\n",
    "    plt.savefig(save_path, dpi=300)\n",
    "    plt.show()\n",
    "\n",
    "# Drawing\n",
    "plot_roc(v8_models, v8_colors, 'ROC Curve: YOLOv8 (n/s/m/l)', 'ROC_YOLOv8.png')\n",
    "plot_roc(v11_models, v11_colors, 'ROC Curve: YOLOv11 (n/s/m/l)', 'ROC_YOLOv11.png')\n",
    "plot_roc(compare_models, compare_colors, 'ROC: YOLOv8 vs YOLOv11 (m/l)', 'ROC_Compare_v8v11_ml.png')\n"
   ]
  },
  {
   "cell_type": "code",
   "execution_count": null,
   "id": "fd1bd1c6",
   "metadata": {},
   "outputs": [],
   "source": []
  }
 ],
 "metadata": {
  "kernelspec": {
   "display_name": "Python (py310)",
   "language": "python",
   "name": "py310"
  },
  "language_info": {
   "codemirror_mode": {
    "name": "ipython",
    "version": 3
   },
   "file_extension": ".py",
   "mimetype": "text/x-python",
   "name": "python",
   "nbconvert_exporter": "python",
   "pygments_lexer": "ipython3",
   "version": "3.10.16"
  }
 },
 "nbformat": 4,
 "nbformat_minor": 5
}
